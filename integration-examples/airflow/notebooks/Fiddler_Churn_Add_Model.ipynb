{
 "cells": [
  {
   "cell_type": "markdown",
   "id": "c7944e53",
   "metadata": {},
   "source": [
    "# Fiddler examples have moved! [Deprecation Notice]"
   ]
  },
  {
   "cell_type": "markdown",
   "id": "e5290f49",
   "metadata": {},
   "source": [
    "Dear user thank you for using fiddler product, we appreciate your time! We have moved the examples to a new github repo located at the following link\n"
   ]
  },
  {
   "cell_type": "markdown",
   "id": "0245db36",
   "metadata": {},
   "source": [
    "***\n",
    "# [New fiddler-examples repo](https://github.com/fiddler-labs/fiddler-examples)\n",
    "***"
   ]
  },
  {
   "cell_type": "markdown",
   "id": "b7e66ca4",
   "metadata": {},
   "source": [
    "# Fiddler Customer Churn"
   ]
  },
  {
   "cell_type": "markdown",
   "id": "1877d546",
   "metadata": {},
   "source": [
    "## Add Model"
   ]
  },
  {
   "cell_type": "code",
   "execution_count": null,
   "id": "4c3f8c69",
   "metadata": {},
   "outputs": [],
   "source": [
    "import numpy as np\n",
    "import pandas as pd\n",
    "import fiddler as fdl\n",
    "\n",
    "print(f\"Running client version {fdl.__version__}\")"
   ]
  },
  {
   "cell_type": "markdown",
   "id": "52cea003",
   "metadata": {},
   "source": [
    "## 1. Connect to Fiddler\n",
    "\n",
    "Before you can register your model with Fiddler, you'll need to connect using our API client.\n",
    "\n",
    "\n",
    "---\n",
    "\n",
    "\n",
    "**We need a few pieces of information to get started.**\n",
    "1. The URL you're using to connect to Fiddler"
   ]
  },
  {
   "cell_type": "code",
   "execution_count": null,
   "id": "ece12aad",
   "metadata": {},
   "outputs": [],
   "source": [
    "URL = ''"
   ]
  },
  {
   "cell_type": "markdown",
   "id": "67657541",
   "metadata": {},
   "source": [
    "2. Your organization ID\n",
    "3. Your authorization token\n",
    "\n",
    "Both of these can be found by clicking the URL you entered and navigating to the **Settings** page."
   ]
  },
  {
   "cell_type": "code",
   "execution_count": null,
   "id": "4a5f6c64",
   "metadata": {},
   "outputs": [],
   "source": [
    "ORG_ID = ''\n",
    "AUTH_TOKEN = ''"
   ]
  },
  {
   "cell_type": "code",
   "execution_count": null,
   "id": "abae183d",
   "metadata": {},
   "outputs": [],
   "source": [
    "client = fdl.FiddlerApi(\n",
    "    url=URL,\n",
    "    org_id=ORG_ID,\n",
    "    auth_token=AUTH_TOKEN\n",
    ")"
   ]
  },
  {
   "cell_type": "code",
   "execution_count": null,
   "id": "603e32c7",
   "metadata": {},
   "outputs": [],
   "source": [
    "PROJECT_ID = ''\n",
    "\n",
    "client.create_project(PROJECT_ID)"
   ]
  },
  {
   "cell_type": "markdown",
   "id": "89f5b3e9",
   "metadata": {},
   "source": [
    "## 2. Upload a baseline dataset\n",
    "\n",
    "In this example, we'll be considering the case where we're a bank and we have **a model that predicts churn for our customers**.  \n",
    "We want to know when our model's predictions start to drift—that is, **when churn starts to increase** within our customer base.\n",
    "  \n",
    "In order to get insights into the model's performance, **Fiddler needs a small  sample of data that can serve as a baseline** for making comparisons with data in production.\n",
    "\n",
    "\n",
    "---\n",
    "\n",
    "\n",
    "*For more information on how to design a baseline dataset, [click here](https://docs.fiddler.ai/pages/user-guide/data-science-concepts/monitoring/designing-a-baseline-dataset/).*"
   ]
  },
  {
   "cell_type": "code",
   "execution_count": null,
   "id": "2294cf77",
   "metadata": {},
   "outputs": [],
   "source": [
    "MODEL_ID = ''\n",
    "DATASET_ID = ''"
   ]
  },
  {
   "cell_type": "code",
   "execution_count": null,
   "id": "5023bfba",
   "metadata": {},
   "outputs": [],
   "source": [
    "PATH_TO_BASELINE_CSV = 'https://raw.githubusercontent.com/fiddler-labs/fiddler-samples/new-quickstart/content_root/tutorial/quickstart/churn_baseline.csv'\n",
    "\n",
    "baseline_df = pd.read_csv(PATH_TO_BASELINE_CSV)\n",
    "baseline_df"
   ]
  },
  {
   "cell_type": "code",
   "execution_count": null,
   "id": "b7005d82",
   "metadata": {},
   "outputs": [],
   "source": [
    "dataset_info = fdl.DatasetInfo.from_dataframe(baseline_df, max_inferred_cardinality=100)\n",
    "dataset_info"
   ]
  },
  {
   "cell_type": "code",
   "execution_count": null,
   "id": "1b7fd8a0",
   "metadata": {},
   "outputs": [],
   "source": [
    "client.upload_dataset(\n",
    "    project_id=PROJECT_ID,\n",
    "    dataset_id=DATASET_ID,\n",
    "    dataset={\n",
    "        'baseline': baseline_df\n",
    "    },\n",
    "    info=dataset_info\n",
    ")"
   ]
  },
  {
   "cell_type": "markdown",
   "id": "11f7931f",
   "metadata": {},
   "source": [
    "## 3. Add your model\n",
    "\n",
    "Now it's time to add your model in Fiddler.\n",
    "\n",
    "\n",
    "---\n",
    "\n",
    "\n",
    "You'll need to specify some more **information about how your model operates**.\n",
    "  \n",
    "*Just include:*\n",
    "1. The **task** your model is performing (regression, binary classification, etc.)\n",
    "2. The **target** (ground truth) column\n",
    "3. The **output** (prediction) column\n",
    "4. The **feature** columns\n",
    "5. Any **metadata** columns\n",
    "6. Any **decision** columns (these measures the direct business decisions made as result of the model's prediction)\n"
   ]
  },
  {
   "cell_type": "code",
   "execution_count": null,
   "id": "43cd5ecc",
   "metadata": {},
   "outputs": [],
   "source": [
    "# Specify task\n",
    "model_task = 'binary'\n",
    "\n",
    "if model_task == 'regression':\n",
    "    model_task = fdl.ModelTask.REGRESSION\n",
    "    \n",
    "elif model_task == 'binary':\n",
    "    model_task = fdl.ModelTask.BINARY_CLASSIFICATION\n",
    "\n",
    "elif model_task == 'multiclass':\n",
    "    model_task = fdl.ModelTask.MULTICLASS_CLASSIFICATION\n",
    "\n",
    "    \n",
    "# Specify column types\n",
    "target = 'churn'\n",
    "outputs = ['predicted_churn']\n",
    "decision_cols = ['decision']\n",
    "features = ['geography', 'gender', 'age', 'tenure', 'balance', 'numofproducts', 'hascrcard', 'isactivemember', 'estimatedsalary']\n",
    "    \n",
    "# Generate ModelInfo\n",
    "model_info = fdl.ModelInfo.from_dataset_info(\n",
    "    dataset_info=dataset_info,\n",
    "    dataset_id=DATASET_ID,\n",
    "    model_task=model_task,\n",
    "    target=target,\n",
    "    outputs=outputs,\n",
    "    decision_cols=decision_cols,\n",
    "    features=features\n",
    ")\n",
    "model_info"
   ]
  },
  {
   "cell_type": "code",
   "execution_count": null,
   "id": "6fcf9a9b",
   "metadata": {},
   "outputs": [],
   "source": [
    "MODEL_ID = 'churn_classifier'\n",
    "\n",
    "client.add_model(\n",
    "    project_id=PROJECT_ID,\n",
    "    dataset_id=DATASET_ID,\n",
    "    model_id=MODEL_ID,\n",
    "    model_info=model_info,\n",
    ")"
   ]
  },
  {
   "cell_type": "code",
   "execution_count": null,
   "id": "34459cdb",
   "metadata": {},
   "outputs": [],
   "source": []
  }
 ],
 "metadata": {
  "kernelspec": {
   "display_name": "Python 3 (ipykernel)",
   "language": "python",
   "name": "python3"
  },
  "language_info": {
   "codemirror_mode": {
    "name": "ipython",
    "version": 3
   },
   "file_extension": ".py",
   "mimetype": "text/x-python",
   "name": "python",
   "nbconvert_exporter": "python",
   "pygments_lexer": "ipython3",
   "version": "3.9.16"
  }
 },
 "nbformat": 4,
 "nbformat_minor": 5
}
