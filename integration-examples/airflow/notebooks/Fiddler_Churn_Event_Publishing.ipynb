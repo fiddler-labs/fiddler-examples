{
 "cells": [
  {
   "cell_type": "markdown",
   "id": "c052a473",
   "metadata": {},
   "source": [
    "# Fiddler examples have moved! [Deprecation Notice]"
   ]
  },
  {
   "cell_type": "markdown",
   "id": "5da794ae",
   "metadata": {},
   "source": [
    "Dear user thank you for using fiddler product, we appreciate your time! We have moved the examples to a new github repo located at the following link\n"
   ]
  },
  {
   "cell_type": "markdown",
   "id": "3ab741be",
   "metadata": {},
   "source": [
    "***\n",
    "# [New fiddler-examples repo](https://github.com/fiddler-labs/fiddler-examples)\n",
    "***"
   ]
  },
  {
   "cell_type": "markdown",
   "id": "0cc20451",
   "metadata": {},
   "source": [
    "# Fiddler Customer Churn"
   ]
  },
  {
   "cell_type": "markdown",
   "id": "513e50d4",
   "metadata": {},
   "source": [
    "## Event Publishing"
   ]
  },
  {
   "cell_type": "code",
   "execution_count": 3,
   "id": "a2c682d3",
   "metadata": {},
   "outputs": [
    {
     "name": "stdout",
     "output_type": "stream",
     "text": [
      "Running client version 1.0.2\n"
     ]
    }
   ],
   "source": [
    "import numpy as np\n",
    "import pandas as pd\n",
    "import fiddler as fdl\n",
    "\n",
    "print(f\"Running client version {fdl.__version__}\")"
   ]
  },
  {
   "cell_type": "markdown",
   "id": "c67978df",
   "metadata": {},
   "source": [
    "## 1. Connect to Fiddler\n",
    "\n",
    "Before you can register your model with Fiddler, you'll need to connect using our API client.\n",
    "\n",
    "\n",
    "---\n",
    "\n",
    "\n",
    "**We need a few pieces of information to get started.**\n",
    "1. The URL you're using to connect to Fiddler"
   ]
  },
  {
   "cell_type": "code",
   "execution_count": 4,
   "id": "82f43d1c",
   "metadata": {},
   "outputs": [],
   "source": [
    "URL = ''"
   ]
  },
  {
   "cell_type": "markdown",
   "id": "5de29041",
   "metadata": {},
   "source": [
    "2. Your organization ID\n",
    "3. Your authorization token\n",
    "\n",
    "Both of these can be found by clicking the URL you entered and navigating to the **Settings** page."
   ]
  },
  {
   "cell_type": "code",
   "execution_count": 5,
   "id": "494b5cf1",
   "metadata": {},
   "outputs": [],
   "source": [
    "ORG_ID = ''\n",
    "AUTH_TOKEN = ''"
   ]
  },
  {
   "cell_type": "code",
   "execution_count": 6,
   "id": "ca5e66b7",
   "metadata": {},
   "outputs": [
    {
     "name": "stderr",
     "output_type": "stream",
     "text": [
      "fiddler.connection INFO client_version = 1.0.2 > server_version = 1.0.1\n",
      "fiddler.connection WARNING OUTDATED SERVER: The URL you connected to is running version 1.0.1, consider getting it upgraded to match your client 1.0.2.\n"
     ]
    }
   ],
   "source": [
    "client = fdl.FiddlerApi(\n",
    "    url=URL,\n",
    "    org_id=ORG_ID,\n",
    "    auth_token=AUTH_TOKEN\n",
    ")"
   ]
  },
  {
   "cell_type": "markdown",
   "id": "999db0d9",
   "metadata": {},
   "source": [
    "### Publish production events\n",
    "\n",
    "\n",
    "Fiddler will **monitor this data and compare it to your baseline to generate powerful insights into how your model is behaving**.\n",
    "\n",
    "\n",
    "---"
   ]
  },
  {
   "cell_type": "code",
   "execution_count": 26,
   "id": "876b75b4",
   "metadata": {},
   "outputs": [],
   "source": [
    "PROJECT_ID = ''\n",
    "MODEL_ID = ''\n",
    "DATASET_ID = ''"
   ]
  },
  {
   "cell_type": "code",
   "execution_count": 27,
   "id": "6ed29cc6",
   "metadata": {},
   "outputs": [
    {
     "data": {
      "text/html": [
       "<div>\n",
       "<style scoped>\n",
       "    .dataframe tbody tr th:only-of-type {\n",
       "        vertical-align: middle;\n",
       "    }\n",
       "\n",
       "    .dataframe tbody tr th {\n",
       "        vertical-align: top;\n",
       "    }\n",
       "\n",
       "    .dataframe thead th {\n",
       "        text-align: right;\n",
       "    }\n",
       "</style>\n",
       "<table border=\"1\" class=\"dataframe\">\n",
       "  <thead>\n",
       "    <tr style=\"text-align: right;\">\n",
       "      <th></th>\n",
       "      <th>creditscore</th>\n",
       "      <th>geography</th>\n",
       "      <th>gender</th>\n",
       "      <th>age</th>\n",
       "      <th>tenure</th>\n",
       "      <th>balance</th>\n",
       "      <th>numofproducts</th>\n",
       "      <th>hascrcard</th>\n",
       "      <th>isactivemember</th>\n",
       "      <th>estimatedsalary</th>\n",
       "      <th>churn</th>\n",
       "      <th>predicted_churn</th>\n",
       "      <th>decision</th>\n",
       "      <th>timestamp</th>\n",
       "    </tr>\n",
       "  </thead>\n",
       "  <tbody>\n",
       "    <tr>\n",
       "      <th>0</th>\n",
       "      <td>559</td>\n",
       "      <td>California</td>\n",
       "      <td>Male</td>\n",
       "      <td>52</td>\n",
       "      <td>2</td>\n",
       "      <td>0.00</td>\n",
       "      <td>1</td>\n",
       "      <td>1</td>\n",
       "      <td>0</td>\n",
       "      <td>129013.59</td>\n",
       "      <td>no</td>\n",
       "      <td>0.007448</td>\n",
       "      <td>low_risk</td>\n",
       "      <td>1628610458681</td>\n",
       "    </tr>\n",
       "    <tr>\n",
       "      <th>1</th>\n",
       "      <td>482</td>\n",
       "      <td>California</td>\n",
       "      <td>Male</td>\n",
       "      <td>55</td>\n",
       "      <td>5</td>\n",
       "      <td>97318.25</td>\n",
       "      <td>1</td>\n",
       "      <td>0</td>\n",
       "      <td>1</td>\n",
       "      <td>78416.14</td>\n",
       "      <td>yes</td>\n",
       "      <td>0.804852</td>\n",
       "      <td>high_risk</td>\n",
       "      <td>1628612877881</td>\n",
       "    </tr>\n",
       "    <tr>\n",
       "      <th>2</th>\n",
       "      <td>651</td>\n",
       "      <td>Florida</td>\n",
       "      <td>Female</td>\n",
       "      <td>46</td>\n",
       "      <td>4</td>\n",
       "      <td>89743.05</td>\n",
       "      <td>1</td>\n",
       "      <td>1</td>\n",
       "      <td>0</td>\n",
       "      <td>156425.57</td>\n",
       "      <td>no</td>\n",
       "      <td>0.012754</td>\n",
       "      <td>low_risk</td>\n",
       "      <td>1628615297081</td>\n",
       "    </tr>\n",
       "    <tr>\n",
       "      <th>3</th>\n",
       "      <td>611</td>\n",
       "      <td>Hawaii</td>\n",
       "      <td>Male</td>\n",
       "      <td>38</td>\n",
       "      <td>7</td>\n",
       "      <td>0.00</td>\n",
       "      <td>1</td>\n",
       "      <td>1</td>\n",
       "      <td>1</td>\n",
       "      <td>63202.00</td>\n",
       "      <td>yes</td>\n",
       "      <td>0.882252</td>\n",
       "      <td>high_risk</td>\n",
       "      <td>1628617716281</td>\n",
       "    </tr>\n",
       "    <tr>\n",
       "      <th>4</th>\n",
       "      <td>696</td>\n",
       "      <td>California</td>\n",
       "      <td>Female</td>\n",
       "      <td>33</td>\n",
       "      <td>4</td>\n",
       "      <td>0.00</td>\n",
       "      <td>2</td>\n",
       "      <td>1</td>\n",
       "      <td>1</td>\n",
       "      <td>73371.65</td>\n",
       "      <td>yes</td>\n",
       "      <td>0.999736</td>\n",
       "      <td>high_risk</td>\n",
       "      <td>1628620135481</td>\n",
       "    </tr>\n",
       "    <tr>\n",
       "      <th>...</th>\n",
       "      <td>...</td>\n",
       "      <td>...</td>\n",
       "      <td>...</td>\n",
       "      <td>...</td>\n",
       "      <td>...</td>\n",
       "      <td>...</td>\n",
       "      <td>...</td>\n",
       "      <td>...</td>\n",
       "      <td>...</td>\n",
       "      <td>...</td>\n",
       "      <td>...</td>\n",
       "      <td>...</td>\n",
       "      <td>...</td>\n",
       "      <td>...</td>\n",
       "    </tr>\n",
       "    <tr>\n",
       "      <th>245</th>\n",
       "      <td>781</td>\n",
       "      <td>Hawaii</td>\n",
       "      <td>Female</td>\n",
       "      <td>48</td>\n",
       "      <td>0</td>\n",
       "      <td>57098.96</td>\n",
       "      <td>6</td>\n",
       "      <td>1</td>\n",
       "      <td>0</td>\n",
       "      <td>85644.06</td>\n",
       "      <td>no</td>\n",
       "      <td>0.032330</td>\n",
       "      <td>low_risk</td>\n",
       "      <td>1629203162681</td>\n",
       "    </tr>\n",
       "    <tr>\n",
       "      <th>246</th>\n",
       "      <td>797</td>\n",
       "      <td>Hawaii</td>\n",
       "      <td>Female</td>\n",
       "      <td>55</td>\n",
       "      <td>10</td>\n",
       "      <td>0.00</td>\n",
       "      <td>9</td>\n",
       "      <td>1</td>\n",
       "      <td>1</td>\n",
       "      <td>49418.87</td>\n",
       "      <td>no</td>\n",
       "      <td>0.020316</td>\n",
       "      <td>low_risk</td>\n",
       "      <td>1629205581881</td>\n",
       "    </tr>\n",
       "    <tr>\n",
       "      <th>247</th>\n",
       "      <td>554</td>\n",
       "      <td>Hawaii</td>\n",
       "      <td>Male</td>\n",
       "      <td>31</td>\n",
       "      <td>1</td>\n",
       "      <td>0.00</td>\n",
       "      <td>7</td>\n",
       "      <td>0</td>\n",
       "      <td>1</td>\n",
       "      <td>192660.55</td>\n",
       "      <td>yes</td>\n",
       "      <td>0.269628</td>\n",
       "      <td>low_risk</td>\n",
       "      <td>1629208001081</td>\n",
       "    </tr>\n",
       "    <tr>\n",
       "      <th>248</th>\n",
       "      <td>701</td>\n",
       "      <td>Hawaii</td>\n",
       "      <td>Nonbinary</td>\n",
       "      <td>37</td>\n",
       "      <td>1</td>\n",
       "      <td>0.00</td>\n",
       "      <td>7</td>\n",
       "      <td>1</td>\n",
       "      <td>0</td>\n",
       "      <td>163457.55</td>\n",
       "      <td>yes</td>\n",
       "      <td>0.769625</td>\n",
       "      <td>high_risk</td>\n",
       "      <td>1629210420281</td>\n",
       "    </tr>\n",
       "    <tr>\n",
       "      <th>249</th>\n",
       "      <td>769</td>\n",
       "      <td>California</td>\n",
       "      <td>Female</td>\n",
       "      <td>27</td>\n",
       "      <td>2</td>\n",
       "      <td>0.00</td>\n",
       "      <td>1</td>\n",
       "      <td>1</td>\n",
       "      <td>1</td>\n",
       "      <td>57876.05</td>\n",
       "      <td>yes</td>\n",
       "      <td>0.907486</td>\n",
       "      <td>high_risk</td>\n",
       "      <td>1629212839481</td>\n",
       "    </tr>\n",
       "  </tbody>\n",
       "</table>\n",
       "<p>250 rows × 14 columns</p>\n",
       "</div>"
      ],
      "text/plain": [
       "     creditscore   geography     gender  age  tenure   balance  numofproducts  \\\n",
       "0            559  California       Male   52       2      0.00              1   \n",
       "1            482  California       Male   55       5  97318.25              1   \n",
       "2            651     Florida     Female   46       4  89743.05              1   \n",
       "3            611      Hawaii       Male   38       7      0.00              1   \n",
       "4            696  California     Female   33       4      0.00              2   \n",
       "..           ...         ...        ...  ...     ...       ...            ...   \n",
       "245          781      Hawaii     Female   48       0  57098.96              6   \n",
       "246          797      Hawaii     Female   55      10      0.00              9   \n",
       "247          554      Hawaii       Male   31       1      0.00              7   \n",
       "248          701      Hawaii  Nonbinary   37       1      0.00              7   \n",
       "249          769  California     Female   27       2      0.00              1   \n",
       "\n",
       "     hascrcard  isactivemember  estimatedsalary churn  predicted_churn  \\\n",
       "0            1               0        129013.59    no         0.007448   \n",
       "1            0               1         78416.14   yes         0.804852   \n",
       "2            1               0        156425.57    no         0.012754   \n",
       "3            1               1         63202.00   yes         0.882252   \n",
       "4            1               1         73371.65   yes         0.999736   \n",
       "..         ...             ...              ...   ...              ...   \n",
       "245          1               0         85644.06    no         0.032330   \n",
       "246          1               1         49418.87    no         0.020316   \n",
       "247          0               1        192660.55   yes         0.269628   \n",
       "248          1               0        163457.55   yes         0.769625   \n",
       "249          1               1         57876.05   yes         0.907486   \n",
       "\n",
       "      decision      timestamp  \n",
       "0     low_risk  1628610458681  \n",
       "1    high_risk  1628612877881  \n",
       "2     low_risk  1628615297081  \n",
       "3    high_risk  1628617716281  \n",
       "4    high_risk  1628620135481  \n",
       "..         ...            ...  \n",
       "245   low_risk  1629203162681  \n",
       "246   low_risk  1629205581881  \n",
       "247   low_risk  1629208001081  \n",
       "248  high_risk  1629210420281  \n",
       "249  high_risk  1629212839481  \n",
       "\n",
       "[250 rows x 14 columns]"
      ]
     },
     "execution_count": 27,
     "metadata": {},
     "output_type": "execute_result"
    }
   ],
   "source": [
    "PATH_TO_EVENTS_CSV = 'https://raw.githubusercontent.com/fiddler-labs/fiddler-samples/new-quickstart/content_root/tutorial/quickstart/churn_events.csv'\n",
    "\n",
    "production_df = pd.read_csv(PATH_TO_EVENTS_CSV)\n",
    "production_df"
   ]
  },
  {
   "cell_type": "code",
   "execution_count": 30,
   "id": "b2d82a20",
   "metadata": {},
   "outputs": [],
   "source": [
    "production_df['timestamp'] = pd.to_datetime(production_df['timestamp'], unit='ms')"
   ]
  },
  {
   "cell_type": "code",
   "execution_count": 32,
   "id": "8568f106",
   "metadata": {},
   "outputs": [],
   "source": [
    "production_df['timestamp'] = pd.to_datetime(production_df['timestamp'], format=\"%Y-%m-%d %H:%M:%S:%f\")"
   ]
  },
  {
   "cell_type": "code",
   "execution_count": 36,
   "id": "5860fbfb",
   "metadata": {},
   "outputs": [],
   "source": [
    "production_df['timestamp'] = production_df['timestamp'].astype(str)"
   ]
  },
  {
   "cell_type": "code",
   "execution_count": 37,
   "id": "a847178c",
   "metadata": {},
   "outputs": [
    {
     "data": {
      "text/html": [
       "<div>\n",
       "<style scoped>\n",
       "    .dataframe tbody tr th:only-of-type {\n",
       "        vertical-align: middle;\n",
       "    }\n",
       "\n",
       "    .dataframe tbody tr th {\n",
       "        vertical-align: top;\n",
       "    }\n",
       "\n",
       "    .dataframe thead th {\n",
       "        text-align: right;\n",
       "    }\n",
       "</style>\n",
       "<table border=\"1\" class=\"dataframe\">\n",
       "  <thead>\n",
       "    <tr style=\"text-align: right;\">\n",
       "      <th></th>\n",
       "      <th>creditscore</th>\n",
       "      <th>geography</th>\n",
       "      <th>gender</th>\n",
       "      <th>age</th>\n",
       "      <th>tenure</th>\n",
       "      <th>balance</th>\n",
       "      <th>numofproducts</th>\n",
       "      <th>hascrcard</th>\n",
       "      <th>isactivemember</th>\n",
       "      <th>estimatedsalary</th>\n",
       "      <th>churn</th>\n",
       "      <th>predicted_churn</th>\n",
       "      <th>decision</th>\n",
       "      <th>timestamp</th>\n",
       "    </tr>\n",
       "  </thead>\n",
       "  <tbody>\n",
       "    <tr>\n",
       "      <th>0</th>\n",
       "      <td>559</td>\n",
       "      <td>California</td>\n",
       "      <td>Male</td>\n",
       "      <td>52</td>\n",
       "      <td>2</td>\n",
       "      <td>0.00</td>\n",
       "      <td>1</td>\n",
       "      <td>1</td>\n",
       "      <td>0</td>\n",
       "      <td>129013.59</td>\n",
       "      <td>no</td>\n",
       "      <td>0.007448</td>\n",
       "      <td>low_risk</td>\n",
       "      <td>2021-08-10 15:47:38.681</td>\n",
       "    </tr>\n",
       "    <tr>\n",
       "      <th>1</th>\n",
       "      <td>482</td>\n",
       "      <td>California</td>\n",
       "      <td>Male</td>\n",
       "      <td>55</td>\n",
       "      <td>5</td>\n",
       "      <td>97318.25</td>\n",
       "      <td>1</td>\n",
       "      <td>0</td>\n",
       "      <td>1</td>\n",
       "      <td>78416.14</td>\n",
       "      <td>yes</td>\n",
       "      <td>0.804852</td>\n",
       "      <td>high_risk</td>\n",
       "      <td>2021-08-10 16:27:57.881</td>\n",
       "    </tr>\n",
       "    <tr>\n",
       "      <th>2</th>\n",
       "      <td>651</td>\n",
       "      <td>Florida</td>\n",
       "      <td>Female</td>\n",
       "      <td>46</td>\n",
       "      <td>4</td>\n",
       "      <td>89743.05</td>\n",
       "      <td>1</td>\n",
       "      <td>1</td>\n",
       "      <td>0</td>\n",
       "      <td>156425.57</td>\n",
       "      <td>no</td>\n",
       "      <td>0.012754</td>\n",
       "      <td>low_risk</td>\n",
       "      <td>2021-08-10 17:08:17.081</td>\n",
       "    </tr>\n",
       "    <tr>\n",
       "      <th>3</th>\n",
       "      <td>611</td>\n",
       "      <td>Hawaii</td>\n",
       "      <td>Male</td>\n",
       "      <td>38</td>\n",
       "      <td>7</td>\n",
       "      <td>0.00</td>\n",
       "      <td>1</td>\n",
       "      <td>1</td>\n",
       "      <td>1</td>\n",
       "      <td>63202.00</td>\n",
       "      <td>yes</td>\n",
       "      <td>0.882252</td>\n",
       "      <td>high_risk</td>\n",
       "      <td>2021-08-10 17:48:36.281</td>\n",
       "    </tr>\n",
       "    <tr>\n",
       "      <th>4</th>\n",
       "      <td>696</td>\n",
       "      <td>California</td>\n",
       "      <td>Female</td>\n",
       "      <td>33</td>\n",
       "      <td>4</td>\n",
       "      <td>0.00</td>\n",
       "      <td>2</td>\n",
       "      <td>1</td>\n",
       "      <td>1</td>\n",
       "      <td>73371.65</td>\n",
       "      <td>yes</td>\n",
       "      <td>0.999736</td>\n",
       "      <td>high_risk</td>\n",
       "      <td>2021-08-10 18:28:55.481</td>\n",
       "    </tr>\n",
       "  </tbody>\n",
       "</table>\n",
       "</div>"
      ],
      "text/plain": [
       "   creditscore   geography  gender  age  tenure   balance  numofproducts  \\\n",
       "0          559  California    Male   52       2      0.00              1   \n",
       "1          482  California    Male   55       5  97318.25              1   \n",
       "2          651     Florida  Female   46       4  89743.05              1   \n",
       "3          611      Hawaii    Male   38       7      0.00              1   \n",
       "4          696  California  Female   33       4      0.00              2   \n",
       "\n",
       "   hascrcard  isactivemember  estimatedsalary churn  predicted_churn  \\\n",
       "0          1               0        129013.59    no         0.007448   \n",
       "1          0               1         78416.14   yes         0.804852   \n",
       "2          1               0        156425.57    no         0.012754   \n",
       "3          1               1         63202.00   yes         0.882252   \n",
       "4          1               1         73371.65   yes         0.999736   \n",
       "\n",
       "    decision                timestamp  \n",
       "0   low_risk  2021-08-10 15:47:38.681  \n",
       "1  high_risk  2021-08-10 16:27:57.881  \n",
       "2   low_risk  2021-08-10 17:08:17.081  \n",
       "3  high_risk  2021-08-10 17:48:36.281  \n",
       "4  high_risk  2021-08-10 18:28:55.481  "
      ]
     },
     "execution_count": 37,
     "metadata": {},
     "output_type": "execute_result"
    }
   ],
   "source": [
    "production_df.head()"
   ]
  },
  {
   "cell_type": "code",
   "execution_count": 38,
   "id": "1acfb48c",
   "metadata": {},
   "outputs": [
    {
     "data": {
      "text/plain": [
       "{'creditscore': 559,\n",
       " 'geography': 'California',\n",
       " 'gender': 'Male',\n",
       " 'age': 52,\n",
       " 'tenure': 2,\n",
       " 'balance': 0.0,\n",
       " 'numofproducts': 1,\n",
       " 'hascrcard': 1,\n",
       " 'isactivemember': 0,\n",
       " 'estimatedsalary': 129013.59,\n",
       " 'churn': 'no',\n",
       " 'predicted_churn': 0.0074475368963339,\n",
       " 'decision': 'low_risk',\n",
       " 'timestamp': '2021-08-10 15:47:38.681'}"
      ]
     },
     "execution_count": 38,
     "metadata": {},
     "output_type": "execute_result"
    }
   ],
   "source": [
    "production_events = production_df.to_dict(orient='records')\n",
    "production_events[0]"
   ]
  },
  {
   "cell_type": "code",
   "execution_count": 39,
   "id": "54749f80",
   "metadata": {},
   "outputs": [
    {
     "name": "stderr",
     "output_type": "stream",
     "text": [
      "100%|█████████████████████████████████████████| 250/250 [00:29<00:00,  8.50it/s]\n"
     ]
    }
   ],
   "source": [
    "from tqdm import tqdm\n",
    "\n",
    "for event in tqdm(production_events):\n",
    "\n",
    "    client.publish_event(\n",
    "        project_id=PROJECT_ID,\n",
    "        model_id=MODEL_ID,\n",
    "        event=event,\n",
    "        event_timestamp=event['timestamp']\n",
    "    )"
   ]
  },
  {
   "cell_type": "markdown",
   "id": "1acd5e2a",
   "metadata": {},
   "source": [
    "### Use the Fiddler Platform"
   ]
  },
  {
   "cell_type": "code",
   "execution_count": 11,
   "id": "8a255803",
   "metadata": {},
   "outputs": [
    {
     "name": "stdout",
     "output_type": "stream",
     "text": [
      "https://vishal.staging.fiddler.ai/projects/airflow_churn_example_2/models/churn_classifier/monitor\n"
     ]
    }
   ],
   "source": [
    "print('/'.join([URL, 'projects', PROJECT_ID, 'models', MODEL_ID, 'monitor']))"
   ]
  }
 ],
 "metadata": {
  "kernelspec": {
   "display_name": "Python 3",
   "language": "python",
   "name": "python3"
  },
  "language_info": {
   "codemirror_mode": {
    "name": "ipython",
    "version": 3
   },
   "file_extension": ".py",
   "mimetype": "text/x-python",
   "name": "python",
   "nbconvert_exporter": "python",
   "pygments_lexer": "ipython3",
   "version": "3.6.13"
  }
 },
 "nbformat": 4,
 "nbformat_minor": 5
}
