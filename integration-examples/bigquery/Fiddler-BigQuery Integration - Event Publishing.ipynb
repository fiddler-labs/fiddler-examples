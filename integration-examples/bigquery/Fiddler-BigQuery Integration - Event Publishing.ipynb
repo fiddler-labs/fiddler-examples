{
 "cells": [
  {
   "cell_type": "markdown",
   "id": "e9933d13",
   "metadata": {},
   "source": [
    "# Fiddler examples have moved! [Deprecation Notice]"
   ]
  },
  {
   "cell_type": "markdown",
   "id": "07b9b9fc",
   "metadata": {},
   "source": [
    "Dear user thank you for using fiddler product, we appreciate your time! We have moved the examples to a new github repo located at the following link\n"
   ]
  },
  {
   "cell_type": "markdown",
   "id": "43c85d48",
   "metadata": {},
   "source": [
    "***\n",
    "# [New fiddler-examples repo](https://github.com/fiddler-labs/fiddler-examples)\n",
    "***"
   ]
  },
  {
   "cell_type": "markdown",
   "id": "1c0666c0",
   "metadata": {},
   "source": [
    "# Fiddler-BigQuery Integration 2 - Event Publishing"
   ]
  },
  {
   "cell_type": "markdown",
   "id": "780870aa",
   "metadata": {},
   "source": [
    "This notebook is used in conjuction with the guide on how to use Fiddler for you machine learning model data stored in BigQuery. Link\n",
    "\n",
    "In this notebook we will look at how we can use production data stored in BigQuery to publish to fiddler as production data for your ML model.\n",
    "\n",
    "Link to [part 1](https://colab.research.google.com/github/fiddler-labs/fiddler-samples/blob/master/content_root/tutorial/integration-examples/bigquery/Fiddler-BigQuery%20Integration%20-%20Model%20Registration.ipynb) of the guide on how to upload baseline data and register model on Fiddler."
   ]
  },
  {
   "cell_type": "markdown",
   "id": "26a55178",
   "metadata": {},
   "source": [
    "## Establish connection to BigQuery"
   ]
  },
  {
   "cell_type": "markdown",
   "id": "8d8d1d96",
   "metadata": {},
   "source": [
    "Install required libraries to loading data from BigQuery"
   ]
  },
  {
   "cell_type": "code",
   "execution_count": null,
   "id": "76185016",
   "metadata": {},
   "outputs": [],
   "source": [
    "# !pip install google-cloud\n",
    "# !pip install google-cloud-bigquery[pandas]\n",
    "# !pip install google-cloud-storage"
   ]
  },
  {
   "cell_type": "markdown",
   "id": "a6b1e28a",
   "metadata": {},
   "source": [
    "Adding the location of the Google cloud auth key info as environment variable"
   ]
  },
  {
   "cell_type": "code",
   "execution_count": null,
   "id": "11be9c96",
   "metadata": {},
   "outputs": [],
   "source": [
    "#Set environment variables for your notebook\n",
    "import os \n",
    "os.environ['GOOGLE_APPLICATION_CREDENTIALS'] = '<link to json key>'"
   ]
  },
  {
   "cell_type": "code",
   "execution_count": null,
   "id": "320aef77",
   "metadata": {},
   "outputs": [],
   "source": [
    "#Imports google cloud client library and initiates BQ service\n",
    "from google.cloud import bigquery\n",
    "bigquery_client = bigquery.Client()"
   ]
  },
  {
   "cell_type": "markdown",
   "id": "8b59620b",
   "metadata": {},
   "source": [
    "Below we use the query to load the required data from BigQuery table"
   ]
  },
  {
   "cell_type": "code",
   "execution_count": null,
   "id": "8bd6e194",
   "metadata": {},
   "outputs": [],
   "source": [
    "#Write Query on BQ\n",
    "QUERY = \"\"\"\n",
    "SELECT * FROM `fiddler-bq.fiddler_test.churn_prediction_production` \n",
    "  \"\"\""
   ]
  },
  {
   "cell_type": "code",
   "execution_count": null,
   "id": "ab1fc7f8",
   "metadata": {},
   "outputs": [],
   "source": [
    "#Run the query and write result to a pandas data frame\n",
    "Query_Results = bigquery_client.query(QUERY)\n",
    "production_df = Query_Results.to_dataframe()\n",
    "\n",
    "#View top few rows of result\n",
    "print(production_df.shape)\n",
    "production_df.head()"
   ]
  },
  {
   "cell_type": "markdown",
   "id": "36fa2593",
   "metadata": {},
   "source": [
    "## Publish data to Fiddler"
   ]
  },
  {
   "cell_type": "markdown",
   "id": "5ca03980",
   "metadata": {},
   "source": [
    "### Imports"
   ]
  },
  {
   "cell_type": "markdown",
   "id": "e5f07137",
   "metadata": {},
   "source": [
    "We will publish the BigQuery data that we have just imported, on the Fiddler platform.\n",
    "\n",
    "If you are new to Fiddler and want a detailed explanation on how to setup the fiddler environment please refer to our [Getting Started Guide](https://docs.fiddler.ai/pages/getting-started/product-tour/)."
   ]
  },
  {
   "cell_type": "code",
   "execution_count": null,
   "id": "bf07fe9d",
   "metadata": {},
   "outputs": [],
   "source": [
    "!pip install -q fiddler-client;\n",
    "\n",
    "import numpy as np\n",
    "import pandas as pd\n",
    "import fiddler as fdl\n",
    "\n",
    "print(f\"Running client version {fdl.__version__}\")"
   ]
  },
  {
   "cell_type": "markdown",
   "id": "b9f20e7d",
   "metadata": {},
   "source": [
    "### Connect to Fiddler"
   ]
  },
  {
   "cell_type": "code",
   "execution_count": null,
   "id": "6a6a6c38",
   "metadata": {},
   "outputs": [],
   "source": [
    "URL = #\n",
    "ORG_ID = #\n",
    "AUTH_TOKEN = #"
   ]
  },
  {
   "cell_type": "code",
   "execution_count": null,
   "id": "4e57c38b",
   "metadata": {},
   "outputs": [],
   "source": [
    "# Initiate Fiddler client\n",
    "client = fdl.FiddlerApi(\n",
    "    url=URL,\n",
    "    org_id=ORG_ID,\n",
    "    auth_token=AUTH_TOKEN\n",
    ")"
   ]
  },
  {
   "cell_type": "markdown",
   "id": "be7243fb",
   "metadata": {},
   "source": [
    "Convert the pandas DataFrame into a dictionary."
   ]
  },
  {
   "cell_type": "code",
   "execution_count": null,
   "id": "41689a98",
   "metadata": {},
   "outputs": [],
   "source": [
    "production_events = production_df.to_dict(orient='records')\n",
    "production_events[0]"
   ]
  },
  {
   "cell_type": "markdown",
   "id": "38e2e315",
   "metadata": {},
   "source": [
    "You can use the client's `publish_event` function to start pumping data into Fiddler!\n",
    "  \n",
    "*Just include:*\n",
    "1. The event dictionary\n",
    "2. A timestamp for when the event occurred"
   ]
  },
  {
   "cell_type": "code",
   "execution_count": null,
   "id": "1809a1b4",
   "metadata": {},
   "outputs": [],
   "source": [
    "from tqdm import tqdm\n",
    "\n",
    "for event in tqdm(production_events):\n",
    "\n",
    "    client.publish_event(\n",
    "        project_id=PROJECT_ID,\n",
    "        model_id=MODEL_ID,\n",
    "        event=event,\n",
    "        event_timestamp=event['timestamp']\n",
    "    )"
   ]
  },
  {
   "cell_type": "markdown",
   "id": "7f7a2410",
   "metadata": {},
   "source": [
    "Now that we have events published to Fiddler, we can access the URL below to monitor the publish events"
   ]
  },
  {
   "cell_type": "code",
   "execution_count": null,
   "id": "6a6aed25",
   "metadata": {},
   "outputs": [],
   "source": [
    "print('/'.join([URL, 'projects', PROJECT_ID, 'models', MODEL_ID, 'monitor']))"
   ]
  },
  {
   "cell_type": "code",
   "execution_count": null,
   "id": "b18d1cb8",
   "metadata": {},
   "outputs": [],
   "source": []
  }
 ],
 "metadata": {
  "kernelspec": {
   "display_name": "Python 3 (ipykernel)",
   "language": "python",
   "name": "python3"
  },
  "language_info": {
   "codemirror_mode": {
    "name": "ipython",
    "version": 3
   },
   "file_extension": ".py",
   "mimetype": "text/x-python",
   "name": "python",
   "nbconvert_exporter": "python",
   "pygments_lexer": "ipython3",
   "version": "3.8.13"
  }
 },
 "nbformat": 4,
 "nbformat_minor": 5
}
