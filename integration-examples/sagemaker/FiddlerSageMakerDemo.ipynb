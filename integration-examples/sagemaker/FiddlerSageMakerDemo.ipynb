{
 "cells": [
  {
   "cell_type": "markdown",
   "metadata": {},
   "source": [
    "# re:Invent - SageMaker Partner AI Apps - Fiddler Workshop\n",
    "\n",
    "## Online Travel Agency - Optimizing User Search Experiences \n",
    "Consider a leading online travel agency aiming to enhance its hotel ranking model. The travel agency trains the ranking model to predict the likelihood of a hotel being clicked or booked by a specific user. The improved model would consider factors like pricing, location, user reviews, and contextual details such as travel dates and user devices. This allows them to refine their search result rankings, making them more relevant to individual preferences. The net effect is that the traveling agency can increase booking rates, enhance customer satisfaction, and drive revenue growth through a more personalized and efficient search experience.\n",
    "\n",
    "There are 2 components to this travel agency scenario:\n",
    "-  **Search Ranking Model**\n",
    "    -  This Search Ranking Model provides the user with a list of top-ranked travel experiences.\n",
    "    -  The model tracks users' propensity to click and book the most relevant experiences.\n",
    "\n",
    "- **LLM Chatbot Assistant**\n",
    "    -  This acts as an interface for the user to access the listing and book experiences via the chat interface instead of a manual search.\n",
    "    -  The chatbot uses the ranked trip options created by the **Search Ranking Model**.\n"
   ]
  },
  {
   "cell_type": "markdown",
   "metadata": {},
   "source": [
    "## 0. Install Fiddler and SageMaker client Python modules\n",
    "\n",
    "Install the Fiddler and SageMaker Python clients to authenticate and onboard models, publish data, and more!\n",
    "\n",
    "> **IMPORTANT:** If using this Notebook with a live, Fiddler on SageMaker, application, you must use a SageMaker Studio Notebook within the same SageMaker Studio Domain."
   ]
  },
  {
   "cell_type": "code",
   "execution_count": null,
   "metadata": {},
   "outputs": [],
   "source": [
    "!python -m pip install fiddler-client==3.7.0 sagemaker==2.236.0 tabulate\n",
    "%load_ext autoreload\n",
    "%autoreload 2"
   ]
  },
  {
   "cell_type": "markdown",
   "metadata": {},
   "source": [
    "## 1. Authenticate to Fiddler using SageMaker Auth Provider\n",
    "\n",
    "You will need the following values to continue:\n",
    "1.  The AWS SageMaker Partner App ARN. This is the unique identifier of your SageMaker Studio, Fiddler, partner application.\n",
    "\n",
    "1.  The AWS SageMaker Partner App URL. This is the fully qualified domain from which you will be accessing the Fiddler webapp.\n",
    "\n",
    "1.  The Fiddler user API key for your respective SageMaker User Profile. To find your API key, follow these steps:\n",
    "\n",
    "    1. Open a new tab and navigate to your AWS SageMaker Partner App URL. You'll see a page similar to the following. Click the Profile badge in the lower left corner. Then click the Settings option from the menu.\n",
    "\n",
    "        [<img src=\"imgs/login_view.png\" width=\"800\"/>](./imgs/login_view.png)\n",
    "\n",
    "    1. On the Settings page, click on the Credentials tab.\n",
    "\n",
    "        [<img src=\"imgs/settings_view.png\" width=\"800\"/>](./imgs/settings_view.png)\n",
    "\n",
    "    1. Finally, copy your token from the credentials list.\n",
    "\n",
    "        [<img src=\"imgs/credentials_tab.png\" width=\"800\"/>](./imgs/credentials_tab.png)"
   ]
  },
  {
   "cell_type": "markdown",
   "metadata": {},
   "source": [
    "## <font color='red'>Change the values below before running!</font>"
   ]
  },
  {
   "cell_type": "code",
   "execution_count": null,
   "metadata": {},
   "outputs": [],
   "source": [
    "# Edit the values in this section!\n",
    "APP_URL = '' # the SageMaker App URL\n",
    "APP_ARN = '' # the SageMaker App ARN\n",
    "TOKEN = '' # the Fiddler User API Key\n",
    "\n",
    "UNIQUE_ID = 'jane_doe' # A unique ID to identify your Project.\n",
    "\n",
    "# If something goes wrong in your notebook, you can change the UNIQUE_ID and start over!"
   ]
  },
  {
   "cell_type": "code",
   "execution_count": null,
   "metadata": {},
   "outputs": [],
   "source": [
    "import os \n",
    "import pandas as pd\n",
    "import time\n",
    "\n",
    "import fiddler as fdl\n",
    "\n",
    "os.environ['AWS_PARTNER_APP_AUTH'] = 'true'\n",
    "os.environ['AWS_PARTNER_APP_ARN'] = APP_ARN\n",
    "os.environ['AWS_PARTNER_APP_URL'] = APP_URL\n",
    "\n",
    "# Initialize the Fiddler client\n",
    "fdl.init(url=APP_URL, token=TOKEN)"
   ]
  },
  {
   "cell_type": "markdown",
   "metadata": {},
   "source": [
    "## 2. Create a Model, Configure Segments, and Publish data!\n",
    "\n",
    "You are now authenticated to Fiddler running as a SageMaker Partner App! Our Python client is powerful tool for managing your Fiddler app in code. It is required for creating models and publishing baseline and production events.\n",
    "\n",
    "An **event** is a vector of inputs, the model's inferred outputs, and some metadata pertaining to the Fiddler event being published and the model it's being published to.\n",
    "\n",
    "The following section of code will perform the following. Don't worry too much about understanding all of this now, this codelab is public!\n",
    "\n",
    "1.  Create a Project in your Fiddler app called `ai_travel_agent_<UNIQUE_NAME>`.\n",
    "1.  Load a sample event dataset for the Travel Agency Ranking Model.\n",
    "1.  Configure the Model specification. This tells Fiddler which columns are the inputs, outputs, targets, and metadata.\n",
    "1.  Create the Model in your Project."
   ]
  },
  {
   "cell_type": "code",
   "execution_count": null,
   "metadata": {},
   "outputs": [],
   "source": [
    "from modules.config import *\n",
    "\n",
    "# Generate a unique project name\n",
    "PROJECT_NAME = append_unique_name(PROJECT_NAME_PREFIX, UNIQUE_ID)\n",
    "\n",
    "# Create the Project or find it by name\n",
    "project = None\n",
    "try:\n",
    "    # Create project\n",
    "    project = fdl.Project(name=PROJECT_NAME).create()\n",
    "    print(f'New project created with id = {project.id} and name = {project.name}')\n",
    "except fdl.Conflict:\n",
    "    # Get project by name if it exists\n",
    "    project = fdl.Project.from_name(name=PROJECT_NAME)\n",
    "    print(f'Loaded existing project with id = {project.id} and name = {project.name}')"
   ]
  },
  {
   "cell_type": "code",
   "execution_count": null,
   "metadata": {},
   "outputs": [],
   "source": [
    "# Load a sample data set from the Search Ranking Model\n",
    "sample_data_df = pd.read_csv(PATH_TO_SAMPLE_RANKING_CSV)\n",
    "\n",
    "timestamp_column = 'timestamp'\n",
    "\n",
    "# Define the Model Task Type\n",
    "model_task = fdl.ModelTask.RANKING\n",
    "task_params = fdl.ModelTaskParams(\n",
    "    group_by='search_id', top_k=20, target_class_order=[0, 1]\n",
    ")\n",
    "\n",
    "# Tell Fiddler which columns are inputs, outputs, targetsm \n",
    "model_spec = fdl.ModelSpec(\n",
    "    inputs=list(\n",
    "        sample_data_df.drop(\n",
    "            columns=[\n",
    "                'user_interaction',\n",
    "                'output_score',\n",
    "                'grad_rel',\n",
    "                'position',\n",
    "                'timestamp',\n",
    "            ]\n",
    "        ).columns\n",
    "    ),\n",
    "    outputs=['output_score'],\n",
    "    targets=['user_interaction'],\n",
    "    metadata=['timestamp', 'grad_rel', 'position'],\n",
    ")\n",
    "\n",
    "\n",
    "# Create or load the Model\n",
    "ranking_model = None\n",
    "try:\n",
    "    # Create model\n",
    "    ranking_model = fdl.Model.from_data(\n",
    "        name=RANKING_MODEL_NAME,\n",
    "        project_id=project.id,\n",
    "        source=sample_data_df,\n",
    "        spec=model_spec,\n",
    "        task=model_task,\n",
    "        task_params=task_params,\n",
    "        event_ts_col=timestamp_column,\n",
    "    )\n",
    "    ranking_model.create()\n",
    "except fdl.Conflict:\n",
    "    ranking_model = fdl.Model.from_name(\n",
    "        name=RANKING_MODEL_NAME,\n",
    "        project_id=project.id,\n",
    "    )\n",
    "\n",
    "print(f'Travel listing ranking registered model with id = {ranking_model.id} and name = {ranking_model.name}')\n",
    "print('Printing sample dataset...')\n",
    "print(sample_data_df.head(10).to_markdown())"
   ]
  },
  {
   "cell_type": "markdown",
   "metadata": {},
   "source": [
    "## 3. Create Data Segments\n",
    "\n",
    "A **segment** represents a distinct subset of model values crucial for performance analysis and troubleshooting. You will define a set of conditions for the ranking model which we will visualize later on.\n",
    "\n",
    "In this snippet, we are creating segments that will help visualize the ranking model's inferences on destination countries in `prop_countries_list` by source countries in `customer_countries_list`. It also creates segments to visualize whether a user clicked on this promotion.\n",
    "\n",
    "With these tools, we may observe powerful analytics to answer questions such as \"How do users in Brazil, compare to the UK, click on the ranking model's promoted trip suggestions to Japan and Canada?\""
   ]
  },
  {
   "cell_type": "code",
   "execution_count": null,
   "metadata": {},
   "outputs": [],
   "source": [
    "from modules.ml_onboard import create_country_segments\n",
    "\n",
    "prop_countries_list = ['USA', 'Japan', 'UK', 'Canada', 'Mexico']\n",
    "customer_countries_list = [\n",
    "    'USA',\n",
    "    'Japan',\n",
    "    'UK',\n",
    "    'Canada',\n",
    "    'Mexico',\n",
    "    'Brazil',\n",
    "    'China',\n",
    "    'India',\n",
    "    'South Africa',\n",
    "    'France',\n",
    "]\n",
    "create_country_segments(ranking_model.id, customer_countries_list, prop_countries_list)"
   ]
  },
  {
   "cell_type": "markdown",
   "metadata": {},
   "source": [
    "## 4. Publish Production Model Data\n",
    "\n",
    "Now that we've defined segments on which to analyze the data, let's load and publish some production events. `model.publish()` is going to kick off asyncronous data ingestion jobs.\n",
    "\n",
    "Data ingestion is an important, core, workflow in Fiddler. The Fiddler Python client you are using in this notebook may stream data or kick off batch ingestion jobs. One powerful example would be triggering an AWS Lambda Function when Parquet objects are created in an S3 bucket to publish the data to Fiddler.\n",
    "\n",
    "These jobs should take just a few seconds to finish. Please continue to step 5 to perform similar tasks for an LLM model. Note, you will be sharing an instance with your workshop cohort, so you will see several more jobs than just your own in the UI!"
   ]
  },
  {
   "cell_type": "code",
   "execution_count": null,
   "metadata": {},
   "outputs": [],
   "source": [
    "production_data_df = pd.read_csv(PATH_TO_EVENTS_RANKING_CSV)\n",
    "\n",
    "# Shift the timestamps of the production events to be as recent as today\n",
    "production_data_df['timestamp'] = production_data_df['timestamp'] + (\n",
    "    int(time.time()) - production_data_df['timestamp'].max()\n",
    ")\n",
    "\n",
    "df_logs_grouped = fdl.utils.helpers.group_by(\n",
    "    df=production_data_df, group_by_col='search_id'\n",
    ")\n",
    "\n",
    "# Publish production event data\n",
    "production_publish_job = ranking_model.publish(df_logs_grouped)\n",
    "ml_job_id = production_publish_job.id\n",
    "\n",
    "print(\n",
    "    f'Initiated production environment data upload with Job ID = {production_publish_job.id}'\n",
    ")"
   ]
  },
  {
   "cell_type": "markdown",
   "metadata": {},
   "source": [
    "## 5. Repeat Model Onboarding and Event Publication for an LLM\n",
    "\n",
    "The steps for creating the LLM model are similar to the above steps with some differences as to how we define the model type, specification, and segments by which we'd like to analyze the model."
   ]
  },
  {
   "cell_type": "code",
   "execution_count": null,
   "metadata": {},
   "outputs": [],
   "source": [
    "from modules.llm_onboard import create_and_publish_llm\n",
    "\n",
    "llm_model, llm_job_id = create_and_publish_llm(project, LLM_MODEL_NAME)\n",
    "print(\n",
    "    f'Initiated production environment data upload with Job ID = {llm_job_id}'\n",
    ")"
   ]
  },
  {
   "cell_type": "markdown",
   "metadata": {},
   "source": [
    "## 6. Create Charts to Visualize Model Segments\n",
    "\n"
   ]
  },
  {
   "cell_type": "code",
   "execution_count": null,
   "metadata": {},
   "outputs": [],
   "source": [
    "from modules.chart import add_charts\n",
    "\n",
    "errors = add_charts(project, ranking_model, UNIQUE_ID, PATH_TO_ML_CHARTS, APP_URL, TOKEN)\n",
    "errors = add_charts(project, llm_model, UNIQUE_ID, PATH_TO_LLM_CHARTS, APP_URL, TOKEN)"
   ]
  },
  {
   "cell_type": "markdown",
   "metadata": {},
   "source": [
    "## 7. Build a Custom Dashboard for Model Performance Insights\n",
    "\n",
    "1.  Navigate to the dashboard page (a)\n",
    "1.  Click `Add Dashboard` (b)\n",
    "\n",
    "    [<img src=\"imgs/create_dashboard.png\" width=\"800\"/>](./imgs/create_dashboard.png)\n",
    "\n",
    "    1.  Select your project, `ai_travel_assistant_<UNIQUE_ID>`\n",
    "    1.  Click `Add Chart` > `Saved Charts`\n",
    "    1.  Add the following charts, prefixed with `[<UNIQUE_NAME>]` according to your input:\n",
    "        -   Destination Geographical Distribution\n",
    "        -   Price Effect on Clicks\n",
    "        -   User Input UMAP\n",
    "        -   Chatbot Response UMAP\n",
    "        -   Cost Tracker for Chatbot\n",
    "        -   Model Performance Segmented by Destination\n",
    "        -   User Sentiment Tracker\n",
    "    1. Name, and save your dashboard before moving on."
   ]
  },
  {
   "cell_type": "markdown",
   "metadata": {},
   "source": [
    "## 8. Perform Root Cause Analysis\n",
    "\n",
    "1.  Click on the title-link for the `User Input UMAP` chart\n",
    "    1.  Pick a cluster within the UMAP\n",
    "    1.  Try a different `Color by` Label\n",
    "\n",
    "    [<img src=\"imgs/root_cause_analysis.png\" width=\"800\"/>](./imgs/root_cause_analysis.png)\n",
    "    \n",
    "1.  Discard changes and, go back to Dashboards and right-click on a point on the `Price Effect on Click` Chart to open up Root Cause Analysis (RCA)\n",
    "\n",
    "    [<img src=\"imgs/rca_init.png\" width=\"800\"/>](./imgs/rca_init.png)\n",
    "\n",
    "    1.  Navigate the `Events` tab to view model data \n",
    "\n",
    "    [<img src=\"imgs/rca_events.png\" width=\"800\"/>](./imgs/rca_events.png)\n",
    "\n",
    "    1.  Check Feature Drift by clicking the `Data Drift` tab\n",
    "    1.  Select the `default_static_baseline` for the Basline by which to compare the event.\n",
    "    1.  Now we can visualize the normalized feature drift \n",
    "\n",
    "    [<img src=\"imgs/rca_drift.png\" width=\"800\"/>](./imgs/rca_drift.png)"
   ]
  },
  {
   "cell_type": "markdown",
   "metadata": {},
   "source": [
    "## 9. Next Steps\n",
    "\n",
    "To learn more about the AI observability for LLM and MLOps Fiddler can offer please check our product tours here: [Product Tour: Fiddler AI Observability for LLM Applications and ML Models](https://www.youtube.com/watch?v=sNppVfEcaGo&list=PL9ekywqME2AjEb-6JHjYhqT_S5bY6Di4n&index=2)\n",
    "\n",
    "You can purchase and get access to the [Fiddler AI Observability platform within the Amazon SageMaker Studio.](https://aws.amazon.com/marketplace/pp/prodview-caia5ckldtyhs)"
   ]
  }
 ],
 "metadata": {
  "kernelspec": {
   "display_name": "Python 3 (ipykernel)",
   "language": "python",
   "name": "python3"
  },
  "language_info": {
   "codemirror_mode": {
    "name": "ipython",
    "version": 3
   },
   "file_extension": ".py",
   "mimetype": "text/x-python",
   "name": "python",
   "nbconvert_exporter": "python",
   "pygments_lexer": "ipython3",
   "version": "3.12.7"
  }
 },
 "nbformat": 4,
 "nbformat_minor": 4
}
