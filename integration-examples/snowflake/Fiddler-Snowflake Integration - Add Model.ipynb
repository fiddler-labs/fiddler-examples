{
 "cells": [
  {
   "cell_type": "markdown",
   "id": "9c857708",
   "metadata": {},
   "source": [
    "# Fiddler examples have moved! [Deprecation Notice]"
   ]
  },
  {
   "cell_type": "markdown",
   "id": "9fcbd01e",
   "metadata": {},
   "source": [
    "Dear user thank you for using fiddler product, we appreciate your time! We have moved the examples to a new github repo located at the following link\n"
   ]
  },
  {
   "cell_type": "markdown",
   "id": "54b1b6bf",
   "metadata": {},
   "source": [
    "***\n",
    "# [New fiddler-examples repo](https://github.com/fiddler-labs/fiddler-examples)\n",
    "***"
   ]
  },
  {
   "cell_type": "markdown",
   "id": "022f7cba",
   "metadata": {},
   "source": [
    "# Fiddler-Snowflake Integration 1 - Add Model"
   ]
  },
  {
   "cell_type": "markdown",
   "id": "3b7b4594",
   "metadata": {},
   "source": [
    "This notebook is used in conjuction with the guide on how to use Fiddler for you machine learning model data stored in Snowflake. Link\n",
    "\n",
    "In this notebook we will look at how we can use data stored in Snowflake to upload to fiddler as baseline data for your ML model. We will also add your model on the Fiddler platform.\n",
    "\n",
    "[Link](https://colab.research.google.com/github/fiddler-labs/fiddler-samples/blob/master/content_root/tutorial/integration-examples/snowflake/Fiddler-Snowflake%20Integration%20-%20Event%20Publishing.ipynb) to part 2 of the guide on how to publish production data on Fiddler."
   ]
  },
  {
   "cell_type": "markdown",
   "id": "471c0604",
   "metadata": {},
   "source": [
    "## Establish connection to Snowflake"
   ]
  },
  {
   "cell_type": "markdown",
   "id": "fda78f5f",
   "metadata": {},
   "source": [
    "Install required libraries to loading data from Snowflake"
   ]
  },
  {
   "cell_type": "code",
   "execution_count": null,
   "id": "d1bd4758",
   "metadata": {},
   "outputs": [],
   "source": [
    "!pip install snowflake"
   ]
  },
  {
   "cell_type": "code",
   "execution_count": null,
   "id": "4545561f",
   "metadata": {},
   "outputs": [],
   "source": [
    "# Imports\n",
    "import pandas as pd\n",
    "from snowflake import connector\n",
    "import getpass"
   ]
  },
  {
   "cell_type": "code",
   "execution_count": null,
   "id": "3e252190",
   "metadata": {},
   "outputs": [],
   "source": [
    "# Enter your Snowflake credentials\n",
    "snowflake_username = ''\n",
    "snowflake_account = ''\n",
    "snowflake_role = ''\n",
    "snowflake_warehouse = ''"
   ]
  },
  {
   "cell_type": "code",
   "execution_count": null,
   "id": "edf4e123",
   "metadata": {},
   "outputs": [],
   "source": [
    "# Enter your Snowflake password\n",
    "snowflake_password = getpass.getpass(\"Enter password:\")"
   ]
  },
  {
   "cell_type": "code",
   "execution_count": null,
   "id": "dd351566",
   "metadata": {},
   "outputs": [],
   "source": [
    "# establish Snowflake connection\n",
    "connection = connector.connect(user=snowflake_username, \n",
    "                               password=snowflake_password, \n",
    "                               account=snowflake_account, \n",
    "                               role=snowflake_role, \n",
    "                               warehouse=snowflake_warehouse\n",
    "                              )"
   ]
  },
  {
   "cell_type": "markdown",
   "id": "5b45114d",
   "metadata": {},
   "source": [
    "Below we use the query to load the required data from Snowflake table"
   ]
  },
  {
   "cell_type": "code",
   "execution_count": null,
   "id": "02600a20",
   "metadata": {},
   "outputs": [],
   "source": [
    "# sample SQL query\n",
    "sql_query = 'select * from FIDDLER.FIDDLER_SCHEMA.CHURN_BASELINE LIMIT 100'"
   ]
  },
  {
   "cell_type": "code",
   "execution_count": null,
   "id": "884b99b8",
   "metadata": {},
   "outputs": [],
   "source": [
    "# create cursor object\n",
    "cursor = connection.cursor()\n",
    "\n",
    "# execute SQL query inside Snowflake\n",
    "cursor.execute(sql_query)"
   ]
  },
  {
   "cell_type": "markdown",
   "id": "54688b8c",
   "metadata": {},
   "source": [
    "store the query results as a pandas DataFrame"
   ]
  },
  {
   "cell_type": "code",
   "execution_count": null,
   "id": "b2042216",
   "metadata": {},
   "outputs": [],
   "source": [
    "baseline_df = cursor.fetch_pandas_all()"
   ]
  },
  {
   "cell_type": "code",
   "execution_count": null,
   "id": "1981d4bb",
   "metadata": {},
   "outputs": [],
   "source": [
    "# print dataset details\n",
    "print('Dataset Dimensions:', baseline_df.shape)\n",
    "print('Columns:', baseline_df.columns)\n",
    "baseline_df.head()"
   ]
  },
  {
   "cell_type": "markdown",
   "id": "8576fdb8",
   "metadata": {},
   "source": [
    "## Add your model to Fiddler"
   ]
  },
  {
   "cell_type": "markdown",
   "id": "98dbc731",
   "metadata": {},
   "source": [
    "### Imports"
   ]
  },
  {
   "cell_type": "markdown",
   "id": "afa85a99",
   "metadata": {},
   "source": [
    "We will perform the following steps to get started on the Fiddler platform using the Snowflake data - \n",
    "1. Upload a baseline dataset\n",
    "2. Add your model with Fiddler\n",
    "\n",
    "If you are new to Fiddler and want a detailed explanation on how to setup the fiddler environment please refer to our Getting Started Guide.\n"
   ]
  },
  {
   "cell_type": "code",
   "execution_count": null,
   "id": "2f80d2a7",
   "metadata": {},
   "outputs": [],
   "source": [
    "!pip install -q fiddler-client;"
   ]
  },
  {
   "cell_type": "code",
   "execution_count": null,
   "id": "cc911afe",
   "metadata": {},
   "outputs": [],
   "source": [
    "import numpy as np\n",
    "import pandas as pd\n",
    "import fiddler as fdl\n",
    "\n",
    "print(f\"Running client version {fdl.__version__}\")"
   ]
  },
  {
   "cell_type": "markdown",
   "id": "f22c2032",
   "metadata": {},
   "source": [
    "### Connect to Fiddler"
   ]
  },
  {
   "cell_type": "code",
   "execution_count": null,
   "id": "a5fe3fa8",
   "metadata": {},
   "outputs": [],
   "source": [
    "URL = #\n",
    "ORG_ID = #\n",
    "AUTH_TOKEN = #"
   ]
  },
  {
   "cell_type": "code",
   "execution_count": null,
   "id": "b236f01a",
   "metadata": {},
   "outputs": [],
   "source": [
    "# Initiate Fiddler client\n",
    "client = fdl.FiddlerApi(\n",
    "    url=URL,\n",
    "    org_id=ORG_ID,\n",
    "    auth_token=AUTH_TOKEN\n",
    ")"
   ]
  },
  {
   "cell_type": "code",
   "execution_count": null,
   "id": "bda85bc7",
   "metadata": {},
   "outputs": [],
   "source": [
    "PROJECT_ID = 'churn_prediction_sf'\n",
    "\n",
    "client.create_project(PROJECT_ID)"
   ]
  },
  {
   "cell_type": "markdown",
   "id": "3890e2f8",
   "metadata": {},
   "source": [
    "### Upload a baseline dataset\n",
    "\n",
    "Now that we already have baseline data imported from Snowflake, we can go ahead and upload it."
   ]
  },
  {
   "cell_type": "code",
   "execution_count": null,
   "id": "4973773f",
   "metadata": {},
   "outputs": [],
   "source": [
    "# create dataset info object to be used by 'upload_dataset'\n",
    "dataset_info = fdl.DatasetInfo.from_dataframe(baseline_df, max_inferred_cardinality=100)\n",
    "dataset_info"
   ]
  },
  {
   "cell_type": "code",
   "execution_count": null,
   "id": "2dd1c0a3",
   "metadata": {},
   "outputs": [],
   "source": [
    "# upload data to fiddler\n",
    "DATASET_ID = 'churn_data'\n",
    "\n",
    "client.upload_dataset(\n",
    "    project_id=PROJECT_ID,\n",
    "    dataset_id=DATASET_ID,\n",
    "    dataset={\n",
    "        'baseline': baseline_df\n",
    "    },\n",
    "    info=dataset_info\n",
    ")"
   ]
  },
  {
   "cell_type": "markdown",
   "id": "72d17c8f",
   "metadata": {},
   "source": [
    "### Add your model"
   ]
  },
  {
   "cell_type": "code",
   "execution_count": null,
   "id": "88083a77",
   "metadata": {},
   "outputs": [],
   "source": [
    "# Specify task\n",
    "model_task = 'binary'\n",
    "\n",
    "if model_task == 'regression':\n",
    "    model_task = fdl.ModelTask.REGRESSION\n",
    "    \n",
    "elif model_task == 'binary':\n",
    "    model_task = fdl.ModelTask.BINARY_CLASSIFICATION\n",
    "\n",
    "elif model_task == 'multiclass':\n",
    "    model_task = fdl.ModelTask.MULTICLASS_CLASSIFICATION\n",
    "\n",
    "    \n",
    "# Specify column types\n",
    "target = 'churn'\n",
    "outputs = ['predicted_churn']\n",
    "decision_cols = ['decision']\n",
    "features = ['geography', 'gender', 'age', 'tenure', 'balance', 'numofproducts', 'hascrcard', 'isactivemember', 'estimatedsalary']\n",
    "    \n",
    "# Generate ModelInfo\n",
    "model_info = fdl.ModelInfo.from_dataset_info(\n",
    "    dataset_info=dataset_info,\n",
    "    dataset_id=DATASET_ID,\n",
    "    model_task=model_task,\n",
    "    target=target,\n",
    "    outputs=outputs,\n",
    "    decision_cols=decision_cols,\n",
    "    features=features\n",
    ")\n",
    "model_info"
   ]
  },
  {
   "cell_type": "code",
   "execution_count": null,
   "id": "5585ee7a",
   "metadata": {},
   "outputs": [],
   "source": [
    "MODEL_ID = 'churn_classifier'\n",
    "\n",
    "client.add_model(\n",
    "    project_id=PROJECT_ID,\n",
    "    dataset_id=DATASET_ID,\n",
    "    model_id=MODEL_ID,\n",
    "    model_info=model_info\n",
    ")"
   ]
  },
  {
   "cell_type": "markdown",
   "id": "13f328e7",
   "metadata": {},
   "source": [
    "\n",
    "Now, that we have added the mode, we can go ahead and publish events to Fiddler platform.\n",
    "\n",
    "To learn how to import data from Snowflake and publish to Fiddler, refer to our [notebook](https://colab.research.google.com/github/fiddler-labs/fiddler-samples/blob/master/content_root/tutorial/integration-examples/snowflake/Fiddler-Snowflake%20Integration%20-%20Event%20Publishing.ipynb) on Event Publishing."
   ]
  },
  {
   "cell_type": "code",
   "execution_count": null,
   "id": "96feaff4",
   "metadata": {},
   "outputs": [],
   "source": []
  }
 ],
 "metadata": {
  "kernelspec": {
   "display_name": "Python 3 (ipykernel)",
   "language": "python",
   "name": "python3"
  },
  "language_info": {
   "codemirror_mode": {
    "name": "ipython",
    "version": 3
   },
   "file_extension": ".py",
   "mimetype": "text/x-python",
   "name": "python",
   "nbconvert_exporter": "python",
   "pygments_lexer": "ipython3",
   "version": "3.9.16"
  }
 },
 "nbformat": 4,
 "nbformat_minor": 5
}
