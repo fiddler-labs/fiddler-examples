{
 "cells": [
  {
   "cell_type": "markdown",
   "id": "01c59454",
   "metadata": {},
   "source": [
    "# Fiddler examples have moved! [Deprecation Notice]"
   ]
  },
  {
   "cell_type": "markdown",
   "id": "3f7040b5",
   "metadata": {},
   "source": [
    "Dear user thank you for using fiddler product, we appreciate your time! We have moved the examples to a new github repo located at the following link\n"
   ]
  },
  {
   "cell_type": "markdown",
   "id": "e5ed593b",
   "metadata": {},
   "source": [
    "***\n",
    "# [New fiddler-examples repo](https://github.com/fiddler-labs/fiddler-examples)\n",
    "***"
   ]
  },
  {
   "cell_type": "markdown",
   "id": "069b8d88",
   "metadata": {},
   "source": [
    "# Fiddler-Snowflake Integration 2 - Event Publishing"
   ]
  },
  {
   "cell_type": "markdown",
   "id": "cf4beb3b",
   "metadata": {},
   "source": [
    "This notebook is used in conjuction with the guide on how to use Fiddler for you machine learning model data stored in Snowflake. Link\n",
    "\n",
    "In this notebook we will look at how we can use data stored in Snowflake to upload to fiddler as baseline data for your ML model. We will also register your model on the Fiddler platform.\n",
    "\n",
    "[Link](https://colab.research.google.com/github/fiddler-labs/fiddler-samples/blob/master/content_root/tutorial/integration-examples/snowflake/Fiddler-Snowflake%20Integration%20-%20Model%20Registration.ipynb) to part 1 of the guide on how to upload baseline data and register model on Fiddler."
   ]
  },
  {
   "cell_type": "markdown",
   "id": "9b18ec5e",
   "metadata": {},
   "source": [
    "## Establish connection to Snowflake"
   ]
  },
  {
   "cell_type": "markdown",
   "id": "efb3fd6b",
   "metadata": {},
   "source": [
    "Install required libraries to loading data from Snowflake"
   ]
  },
  {
   "cell_type": "code",
   "execution_count": null,
   "id": "14205274",
   "metadata": {},
   "outputs": [],
   "source": [
    "!pip install snowflake"
   ]
  },
  {
   "cell_type": "code",
   "execution_count": null,
   "id": "4545561f",
   "metadata": {},
   "outputs": [],
   "source": [
    "# Imports\n",
    "import pandas as pd\n",
    "from snowflake import connector\n",
    "import getpass"
   ]
  },
  {
   "cell_type": "code",
   "execution_count": null,
   "id": "3e252190",
   "metadata": {},
   "outputs": [],
   "source": [
    "# Enter your Snowflake credentials\n",
    "snowflake_username = ''\n",
    "snowflake_account = ''\n",
    "snowflake_role = ''\n",
    "snowflake_warehouse = ''"
   ]
  },
  {
   "cell_type": "code",
   "execution_count": null,
   "id": "edf4e123",
   "metadata": {},
   "outputs": [],
   "source": [
    "# Enter your Snowflake password\n",
    "snowflake_password = getpass.getpass(\"Enter password:\")"
   ]
  },
  {
   "cell_type": "code",
   "execution_count": null,
   "id": "dd351566",
   "metadata": {},
   "outputs": [],
   "source": [
    "# establish Snowflake connection\n",
    "connection = connector.connect(user=snowflake_username, \n",
    "                               password=snowflake_password, \n",
    "                               account=snowflake_account, \n",
    "                               role=snowflake_role, \n",
    "                               warehouse=snowflake_warehouse\n",
    "                              )"
   ]
  },
  {
   "cell_type": "markdown",
   "id": "4e522f6a",
   "metadata": {},
   "source": [
    "Below we use the query to load the required data from Snowflake table"
   ]
  },
  {
   "cell_type": "code",
   "execution_count": null,
   "id": "02600a20",
   "metadata": {},
   "outputs": [],
   "source": [
    "# sample SQL query\n",
    "sql_query = 'select * from FIDDLER.FIDDLER_SCHEMA.CHURN_PRODUCTION LIMIT 100'"
   ]
  },
  {
   "cell_type": "code",
   "execution_count": null,
   "id": "884b99b8",
   "metadata": {},
   "outputs": [],
   "source": [
    "# create cursor object\n",
    "cursor = connection.cursor()\n",
    "\n",
    "# execute SQL query inside Snowflake\n",
    "cursor.execute(sql_query)"
   ]
  },
  {
   "cell_type": "markdown",
   "id": "ccdf4d86",
   "metadata": {},
   "source": [
    "store the query results as a pandas DataFrame"
   ]
  },
  {
   "cell_type": "code",
   "execution_count": null,
   "id": "b2042216",
   "metadata": {},
   "outputs": [],
   "source": [
    "production_df = cursor.fetch_pandas_all()"
   ]
  },
  {
   "cell_type": "code",
   "execution_count": null,
   "id": "1981d4bb",
   "metadata": {},
   "outputs": [],
   "source": [
    "# print dataset details\n",
    "print('Dataset Dimensions:', production_df.shape)\n",
    "print('Columns:', production_df.columns)\n",
    "production_df.head()"
   ]
  },
  {
   "cell_type": "markdown",
   "id": "54afd0c4",
   "metadata": {},
   "source": [
    "## Publish data to Fiddler"
   ]
  },
  {
   "cell_type": "markdown",
   "id": "0381a4b0",
   "metadata": {},
   "source": [
    "### Imports"
   ]
  },
  {
   "cell_type": "markdown",
   "id": "89b60c61",
   "metadata": {},
   "source": [
    "We will publish the Snowflake data that we have just imported, on the Fiddler platform.\n",
    "\n",
    "If you are new to Fiddler and want a detailed explanation on how to setup the fiddler environment please refer to our Getting Started Guide."
   ]
  },
  {
   "cell_type": "code",
   "execution_count": null,
   "id": "b4b9ca15",
   "metadata": {},
   "outputs": [],
   "source": [
    "!pip install -q fiddler-client;"
   ]
  },
  {
   "cell_type": "code",
   "execution_count": null,
   "id": "cc1e5cf5",
   "metadata": {},
   "outputs": [],
   "source": [
    "import numpy as np\n",
    "import pandas as pd\n",
    "import fiddler as fdl\n",
    "\n",
    "print(f\"Running client version {fdl.__version__}\")"
   ]
  },
  {
   "cell_type": "markdown",
   "id": "c0e5a33a",
   "metadata": {},
   "source": [
    "### Connect to Fiddler"
   ]
  },
  {
   "cell_type": "code",
   "execution_count": null,
   "id": "9996e7c4",
   "metadata": {},
   "outputs": [],
   "source": [
    "URL = #\n",
    "ORG_ID = #\n",
    "AUTH_TOKEN = #"
   ]
  },
  {
   "cell_type": "code",
   "execution_count": null,
   "id": "2201f30c",
   "metadata": {},
   "outputs": [],
   "source": [
    "# Initiate Fiddler client\n",
    "client = fdl.FiddlerApi(\n",
    "    url=URL,\n",
    "    org_id=ORG_ID,\n",
    "    auth_token=AUTH_TOKEN\n",
    ")"
   ]
  },
  {
   "cell_type": "markdown",
   "id": "03baef9e",
   "metadata": {},
   "source": [
    "Convert the pandas DataFrame into a dictionary."
   ]
  },
  {
   "cell_type": "code",
   "execution_count": null,
   "id": "029601bd",
   "metadata": {},
   "outputs": [],
   "source": [
    "production_events = production_df.to_dict(orient='records')\n",
    "production_events[0]"
   ]
  },
  {
   "cell_type": "markdown",
   "id": "3a66f1f9",
   "metadata": {},
   "source": [
    "You can use the client's `publish_event` function to start pumping data into Fiddler!\n",
    "  \n",
    "*Just include:*\n",
    "1. The event dictionary\n",
    "2. A timestamp for when the event occurred"
   ]
  },
  {
   "cell_type": "code",
   "execution_count": null,
   "id": "44563a3b",
   "metadata": {},
   "outputs": [],
   "source": [
    "from tqdm import tqdm\n",
    "\n",
    "for event in tqdm(production_events):\n",
    "\n",
    "    client.publish_event(\n",
    "        project_id=PROJECT_ID,\n",
    "        model_id=MODEL_ID,\n",
    "        event=event,\n",
    "        event_timestamp=event['timestamp']\n",
    "    )"
   ]
  },
  {
   "cell_type": "markdown",
   "id": "90e49a7c",
   "metadata": {},
   "source": [
    "Now that we have events published to Fiddler, we can access the URL below to monitor the publish events"
   ]
  },
  {
   "cell_type": "code",
   "execution_count": null,
   "id": "622dd842",
   "metadata": {},
   "outputs": [],
   "source": [
    "print('/'.join([URL, 'projects', PROJECT_ID, 'models', MODEL_ID, 'monitor']))"
   ]
  }
 ],
 "metadata": {
  "kernelspec": {
   "display_name": "Python [conda env:venv-main] *",
   "language": "python",
   "name": "conda-env-venv-main-py"
  },
  "language_info": {
   "codemirror_mode": {
    "name": "ipython",
    "version": 3
   },
   "file_extension": ".py",
   "mimetype": "text/x-python",
   "name": "python",
   "nbconvert_exporter": "python",
   "pygments_lexer": "ipython3",
   "version": "3.8.13"
  }
 },
 "nbformat": 4,
 "nbformat_minor": 5
}
