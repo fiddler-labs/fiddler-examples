{
 "cells": [
  {
   "cell_type": "markdown",
   "id": "1fdf6a49-d054-4ce6-a319-c507966ff387",
   "metadata": {},
   "source": [
    "# Adding Charts via API\n",
    "\n",
    "This notebook walks through how we can use Fiddler's API to add charts to the platform.\n",
    "\n",
    "Note that **this API is not officially supported** and lacks the same guarantees around backwards compatibility that our other APIs have."
   ]
  },
  {
   "cell_type": "markdown",
   "id": "ffe99cdf-fb79-4b35-810c-6434d4c99a3e",
   "metadata": {},
   "source": [
    "## 1. Run the following code block"
   ]
  },
  {
   "cell_type": "code",
   "execution_count": null,
   "id": "99f42334-c236-4414-8d41-2783251d0a63",
   "metadata": {},
   "outputs": [],
   "source": [
    "import logging\n",
    "import yaml\n",
    "from uuid import uuid4\n",
    "\n",
    "import fiddler as fdl\n",
    "from fiddler.libs.http_client import RequestClient\n",
    "\n",
    "logger = logging.getLogger(__name__)\n",
    "\n",
    "\n",
    "def add_chart(project: fdl.Project, model: fdl.Model, unique_id: str, client: RequestClient, chart: dict):\n",
    "    charts_url = '/v3/charts'\n",
    "    title = f'{chart.get(\"title\")}'\n",
    "    chart['title'] = title\n",
    "\n",
    "    # Handle performance/feature analytics and metric card charts\n",
    "    if chart['query_type'] == 'ANALYTICS':\n",
    "        model_name = chart['data_source']['model'].get('name')\n",
    "        version = chart['data_source']['model'].get('version', 'v1')\n",
    "        model = fdl.Model.from_name(\n",
    "            name=model_name, project_id=project.id, version=version\n",
    "        )\n",
    "        dataset_name = chart['data_source'].get('env_id', None)\n",
    "        if dataset_name:\n",
    "            dataset = fdl.Dataset.from_name(name=dataset_name, model_id=model.id)\n",
    "            chart['data_source'].update(\n",
    "                {\n",
    "                    'env_id': dataset.id,\n",
    "                }\n",
    "            )\n",
    "            \n",
    "        chart['data_source'].update(\n",
    "            {\n",
    "                'model': {'id': model.id, 'name': model_name},\n",
    "            }\n",
    "        )\n",
    "    # Handle Monitoring and Embedding Charts\n",
    "    else:\n",
    "      for index, query in enumerate(chart['data_source']['queries']):\n",
    "          version = query.get('version', 'v1')\n",
    "          query.update(\n",
    "              {\n",
    "                  'model': {'id': model.id, 'name': model.name},\n",
    "                  'model_name': model.name,\n",
    "                  'version': version,\n",
    "              }\n",
    "          )\n",
    "\n",
    "          baseline_name = query.get('baseline_name')\n",
    "          if baseline_name:\n",
    "              baseline = fdl.Baseline.from_name(name=baseline_name, model_id=model.id)\n",
    "              baseline_id = baseline.id\n",
    "              query['baseline_id'] = baseline_id\n",
    "              del query['baseline_name']\n",
    "\n",
    "          if query.get('metric_type') == 'custom':\n",
    "              custom_metrics = fdl.CustomMetric.from_name(\n",
    "                  name=query.get('metric'), model_id=model.id\n",
    "              )\n",
    "              query['metric'] = custom_metrics.id\n",
    "\n",
    "          segment = query.get('segment')\n",
    "          if segment:\n",
    "              segment = fdl.Segment.from_name(name=segment, model_id=model.id)\n",
    "              query['segment'] = {}\n",
    "              query['segment']['id'] = segment.id\n",
    "\n",
    "          chart['data_source']['queries'][index] = query\n",
    "\n",
    "    chart['project_id'] = project.id\n",
    "    client.post(url=charts_url, data=chart)"
   ]
  },
  {
   "cell_type": "markdown",
   "id": "5689ebce-1c72-4d47-a5e6-f98f4db1db2d",
   "metadata": {},
   "source": [
    "## 2. Enter your URL, auth token, project name, and model name"
   ]
  },
  {
   "cell_type": "code",
   "execution_count": null,
   "id": "5a1ec7f5-3a25-47c1-aec7-05f75bfa4da0",
   "metadata": {},
   "outputs": [],
   "source": [
    "URL = ''\n",
    "AUTH_TOKEN = ''\n",
    "\n",
    "PROJECT_NAME = ''\n",
    "MODEL_NAME = ''"
   ]
  },
  {
   "cell_type": "markdown",
   "id": "d5fd82ce-2dfd-48df-8d64-9adc51dc9ade",
   "metadata": {},
   "source": [
    "## 3. Initialize the client"
   ]
  },
  {
   "cell_type": "code",
   "execution_count": null,
   "id": "7b0ca56a-ed7d-4824-b1ba-eeb330aab703",
   "metadata": {},
   "outputs": [],
   "source": [
    "fdl.init(\n",
    "    url=URL,\n",
    "    token=AUTH_TOKEN\n",
    ")\n",
    "\n",
    "project = fdl.Project.from_name(PROJECT_NAME)\n",
    "\n",
    "model = fdl.Model.from_name(\n",
    "    project_id=project.id,\n",
    "    name=MODEL_NAME\n",
    ")\n",
    "\n",
    "client = RequestClient(\n",
    "    base_url=URL,\n",
    "    headers={\n",
    "        'Authorization': f'Bearer {AUTH_TOKEN}',\n",
    "        'Content-Type': 'application/json'\n",
    "    }\n",
    ")"
   ]
  },
  {
   "cell_type": "markdown",
   "id": "0e3c2836-bb98-499f-b041-a4289becdf1d",
   "metadata": {},
   "source": [
    "## 4. Generate a unique ID for the new chart"
   ]
  },
  {
   "cell_type": "code",
   "execution_count": null,
   "id": "1cb412b7-66c8-4ec4-853a-d6e53dfd4029",
   "metadata": {},
   "outputs": [],
   "source": [
    "chart_id = uuid4()"
   ]
  },
  {
   "cell_type": "markdown",
   "id": "c15c200c-d6ba-431d-acbf-399fedb4c182",
   "metadata": {},
   "source": [
    "## 5. Paste the response data object for a chart\n",
    "\n",
    "This can be found by going to the Network tab of the developer tools in your browser and clicking Save in the UI (to save the chart).\n",
    "\n",
    "You can then search for **\"chart\"** in the Network tab to find the POST request.\n",
    "\n",
    "Then copy the data object from the response payload and paste it into the `chart` variable below.\n",
    "\n",
    "**Note:** Some of the fields in this object (project/model/version names, etc.) are overridden by the `add_chart` code. Feel free to modify `add_chart` to meet your requirements."
   ]
  },
  {
   "cell_type": "code",
   "execution_count": null,
   "id": "ab9463ba-995e-4aff-ab03-06392be49a69",
   "metadata": {},
   "outputs": [],
   "source": [
    "chart = {\n",
    "    \"id\": \"8f22a9e9-ca07-4e01-bc95-a40196f8a364\",\n",
    "    \"organization\": {\n",
    "        \"id\": \"febfb97f-6e51-4a43-a66c-86bab1c0c6fb\",\n",
    "        \"name\": \"preprod\"\n",
    "    },\n",
    "    \"project\": {\n",
    "        \"id\": \"0dde103e-bee5-4cbf-b28f-954b99cb6f32\",\n",
    "        \"name\": \"py_test\"\n",
    "    },\n",
    "    \"title\": \"Sentiment Frequency Chart\",\n",
    "    \"query_type\": \"MONITORING\",\n",
    "    \"description\": \"Chart to track Sentiment\",\n",
    "    \"options\": {\n",
    "        \"queryNames\": {\n",
    "            \"b842b54f-2af4-49d7-9fee-158c62d5ae3ds\": \"\"\n",
    "        },\n",
    "        \"customYAxis\": [\n",
    "            {\n",
    "                \"scale\": \"value\",\n",
    "                \"query_keys\": [\n",
    "                    \"b842b54f-2af4-49d7-9fee-158c62d5ae3ds\"\n",
    "                ]\n",
    "            },\n",
    "            {\n",
    "                \"scale\": \"value\",\n",
    "                \"query_keys\": []\n",
    "            }\n",
    "        ]\n",
    "    },\n",
    "    \"data_source\": {\n",
    "        \"query_type\": \"MONITORING\",\n",
    "        \"filters\": {\n",
    "            \"time_label\": \"7d\",\n",
    "            \"time_range\": {\n",
    "                \"start_time\": \"2025-04-09T00:00:00\",\n",
    "                \"end_time\": \"2025-04-15T23:59:59\"\n",
    "            },\n",
    "            \"bin_size\": \"Day\",\n",
    "            \"time_zone\": \"UTC\"\n",
    "        },\n",
    "        \"queries\": [\n",
    "            {\n",
    "                \"query_key\": \"b842b54f-2af4-49d7-9fee-158c62d5ae3ds\",\n",
    "                \"model\": {\n",
    "                    \"id\": \"173c3520-993d-47e0-bb43-f9e27cdf6e2f\",\n",
    "                    \"name\": \"fiddler_rag_llm_chatbot\"\n",
    "                },\n",
    "                \"columns\": [\n",
    "                    \"fdl_enrichment_qa_sentiment__question__sentiment\"\n",
    "                ],\n",
    "                \"metric\": \"frequency\",\n",
    "                \"categories\": [\n",
    "                    \"negative\",\n",
    "                    \"neutral\",\n",
    "                    \"positive\"\n",
    "                ],\n",
    "                \"metric_type\": \"statistic\",\n",
    "                \"segment\": {},\n",
    "                \"viz_type\": \"line\"\n",
    "            }\n",
    "        ]\n",
    "    },\n",
    "    \"created_at\": \"2025-04-14T08:20:54.794624+00:00\",\n",
    "    \"updated_at\": \"2025-04-15T14:04:46.349927+00:00\",\n",
    "    \"created_by\": {\n",
    "        \"id\": \"9828ca24-9210-4963-b711-b846584d8f1e\",\n",
    "        \"full_name\": \"User\",\n",
    "        \"email\": \"user@fiddler.ai\"\n",
    "    },\n",
    "    \"updated_by\": {\n",
    "        \"id\": \"9828ca24-9210-4963-b711-b846584d8f1e\",\n",
    "        \"full_name\": \"User\",\n",
    "        \"email\": \"user@fiddler.ai\"\n",
    "    }\n",
    "}"
   ]
  },
  {
   "cell_type": "markdown",
   "id": "d45211bb-9399-4b8d-820f-d4b7d2ec127b",
   "metadata": {},
   "source": [
    "## 6. Run `add_chart` to add the chart to Fiddler"
   ]
  },
  {
   "cell_type": "code",
   "execution_count": null,
   "id": "f6e19069-fc59-4151-a5eb-ddad25868aa2",
   "metadata": {},
   "outputs": [],
   "source": [
    "add_chart(project, model, chart_id, client, chart)"
   ]
  },
  {
   "cell_type": "code",
   "execution_count": null,
   "id": "ddefd944-1a2e-4724-94ee-afa3eff467a1",
   "metadata": {},
   "outputs": [],
   "source": []
  }
 ],
 "metadata": {
  "kernelspec": {
   "display_name": "Python 3 (ipykernel)",
   "language": "python",
   "name": "python3"
  },
  "language_info": {
   "codemirror_mode": {
    "name": "ipython",
    "version": 3
   },
   "file_extension": ".py",
   "mimetype": "text/x-python",
   "name": "python",
   "nbconvert_exporter": "python",
   "pygments_lexer": "ipython3",
   "version": "3.9.18"
  }
 },
 "nbformat": 4,
 "nbformat_minor": 5
}
