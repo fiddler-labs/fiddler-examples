{
 "cells": [
  {
   "cell_type": "code",
   "execution_count": 1,
   "id": "859302f7-4650-4d68-9928-99d0de95aab0",
   "metadata": {},
   "outputs": [],
   "source": [
    "import fiddler as fdl"
   ]
  },
  {
   "cell_type": "markdown",
   "id": "8f013f92-fd72-4956-aed0-536fcc755174",
   "metadata": {},
   "source": [
    "# Enter connection and model details"
   ]
  },
  {
   "cell_type": "code",
   "execution_count": 29,
   "id": "72cb8828-aa5c-410f-af03-62fe5df56ad4",
   "metadata": {},
   "outputs": [],
   "source": [
    "URL = ''\n",
    "TOKEN = ''\n",
    "\n",
    "PROJECT_NAME = ''\n",
    "MODEL_VERSION = ''\n",
    "\n",
    "OLD_VERSION_NAME = '' # e.g. v1\n",
    "NEW_VERSION_NAME = ''"
   ]
  },
  {
   "cell_type": "code",
   "execution_count": 3,
   "id": "f8ee0788-52e7-43e0-8b72-98c9c2a12362",
   "metadata": {},
   "outputs": [],
   "source": [
    "fdl.init(\n",
    "    url=URL,\n",
    "    token=TOKEN\n",
    ")"
   ]
  },
  {
   "cell_type": "markdown",
   "id": "7bade283-199b-42b8-b00b-daf29d3cd9a4",
   "metadata": {},
   "source": [
    "# Fetch old and new versions"
   ]
  },
  {
   "cell_type": "code",
   "execution_count": 31,
   "id": "37452bf2-ced8-4dca-bfc9-91efa80a634c",
   "metadata": {},
   "outputs": [],
   "source": [
    "project = fdl.Project.from_name(PROJECT_NAME)\n",
    "\n",
    "old_model_version = fdl.Model.from_name(\n",
    "    project_id=project.id,\n",
    "    name=MODEL_VERSION,\n",
    "    version=OLD_VERSION_NAME\n",
    ")\n",
    "\n",
    "new_model_version = fdl.Model.from_name(\n",
    "    project_id=project.id,\n",
    "    name=MODEL_VERSION,\n",
    "    version=NEW_VERSION_NAME\n",
    ")"
   ]
  },
  {
   "cell_type": "markdown",
   "id": "6caa015e-ad17-435f-99e2-61ef04de60fe",
   "metadata": {},
   "source": [
    "# Get segments from old version"
   ]
  },
  {
   "cell_type": "code",
   "execution_count": 32,
   "id": "b97ae09a-bff6-476f-a4ab-8eae6e96add7",
   "metadata": {},
   "outputs": [],
   "source": [
    "segments = list(fdl.Segment.list(\n",
    "    model_id=old_model_version.id\n",
    "))"
   ]
  },
  {
   "cell_type": "markdown",
   "id": "c832a73d-ce5d-42e7-9736-2febd96ddbca",
   "metadata": {},
   "source": [
    "# Add segments to new version"
   ]
  },
  {
   "cell_type": "code",
   "execution_count": 37,
   "id": "538ede54-9110-43a5-af8c-96302c69b303",
   "metadata": {},
   "outputs": [],
   "source": [
    "for segment in segments:\n",
    "    new_segment = fdl.Segment(\n",
    "        model_id=new_model_version.id,\n",
    "        name=segment.name,\n",
    "        description=segment.description,\n",
    "        definition=segment.definition\n",
    "    )\n",
    "    new_segment.create()"
   ]
  }
 ],
 "metadata": {
  "kernelspec": {
   "display_name": "Python 3 (ipykernel)",
   "language": "python",
   "name": "python3"
  },
  "language_info": {
   "codemirror_mode": {
    "name": "ipython",
    "version": 3
   },
   "file_extension": ".py",
   "mimetype": "text/x-python",
   "name": "python",
   "nbconvert_exporter": "python",
   "pygments_lexer": "ipython3",
   "version": "3.9.18"
  }
 },
 "nbformat": 4,
 "nbformat_minor": 5
}
