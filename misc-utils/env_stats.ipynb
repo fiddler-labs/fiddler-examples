{
 "cells": [
  {
   "cell_type": "markdown",
   "metadata": {},
   "source": [
    "# Fiddler Environment Statistics\n",
    "\n",
    "This notebook extracts hierarchical information about projects, models, and features from a Fiddler environment"
   ]
  },
  {
   "cell_type": "code",
   "execution_count": null,
   "metadata": {},
   "outputs": [],
   "source": [
    "# Setup: Import utilities and initialize connection\n",
    "from fiddler_utils import get_or_init, EnvironmentReporter"
   ]
  },
  {
   "cell_type": "code",
   "execution_count": null,
   "metadata": {},
   "outputs": [],
   "source": [
    "# Configuration\n",
    "URL = ''  # Example: 'https://your_company_name.fiddler.ai'\n",
    "TOKEN = ''  # Get this from the Settings > Credentials tab in Fiddler UI\n",
    "EXPORT_CSV = False\n",
    "TOP_N = 15  # Number of items to show in top lists"
   ]
  },
  {
   "cell_type": "code",
   "execution_count": null,
   "metadata": {},
   "outputs": [],
   "source": [
    "# Initialize connection\n",
    "get_or_init(url=URL, token=TOKEN, log_level='ERROR')\n",
    "\n",
    "# Create reporter\n",
    "reporter = EnvironmentReporter()\n",
    "\n",
    "print(\"✓ Successfully connected to Fiddler\")\n",
    "print(\"✓ EnvironmentReporter initialized\")"
   ]
  },
  {
   "cell_type": "code",
   "execution_count": null,
   "metadata": {},
   "outputs": [],
   "source": [
    "# Run environment analysis\n",
    "# This traverses all projects, models, and features\n",
    "reporter.analyze_environment(\n",
    "    include_features=True,\n",
    "    include_timestamps=True,\n",
    "    include_assets=False  # Set to True if you need segment/metric/alert counts (slower)\n",
    ")\n",
    "\n",
    "print(\"✓ Environment analysis complete\")"
   ]
  },
  {
   "cell_type": "code",
   "execution_count": null,
   "metadata": {},
   "outputs": [],
   "source": [
    "# Generate and display comprehensive report\n",
    "reporter.generate_report(\n",
    "    show_projects=True,\n",
    "    show_models=True,\n",
    "    show_timestamps=True,\n",
    "    show_newest_oldest=True,\n",
    "    top_n=TOP_N\n",
    ")"
   ]
  },
  {
   "cell_type": "code",
   "execution_count": null,
   "metadata": {},
   "outputs": [],
   "source": [
    "# Export to CSV files\n",
    "if EXPORT_CSV:\n",
    "    files = reporter.export_to_csv(\n",
    "        output_dir='.',\n",
    "        prefix='env_stats'\n",
    "    )\n",
    "    print(f\"\\n✓ Exported {len(files)} CSV files:\")\n",
    "    for file_path in files:\n",
    "        print(f\"  • {file_path}\")\n",
    "else:\n",
    "    print(\"\\nCSV export skipped (EXPORT_CSV = False)\")"
   ]
  },
  {
   "cell_type": "code",
   "execution_count": null,
   "metadata": {},
   "outputs": [],
   "source": [
    "# Optional: Access raw data for custom analysis\n",
    "# You can access the underlying data structures for custom processing\n",
    "\n",
    "# Get statistics object\n",
    "stats = reporter.get_statistics()\n",
    "print(\"Statistics available:\")\n",
    "print(f\"  • Total projects: {stats.total_projects}\")\n",
    "print(f\"  • Total models: {stats.total_models}\")\n",
    "print(f\"  • Total features: {stats.total_features}\")\n",
    "print(f\"  • Average models per project: {stats.models_per_project_mean:.1f}\")\n",
    "print(f\"  • Average features per model: {stats.features_per_model_mean:.1f}\")\n",
    "\n",
    "# Get hierarchy for detailed inspection\n",
    "hierarchy = reporter.get_hierarchy()\n",
    "print(f\"\\nHierarchy contains {len(hierarchy.projects)} projects\")\n",
    "\n",
    "# Example: Find projects with most models\n",
    "if stats.top_projects_by_models:\n",
    "    top_project_name, top_project_count = stats.top_projects_by_models[0]\n",
    "    print(f\"\\nTop project: '{top_project_name}' with {top_project_count} models\")\n",
    "\n",
    "# Get timestamp analysis if available\n",
    "ts_analysis = reporter.get_timestamp_analysis()\n",
    "if ts_analysis:\n",
    "    print(f\"\\nTimestamp coverage: {ts_analysis.timestamp_coverage_pct:.1f}%\")"
   ]
  }
 ],
 "metadata": {
  "kernelspec": {
   "display_name": ".venv",
   "language": "python",
   "name": "python3"
  },
  "language_info": {
   "codemirror_mode": {
    "name": "ipython",
    "version": 3
   },
   "file_extension": ".py",
   "mimetype": "text/x-python",
   "name": "python",
   "nbconvert_exporter": "python",
   "pygments_lexer": "ipython3",
   "version": "3.13.3"
  }
 },
 "nbformat": 4,
 "nbformat_minor": 2
}
