{
 "cells": [
  {
   "cell_type": "markdown",
   "id": "intro",
   "metadata": {},
   "source": [
    "# Export/Import Fiddler Models\n",
    "\n",
    "Export complete model definitions from one Fiddler instance and import them to another, with support for:\n",
    "* Complete model schema with column definitions (types, ranges, categories)\n",
    "* Model spec (inputs, outputs, targets, metadata, decisions)\n",
    "* Task configuration and parameters\n",
    "* Custom features for LLM models (enrichments)\n",
    "* Baselines (rolling baselines - static baselines require datasets)\n",
    "* Related assets (segments, custom metrics)\n",
    "* Cross-instance transfers (different Fiddler instances)\n",
    "* Model versioning (create new versions of existing models)\n",
    "* No DataFrame required for import (uses Model constructor pattern)\n",
    "\n",
    "## Current Support Status\n",
    "\n",
    "**Fully Supported:**\n",
    "* Model schema, spec, and task configuration\n",
    "* Rolling baselines (auto-created)\n",
    "* Segments (full import with FQL definitions)\n",
    "* Custom metrics (full import with definitions)\n",
    "\n",
    "**Partial Support:**\n",
    "* Static baselines (exported but require manual dataset publishing before creation)\n",
    "\n",
    "**Not Yet Supported:**\n",
    "* Alerts (exported for reference but require manual creation due to metric ID mapping)\n",
    "* Model artifacts (must be manually re-uploaded after import)\n",
    "\n",
    "## Prerequisites\n",
    "\n",
    "* Source Fiddler instance URL and API token\n",
    "* Target Fiddler instance URL and API token (can be same as source)\n",
    "* Source model must exist (target model will be created)\n",
    "* `fiddler_utils` package installed (run cell below)"
   ]
  },
  {
   "cell_type": "code",
   "execution_count": 1,
   "id": "install",
   "metadata": {},
   "outputs": [
    {
     "name": "stdout",
     "output_type": "stream",
     "text": [
      "Note: you may need to restart the kernel to use updated packages.\n"
     ]
    }
   ],
   "source": [
    "# Install dependencies\n",
    "%pip install -q fiddler-client\n",
    "\n",
    "# Install fiddler_utils from parent directory\n",
    "# If not already installed, run from repo root: pip install -e .\n",
    "import sys\n",
    "sys.path.insert(0, '..')"
   ]
  },
  {
   "cell_type": "code",
   "execution_count": 2,
   "id": "imports",
   "metadata": {},
   "outputs": [
    {
     "name": "stdout",
     "output_type": "stream",
     "text": [
      "Fiddler client version: 3.10.0\n",
      "fiddler_utils: Successfully imported\n"
     ]
    }
   ],
   "source": [
    "import fiddler as fdl\n",
    "from fiddler_utils import (\n",
    "    ConnectionManager,\n",
    "    ModelManager,\n",
    ")\n",
    "\n",
    "print(f'Fiddler client version: {fdl.__version__}')\n",
    "print('fiddler_utils: Successfully imported')"
   ]
  },
  {
   "cell_type": "markdown",
   "id": "config",
   "metadata": {},
   "source": [
    "## Configuration"
   ]
  },
  {
   "cell_type": "code",
   "execution_count": 3,
   "id": "config-cell",
   "metadata": {},
   "outputs": [],
   "source": [
    "# Source Fiddler Instance\n",
    "SOURCE_URL = \"https://demo.fiddler.ai\"  # e.g., 'https://source.fiddler.ai'\n",
    "SOURCE_TOKEN = \"bviEN-TNK5LhJ-ObZNMboMCnm99LxG7eVSDwjJzX_es\"\n",
    "SOURCE_PROJECT_NAME = \"bank_churn\"\n",
    "SOURCE_MODEL_NAME = \"churn_classifier\"\n",
    "SOURCE_MODEL_VERSION = \"\"  # Optional, leave empty for unversioned models\n",
    "\n",
    "# Target Fiddler Instance (can be same as source)\n",
    "TARGET_URL = \"https://preprod.cloud.fiddler.ai\"  # e.g., 'https://target.fiddler.ai'\n",
    "TARGET_TOKEN = \"hqvUV7r8-WUkMkjvKHbvI_sVpxRd9DJLKX6PCloRwVk\"\n",
    "TARGET_PROJECT_NAME = \"migration_util_demo\"\n",
    "# Target model name will be taken from export (or can be modified before import)\n",
    "\n",
    "# Export Options\n",
    "INCLUDE_BASELINES = True  # Include baseline definitions\n",
    "INCLUDE_RELATED_ASSETS = True  # Include segments, metrics, alerts\n",
    "\n",
    "# Import Options\n",
    "IMPORT_MODE = 'create_new'  # 'create_new', 'create_version', or 'update_existing'\n",
    "VERSION_LABEL = 'v2'  # Required if IMPORT_MODE='create_version'\n",
    "CREATE_BASELINES = True  # Recreate baselines on target\n",
    "IMPORT_RELATED_ASSETS = True  # Import segments, metrics, alerts"
   ]
  },
  {
   "cell_type": "markdown",
   "id": "setup",
   "metadata": {},
   "source": [
    "## Setup Connections and Initialize Manager"
   ]
  },
  {
   "cell_type": "code",
   "execution_count": 4,
   "id": "setup-cell",
   "metadata": {},
   "outputs": [
    {
     "name": "stdout",
     "output_type": "stream",
     "text": [
      "✓ Connection manager configured\n",
      "✓ ModelManager initialized\n"
     ]
    }
   ],
   "source": [
    "# Setup connection manager for handling multiple instances\n",
    "conn_mgr = ConnectionManager(log_level='WARNING')\n",
    "conn_mgr.add('source', url=SOURCE_URL, token=SOURCE_TOKEN)\n",
    "conn_mgr.add('target', url=TARGET_URL, token=TARGET_TOKEN)\n",
    "\n",
    "# Initialize ModelManager\n",
    "model_mgr = ModelManager()\n",
    "\n",
    "print('✓ Connection manager configured')\n",
    "print('✓ ModelManager initialized')"
   ]
  },
  {
   "cell_type": "markdown",
   "id": "get-model",
   "metadata": {},
   "source": [
    "## Fetch Source Model"
   ]
  },
  {
   "cell_type": "code",
   "execution_count": 5,
   "id": "get-model-cell",
   "metadata": {},
   "outputs": [
    {
     "name": "stdout",
     "output_type": "stream",
     "text": [
      "Source model: churn_classifier (ID: 8dea99c0-6724-46df-a2de-5d542ed7f272)\n",
      "  Version: v1\n"
     ]
    }
   ],
   "source": [
    "# Connect to source and get model\n",
    "with conn_mgr.use('source'):\n",
    "    source_project = fdl.Project.from_name(SOURCE_PROJECT_NAME)\n",
    "    source_model_kwargs = {'project_id': source_project.id, 'name': SOURCE_MODEL_NAME}\n",
    "    if SOURCE_MODEL_VERSION:\n",
    "        source_model_kwargs['version'] = SOURCE_MODEL_VERSION\n",
    "    \n",
    "    source_model = fdl.Model.from_name(**source_model_kwargs)\n",
    "    print(f'Source model: {source_model.name} (ID: {source_model.id})')\n",
    "    if source_model.version:\n",
    "        print(f'  Version: {source_model.version}')"
   ]
  },
  {
   "cell_type": "markdown",
   "id": "models-header",
   "metadata": {},
   "source": [
    "## Model Export and Import Workflow\n",
    "\n",
    "The following cells demonstrate the complete workflow for exporting and importing models.\n",
    "\n",
    "**Note:** Import examples are commented out to avoid creating duplicate models during testing.\n",
    "Uncomment the import cells to actually perform imports."
   ]
  },
  {
   "cell_type": "markdown",
   "id": "models-display-header",
   "metadata": {},
   "source": [
    "### Display Model Information\n",
    "\n",
    "View comprehensive model details including schema, columns, and related assets."
   ]
  },
  {
   "cell_type": "code",
   "execution_count": 6,
   "id": "models-display",
   "metadata": {},
   "outputs": [
    {
     "name": "stdout",
     "output_type": "stream",
     "text": [
      "\n",
      "============================================================\n",
      "Model: churn_classifier\n",
      "============================================================\n",
      "Version: v1\n",
      "Task: binary_classification\n",
      "Project ID: 1eaf9070-af0c-4d50-a3c4-1f7968bd0574\n",
      "Model ID: 8dea99c0-6724-46df-a2de-5d542ed7f272\n",
      "\n",
      "Event Columns:\n",
      "  Timestamp Column: __occurred_at\n",
      "\n",
      "Task Parameters:\n",
      "  Target Class Order: ['no', 'yes']\n",
      "  Binary Threshold: 0.5\n",
      "\n",
      "Schema: 13 columns\n",
      "  Inputs: 9\n",
      "  Outputs: 1\n",
      "  Targets: 1\n",
      "  Metadata: 1\n",
      "  Decisions: 1\n",
      "\n",
      "------------------------------------------------------------\n",
      "Columns:\n",
      "------------------------------------------------------------\n",
      "  creditscore                     INPUT       INTEGER       min=350  max=850\n",
      "  geography                       INPUT       CATEGORY      categories=['California', 'Florida', 'Hawaii', ... (6 total)]\n",
      "  age                             INPUT       INTEGER       min=18  max=90\n",
      "  tenure                          INPUT       INTEGER       min=0  max=10\n",
      "  balance                         INPUT       FLOAT         min=0  max=222267.63\n",
      "  numofproducts                   INPUT       INTEGER       min=1  max=4\n",
      "  hascrcard                       INPUT       INTEGER       min=0  max=1\n",
      "  isactivemember                  INPUT       INTEGER       min=0  max=1\n",
      "  estimatedsalary                 INPUT       FLOAT         min=11.58  max=199929.17\n",
      "  probability_churn               OUTPUT      FLOAT         min=0  max=1\n",
      "  churn                           TARGET      CATEGORY      categories=['no', 'yes']\n",
      "  decisions                       DECISION    CATEGORY      categories=['high_risk', 'low_risk']\n",
      "  gender                          METADATA    CATEGORY      categories=['Female', 'Male', 'Nonbinary']\n",
      "\n",
      "------------------------------------------------------------\n",
      "Related Assets:\n",
      "------------------------------------------------------------\n",
      "  Baselines: 7\n",
      "  Segments: 15\n",
      "  Custom Metrics: 9\n",
      "  Alerts: 6\n",
      "============================================================\n",
      "\n"
     ]
    }
   ],
   "source": [
    "with conn_mgr.use('source'):\n",
    "    model_mgr.display_model_info(\n",
    "        model_id=source_model.id,\n",
    "        show_columns=True,\n",
    "        show_related_assets=True\n",
    "    )"
   ]
  },
  {
   "cell_type": "markdown",
   "id": "models-export-header",
   "metadata": {},
   "source": [
    "### Export Model\n",
    "\n",
    "Export complete model definition including all related assets."
   ]
  },
  {
   "cell_type": "code",
   "execution_count": 7,
   "id": "models-export",
   "metadata": {},
   "outputs": [
    {
     "name": "stdout",
     "output_type": "stream",
     "text": [
      "\n",
      "============================================================\n",
      "EXPORTING MODEL\n",
      "============================================================\n",
      "\n",
      "✓ Exported model: churn_classifier\n",
      "  Version: v1\n",
      "  Task: binary_classification\n",
      "  Columns: 13\n",
      "  Baselines: 7\n",
      "  Custom features: 0\n",
      "\n",
      "  Related assets:\n",
      "    segments: 15\n",
      "    custom_metrics: 9\n",
      "    alerts: 6\n",
      "\n",
      "  Sample columns (first 3):\n",
      "    creditscore (INTEGER) - range: [350, 850]\n",
      "    geography (CATEGORY) - 6 categories\n",
      "    age (INTEGER) - range: [18, 90]\n"
     ]
    }
   ],
   "source": [
    "print(\"\\n\" + \"=\" * 60)\n",
    "print(\"EXPORTING MODEL\")\n",
    "print(\"=\" * 60)\n",
    "\n",
    "with conn_mgr.use('source'):\n",
    "    model_export = model_mgr.export_model(\n",
    "        model_id=source_model.id,\n",
    "        include_baselines=True,\n",
    "        include_related_assets=True\n",
    "    )\n",
    "\n",
    "print(f\"\\n✓ Exported model: {model_export.name}\")\n",
    "if model_export.version:\n",
    "    print(f\"  Version: {model_export.version}\")\n",
    "print(f\"  Task: {model_export.task}\")\n",
    "print(f\"  Columns: {len(model_export.columns)}\")\n",
    "print(f\"  Baselines: {len(model_export.baselines)}\")\n",
    "print(f\"  Custom features: {len(model_export.custom_features)}\")\n",
    "\n",
    "# Show related assets counts\n",
    "print(\"\\n  Related assets:\")\n",
    "for asset_type, assets in model_export.related_assets.items():\n",
    "    print(f\"    {asset_type}: {len(assets)}\")\n",
    "\n",
    "# Artifact warning\n",
    "if model_export.has_artifacts:\n",
    "    print(\"\\n  ⚠️  Model has uploaded artifacts (must be re-uploaded after import)\")\n",
    "\n",
    "# Show sample column info\n",
    "print(\"\\n  Sample columns (first 3):\")\n",
    "for col in model_export.columns[:3]:\n",
    "    info = f\"    {col.name} ({col.data_type})\"\n",
    "    if col.categories:\n",
    "        info += f\" - {len(col.categories)} categories\"\n",
    "    elif col.min_value is not None:\n",
    "        info += f\" - range: [{col.min_value}, {col.max_value}]\"\n",
    "    print(info)"
   ]
  },
  {
   "cell_type": "markdown",
   "id": "models-save-header",
   "metadata": {},
   "source": [
    "### Save Model Export to File\n",
    "\n",
    "Save the exported model definition to JSON file for later use or archival."
   ]
  },
  {
   "cell_type": "code",
   "execution_count": 8,
   "id": "models-save",
   "metadata": {},
   "outputs": [
    {
     "name": "stdout",
     "output_type": "stream",
     "text": [
      "✓ Saved model export to: exports/churn_classifier_export.json\n",
      "  File size: 22.0 KB\n"
     ]
    }
   ],
   "source": [
    "import os\n",
    "\n",
    "# Create exports directory if it doesn't exist\n",
    "os.makedirs('exports', exist_ok=True)\n",
    "\n",
    "# Save to file\n",
    "export_filename = f\"exports/{model_export.name}_export.json\"\n",
    "model_export.to_json(export_filename)\n",
    "\n",
    "print(f\"✓ Saved model export to: {export_filename}\")\n",
    "print(f\"  File size: {os.path.getsize(export_filename) / 1024:.1f} KB\")\n",
    "\n",
    "# Can load it back later:\n",
    "# loaded_export = ModelExportData.from_json(export_filename)"
   ]
  },
  {
   "cell_type": "markdown",
   "id": "models-import-new-header",
   "metadata": {},
   "source": [
    "### Import Model to Target Project\n",
    "\n",
    "Import the exported model to a different project (or instance) as a new model.\n",
    "\n",
    "**Note:** This example is commented out to avoid creating duplicate models.\n",
    "Uncomment to actually import."
   ]
  },
  {
   "cell_type": "code",
   "execution_count": 10,
   "id": "models-import-new",
   "metadata": {},
   "outputs": [
    {
     "name": "stdout",
     "output_type": "stream",
     "text": [
      "\n",
      "============================================================\n",
      "IMPORTING MODEL (create_new mode)\n",
      "============================================================\n",
      "\n",
      "Importing 7 baselines...\n",
      "  ⊗ Skipped: default_static_baseline (STATIC)\n",
      "  ⊗ Skipped: bank_churn (STATIC)\n",
      "  ⊗ Skipped: bank_churn_baseline2 (STATIC)\n",
      "  ⊗ Skipped: static_baseline (STATIC)\n",
      "  ✓ Created: rolling_baseline_1week (ROLLING)\n",
      "  ✓ Created: rolling_baseline_1day (ROLLING)\n",
      "  ✓ Created: rolling_baseline_1month (ROLLING)\n",
      "  Summary: 3 created, 4 skipped, 0 failed\n",
      "\n",
      "Importing 15 segments (with validation)...\n",
      "  ✓ Created: 15, Skipped: 0, Failed: 0\n",
      "\n",
      "Importing 9 custom metrics (with validation)...\n",
      "  ✓ Created: 9, Skipped: 0, Failed: 0\n",
      "\n",
      "Importing 6 alerts...\n",
      "  ⚠️  Alert import is not yet supported - metric IDs require manual mapping\n",
      "  📋 Exported alert definitions are saved in the export data for reference\n",
      "\n",
      "✓ Imported model: churn_classifier\n",
      "  Model ID: 86a54295-09e2-43c4-b212-01c12c4563be\n",
      "  Task: binary_classification\n",
      "  Columns: 13\n"
     ]
    }
   ],
   "source": [
    "print(\"\\n\" + \"=\" * 60)\n",
    "print(\"IMPORTING MODEL (create_new mode)\")\n",
    "print(\"=\" * 60)\n",
    "\n",
    "with conn_mgr.use('target'):\n",
    "    # Connect to target project and get Project reference\n",
    "    target_project = fdl.Project.from_name(TARGET_PROJECT_NAME)\n",
    "\n",
    "    # Import as new model\n",
    "    # Will fail if model name already exists (safe default)\n",
    "    imported_model = model_mgr.import_model(\n",
    "        target_project_id=target_project.id,\n",
    "        model_data=model_export,\n",
    "        import_mode='create_new',\n",
    "        create_baselines=True,\n",
    "        import_related_assets=True\n",
    "    )\n",
    "\n",
    "    print(f\"\\n✓ Imported model: {imported_model.name}\")\n",
    "    print(f\"  Model ID: {imported_model.id}\")\n",
    "    print(f\"  Task: {imported_model.task}\")\n",
    "    print(f\"  Columns: {len(imported_model.schema.columns)}\")"
   ]
  },
  {
   "cell_type": "markdown",
   "id": "models-import-version-header",
   "metadata": {},
   "source": [
    "### Import as New Model Version\n",
    "\n",
    "Import as a new version of an existing model using Fiddler's model versioning.\n",
    "\n",
    "**Note:** This example is commented out to avoid creating duplicate versions."
   ]
  },
  {
   "cell_type": "code",
   "execution_count": 11,
   "id": "models-import-version",
   "metadata": {},
   "outputs": [
    {
     "name": "stdout",
     "output_type": "stream",
     "text": [
      "\n",
      "============================================================\n",
      "IMPORTING MODEL (create_version mode)\n",
      "============================================================\n",
      "\n",
      "Importing 7 baselines...\n",
      "  ⊗ Skipped: default_static_baseline (STATIC)\n",
      "  ⊗ Skipped: bank_churn (STATIC)\n",
      "  ⊗ Skipped: bank_churn_baseline2 (STATIC)\n",
      "  ⊗ Skipped: static_baseline (STATIC)\n",
      "  ✓ Created: rolling_baseline_1week (ROLLING)\n",
      "  ✓ Created: rolling_baseline_1day (ROLLING)\n",
      "  ✓ Created: rolling_baseline_1month (ROLLING)\n",
      "  Summary: 3 created, 4 skipped, 0 failed\n",
      "\n",
      "Importing 15 segments (with validation)...\n",
      "  ✓ Created: 15, Skipped: 0, Failed: 0\n",
      "\n",
      "Importing 9 custom metrics (with validation)...\n",
      "  ✓ Created: 9, Skipped: 0, Failed: 0\n",
      "\n",
      "Importing 6 alerts...\n",
      "  ⚠️  Alert import is not yet supported - metric IDs require manual mapping\n",
      "  📋 Exported alert definitions are saved in the export data for reference\n",
      "\n",
      "✓ Created new version: churn_classifier\n",
      "  Version: v2-automated\n",
      "  Model ID: a5f75510-bdba-4022-9585-97c1d73fd535\n"
     ]
    }
   ],
   "source": [
    "# Uncomment to create a new version:\n",
    "\n",
    "print(\"\\n\" + \"=\" * 60)\n",
    "print(\"IMPORTING MODEL (create_version mode)\")\n",
    "print(\"=\" * 60)\n",
    "\n",
    "with conn_mgr.use('target'):\n",
    "    # Import as new version of existing model\n",
    "    versioned_model = model_mgr.import_model(\n",
    "        target_project_id=target_project.id,\n",
    "        model_data=model_export,\n",
    "        import_mode='create_version',\n",
    "        version_label='v2-automated',  # Required for create_version mode\n",
    "        create_baselines=True,\n",
    "        import_related_assets=True\n",
    "    )\n",
    "\n",
    "    print(f\"\\n✓ Created new version: {versioned_model.name}\")\n",
    "    print(f\"  Version: {versioned_model.version}\")\n",
    "    print(f\"  Model ID: {versioned_model.id}\")"
   ]
  },
  {
   "cell_type": "markdown",
   "id": "models-summary-header",
   "metadata": {},
   "source": [
    "### Model Management Summary\n",
    "\n",
    "Key advantages of using ModelManager:"
   ]
  },
  {
   "cell_type": "code",
   "execution_count": 12,
   "id": "models-summary",
   "metadata": {},
   "outputs": [
    {
     "name": "stdout",
     "output_type": "stream",
     "text": [
      "\n",
      "============================================================\n",
      "MODEL MANAGEMENT SUMMARY\n",
      "============================================================\n",
      "\n",
      "✅ Advantages of ModelManager:\n",
      "\n",
      "  • Complete model export (schema, spec, task, baselines, related assets)\n",
      "  • Uses Model constructor (no DataFrame needed for import!)\n",
      "  • Deterministic and reproducible imports\n",
      "  • Automatic UUID resolution for related assets\n",
      "  • Multiple import modes (create_new, create_version, update_existing)\n",
      "  • Safe defaults (fails if model exists in create_new mode)\n",
      "  • JSON serialization for archival and version control\n",
      "  • Display and comparison utilities\n",
      "\n",
      "📊 Export Statistics:\n",
      "\n",
      "  Model: churn_classifier\n",
      "  Columns: 13\n",
      "  Inputs: 9\n",
      "  Outputs: 1\n",
      "  Targets: 1\n",
      "  Baselines: 7\n",
      "  Custom features: 0\n",
      "  Related assets: 30 total\n",
      "    - segments: 15\n",
      "    - custom_metrics: 9\n",
      "    - alerts: 6\n",
      "\n",
      "============================================================\n"
     ]
    }
   ],
   "source": [
    "print(\"\\n\" + \"=\" * 60)\n",
    "print(\"MODEL MANAGEMENT SUMMARY\")\n",
    "print(\"=\" * 60)\n",
    "\n",
    "print(\"\\n✅ Advantages of ModelManager:\\n\")\n",
    "print(\"  • Complete model export (schema, spec, task, baselines, related assets)\")\n",
    "print(\"  • Uses Model constructor (no DataFrame needed for import!)\")\n",
    "print(\"  • Deterministic and reproducible imports\")\n",
    "print(\"  • Automatic UUID resolution for related assets\")\n",
    "print(\"  • Multiple import modes (create_new, create_version, update_existing)\")\n",
    "print(\"  • Safe defaults (fails if model exists in create_new mode)\")\n",
    "print(\"  • JSON serialization for archival and version control\")\n",
    "print(\"  • Display and comparison utilities\")\n",
    "\n",
    "print(\"\\n📊 Export Statistics:\\n\")\n",
    "print(f\"  Model: {model_export.name}\")\n",
    "print(f\"  Columns: {len(model_export.columns)}\")\n",
    "print(f\"  Inputs: {len(model_export.spec['inputs'])}\")\n",
    "print(f\"  Outputs: {len(model_export.spec['outputs'])}\")\n",
    "print(f\"  Targets: {len(model_export.spec['targets'])}\")\n",
    "print(f\"  Baselines: {len(model_export.baselines)}\")\n",
    "print(f\"  Custom features: {len(model_export.custom_features)}\")\n",
    "\n",
    "total_related = sum(len(assets) for assets in model_export.related_assets.values())\n",
    "print(f\"  Related assets: {total_related} total\")\n",
    "for asset_type, assets in model_export.related_assets.items():\n",
    "    print(f\"    - {asset_type}: {len(assets)}\")\n",
    "\n",
    "print(\"\\n\" + \"=\" * 60)"
   ]
  }
 ],
 "metadata": {
  "kernelspec": {
   "display_name": ".venv",
   "language": "python",
   "name": "python3"
  },
  "language_info": {
   "codemirror_mode": {
    "name": "ipython",
    "version": 3
   },
   "file_extension": ".py",
   "mimetype": "text/x-python",
   "name": "python",
   "nbconvert_exporter": "python",
   "pygments_lexer": "ipython3",
   "version": "3.13.3"
  }
 },
 "nbformat": 4,
 "nbformat_minor": 5
}
