{
 "cells": [
  {
   "cell_type": "code",
   "execution_count": 1,
   "metadata": {},
   "outputs": [],
   "source": [
    "import pandas as pd\n",
    "import fiddler as fdl\n"
   ]
  },
  {
   "cell_type": "code",
   "execution_count": null,
   "metadata": {},
   "outputs": [],
   "source": [
    "URL = 'https://customer.fiddler.ai'\n",
    "TOKEN = ''  # Get this from the Settings > Credentials tab in Fiddler UI\n",
    "\n",
    "\n",
    "fdl.init(url=URL, token=TOKEN)\n",
    "print(f\"Successfully connected to Fiddler at {URL}\")\n",
    "print(f\"Client version:    {fdl.__version__}\")\n",
    "print(f\"Server version:    {fdl.conn.server_version}\")\n",
    "print(f\"Organization ID:   {fdl.conn.organization_id}\")\n",
    "print(f\"Organization name: {fdl.conn.organization_name}\")"
   ]
  },
  {
   "cell_type": "code",
   "execution_count": null,
   "metadata": {},
   "outputs": [],
   "source": [
    "FEATURE_IMPORTANCE_CSV = 'temp_featimp/app_engine_feature_imp.csv'\n",
    "df = pd.read_csv(FEATURE_IMPORTANCE_CSV)\n",
    "feature_importance_dict = df.set_index('feature_name')['feature_imp'].to_dict()\n",
    "\n",
    "df.head()"
   ]
  },
  {
   "cell_type": "code",
   "execution_count": null,
   "metadata": {},
   "outputs": [],
   "source": [
    "PROJECT_NAME = 'upsell_risk_prod'  # Project name\n",
    "MODEL_NAME = 'appen_upsell_model_prod'  # Model name\n",
    "VERSION = 'v6'\n",
    "\n",
    "\n",
    "project = fdl.Project.from_name(name=PROJECT_NAME)\n",
    "project_id = project.id\n",
    "print(f\"Using project: {project.name} (ID: {project_id})\")\n",
    "\n",
    "model = fdl.Model.from_name(name=MODEL_NAME, project_id=project_id, version=VERSION)\n",
    "print(f\"Retrieved model: {model.name}, version: {model.version} (ID: {model.id})\")\n"
   ]
  },
  {
   "cell_type": "code",
   "execution_count": null,
   "metadata": {},
   "outputs": [],
   "source": [
    "model_inputs = model.spec.inputs\n",
    "missing_features = set(model_inputs) - set(feature_importance_dict.keys())\n",
    "extra_features = set(feature_importance_dict.keys()) - set(model_inputs)\n",
    "\n",
    "if missing_features:\n",
    "    print(f\"Warning: The following model input features are missing from the CSV: {missing_features}\")\n",
    "\n",
    "if extra_features:\n",
    "    print(f\"Warning: The following features in the CSV are not model inputs: {extra_features}\")\n",
    "    # Remove extra features to prevent upload errors\n",
    "    for feature in extra_features:\n",
    "        del feature_importance_dict[feature]\n",
    "\n",
    "# Upload the feature importance values\n",
    "result = model.upload_feature_impact(feature_impact_map=feature_importance_dict, update=True)\n",
    "print(f\"Successfully uploaded feature importance values to model {model.name}\")\n"
   ]
  },
  {
   "cell_type": "code",
   "execution_count": null,
   "metadata": {},
   "outputs": [],
   "source": []
  }
 ],
 "metadata": {
  "kernelspec": {
   "display_name": "base",
   "language": "python",
   "name": "python3"
  },
  "language_info": {
   "codemirror_mode": {
    "name": "ipython",
    "version": 3
   },
   "file_extension": ".py",
   "mimetype": "text/x-python",
   "name": "python",
   "nbconvert_exporter": "python",
   "pygments_lexer": "ipython3",
   "version": "3.12.3"
  }
 },
 "nbformat": 4,
 "nbformat_minor": 2
}
