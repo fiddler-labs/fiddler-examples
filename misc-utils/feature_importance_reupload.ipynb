{
 "cells": [
  {
   "cell_type": "code",
   "execution_count": 1,
   "metadata": {},
   "outputs": [],
   "source": [
    "import pandas as pd\n",
    "import fiddler as fdl\n"
   ]
  },
  {
   "cell_type": "code",
   "execution_count": null,
   "metadata": {},
   "outputs": [
    {
     "name": "stdout",
     "output_type": "stream",
     "text": [
      "Successfully connected to Fiddler at https://fiddler.servicenow.com\n",
      "Client version:    3.6.0\n",
      "Server version:    25.2.8\n",
      "Organization ID:   b80dda36-803a-4a06-827e-9e9de1829894\n",
      "Organization name: newfiddler\n"
     ]
    }
   ],
   "source": [
    "URL = 'https://fiddler.servicenow.com' # Example: 'https://your_company_name.fiddler.ai'\n",
    "TOKEN = ''  # Get this from the Settings > Credentials tab in Fiddler UI\n",
    "\n",
    "\n",
    "fdl.init(url=URL, token=TOKEN)\n",
    "print(f\"Successfully connected to Fiddler at {URL}\")\n",
    "print(f\"Client version:    {fdl.__version__}\")\n",
    "print(f\"Server version:    {fdl.conn.server_version}\")\n",
    "print(f\"Organization ID:   {fdl.conn.organization_id}\")\n",
    "print(f\"Organization name: {fdl.conn.organization_name}\")"
   ]
  },
  {
   "cell_type": "code",
   "execution_count": 36,
   "metadata": {},
   "outputs": [
    {
     "data": {
      "application/vnd.microsoft.datawrangler.viewer.v0+json": {
       "columns": [
        {
         "name": "index",
         "rawType": "int64",
         "type": "integer"
        },
        {
         "name": "Unnamed: 0",
         "rawType": "int64",
         "type": "integer"
        },
        {
         "name": "feature_name",
         "rawType": "object",
         "type": "string"
        },
        {
         "name": "feature_imp",
         "rawType": "float64",
         "type": "float"
        }
       ],
       "conversionMethod": "pd.DataFrame",
       "ref": "4249058c-a2d2-4ddf-8f2d-c3691c9ac567",
       "rows": [
        [
         "0",
         "47",
         "AppEngineMonthsToContractEnd",
         "0.038975924"
        ],
        [
         "1",
         "58",
         "NumberOfContracts",
         "0.033065274"
        ],
        [
         "2",
         "7",
         "SubProdPlugins_12M_norm",
         "0.032749817"
        ],
        [
         "3",
         "25",
         "AdoptedAppsPercent_norm",
         "0.029082483"
        ],
        [
         "4",
         "55",
         "AppEngineProductTrainings_12M",
         "0.023012303"
        ]
       ],
       "shape": {
        "columns": 3,
        "rows": 5
       }
      },
      "text/html": [
       "<div>\n",
       "<style scoped>\n",
       "    .dataframe tbody tr th:only-of-type {\n",
       "        vertical-align: middle;\n",
       "    }\n",
       "\n",
       "    .dataframe tbody tr th {\n",
       "        vertical-align: top;\n",
       "    }\n",
       "\n",
       "    .dataframe thead th {\n",
       "        text-align: right;\n",
       "    }\n",
       "</style>\n",
       "<table border=\"1\" class=\"dataframe\">\n",
       "  <thead>\n",
       "    <tr style=\"text-align: right;\">\n",
       "      <th></th>\n",
       "      <th>Unnamed: 0</th>\n",
       "      <th>feature_name</th>\n",
       "      <th>feature_imp</th>\n",
       "    </tr>\n",
       "  </thead>\n",
       "  <tbody>\n",
       "    <tr>\n",
       "      <th>0</th>\n",
       "      <td>47</td>\n",
       "      <td>AppEngineMonthsToContractEnd</td>\n",
       "      <td>0.038976</td>\n",
       "    </tr>\n",
       "    <tr>\n",
       "      <th>1</th>\n",
       "      <td>58</td>\n",
       "      <td>NumberOfContracts</td>\n",
       "      <td>0.033065</td>\n",
       "    </tr>\n",
       "    <tr>\n",
       "      <th>2</th>\n",
       "      <td>7</td>\n",
       "      <td>SubProdPlugins_12M_norm</td>\n",
       "      <td>0.032750</td>\n",
       "    </tr>\n",
       "    <tr>\n",
       "      <th>3</th>\n",
       "      <td>25</td>\n",
       "      <td>AdoptedAppsPercent_norm</td>\n",
       "      <td>0.029082</td>\n",
       "    </tr>\n",
       "    <tr>\n",
       "      <th>4</th>\n",
       "      <td>55</td>\n",
       "      <td>AppEngineProductTrainings_12M</td>\n",
       "      <td>0.023012</td>\n",
       "    </tr>\n",
       "  </tbody>\n",
       "</table>\n",
       "</div>"
      ],
      "text/plain": [
       "   Unnamed: 0                   feature_name  feature_imp\n",
       "0          47   AppEngineMonthsToContractEnd     0.038976\n",
       "1          58              NumberOfContracts     0.033065\n",
       "2           7        SubProdPlugins_12M_norm     0.032750\n",
       "3          25        AdoptedAppsPercent_norm     0.029082\n",
       "4          55  AppEngineProductTrainings_12M     0.023012"
      ]
     },
     "execution_count": 36,
     "metadata": {},
     "output_type": "execute_result"
    }
   ],
   "source": [
    "FEATURE_IMPORTANCE_CSV = 'temp_featimp/app_engine_feature_imp.csv'\n",
    "df = pd.read_csv(FEATURE_IMPORTANCE_CSV)\n",
    "feature_importance_dict = df.set_index('feature_name')['feature_imp'].to_dict()\n",
    "\n",
    "df.head()"
   ]
  },
  {
   "cell_type": "code",
   "execution_count": 35,
   "metadata": {},
   "outputs": [
    {
     "name": "stdout",
     "output_type": "stream",
     "text": [
      "Using project: upsell_risk_prod (ID: 3d73e32f-855e-4b00-9b25-17de0de23eb9)\n",
      "Retrieved model: appen_upsell_model_prod, version: v6 (ID: 71efd612-84e9-4ece-88a2-ea4f276545a5)\n"
     ]
    }
   ],
   "source": [
    "PROJECT_NAME = 'upsell_risk_prod'  # Project name\n",
    "MODEL_NAME = 'appen_upsell_model_prod'  # Model name\n",
    "VERSION = 'v6'\n",
    "\n",
    "\n",
    "project = fdl.Project.from_name(name=PROJECT_NAME)\n",
    "project_id = project.id\n",
    "print(f\"Using project: {project.name} (ID: {project_id})\")\n",
    "\n",
    "model = fdl.Model.from_name(name=MODEL_NAME, project_id=project_id, version=VERSION)\n",
    "print(f\"Retrieved model: {model.name}, version: {model.version} (ID: {model.id})\")\n"
   ]
  },
  {
   "cell_type": "code",
   "execution_count": 38,
   "metadata": {},
   "outputs": [
    {
     "name": "stdout",
     "output_type": "stream",
     "text": [
      "Successfully uploaded feature importance values to model appen_upsell_model_prod\n"
     ]
    }
   ],
   "source": [
    "model_inputs = model.spec.inputs\n",
    "missing_features = set(model_inputs) - set(feature_importance_dict.keys())\n",
    "extra_features = set(feature_importance_dict.keys()) - set(model_inputs)\n",
    "\n",
    "if missing_features:\n",
    "    print(f\"Warning: The following model input features are missing from the CSV: {missing_features}\")\n",
    "\n",
    "if extra_features:\n",
    "    print(f\"Warning: The following features in the CSV are not model inputs: {extra_features}\")\n",
    "    # Remove extra features to prevent upload errors\n",
    "    for feature in extra_features:\n",
    "        del feature_importance_dict[feature]\n",
    "\n",
    "# Upload the feature importance values\n",
    "result = model.upload_feature_impact(feature_impact_map=feature_importance_dict, update=True)\n",
    "print(f\"Successfully uploaded feature importance values to model {model.name}\")\n"
   ]
  },
  {
   "cell_type": "code",
   "execution_count": null,
   "metadata": {},
   "outputs": [],
   "source": []
  }
 ],
 "metadata": {
  "kernelspec": {
   "display_name": "base",
   "language": "python",
   "name": "python3"
  },
  "language_info": {
   "codemirror_mode": {
    "name": "ipython",
    "version": 3
   },
   "file_extension": ".py",
   "mimetype": "text/x-python",
   "name": "python",
   "nbconvert_exporter": "python",
   "pygments_lexer": "ipython3",
   "version": "3.12.3"
  }
 },
 "nbformat": 4,
 "nbformat_minor": 2
}
