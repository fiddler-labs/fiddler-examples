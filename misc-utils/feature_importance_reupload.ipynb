{
 "cells": [
  {
   "cell_type": "markdown",
   "metadata": {},
   "source": [
    "# Upload Feature Importance Values to Fiddler Model\n",
    "\n",
    "This notebook demonstrates how to upload user-defined feature importance (impact) scores to a Fiddler model using the `fiddler_utils` package.\n",
    "\n",
    "## Use Case\n",
    "\n",
    "When you have pre-computed global feature importance values (e.g., from SHAP analysis, permutation importance, or other methods), you can upload them to Fiddler to populate the feature impact charts without needing to provide a model artifact.\n",
    "\n",
    "## Prerequisites\n",
    "\n",
    "* Fiddler instance access with API token\n",
    "* Model already registered in Fiddler\n",
    "* CSV file with feature importance values (feature_name, feature_impact)\n",
    "\n",
    "## Resources\n",
    "\n",
    "* [API Documentation](https://docs.fiddler.ai/technical-reference/api-methods-30#upload_feature_impact)\n",
    "* [Quickstart Example](https://github.com/fiddler-labs/fiddler-examples/blob/main/quickstart/latest/Fiddler_Quickstart_User_Defined_Feature_Impact.ipynb)"
   ]
  },
  {
   "cell_type": "code",
   "execution_count": null,
   "metadata": {},
   "outputs": [],
   "source": [
    "%pip install -q fiddler-client\n",
    "\n",
    "import sys\n",
    "sys.path.insert(0, '..')  # Add parent directory to path for fiddler_utils\n",
    "\n",
    "import fiddler as fdl\n",
    "from fiddler_utils import get_or_init, FeatureImpactManager\n",
    "\n",
    "print(f'Fiddler client version: {fdl.__version__}')"
   ]
  },
  {
   "cell_type": "markdown",
   "metadata": {},
   "source": [
    "## Configuration"
   ]
  },
  {
   "cell_type": "code",
   "execution_count": null,
   "metadata": {},
   "outputs": [],
   "source": [
    "# Fiddler connection details\n",
    "URL = 'https://customer.fiddler.ai'\n",
    "AUTH_TOKEN = ''  # Get this from the Settings > Credentials tab in Fiddler UI\n",
    "\n",
    "# Model identification - use either MODEL_ID or PROJECT_NAME + MODEL_NAME\n",
    "MODEL_ID = ''  # Option 1: Get model by ID\n",
    "\n",
    "# Option 2: Get model by project and name\n",
    "PROJECT_NAME = ''\n",
    "MODEL_NAME = ''\n",
    "VERSION = ''  # Optional, leave empty for unversioned models\n",
    "\n",
    "# Feature importance data source\n",
    "FEATURE_IMPORTANCE_JSON = '../quickstart/data/custom_feature_impact_scores_alt.json'\n",
    "FEATURE_IMPORTANCE_JSON_ALT = '../quickstart/data/custom_feature_impact_scores.json'\n",
    "\n",
    "# Option 3: Define directly as dictionary\n",
    "# FEATURE_IMPORTANCE_DICT = {\n",
    "#     'age': 0.25,\n",
    "#     'income': 0.32,\n",
    "#     ...\n",
    "# }\n"
   ]
  },
  {
   "cell_type": "markdown",
   "metadata": {},
   "source": [
    "## Initialize Connection and Get Model"
   ]
  },
  {
   "cell_type": "code",
   "execution_count": null,
   "metadata": {},
   "outputs": [],
   "source": [
    "# Initialize connection with error-level logging\n",
    "get_or_init(url=URL, token=AUTH_TOKEN, log_level=\"ERROR\")\n",
    "\n",
    "print(f\"Successfully connected to Fiddler at {URL}\")"
   ]
  },
  {
   "cell_type": "code",
   "execution_count": null,
   "metadata": {},
   "outputs": [],
   "source": [
    "# Get model using either MODEL_ID or PROJECT_NAME + MODEL_NAME\n",
    "if MODEL_ID:\n",
    "    model = fdl.Model.get(id_=MODEL_ID)\n",
    "    print(f\"Retrieved model by ID: {model.name}\")\n",
    "else:\n",
    "    project = fdl.Project.from_name(name=PROJECT_NAME)\n",
    "    model_kwargs = {\n",
    "        'name': MODEL_NAME,\n",
    "        'project_id': project.id\n",
    "    }\n",
    "    if VERSION:\n",
    "        model_kwargs['version'] = VERSION\n",
    "    \n",
    "    model = fdl.Model.from_name(**model_kwargs)\n",
    "    print(f\"Retrieved model: {model.name} (version: {model.version or 'none'})\")\n",
    "\n",
    "print(f\"Model ID: {model.id}\")\n",
    "print(f\"Number of input features: {len(model.spec.inputs)}\")"
   ]
  },
  {
   "cell_type": "markdown",
   "metadata": {},
   "source": [
    "## Load Feature Importance Values\n",
    "\n",
    "The `FeatureImpactManager` supports loading from:\n",
    "* CSV files (with configurable column names)\n",
    "* JSON files\n",
    "* Python dictionaries"
   ]
  },
  {
   "cell_type": "code",
   "execution_count": null,
   "metadata": {},
   "outputs": [],
   "source": [
    "# Initialize the FeatureImpactManager\n",
    "fi_mgr = FeatureImpactManager()\n",
    "\n",
    "# Option 1: Load from JSON\n",
    "feature_impact_dict = fi_mgr.load_from_json(\n",
    "    filepath=FEATURE_IMPORTANCE_JSON\n",
    ")\n",
    "\n",
    "print(f\"\\nLoaded {len(feature_impact_dict)} feature impact scores\")\n",
    "print(f\"\\nSample of loaded values:\")\n",
    "for feature, impact in list(feature_impact_dict.items())[:5]:\n",
    "    print(f\"  {feature}: {impact}\")"
   ]
  },
  {
   "cell_type": "markdown",
   "metadata": {},
   "source": [
    "## Validate Feature Impact Values\n",
    "\n",
    "Validation ensures:\n",
    "* All model input features have impact scores (REQUIRED)\n",
    "* Extra features (not in model spec) are identified and can be removed\n",
    "* All values are numeric"
   ]
  },
  {
   "cell_type": "code",
   "execution_count": null,
   "metadata": {},
   "outputs": [],
   "source": [
    "# Validate features against model spec\n",
    "print(\"Validating feature impact values...\\n\")\n",
    "\n",
    "is_valid, missing_features, extra_features = fi_mgr.validate_features(\n",
    "    model=model,\n",
    "    feature_impact_dict=feature_impact_dict,\n",
    "    remove_extra=True,  # Automatically remove features not in model spec\n",
    "    strict=False  # Don't raise exception yet, just report\n",
    ")\n",
    "\n",
    "# Report validation results\n",
    "print(f\"Model has {len(model.spec.inputs)} input features\")\n",
    "print(f\"Impact map has {len(feature_impact_dict)} features\")\n",
    "print()\n",
    "\n",
    "if missing_features:\n",
    "    print(f\"⚠️  Missing features (in model but not in impact map):\")\n",
    "    for feature in sorted(missing_features):\n",
    "        print(f\"   - {feature}\")\n",
    "    print()\n",
    "else:\n",
    "    print(\"✅ All model input features have impact scores\")\n",
    "    print()\n",
    "\n",
    "if extra_features:\n",
    "    print(f\"ℹ️  Extra features (in impact map but not in model):\")\n",
    "    for feature in sorted(extra_features):\n",
    "        print(f\"   - {feature}\")\n",
    "    print(f\"   These have been removed from the impact map.\")\n",
    "    print()\n",
    "\n",
    "if is_valid:\n",
    "    print(\"✅ Validation passed! Ready to upload.\")\n",
    "else:\n",
    "    print(\"❌ Validation failed. Please add impact scores for missing features.\")"
   ]
  },
  {
   "cell_type": "markdown",
   "metadata": {},
   "source": [
    "## Upload Feature Impact Scores to Fiddler\n",
    "\n",
    "Upload the validated feature impact scores to the model.\n",
    "* Set `update=True` to update existing values\n",
    "* Set `update=False` to fail if values already exist"
   ]
  },
  {
   "cell_type": "code",
   "execution_count": null,
   "metadata": {},
   "outputs": [],
   "source": [
    "# Upload feature impact scores (auto-detect mode)\n",
    "# The manager will try creating first, then update if values already exist\n",
    "print(\"Uploading feature impact scores to Fiddler...\\n\")\n",
    "\n",
    "try:\n",
    "    result = fi_mgr.upload_feature_impact(\n",
    "        model=model,\n",
    "        feature_impact_map=feature_impact_dict,\n",
    "        # update=None (default) auto-detects: tries create first, updates if exists\n",
    "        validate=True,\n",
    "        remove_extra=True\n",
    "    )\n",
    "    \n",
    "    print(f\"✅ Successfully uploaded {len(result)} feature impact values to model '{model.name}'\")\n",
    "    print(f\"\\nFeature impact scores are now available in the Fiddler UI.\")\n",
    "    print(f\"Navigate to: {URL}/projects/{model.project_id}/models/{model.id}\")\n",
    "    \n",
    "except Exception as e:\n",
    "    print(f\"❌ Upload failed: {str(e)}\")"
   ]
  },
  {
   "cell_type": "markdown",
   "metadata": {},
   "source": [
    "## Update Feature Impact Values (Optional)\n",
    "\n",
    "This cell demonstrates updating existing feature impact values with new scores from an alternative file.\n",
    "The `upload_feature_impact()` method will automatically detect that values exist and update them."
   ]
  },
  {
   "cell_type": "code",
   "execution_count": null,
   "metadata": {},
   "outputs": [],
   "source": [
    "# Load and upload alternative feature impact scores\n",
    "print(\"Loading alternative feature impact scores...\\n\")\n",
    "\n",
    "updated_impact_dict = fi_mgr.load_from_json(filepath=FEATURE_IMPORTANCE_JSON_ALT)\n",
    "print(f\"Loaded {len(updated_impact_dict)} alternative scores\")\n",
    "\n",
    "# Show comparison before uploading\n",
    "print(f\"\\nComparison (first 5 features):\")\n",
    "for feature in list(updated_impact_dict.keys())[:5]:\n",
    "    old_val = feature_impact_dict.get(feature, 'N/A')\n",
    "    new_val = updated_impact_dict.get(feature, 'N/A')\n",
    "    print(f\"  {feature}: {old_val} → {new_val}\")\n",
    "\n",
    "# Upload with auto-detect (will update existing values)\n",
    "print(f\"\\nUploading alternative scores...\")\n",
    "try:\n",
    "    result = fi_mgr.upload_feature_impact(\n",
    "        model=model,\n",
    "        feature_impact_map=updated_impact_dict,\n",
    "        validate=True,\n",
    "        remove_extra=True\n",
    "    )\n",
    "    print(f\"✅ Successfully uploaded {len(result)} updated feature impact values\")\n",
    "    print(f\"\\nThe feature impact charts in Fiddler UI now reflect the new scores.\")\n",
    "    \n",
    "except Exception as e:\n",
    "    print(f\"❌ Upload failed: {str(e)}\")"
   ]
  },
  {
   "cell_type": "markdown",
   "metadata": {},
   "source": [
    "## Summary\n",
    "\n",
    "This notebook demonstrated:\n",
    "* Loading feature importance values from CSV using `FeatureImpactManager`\n",
    "* Validating features against model spec\n",
    "* Handling missing and extra features\n",
    "* Uploading feature impact scores to Fiddler\n",
    "\n",
    "### Next Steps\n",
    "\n",
    "* View feature impact charts in the Fiddler UI\n",
    "* Update values by running this notebook again with `update=True`\n",
    "* Try different feature importance calculation methods (SHAP, permutation, etc.)\n",
    "\n",
    "### Resources\n",
    "\n",
    "* [User-Defined Feature Impact Quickstart](https://github.com/fiddler-labs/fiddler-examples/blob/main/quickstart/latest/Fiddler_Quickstart_User_Defined_Feature_Impact.ipynb)\n",
    "* [Fiddler Documentation](https://docs.fiddler.ai/)\n",
    "* [upload_feature_impact API Reference](https://docs.fiddler.ai/technical-reference/api-methods-30#upload_feature_impact)"
   ]
  }
 ],
 "metadata": {
  "kernelspec": {
   "display_name": ".venv",
   "language": "python",
   "name": "python3"
  },
  "language_info": {
   "codemirror_mode": {
    "name": "ipython",
    "version": 3
   },
   "file_extension": ".py",
   "mimetype": "text/x-python",
   "name": "python",
   "nbconvert_exporter": "python",
   "pygments_lexer": "ipython3",
   "version": "3.13.3"
  }
 },
 "nbformat": 4,
 "nbformat_minor": 2
}
