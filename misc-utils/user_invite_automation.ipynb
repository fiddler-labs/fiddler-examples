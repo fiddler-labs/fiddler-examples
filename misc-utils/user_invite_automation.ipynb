{
 "cells": [
  {
   "cell_type": "code",
   "execution_count": null,
   "metadata": {},
   "outputs": [],
   "source": [
    "import pandas as pd\n",
    "import requests\n",
    "\n",
    "# Load your Excel file with emails\n",
    "emails_df = pd.read_csv('mails.csv')\n",
    "email_list = emails_df['mails'].tolist()  # Assuming emails are in the first column\n",
    "emails_df, email_list"
   ]
  },
  {
   "cell_type": "code",
   "execution_count": 11,
   "metadata": {},
   "outputs": [],
   "source": [
    "URL = 'https://customer.fiddler.ai'\n",
    "TOKEN = '' \n",
    "\n",
    "headers = {\n",
    "    'Content-Type': 'application/json',\n",
    "    'Authorization': f'Bearer {TOKEN}'\n",
    "}\n",
    "INVITATION_ENDPOINT = '/api/auth/invite-member' \n"
   ]
  },
  {
   "cell_type": "markdown",
   "metadata": {},
   "source": [
    "## Send invitation , Create invite"
   ]
  },
  {
   "cell_type": "code",
   "execution_count": null,
   "metadata": {},
   "outputs": [],
   "source": [
    "\n",
    "for email in email_list:\n",
    "    try:\n",
    "        payload = {\n",
    "            'email': email,\n",
    "            'role': 'Org Admin'  # or 'Org Member'\n",
    "        }\n",
    "        \n",
    "        # Make the API call to send invitation\n",
    "        response = requests.post(f'{URL}{INVITATION_ENDPOINT}', headers=headers, json=payload)\n",
    "        print ( email , response.status_code , response.text )\n",
    "        # Check if the request was successful\n",
    "        if response.status_code == 200 or response.status_code == 201:\n",
    "            print(f\"Successfully invited\")\n",
    "        else:\n",
    "            print(f\"Failed to invite\")\n",
    "    \n",
    "    except Exception as e:\n",
    "        print(f\"Error processing : {str(e)}\")"
   ]
  },
  {
   "cell_type": "markdown",
   "metadata": {},
   "source": [
    "## Delete invite"
   ]
  },
  {
   "cell_type": "code",
   "execution_count": null,
   "metadata": {},
   "outputs": [],
   "source": [
    "for email in email_list:\n",
    "    try:\n",
    "        payload = {\n",
    "            'email': email,\n",
    "        }\n",
    "        \n",
    "        # Make the API call to delete member\n",
    "\n",
    "        response = requests.delete(f'{URL}{INVITATION_ENDPOINT}', headers=headers, json=payload )\n",
    "        print ( email , response.status_code , response.text )\n",
    "\n",
    "        # Check if the request was successful\n",
    "        if response.status_code == 200 or response.status_code == 204:\n",
    "            print(f\"Successfully deleted\")\n",
    "        else:\n",
    "            print(f\"Failed to delete\")\n",
    "    \n",
    "    except Exception as e:\n",
    "        print(f\"Error processing : {str(e)}\")"
   ]
  },
  {
   "cell_type": "markdown",
   "metadata": {},
   "source": [
    "## Scrape the invite URLs from the Webapp UI populating request"
   ]
  },
  {
   "cell_type": "code",
   "execution_count": 20,
   "metadata": {},
   "outputs": [],
   "source": [
    "null = None\n",
    "true = True\n",
    "false = False\n",
    "\n",
    "response = {\n",
    "    \"result\": {\n",
    "        \"invitations\": [\n",
    "\n",
    "        ],\n",
    "        \"members\": [\n",
    "\n",
    "        ]\n",
    "    },\n",
    "    \"status\": \"SUCCESS\"\n",
    "}"
   ]
  },
  {
   "cell_type": "code",
   "execution_count": 26,
   "metadata": {},
   "outputs": [],
   "source": [
    "pd.DataFrame(response['result']['invitations'])[['user','link']].to_csv('invitations.csv',index=False)"
   ]
  },
  {
   "cell_type": "code",
   "execution_count": null,
   "metadata": {},
   "outputs": [],
   "source": []
  }
 ],
 "metadata": {
  "kernelspec": {
   "display_name": "Python 3",
   "language": "python",
   "name": "python3"
  },
  "language_info": {
   "codemirror_mode": {
    "name": "ipython",
    "version": 3
   },
   "file_extension": ".py",
   "mimetype": "text/x-python",
   "name": "python",
   "nbconvert_exporter": "python",
   "pygments_lexer": "ipython3",
   "version": "3.12.3"
  }
 },
 "nbformat": 4,
 "nbformat_minor": 2
}
