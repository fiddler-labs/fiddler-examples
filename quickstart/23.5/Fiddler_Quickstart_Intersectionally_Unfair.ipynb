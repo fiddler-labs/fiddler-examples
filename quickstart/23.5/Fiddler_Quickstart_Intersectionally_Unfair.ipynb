{
 "cells": [
  {
   "cell_type": "markdown",
   "id": "f0c3549a",
   "metadata": {
    "id": "f0c3549a"
   },
   "source": [
    "# Onboard a Credit Approval Model to Evaluate Fairness\n",
    "\n",
    "In this notebook, we present the steps for onboarding a model to evaluate model fairness.  \n",
    "\n",
    "Fiddler is the pioneer in enterprise Model Performance Management (MPM), offering a unified platform that enables Data Science, MLOps, Risk, Compliance, Analytics, and LOB teams to **monitor, explain, analyze, and improve ML deployments at enterprise scale**. \n",
    "Obtain contextual insights at any stage of the ML lifecycle, improve predictions, increase transparency and fairness, and optimize business revenue.\n",
    "\n",
    "---\n",
    "\n",
    "You can experience Fiddler's Fairness Offering ***in minutes*** by following these four quick steps:\n",
    "\n",
    "1. Connect to Fiddler\n",
    "2. Upload a baseline dataset\n",
    "3. Upload a model package directory containing the **1) package.py and 2) model artifact**\n",
    "4. Get Fairness insights"
   ]
  },
  {
   "cell_type": "markdown",
   "id": "9f1db734",
   "metadata": {
    "id": "9f1db734"
   },
   "source": [
    "# 0. Imports"
   ]
  },
  {
   "cell_type": "code",
   "execution_count": 1,
   "id": "f99c2b2f",
   "metadata": {
    "colab": {
     "base_uri": "https://localhost:8080/"
    },
    "id": "f99c2b2f",
    "outputId": "40667583-548d-47e6-c7de-bea6b74151b8",
    "scrolled": true
   },
   "outputs": [
    {
     "name": "stdout",
     "output_type": "stream",
     "text": [
      "\u001b[33mDEPRECATION: pyodbc 4.0.0-unsupported has a non-standard version number. pip 23.3 will enforce this behaviour change. A possible replacement is to upgrade to a newer version of pyodbc or contact the author to suggest that they release a version with a conforming version number. Discussion can be found at https://github.com/pypa/pip/issues/12063\u001b[0m\u001b[33m\n",
      "\u001b[0m\n",
      "\u001b[1m[\u001b[0m\u001b[34;49mnotice\u001b[0m\u001b[1;39;49m]\u001b[0m\u001b[39;49m A new release of pip is available: \u001b[0m\u001b[31;49m23.2.1\u001b[0m\u001b[39;49m -> \u001b[0m\u001b[32;49m23.3.1\u001b[0m\n",
      "\u001b[1m[\u001b[0m\u001b[34;49mnotice\u001b[0m\u001b[1;39;49m]\u001b[0m\u001b[39;49m To update, run: \u001b[0m\u001b[32;49mpip install --upgrade pip\u001b[0m\n",
      "Running Fiddler client version 2.1.0.dev4\n"
     ]
    }
   ],
   "source": [
    "!pip install -q fiddler-client==2.1.0.dev4\n",
    "\n",
    "import fiddler as fdl\n",
    "import pandas as pd\n",
    "import yaml\n",
    "import datetime\n",
    "import time\n",
    "from IPython.display import clear_output\n",
    "\n",
    "print(f\"Running Fiddler client version {fdl.__version__}\")"
   ]
  },
  {
   "cell_type": "markdown",
   "id": "dcc2ed42-2cd9-424c-bc04-f8fcd3c01a69",
   "metadata": {
    "id": "dcc2ed42-2cd9-424c-bc04-f8fcd3c01a69"
   },
   "source": [
    "# 1. Connect to Fiddler\n",
    "\n",
    "Before you can add information about your model with Fiddler, you'll need to connect using our Python client.\n",
    "\n",
    "---\n",
    "\n",
    "**We need a few pieces of information to get started.**\n",
    "1. The URL you're using to connect to Fiddler\n",
    "2. Your organization ID\n",
    "3. Your authorization token\n",
    "\n",
    "The latter two of these can be found by pointing your browser to your Fiddler URL and navigating to the **Settings** page."
   ]
  },
  {
   "cell_type": "code",
   "execution_count": 4,
   "id": "21245781-c546-41de-9c18-9409361615e3",
   "metadata": {
    "id": "21245781-c546-41de-9c18-9409361615e3"
   },
   "outputs": [],
   "source": [
    "URL = 'https://preprod.fiddler.ai' # Make sure to include the full URL (including https://).\n",
    "ORG_ID = 'preprod'\n",
    "AUTH_TOKEN = '6lxdgyAZ3B2PNFxR3GZ7N4ao6As6UvicPQdamdaU13g'"
   ]
  },
  {
   "cell_type": "markdown",
   "id": "cd9678de-4d81-4b9b-905d-e2a6b0d8b141",
   "metadata": {
    "id": "cd9678de-4d81-4b9b-905d-e2a6b0d8b141"
   },
   "source": [
    "Now just run the following code block to connect the client to your Fiddler environment."
   ]
  },
  {
   "cell_type": "code",
   "execution_count": 5,
   "id": "2abb4cb3-907a-4405-866e-dd4591c4957b",
   "metadata": {
    "id": "2abb4cb3-907a-4405-866e-dd4591c4957b"
   },
   "outputs": [],
   "source": [
    "client = fdl.FiddlerApi(\n",
    "    url=URL,\n",
    "    org_id=ORG_ID,\n",
    "    auth_token=AUTH_TOKEN\n",
    ")"
   ]
  },
  {
   "cell_type": "markdown",
   "id": "d88c43f3-1b5e-427d-92ed-307299d73bea",
   "metadata": {
    "id": "d88c43f3-1b5e-427d-92ed-307299d73bea"
   },
   "source": [
    "Once you connect, you can create a new project by specifying a unique project ID in the client's [create_project](https://docs.fiddler.ai/reference/clientcreate_project) function."
   ]
  },
  {
   "cell_type": "code",
   "execution_count": 7,
   "id": "82ba61dc-a436-4186-8b07-68fa429d34d3",
   "metadata": {
    "colab": {
     "base_uri": "https://localhost:8080/"
    },
    "id": "82ba61dc-a436-4186-8b07-68fa429d34d3",
    "outputId": "e1055a05-fa15-45f8-fd78-5e20627b2417"
   },
   "outputs": [
    {
     "name": "stdout",
     "output_type": "stream",
     "text": [
      "Creating project: danny_credit_approval\n"
     ]
    }
   ],
   "source": [
    "PROJECT_ID = 'danny_credit_approval'\n",
    "\n",
    "if not PROJECT_ID in client.list_projects():\n",
    "    print(f'Creating project: {PROJECT_ID}')\n",
    "    client.create_project(PROJECT_ID)\n",
    "else:\n",
    "    print(f'Project: {PROJECT_ID} already exists')"
   ]
  },
  {
   "cell_type": "markdown",
   "id": "9900ae24-997b-4422-8349-b2a097025745",
   "metadata": {
    "id": "9900ae24-997b-4422-8349-b2a097025745"
   },
   "source": [
    "# 2. Upload a baseline dataset\n",
    "\n",
    "In this example, we'll be considering the case where we're a bank and we have **a model that predicts credit approval worthiness**.\n",
    "  \n",
    "In order to get insights into the model's performance, **Fiddler needs a small  sample of data that can serve as a baseline** for making comparisons with data in production.\n",
    "\n",
    "\n",
    "---\n",
    "\n",
    "\n",
    "*For more information on how to design a baseline dataset, [click here](https://docs.fiddler.ai/docs/designing-a-baseline-dataset).*"
   ]
  },
  {
   "cell_type": "code",
   "execution_count": 8,
   "id": "8a715829-783e-4f72-9fcf-0ff78379ba33",
   "metadata": {
    "colab": {
     "base_uri": "https://localhost:8080/",
     "height": 488
    },
    "id": "8a715829-783e-4f72-9fcf-0ff78379ba33",
    "outputId": "0031c673-d2ef-4fb7-98d6-d3248a5c5f68"
   },
   "outputs": [
    {
     "data": {
      "text/html": [
       "<div>\n",
       "<style scoped>\n",
       "    .dataframe tbody tr th:only-of-type {\n",
       "        vertical-align: middle;\n",
       "    }\n",
       "\n",
       "    .dataframe tbody tr th {\n",
       "        vertical-align: top;\n",
       "    }\n",
       "\n",
       "    .dataframe thead th {\n",
       "        text-align: right;\n",
       "    }\n",
       "</style>\n",
       "<table border=\"1\" class=\"dataframe\">\n",
       "  <thead>\n",
       "    <tr style=\"text-align: right;\">\n",
       "      <th></th>\n",
       "      <th>FLAG_OWN_CAR</th>\n",
       "      <th>FLAG_OWN_REALTY</th>\n",
       "      <th>NAME_INCOME_TYPE</th>\n",
       "      <th>NAME_EDUCATION_TYPE</th>\n",
       "      <th>NAME_FAMILY_STATUS</th>\n",
       "      <th>NAME_HOUSING_TYPE</th>\n",
       "      <th>DAYS_BIRTH</th>\n",
       "      <th>DAYS_EMPLOYED</th>\n",
       "      <th>CNT_FAM_MEMBERS</th>\n",
       "      <th>gender</th>\n",
       "      <th>race</th>\n",
       "      <th>income</th>\n",
       "      <th>paid_off</th>\n",
       "      <th>#_of_pastdues</th>\n",
       "      <th>no_loan</th>\n",
       "      <th>target</th>\n",
       "      <th>Approve_probability_of_credit_request</th>\n",
       "    </tr>\n",
       "  </thead>\n",
       "  <tbody>\n",
       "    <tr>\n",
       "      <th>0</th>\n",
       "      <td>1</td>\n",
       "      <td>1</td>\n",
       "      <td>2</td>\n",
       "      <td>1</td>\n",
       "      <td>0</td>\n",
       "      <td>0</td>\n",
       "      <td>32.890411</td>\n",
       "      <td>-12.443836</td>\n",
       "      <td>2.0</td>\n",
       "      <td>M</td>\n",
       "      <td>Other</td>\n",
       "      <td>49306.571969</td>\n",
       "      <td>0</td>\n",
       "      <td>3</td>\n",
       "      <td>1</td>\n",
       "      <td>0</td>\n",
       "      <td>0.024598</td>\n",
       "    </tr>\n",
       "    <tr>\n",
       "      <th>1</th>\n",
       "      <td>1</td>\n",
       "      <td>1</td>\n",
       "      <td>2</td>\n",
       "      <td>2</td>\n",
       "      <td>0</td>\n",
       "      <td>0</td>\n",
       "      <td>58.832877</td>\n",
       "      <td>-3.106849</td>\n",
       "      <td>2.0</td>\n",
       "      <td>F</td>\n",
       "      <td>Caucasian</td>\n",
       "      <td>139386.670908</td>\n",
       "      <td>9</td>\n",
       "      <td>10</td>\n",
       "      <td>0</td>\n",
       "      <td>0</td>\n",
       "      <td>0.200638</td>\n",
       "    </tr>\n",
       "    <tr>\n",
       "      <th>2</th>\n",
       "      <td>0</td>\n",
       "      <td>1</td>\n",
       "      <td>2</td>\n",
       "      <td>2</td>\n",
       "      <td>1</td>\n",
       "      <td>0</td>\n",
       "      <td>52.356164</td>\n",
       "      <td>-8.358904</td>\n",
       "      <td>1.0</td>\n",
       "      <td>M</td>\n",
       "      <td>Caucasian</td>\n",
       "      <td>144281.758418</td>\n",
       "      <td>0</td>\n",
       "      <td>0</td>\n",
       "      <td>22</td>\n",
       "      <td>1</td>\n",
       "      <td>0.826015</td>\n",
       "    </tr>\n",
       "    <tr>\n",
       "      <th>3</th>\n",
       "      <td>0</td>\n",
       "      <td>1</td>\n",
       "      <td>0</td>\n",
       "      <td>1</td>\n",
       "      <td>1</td>\n",
       "      <td>0</td>\n",
       "      <td>61.545205</td>\n",
       "      <td>1000.665753</td>\n",
       "      <td>1.0</td>\n",
       "      <td>F</td>\n",
       "      <td>Asian</td>\n",
       "      <td>158338.663878</td>\n",
       "      <td>0</td>\n",
       "      <td>0</td>\n",
       "      <td>15</td>\n",
       "      <td>1</td>\n",
       "      <td>0.808336</td>\n",
       "    </tr>\n",
       "    <tr>\n",
       "      <th>4</th>\n",
       "      <td>1</td>\n",
       "      <td>1</td>\n",
       "      <td>2</td>\n",
       "      <td>1</td>\n",
       "      <td>0</td>\n",
       "      <td>0</td>\n",
       "      <td>46.224658</td>\n",
       "      <td>-2.106849</td>\n",
       "      <td>2.0</td>\n",
       "      <td>F</td>\n",
       "      <td>Caucasian</td>\n",
       "      <td>134150.633849</td>\n",
       "      <td>0</td>\n",
       "      <td>0</td>\n",
       "      <td>60</td>\n",
       "      <td>1</td>\n",
       "      <td>0.986340</td>\n",
       "    </tr>\n",
       "    <tr>\n",
       "      <th>...</th>\n",
       "      <td>...</td>\n",
       "      <td>...</td>\n",
       "      <td>...</td>\n",
       "      <td>...</td>\n",
       "      <td>...</td>\n",
       "      <td>...</td>\n",
       "      <td>...</td>\n",
       "      <td>...</td>\n",
       "      <td>...</td>\n",
       "      <td>...</td>\n",
       "      <td>...</td>\n",
       "      <td>...</td>\n",
       "      <td>...</td>\n",
       "      <td>...</td>\n",
       "      <td>...</td>\n",
       "      <td>...</td>\n",
       "      <td>...</td>\n",
       "    </tr>\n",
       "    <tr>\n",
       "      <th>45980</th>\n",
       "      <td>1</td>\n",
       "      <td>1</td>\n",
       "      <td>2</td>\n",
       "      <td>2</td>\n",
       "      <td>0</td>\n",
       "      <td>0</td>\n",
       "      <td>38.334247</td>\n",
       "      <td>-2.178082</td>\n",
       "      <td>2.0</td>\n",
       "      <td>M</td>\n",
       "      <td>Asian</td>\n",
       "      <td>131966.029281</td>\n",
       "      <td>6</td>\n",
       "      <td>12</td>\n",
       "      <td>0</td>\n",
       "      <td>0</td>\n",
       "      <td>0.041951</td>\n",
       "    </tr>\n",
       "    <tr>\n",
       "      <th>45981</th>\n",
       "      <td>1</td>\n",
       "      <td>1</td>\n",
       "      <td>2</td>\n",
       "      <td>2</td>\n",
       "      <td>0</td>\n",
       "      <td>0</td>\n",
       "      <td>30.865753</td>\n",
       "      <td>-7.019178</td>\n",
       "      <td>4.0</td>\n",
       "      <td>M</td>\n",
       "      <td>Asian</td>\n",
       "      <td>129770.545151</td>\n",
       "      <td>0</td>\n",
       "      <td>0</td>\n",
       "      <td>18</td>\n",
       "      <td>1</td>\n",
       "      <td>0.685311</td>\n",
       "    </tr>\n",
       "    <tr>\n",
       "      <th>45982</th>\n",
       "      <td>0</td>\n",
       "      <td>1</td>\n",
       "      <td>2</td>\n",
       "      <td>2</td>\n",
       "      <td>1</td>\n",
       "      <td>0</td>\n",
       "      <td>36.512329</td>\n",
       "      <td>-9.936986</td>\n",
       "      <td>1.0</td>\n",
       "      <td>M</td>\n",
       "      <td>Caucasian</td>\n",
       "      <td>145865.051770</td>\n",
       "      <td>1</td>\n",
       "      <td>12</td>\n",
       "      <td>0</td>\n",
       "      <td>0</td>\n",
       "      <td>0.016415</td>\n",
       "    </tr>\n",
       "    <tr>\n",
       "      <th>45983</th>\n",
       "      <td>0</td>\n",
       "      <td>1</td>\n",
       "      <td>2</td>\n",
       "      <td>2</td>\n",
       "      <td>0</td>\n",
       "      <td>0</td>\n",
       "      <td>40.002740</td>\n",
       "      <td>-1.093151</td>\n",
       "      <td>4.0</td>\n",
       "      <td>F</td>\n",
       "      <td>Caucasian</td>\n",
       "      <td>120365.414155</td>\n",
       "      <td>0</td>\n",
       "      <td>2</td>\n",
       "      <td>0</td>\n",
       "      <td>0</td>\n",
       "      <td>0.180347</td>\n",
       "    </tr>\n",
       "    <tr>\n",
       "      <th>45984</th>\n",
       "      <td>0</td>\n",
       "      <td>1</td>\n",
       "      <td>2</td>\n",
       "      <td>2</td>\n",
       "      <td>0</td>\n",
       "      <td>0</td>\n",
       "      <td>54.846575</td>\n",
       "      <td>-21.863014</td>\n",
       "      <td>2.0</td>\n",
       "      <td>F</td>\n",
       "      <td>Caucasian</td>\n",
       "      <td>153237.284783</td>\n",
       "      <td>30</td>\n",
       "      <td>0</td>\n",
       "      <td>0</td>\n",
       "      <td>1</td>\n",
       "      <td>0.999725</td>\n",
       "    </tr>\n",
       "  </tbody>\n",
       "</table>\n",
       "<p>45985 rows × 17 columns</p>\n",
       "</div>"
      ],
      "text/plain": [
       "       FLAG_OWN_CAR  FLAG_OWN_REALTY  NAME_INCOME_TYPE  NAME_EDUCATION_TYPE  \\\n",
       "0                 1                1                 2                    1   \n",
       "1                 1                1                 2                    2   \n",
       "2                 0                1                 2                    2   \n",
       "3                 0                1                 0                    1   \n",
       "4                 1                1                 2                    1   \n",
       "...             ...              ...               ...                  ...   \n",
       "45980             1                1                 2                    2   \n",
       "45981             1                1                 2                    2   \n",
       "45982             0                1                 2                    2   \n",
       "45983             0                1                 2                    2   \n",
       "45984             0                1                 2                    2   \n",
       "\n",
       "       NAME_FAMILY_STATUS  NAME_HOUSING_TYPE  DAYS_BIRTH  DAYS_EMPLOYED  \\\n",
       "0                       0                  0   32.890411     -12.443836   \n",
       "1                       0                  0   58.832877      -3.106849   \n",
       "2                       1                  0   52.356164      -8.358904   \n",
       "3                       1                  0   61.545205    1000.665753   \n",
       "4                       0                  0   46.224658      -2.106849   \n",
       "...                   ...                ...         ...            ...   \n",
       "45980                   0                  0   38.334247      -2.178082   \n",
       "45981                   0                  0   30.865753      -7.019178   \n",
       "45982                   1                  0   36.512329      -9.936986   \n",
       "45983                   0                  0   40.002740      -1.093151   \n",
       "45984                   0                  0   54.846575     -21.863014   \n",
       "\n",
       "       CNT_FAM_MEMBERS gender       race         income  paid_off  \\\n",
       "0                  2.0      M      Other   49306.571969         0   \n",
       "1                  2.0      F  Caucasian  139386.670908         9   \n",
       "2                  1.0      M  Caucasian  144281.758418         0   \n",
       "3                  1.0      F      Asian  158338.663878         0   \n",
       "4                  2.0      F  Caucasian  134150.633849         0   \n",
       "...                ...    ...        ...            ...       ...   \n",
       "45980              2.0      M      Asian  131966.029281         6   \n",
       "45981              4.0      M      Asian  129770.545151         0   \n",
       "45982              1.0      M  Caucasian  145865.051770         1   \n",
       "45983              4.0      F  Caucasian  120365.414155         0   \n",
       "45984              2.0      F  Caucasian  153237.284783        30   \n",
       "\n",
       "       #_of_pastdues  no_loan  target  Approve_probability_of_credit_request  \n",
       "0                  3        1       0                               0.024598  \n",
       "1                 10        0       0                               0.200638  \n",
       "2                  0       22       1                               0.826015  \n",
       "3                  0       15       1                               0.808336  \n",
       "4                  0       60       1                               0.986340  \n",
       "...              ...      ...     ...                                    ...  \n",
       "45980             12        0       0                               0.041951  \n",
       "45981              0       18       1                               0.685311  \n",
       "45982             12        0       0                               0.016415  \n",
       "45983              2        0       0                               0.180347  \n",
       "45984              0        0       1                               0.999725  \n",
       "\n",
       "[45985 rows x 17 columns]"
      ]
     },
     "execution_count": 8,
     "metadata": {},
     "output_type": "execute_result"
    }
   ],
   "source": [
    "PATH_TO_BASELINE_CSV = 'https://media.githubusercontent.com/media/fiddler-labs/fiddler-examples/main/quickstart/data/intersectionally_unfair_baseline.csv'\n",
    "\n",
    "baseline_df = pd.read_csv(PATH_TO_BASELINE_CSV)\n",
    "baseline_df"
   ]
  },
  {
   "cell_type": "markdown",
   "id": "821605b6-263d-4c95-9f0e-0812cdbc9961",
   "metadata": {
    "id": "821605b6-263d-4c95-9f0e-0812cdbc9961"
   },
   "source": [
    "Fiddler uses this baseline dataset to keep track of important information about your data.\n",
    "  \n",
    "This includes **data types**, **data ranges**, and **unique values** for categorical variables.\n",
    "\n",
    "---\n",
    "\n",
    "You can construct a [DatasetInfo](https://docs.fiddler.ai/reference/fdldatasetinfo) object to be used as **a schema for keeping track of this information** by running the following code block."
   ]
  },
  {
   "cell_type": "code",
   "execution_count": 9,
   "id": "b1c15218-b987-4cf2-8f2b-e413c7aae49a",
   "metadata": {
    "colab": {
     "base_uri": "https://localhost:8080/",
     "height": 599
    },
    "id": "b1c15218-b987-4cf2-8f2b-e413c7aae49a",
    "outputId": "e1d019e2-001d-428d-d599-74b608aa0ca0"
   },
   "outputs": [
    {
     "data": {
      "text/html": [
       "<div style=\"border: thin solid rgb(41, 57, 141); padding: 10px;\"><h3 style=\"text-align: center; margin: auto;\">DatasetInfo\n",
       "</h3><pre>display_name: \n",
       "files: []\n",
       "</pre><hr>Columns:<div>\n",
       "<style scoped>\n",
       "    .dataframe tbody tr th:only-of-type {\n",
       "        vertical-align: middle;\n",
       "    }\n",
       "\n",
       "    .dataframe tbody tr th {\n",
       "        vertical-align: top;\n",
       "    }\n",
       "\n",
       "    .dataframe thead th {\n",
       "        text-align: right;\n",
       "    }\n",
       "</style>\n",
       "<table border=\"1\" class=\"dataframe\">\n",
       "  <thead>\n",
       "    <tr style=\"text-align: right;\">\n",
       "      <th></th>\n",
       "      <th>column</th>\n",
       "      <th>dtype</th>\n",
       "      <th>count(possible_values)</th>\n",
       "      <th>is_nullable</th>\n",
       "      <th>value_range</th>\n",
       "    </tr>\n",
       "  </thead>\n",
       "  <tbody>\n",
       "    <tr>\n",
       "      <th>0</th>\n",
       "      <td>FLAG_OWN_CAR</td>\n",
       "      <td>INTEGER</td>\n",
       "      <td></td>\n",
       "      <td>False</td>\n",
       "      <td>0 - 1</td>\n",
       "    </tr>\n",
       "    <tr>\n",
       "      <th>1</th>\n",
       "      <td>FLAG_OWN_REALTY</td>\n",
       "      <td>INTEGER</td>\n",
       "      <td></td>\n",
       "      <td>False</td>\n",
       "      <td>0 - 1</td>\n",
       "    </tr>\n",
       "    <tr>\n",
       "      <th>2</th>\n",
       "      <td>NAME_INCOME_TYPE</td>\n",
       "      <td>INTEGER</td>\n",
       "      <td></td>\n",
       "      <td>False</td>\n",
       "      <td>0 - 2</td>\n",
       "    </tr>\n",
       "    <tr>\n",
       "      <th>3</th>\n",
       "      <td>NAME_EDUCATION_TYPE</td>\n",
       "      <td>INTEGER</td>\n",
       "      <td></td>\n",
       "      <td>False</td>\n",
       "      <td>0 - 2</td>\n",
       "    </tr>\n",
       "    <tr>\n",
       "      <th>4</th>\n",
       "      <td>NAME_FAMILY_STATUS</td>\n",
       "      <td>INTEGER</td>\n",
       "      <td></td>\n",
       "      <td>False</td>\n",
       "      <td>0 - 1</td>\n",
       "    </tr>\n",
       "    <tr>\n",
       "      <th>5</th>\n",
       "      <td>NAME_HOUSING_TYPE</td>\n",
       "      <td>INTEGER</td>\n",
       "      <td></td>\n",
       "      <td>False</td>\n",
       "      <td>0 - 1</td>\n",
       "    </tr>\n",
       "    <tr>\n",
       "      <th>6</th>\n",
       "      <td>DAYS_BIRTH</td>\n",
       "      <td>FLOAT</td>\n",
       "      <td></td>\n",
       "      <td>False</td>\n",
       "      <td>20.52 - 69.04</td>\n",
       "    </tr>\n",
       "    <tr>\n",
       "      <th>7</th>\n",
       "      <td>DAYS_EMPLOYED</td>\n",
       "      <td>FLOAT</td>\n",
       "      <td></td>\n",
       "      <td>False</td>\n",
       "      <td>-48.0 - 1,001.0</td>\n",
       "    </tr>\n",
       "    <tr>\n",
       "      <th>8</th>\n",
       "      <td>CNT_FAM_MEMBERS</td>\n",
       "      <td>FLOAT</td>\n",
       "      <td></td>\n",
       "      <td>False</td>\n",
       "      <td>1.0 - 39.0</td>\n",
       "    </tr>\n",
       "    <tr>\n",
       "      <th>9</th>\n",
       "      <td>gender</td>\n",
       "      <td>CATEGORY</td>\n",
       "      <td>2</td>\n",
       "      <td>False</td>\n",
       "      <td></td>\n",
       "    </tr>\n",
       "    <tr>\n",
       "      <th>10</th>\n",
       "      <td>race</td>\n",
       "      <td>CATEGORY</td>\n",
       "      <td>5</td>\n",
       "      <td>False</td>\n",
       "      <td></td>\n",
       "    </tr>\n",
       "    <tr>\n",
       "      <th>11</th>\n",
       "      <td>income</td>\n",
       "      <td>FLOAT</td>\n",
       "      <td></td>\n",
       "      <td>False</td>\n",
       "      <td>10,350.0 - 192,700.0</td>\n",
       "    </tr>\n",
       "    <tr>\n",
       "      <th>12</th>\n",
       "      <td>paid_off</td>\n",
       "      <td>INTEGER</td>\n",
       "      <td></td>\n",
       "      <td>False</td>\n",
       "      <td>0 - 60</td>\n",
       "    </tr>\n",
       "    <tr>\n",
       "      <th>13</th>\n",
       "      <td>#_of_pastdues</td>\n",
       "      <td>INTEGER</td>\n",
       "      <td></td>\n",
       "      <td>False</td>\n",
       "      <td>0 - 61</td>\n",
       "    </tr>\n",
       "    <tr>\n",
       "      <th>14</th>\n",
       "      <td>no_loan</td>\n",
       "      <td>INTEGER</td>\n",
       "      <td></td>\n",
       "      <td>False</td>\n",
       "      <td>0 - 61</td>\n",
       "    </tr>\n",
       "    <tr>\n",
       "      <th>15</th>\n",
       "      <td>target</td>\n",
       "      <td>INTEGER</td>\n",
       "      <td></td>\n",
       "      <td>False</td>\n",
       "      <td>0 - 1</td>\n",
       "    </tr>\n",
       "    <tr>\n",
       "      <th>16</th>\n",
       "      <td>Approve_probability_of_credit_request</td>\n",
       "      <td>FLOAT</td>\n",
       "      <td></td>\n",
       "      <td>False</td>\n",
       "      <td>0.0 - 1.0</td>\n",
       "    </tr>\n",
       "  </tbody>\n",
       "</table>\n",
       "</div></div>"
      ],
      "text/plain": [
       "DatasetInfo:\n",
       "  display_name: \n",
       "  files: []\n",
       "  columns:\n",
       "                                       column     dtype count(possible_values)  \\\n",
       "    0                            FLAG_OWN_CAR   INTEGER                          \n",
       "    1                         FLAG_OWN_REALTY   INTEGER                          \n",
       "    2                        NAME_INCOME_TYPE   INTEGER                          \n",
       "    3                     NAME_EDUCATION_TYPE   INTEGER                          \n",
       "    4                      NAME_FAMILY_STATUS   INTEGER                          \n",
       "    5                       NAME_HOUSING_TYPE   INTEGER                          \n",
       "    6                              DAYS_BIRTH     FLOAT                          \n",
       "    7                           DAYS_EMPLOYED     FLOAT                          \n",
       "    8                         CNT_FAM_MEMBERS     FLOAT                          \n",
       "    9                                  gender  CATEGORY                      2   \n",
       "    10                                   race  CATEGORY                      5   \n",
       "    11                                 income     FLOAT                          \n",
       "    12                               paid_off   INTEGER                          \n",
       "    13                          #_of_pastdues   INTEGER                          \n",
       "    14                                no_loan   INTEGER                          \n",
       "    15                                 target   INTEGER                          \n",
       "    16  Approve_probability_of_credit_request     FLOAT                          \n",
       "\n",
       "       is_nullable            value_range  \n",
       "    0        False          0 - 1          \n",
       "    1        False          0 - 1          \n",
       "    2        False          0 - 2          \n",
       "    3        False          0 - 2          \n",
       "    4        False          0 - 1          \n",
       "    5        False          0 - 1          \n",
       "    6        False      20.52 - 69.04      \n",
       "    7        False      -48.0 - 1,001.0    \n",
       "    8        False        1.0 - 39.0       \n",
       "    9        False                         \n",
       "    10       False                         \n",
       "    11       False   10,350.0 - 192,700.0  \n",
       "    12       False          0 - 60         \n",
       "    13       False          0 - 61         \n",
       "    14       False          0 - 61         \n",
       "    15       False          0 - 1          \n",
       "    16       False        0.0 - 1.0        "
      ]
     },
     "execution_count": 9,
     "metadata": {},
     "output_type": "execute_result"
    }
   ],
   "source": [
    "dataset_info = fdl.DatasetInfo.from_dataframe(baseline_df, max_inferred_cardinality=100)\n",
    "dataset_info"
   ]
  },
  {
   "cell_type": "markdown",
   "id": "a44dc2e6-37a0-4411-8a7e-420a12942ab4",
   "metadata": {
    "id": "a44dc2e6-37a0-4411-8a7e-420a12942ab4"
   },
   "source": [
    "Then use the client's [upload_dataset](https://docs.fiddler.ai/reference/clientupload_dataset) function to send this information to Fiddler.\n",
    "  \n",
    "*Just include:*\n",
    "1. A unique dataset ID\n",
    "2. The baseline dataset as a pandas DataFrame\n",
    "3. The `DatasetInfo` object you just created"
   ]
  },
  {
   "cell_type": "code",
   "execution_count": 10,
   "id": "a47e6262-bd7d-4162-89ef-c2d1f140eb40",
   "metadata": {
    "colab": {
     "base_uri": "https://localhost:8080/"
    },
    "id": "a47e6262-bd7d-4162-89ef-c2d1f140eb40",
    "outputId": "b1d5079a-9241-4d01-faac-50f7992fe177"
   },
   "outputs": [
    {
     "data": {
      "text/plain": [
       "{'uuid': 'd9bfc31e-781a-4ccf-b984-859395e1a2b8',\n",
       " 'name': 'Ingestion dataset Upload',\n",
       " 'info': {'project_name': 'danny_credit_approval',\n",
       "  'resource_name': 'intersectionally_unfair',\n",
       "  'resource_type': 'DATASET'},\n",
       " 'status': 'SUCCESS',\n",
       " 'progress': 100.0,\n",
       " 'error_message': None,\n",
       " 'error_reason': None}"
      ]
     },
     "execution_count": 10,
     "metadata": {},
     "output_type": "execute_result"
    }
   ],
   "source": [
    "DATASET_ID = 'intersectionally_unfair'\n",
    "\n",
    "client.upload_dataset(\n",
    "    project_id=PROJECT_ID,\n",
    "    dataset_id=DATASET_ID,\n",
    "    dataset={\n",
    "        'baseline': baseline_df\n",
    "    },\n",
    "    info=dataset_info\n",
    ")"
   ]
  },
  {
   "cell_type": "markdown",
   "id": "7e58c04c-9735-4b16-a67e-85397debdd9d",
   "metadata": {
    "id": "7e58c04c-9735-4b16-a67e-85397debdd9d"
   },
   "source": [
    "Within your Fiddler environment's UI, you should now be able to see the newly created dataset within your project."
   ]
  },
  {
   "cell_type": "markdown",
   "id": "15c6af46-dd9b-46bf-a665-6224362bfa24",
   "metadata": {
    "id": "15c6af46-dd9b-46bf-a665-6224362bfa24"
   },
   "source": [
    "## 3. Upload your model package\n",
    "\n",
    "Now it's time to upload your model package to Fiddler.  To complete this step, we need to ensure we have 2 assets in a directory.  It doesn't matter what this directory is called, but for this example we will call it **/model**."
   ]
  },
  {
   "cell_type": "code",
   "execution_count": 11,
   "id": "df90f373-7f0a-4475-971a-d847eff7208f",
   "metadata": {
    "id": "df90f373-7f0a-4475-971a-d847eff7208f"
   },
   "outputs": [],
   "source": [
    "import os\n",
    "os.makedirs(\"model\")"
   ]
  },
  {
   "cell_type": "markdown",
   "id": "e51a7474-d52c-4257-8494-cc610e027804",
   "metadata": {
    "id": "e51a7474-d52c-4257-8494-cc610e027804"
   },
   "source": [
    "***Your model package directory will need to contain:***\n",
    "1. A **package.py** file which explains to Fiddler how to invoke your model's prediction endpoint\n",
    "2. And the **model artifact** itself\n",
    "3. (Optional) A **requirements.txt** specifying which python libraries need by package.py.  This example doesn't require any additional libraries to be installed so a requirements.txt file is not needed here.\n",
    "\n",
    "---\n",
    "\n",
    "### 3.1.a  Create the **model_info** object \n",
    "\n",
    "This is done by creating our [model_info](https://docs.fiddler.ai/reference/fdlmodelinfo) object.\n"
   ]
  },
  {
   "cell_type": "code",
   "execution_count": 14,
   "id": "42d35d83-8548-400b-b648-88836cc9bc49",
   "metadata": {
    "colab": {
     "base_uri": "https://localhost:8080/",
     "height": 952
    },
    "id": "42d35d83-8548-400b-b648-88836cc9bc49",
    "outputId": "93b9c25e-3fdd-4ad0-d5df-f3a182c9ad2c",
    "scrolled": true
   },
   "outputs": [
    {
     "data": {
      "text/html": [
       "<div style=\"border: thin solid rgb(41, 57, 141); padding: 10px;\"><h3 style=\"text-align: center; margin: auto;\">ModelInfo\n",
       "</h3><pre>  display_name: Credit model with systemic racial and gender bias\n",
       "  description: logistic reg model\n",
       "  input_type: ModelInputType.TABULAR\n",
       "  model_task: ModelTask.BINARY_CLASSIFICATION\n",
       "  target_class_order: [0, 1]\n",
       "  preferred_explanation: None\n",
       "  custom_explanation_names: []\n",
       "  misc: {}</pre><hr>targets:<div>\n",
       "<style scoped>\n",
       "    .dataframe tbody tr th:only-of-type {\n",
       "        vertical-align: middle;\n",
       "    }\n",
       "\n",
       "    .dataframe tbody tr th {\n",
       "        vertical-align: top;\n",
       "    }\n",
       "\n",
       "    .dataframe thead th {\n",
       "        text-align: right;\n",
       "    }\n",
       "</style>\n",
       "<table border=\"1\" class=\"dataframe\">\n",
       "  <thead>\n",
       "    <tr style=\"text-align: right;\">\n",
       "      <th></th>\n",
       "      <th>column</th>\n",
       "      <th>dtype</th>\n",
       "      <th>count(possible_values)</th>\n",
       "      <th>is_nullable</th>\n",
       "      <th>value_range</th>\n",
       "    </tr>\n",
       "  </thead>\n",
       "  <tbody>\n",
       "    <tr>\n",
       "      <th>0</th>\n",
       "      <td>target</td>\n",
       "      <td>INTEGER</td>\n",
       "      <td></td>\n",
       "      <td>False</td>\n",
       "      <td>0 - 1</td>\n",
       "    </tr>\n",
       "  </tbody>\n",
       "</table>\n",
       "</div><hr>inputs:<div>\n",
       "<style scoped>\n",
       "    .dataframe tbody tr th:only-of-type {\n",
       "        vertical-align: middle;\n",
       "    }\n",
       "\n",
       "    .dataframe tbody tr th {\n",
       "        vertical-align: top;\n",
       "    }\n",
       "\n",
       "    .dataframe thead th {\n",
       "        text-align: right;\n",
       "    }\n",
       "</style>\n",
       "<table border=\"1\" class=\"dataframe\">\n",
       "  <thead>\n",
       "    <tr style=\"text-align: right;\">\n",
       "      <th></th>\n",
       "      <th>column</th>\n",
       "      <th>dtype</th>\n",
       "      <th>count(possible_values)</th>\n",
       "      <th>is_nullable</th>\n",
       "      <th>value_range</th>\n",
       "    </tr>\n",
       "  </thead>\n",
       "  <tbody>\n",
       "    <tr>\n",
       "      <th>0</th>\n",
       "      <td>FLAG_OWN_CAR</td>\n",
       "      <td>INTEGER</td>\n",
       "      <td></td>\n",
       "      <td>False</td>\n",
       "      <td>0 - 1</td>\n",
       "    </tr>\n",
       "    <tr>\n",
       "      <th>1</th>\n",
       "      <td>FLAG_OWN_REALTY</td>\n",
       "      <td>INTEGER</td>\n",
       "      <td></td>\n",
       "      <td>False</td>\n",
       "      <td>0 - 1</td>\n",
       "    </tr>\n",
       "    <tr>\n",
       "      <th>2</th>\n",
       "      <td>NAME_INCOME_TYPE</td>\n",
       "      <td>INTEGER</td>\n",
       "      <td></td>\n",
       "      <td>False</td>\n",
       "      <td>0 - 2</td>\n",
       "    </tr>\n",
       "    <tr>\n",
       "      <th>3</th>\n",
       "      <td>NAME_EDUCATION_TYPE</td>\n",
       "      <td>INTEGER</td>\n",
       "      <td></td>\n",
       "      <td>False</td>\n",
       "      <td>0 - 2</td>\n",
       "    </tr>\n",
       "    <tr>\n",
       "      <th>4</th>\n",
       "      <td>NAME_FAMILY_STATUS</td>\n",
       "      <td>INTEGER</td>\n",
       "      <td></td>\n",
       "      <td>False</td>\n",
       "      <td>0 - 1</td>\n",
       "    </tr>\n",
       "    <tr>\n",
       "      <th>5</th>\n",
       "      <td>NAME_HOUSING_TYPE</td>\n",
       "      <td>INTEGER</td>\n",
       "      <td></td>\n",
       "      <td>False</td>\n",
       "      <td>0 - 1</td>\n",
       "    </tr>\n",
       "    <tr>\n",
       "      <th>6</th>\n",
       "      <td>DAYS_BIRTH</td>\n",
       "      <td>FLOAT</td>\n",
       "      <td></td>\n",
       "      <td>False</td>\n",
       "      <td>20.52 - 69.04</td>\n",
       "    </tr>\n",
       "    <tr>\n",
       "      <th>7</th>\n",
       "      <td>DAYS_EMPLOYED</td>\n",
       "      <td>FLOAT</td>\n",
       "      <td></td>\n",
       "      <td>False</td>\n",
       "      <td>-48.0 - 1,001.0</td>\n",
       "    </tr>\n",
       "    <tr>\n",
       "      <th>8</th>\n",
       "      <td>CNT_FAM_MEMBERS</td>\n",
       "      <td>FLOAT</td>\n",
       "      <td></td>\n",
       "      <td>False</td>\n",
       "      <td>1.0 - 39.0</td>\n",
       "    </tr>\n",
       "    <tr>\n",
       "      <th>9</th>\n",
       "      <td>income</td>\n",
       "      <td>FLOAT</td>\n",
       "      <td></td>\n",
       "      <td>False</td>\n",
       "      <td>10,350.0 - 192,700.0</td>\n",
       "    </tr>\n",
       "    <tr>\n",
       "      <th>10</th>\n",
       "      <td>paid_off</td>\n",
       "      <td>INTEGER</td>\n",
       "      <td></td>\n",
       "      <td>False</td>\n",
       "      <td>0 - 60</td>\n",
       "    </tr>\n",
       "    <tr>\n",
       "      <th>11</th>\n",
       "      <td>#_of_pastdues</td>\n",
       "      <td>INTEGER</td>\n",
       "      <td></td>\n",
       "      <td>False</td>\n",
       "      <td>0 - 61</td>\n",
       "    </tr>\n",
       "    <tr>\n",
       "      <th>12</th>\n",
       "      <td>no_loan</td>\n",
       "      <td>INTEGER</td>\n",
       "      <td></td>\n",
       "      <td>False</td>\n",
       "      <td>0 - 61</td>\n",
       "    </tr>\n",
       "  </tbody>\n",
       "</table>\n",
       "</div><hr>outputs:<div>\n",
       "<style scoped>\n",
       "    .dataframe tbody tr th:only-of-type {\n",
       "        vertical-align: middle;\n",
       "    }\n",
       "\n",
       "    .dataframe tbody tr th {\n",
       "        vertical-align: top;\n",
       "    }\n",
       "\n",
       "    .dataframe thead th {\n",
       "        text-align: right;\n",
       "    }\n",
       "</style>\n",
       "<table border=\"1\" class=\"dataframe\">\n",
       "  <thead>\n",
       "    <tr style=\"text-align: right;\">\n",
       "      <th></th>\n",
       "      <th>column</th>\n",
       "      <th>dtype</th>\n",
       "      <th>count(possible_values)</th>\n",
       "      <th>is_nullable</th>\n",
       "      <th>value_range</th>\n",
       "    </tr>\n",
       "  </thead>\n",
       "  <tbody>\n",
       "    <tr>\n",
       "      <th>0</th>\n",
       "      <td>Approve_probability_of_credit_request</td>\n",
       "      <td>FLOAT</td>\n",
       "      <td></td>\n",
       "      <td>False</td>\n",
       "      <td>0.0 - 1.0</td>\n",
       "    </tr>\n",
       "  </tbody>\n",
       "</table>\n",
       "</div><hr>metadata:<div>\n",
       "<style scoped>\n",
       "    .dataframe tbody tr th:only-of-type {\n",
       "        vertical-align: middle;\n",
       "    }\n",
       "\n",
       "    .dataframe tbody tr th {\n",
       "        vertical-align: top;\n",
       "    }\n",
       "\n",
       "    .dataframe thead th {\n",
       "        text-align: right;\n",
       "    }\n",
       "</style>\n",
       "<table border=\"1\" class=\"dataframe\">\n",
       "  <thead>\n",
       "    <tr style=\"text-align: right;\">\n",
       "      <th></th>\n",
       "      <th>column</th>\n",
       "      <th>dtype</th>\n",
       "      <th>count(possible_values)</th>\n",
       "      <th>is_nullable</th>\n",
       "      <th>value_range</th>\n",
       "    </tr>\n",
       "  </thead>\n",
       "  <tbody>\n",
       "    <tr>\n",
       "      <th>0</th>\n",
       "      <td>gender</td>\n",
       "      <td>CATEGORY</td>\n",
       "      <td>2</td>\n",
       "      <td>False</td>\n",
       "      <td></td>\n",
       "    </tr>\n",
       "    <tr>\n",
       "      <th>1</th>\n",
       "      <td>race</td>\n",
       "      <td>CATEGORY</td>\n",
       "      <td>5</td>\n",
       "      <td>False</td>\n",
       "      <td></td>\n",
       "    </tr>\n",
       "  </tbody>\n",
       "</table>\n",
       "</div></div>"
      ],
      "text/plain": [
       "ModelInfo:\n",
       "  display_name: Credit model with systemic racial and gender bias\n",
       "  description: logistic reg model\n",
       "  input_type: ModelInputType.TABULAR\n",
       "  model_task: ModelTask.BINARY_CLASSIFICATION\n",
       "  target_class_order: [0, 1]\n",
       "  preferred_explanation: None\n",
       "  custom_explanation_names: []\n",
       "  inputs:\n",
       "                     column    dtype count(possible_values) is_nullable  \\\n",
       "    0          FLAG_OWN_CAR  INTEGER                              False   \n",
       "    1       FLAG_OWN_REALTY  INTEGER                              False   \n",
       "    2      NAME_INCOME_TYPE  INTEGER                              False   \n",
       "    3   NAME_EDUCATION_TYPE  INTEGER                              False   \n",
       "    4    NAME_FAMILY_STATUS  INTEGER                              False   \n",
       "    5     NAME_HOUSING_TYPE  INTEGER                              False   \n",
       "    6            DAYS_BIRTH    FLOAT                              False   \n",
       "    7         DAYS_EMPLOYED    FLOAT                              False   \n",
       "    8       CNT_FAM_MEMBERS    FLOAT                              False   \n",
       "    9                income    FLOAT                              False   \n",
       "    10             paid_off  INTEGER                              False   \n",
       "    11        #_of_pastdues  INTEGER                              False   \n",
       "    12              no_loan  INTEGER                              False   \n",
       "\n",
       "                  value_range  \n",
       "    0           0 - 1          \n",
       "    1           0 - 1          \n",
       "    2           0 - 2          \n",
       "    3           0 - 2          \n",
       "    4           0 - 1          \n",
       "    5           0 - 1          \n",
       "    6       20.52 - 69.04      \n",
       "    7       -48.0 - 1,001.0    \n",
       "    8         1.0 - 39.0       \n",
       "    9    10,350.0 - 192,700.0  \n",
       "    10          0 - 60         \n",
       "    11          0 - 61         \n",
       "    12          0 - 61         \n",
       "  outputs:\n",
       "                                      column  dtype count(possible_values)  \\\n",
       "    0  Approve_probability_of_credit_request  FLOAT                          \n",
       "\n",
       "      is_nullable value_range  \n",
       "    0       False   0.0 - 1.0  \n",
       "\n",
       "  metadata:\n",
       "       column     dtype  count(possible_values) is_nullable value_range\n",
       "    0  gender  CATEGORY                       2       False            \n",
       "    1    race  CATEGORY                       5       False            \n",
       "\n",
       "  targets:\n",
       "       column    dtype count(possible_values) is_nullable value_range\n",
       "    0  target  INTEGER                              False       0 - 1  misc:\n",
       "    {}"
      ]
     },
     "execution_count": 14,
     "metadata": {},
     "output_type": "execute_result"
    }
   ],
   "source": [
    "metadata_cols = ['gender','race']\n",
    "feature_columns = ['FLAG_OWN_CAR', 'FLAG_OWN_REALTY', 'NAME_INCOME_TYPE', 'NAME_EDUCATION_TYPE',\n",
    "       'NAME_FAMILY_STATUS', 'NAME_HOUSING_TYPE', 'DAYS_BIRTH', 'DAYS_EMPLOYED',\n",
    "       'CNT_FAM_MEMBERS', 'income', 'paid_off', '#_of_pastdues', 'no_loan']\n",
    "\n",
    "model_info = fdl.ModelInfo.from_dataset_info(\n",
    "    dataset_info=client.get_dataset_info(PROJECT_ID, DATASET_ID),\n",
    "    target='target', \n",
    "    features=feature_columns,\n",
    "    model_task = fdl.ModelTask.BINARY_CLASSIFICATION,\n",
    "    metadata_cols = metadata_cols,\n",
    "    outputs=['Approve_probability_of_credit_request'],\n",
    "    display_name='Credit model with systemic racial and gender bias',\n",
    "    description='logistic reg model'\n",
    ")\n",
    "\n",
    "model_info"
   ]
  },
  {
   "cell_type": "markdown",
   "id": "04d7c3e5",
   "metadata": {},
   "source": [
    "### 3.1.b Add Model Information to Fiddler"
   ]
  },
  {
   "cell_type": "code",
   "execution_count": 15,
   "id": "9VM-PLniLDg3",
   "metadata": {
    "colab": {
     "base_uri": "https://localhost:8080/"
    },
    "id": "9VM-PLniLDg3",
    "outputId": "7388f960-f740-4f74-e915-97628153f173"
   },
   "outputs": [
    {
     "data": {
      "text/plain": [
       "Model(id=14312, name='intersectionally_unfair', project_name='danny_credit_approval', organization_name='preprod', info={'name': 'Credit model with systemic racial and gender bias', 'input-type': 'structured', 'model-task': 'binary_classification', 'datasets': ['intersectionally_unfair'], 'inputs': [{'column-name': 'FLAG_OWN_CAR', 'data-type': 'int', 'is-nullable': False, 'value-range-min': 0, 'value-range-max': 1}, {'column-name': 'FLAG_OWN_REALTY', 'data-type': 'int', 'is-nullable': False, 'value-range-min': 0, 'value-range-max': 1}, {'column-name': 'NAME_INCOME_TYPE', 'data-type': 'int', 'is-nullable': False, 'value-range-min': 0, 'value-range-max': 2}, {'column-name': 'NAME_EDUCATION_TYPE', 'data-type': 'int', 'is-nullable': False, 'value-range-min': 0, 'value-range-max': 2}, {'column-name': 'NAME_FAMILY_STATUS', 'data-type': 'int', 'is-nullable': False, 'value-range-min': 0, 'value-range-max': 1}, {'column-name': 'NAME_HOUSING_TYPE', 'data-type': 'int', 'is-nullable': False, 'value-range-min': 0, 'value-range-max': 1}, {'column-name': 'DAYS_BIRTH', 'data-type': 'float', 'is-nullable': False, 'value-range-min': 20.51780821917808, 'value-range-max': 69.04383561643836}, {'column-name': 'DAYS_EMPLOYED', 'data-type': 'float', 'is-nullable': False, 'value-range-min': -48.03013698630137, 'value-range-max': 1000.6657534246576}, {'column-name': 'CNT_FAM_MEMBERS', 'data-type': 'float', 'is-nullable': False, 'value-range-min': 1.0, 'value-range-max': 39.0}, {'column-name': 'income', 'data-type': 'float', 'is-nullable': False, 'value-range-min': 10353.106938498982, 'value-range-max': 192719.431954991}, {'column-name': 'paid_off', 'data-type': 'int', 'is-nullable': False, 'value-range-min': 0, 'value-range-max': 60}, {'column-name': '#_of_pastdues', 'data-type': 'int', 'is-nullable': False, 'value-range-min': 0, 'value-range-max': 61}, {'column-name': 'no_loan', 'data-type': 'int', 'is-nullable': False, 'value-range-min': 0, 'value-range-max': 61}], 'outputs': [{'column-name': 'Approve_probability_of_credit_request', 'data-type': 'float', 'is-nullable': False, 'value-range-min': 1.828295269186137e-11, 'value-range-max': 0.9999999216676402}], 'targets': [{'column-name': 'target', 'data-type': 'int', 'is-nullable': False, 'value-range-min': 0, 'value-range-max': 1}], 'target-class-order': [0, 1], 'metadata': [{'column-name': 'gender', 'data-type': 'category', 'possible-values': ['F', 'M'], 'is-nullable': False}, {'column-name': 'race', 'data-type': 'category', 'possible-values': ['African_American', 'Asian', 'Caucasian', 'Other', 'Pacific_Islander'], 'is-nullable': False}], 'description': 'logistic reg model', 'artifact_status': 'no_model', 'binary_classification_threshold': 0.5, 'schema_version': '1.2', 'custom-explanation-names': []}, file_list=[], model_type=None, framework=None, requirements=None, job_uuid=UUID('16c5fd36-b4ce-4601-b078-80cc6a50c11a'))"
      ]
     },
     "execution_count": 15,
     "metadata": {},
     "output_type": "execute_result"
    }
   ],
   "source": [
    "MODEL_ID = 'intersectionally_unfair'\n",
    "\n",
    "client.add_model(\n",
    "    project_id=PROJECT_ID,\n",
    "    dataset_id=DATASET_ID,\n",
    "    model_id=MODEL_ID,\n",
    "    model_info=model_info\n",
    ")"
   ]
  },
  {
   "cell_type": "markdown",
   "id": "83bb1f43-dd33-473d-b788-086cbbb3d10d",
   "metadata": {
    "id": "83bb1f43-dd33-473d-b788-086cbbb3d10d"
   },
   "source": [
    "### 3.2 Create the **package.py** file\n",
    "\n",
    "The contents of the cell below will be written into our ***package.py*** file.  This is the step that will be most unique based on model type, framework and use case.  The model's ***package.py*** file also allows for preprocessing transformations and other processing before the model's prediction endpoint is called.  For more information about how to create the ***package.py*** file for a variety of model tasks and frameworks, please reference the [Uploading a Model Artifact](https://docs.fiddler.ai/docs/uploading-a-model-artifact#packagepy-script) section of the Fiddler product documentation."
   ]
  },
  {
   "cell_type": "code",
   "execution_count": 16,
   "id": "0fa0e075-34cf-425b-9fb5-d773c507cc48",
   "metadata": {
    "colab": {
     "base_uri": "https://localhost:8080/"
    },
    "id": "0fa0e075-34cf-425b-9fb5-d773c507cc48",
    "outputId": "5c3ea18d-a68c-46f0-897d-0ff183e14044"
   },
   "outputs": [
    {
     "name": "stdout",
     "output_type": "stream",
     "text": [
      "Writing model/package.py\n"
     ]
    }
   ],
   "source": [
    "%%writefile model/package.py\n",
    "\n",
    "import pickle\n",
    "from pathlib import Path\n",
    "import pandas as pd\n",
    "\n",
    "PACKAGE_PATH = Path(__file__).parent\n",
    "\n",
    "class SklearnModelPackage:\n",
    "\n",
    "    def __init__(self):\n",
    "        self.is_classifier = True\n",
    "        self.is_multiclass = False\n",
    "        self.output_columns = ['Approve_probability_of_credit_request']\n",
    "        with open(PACKAGE_PATH / 'model_unfair.pkl', 'rb') as infile:\n",
    "            self.model = pickle.load(infile)\n",
    "\n",
    "    def predict(self, input_df):\n",
    "        if self.is_classifier:\n",
    "            if self.is_multiclass:\n",
    "                predict_fn = self.model.predict_proba\n",
    "            else:\n",
    "                def predict_fn(x):\n",
    "                    return self.model.predict_proba(x)[:, 1]\n",
    "        else:\n",
    "            predict_fn = self.model.predict\n",
    "        return pd.DataFrame(predict_fn(input_df), columns=self.output_columns)\n",
    "\n",
    "def get_model():\n",
    "    return SklearnModelPackage()"
   ]
  },
  {
   "cell_type": "markdown",
   "id": "cda4097b-3a18-405d-8f01-fde414fea49f",
   "metadata": {
    "id": "cda4097b-3a18-405d-8f01-fde414fea49f"
   },
   "source": [
    "### 3.3  Ensure your model's artifact is in the **/model** directory\n",
    "\n",
    "Make sure your model artifact (*e.g. the model_unfair.pkl file*) is also present in the model package directory.  The following cell will move this model's pkl file into our */model* directory."
   ]
  },
  {
   "cell_type": "code",
   "execution_count": 17,
   "id": "26f8b88f-d5cf-4156-929d-751b175abf54",
   "metadata": {
    "colab": {
     "base_uri": "https://localhost:8080/"
    },
    "id": "26f8b88f-d5cf-4156-929d-751b175abf54",
    "outputId": "b676bd1b-a62e-4da1-83ac-c46d69d8e69a"
   },
   "outputs": [
    {
     "data": {
      "text/plain": [
       "('model/model_unfair.pkl', <http.client.HTTPMessage at 0x7f7a35033b50>)"
      ]
     },
     "execution_count": 17,
     "metadata": {},
     "output_type": "execute_result"
    }
   ],
   "source": [
    "import urllib.request\n",
    "urllib.request.urlretrieve(\"https://raw.githubusercontent.com/fiddler-labs/fiddler-examples/main/quickstart/models/model_unfair.pkl\", \"model/model_unfair.pkl\")"
   ]
  },
  {
   "cell_type": "markdown",
   "id": "c1f2efce",
   "metadata": {},
   "source": [
    "### 3.4 Define Model Parameters \n",
    "\n",
    "This is done by creating our [DEPLOYMENT_PARAMETERS](https://docs.fiddler.ai/reference/fdldeploymentparams) object."
   ]
  },
  {
   "cell_type": "code",
   "execution_count": 18,
   "id": "0ff9e3c8",
   "metadata": {},
   "outputs": [],
   "source": [
    "DEPLOYMENT_PARAMETERS = fdl.DeploymentParams(image_uri=\"md-base/python/machine-learning:1.0.0\",  \n",
    "                                    cpu=100,\n",
    "                                    memory=256,\n",
    "                                    replicas=1)"
   ]
  },
  {
   "cell_type": "markdown",
   "id": "f8ddcab9-54fa-4367-92f0-b87306d14b7e",
   "metadata": {
    "id": "f8ddcab9-54fa-4367-92f0-b87306d14b7e"
   },
   "source": [
    "### Finally, upload the model package directory\n",
    "\n",
    "Once the model's artifact is in the */model* directory along with the **pacakge.py** file and requirments.txt the model package directory can be uploaded to Fiddler."
   ]
  },
  {
   "cell_type": "code",
   "execution_count": 19,
   "id": "9ff090a7-b4df-4dc0-8c1d-ac05f2f0eb3f",
   "metadata": {
    "colab": {
     "base_uri": "https://localhost:8080/"
    },
    "id": "9ff090a7-b4df-4dc0-8c1d-ac05f2f0eb3f",
    "outputId": "43d22682-a361-4f65-8ad7-dcc86726f731"
   },
   "outputs": [
    {
     "data": {
      "text/plain": [
       "'960a4eeb-fd3b-4372-9a24-58448826e97c'"
      ]
     },
     "execution_count": 19,
     "metadata": {},
     "output_type": "execute_result"
    }
   ],
   "source": [
    "client.add_model_artifact(model_dir='model/', project_id=PROJECT_ID, model_id=MODEL_ID, deployment_params=DEPLOYMENT_PARAMETERS)"
   ]
  },
  {
   "cell_type": "markdown",
   "id": "acd366b0-f40b-4e28-8325-12d429987349",
   "metadata": {
    "id": "acd366b0-f40b-4e28-8325-12d429987349"
   },
   "source": [
    "Within your Fiddler environment's UI, you should now be able to see the newly created model."
   ]
  },
  {
   "cell_type": "markdown",
   "id": "25e237cc-d7b6-4181-991f-ae27bf61cce3",
   "metadata": {
    "id": "25e237cc-d7b6-4181-991f-ae27bf61cce3"
   },
   "source": [
    "# 4. Get Fairness insights\n",
    "\n",
    "**You're all done!**\n",
    "  \n",
    "Now just head to your Fiddler environment's UI and explore the model's fairness metrics.\n"
   ]
  },
  {
   "cell_type": "markdown",
   "id": "2a9ce453-2246-42eb-b441-7a766fb39c7a",
   "metadata": {},
   "source": [
    "Alternatively, you can also run fairness from the Fiddler Python client:"
   ]
  },
  {
   "cell_type": "code",
   "execution_count": 24,
   "id": "ee89f5e6-a8c9-4a08-b172-2ec95585f25d",
   "metadata": {},
   "outputs": [
    {
     "ename": "BadRequest",
     "evalue": "DB::Exception: Syntax error: failed at position 929 (end of query) (line 6, col 9): . Expected one of: expression with optional alias, element of expression with optional alias, lambda expression, end of query. Stack trace:\n\n0. DB::Exception::Exception(DB::Exception::MessageMasked&&, int, bool) @ 0xe0c9a75 in /usr/bin/clickhouse\n1. ? @ 0x8cce74d in /usr/bin/clickhouse\n2. DB::parseQueryAndMovePosition(DB::IParser&, char const*&, char const*, std::__1::basic_string<char, std::__1::char_traits<char>, std::__1::allocator<char>> const&, bool, unsigned long, unsigned long) @ 0x14dcb87f in /usr/bin/clickhouse\n3. ? @ 0x1398075c in /usr/bin/clickhouse\n4. DB::executeQuery(std::__1::basic_string<char, std::__1::char_traits<char>, std::__1::allocator<char>> const&, std::__1::shared_ptr<DB::Context>, bool, DB::QueryProcessingStage::Enum) @ 0x1398012d in /usr/bin/clickhouse\n5. DB::TCPHandler::runImpl() @ 0x14708699 in /usr/bin/clickhouse\n6. DB::TCPHandler::run() @ 0x1471dbb9 in /usr/bin/clickhouse\n7. Poco::Net::TCPServerConnection::start() @ 0x17621e54 in /usr/bin/clickhouse\n8. Poco::Net::TCPServerDispatcher::run() @ 0x1762307b in /usr/bin/clickhouse\n9. Poco::PooledThread::run() @ 0x177aa407 in /usr/bin/clickhouse\n10. Poco::ThreadImpl::runnableEntry(void*) @ 0x177a7e3d in /usr/bin/clickhouse\n11. ? @ 0x7f93e306c609 in ?\n12. __clone @ 0x7f93e2f91133 in ?\n",
     "output_type": "error",
     "traceback": [
      "\u001b[0;31m---------------------------------------------------------------------------\u001b[0m",
      "\u001b[0;31mBadRequest\u001b[0m                                Traceback (most recent call last)",
      "\u001b[0;32m<ipython-input-24-dde93b09de8b>\u001b[0m in \u001b[0;36m<module>\u001b[0;34m\u001b[0m\n\u001b[1;32m     10\u001b[0m \u001b[0;31m# )\u001b[0m\u001b[0;34m\u001b[0m\u001b[0;34m\u001b[0m\u001b[0;34m\u001b[0m\u001b[0m\n\u001b[1;32m     11\u001b[0m \u001b[0;34m\u001b[0m\u001b[0m\n\u001b[0;32m---> 12\u001b[0;31m fairness_metrics = client.get_fairness(\n\u001b[0m\u001b[1;32m     13\u001b[0m     \u001b[0mproject_id\u001b[0m\u001b[0;34m=\u001b[0m\u001b[0mPROJECT_ID\u001b[0m\u001b[0;34m,\u001b[0m\u001b[0;34m\u001b[0m\u001b[0;34m\u001b[0m\u001b[0m\n\u001b[1;32m     14\u001b[0m     \u001b[0mmodel_id\u001b[0m\u001b[0;34m=\u001b[0m\u001b[0mMODEL_ID\u001b[0m\u001b[0;34m,\u001b[0m\u001b[0;34m\u001b[0m\u001b[0;34m\u001b[0m\u001b[0m\n",
      "\u001b[0;32m~/opt/anaconda3/lib/python3.8/site-packages/fiddler/utils/decorators.py\u001b[0m in \u001b[0;36mwrapper\u001b[0;34m(*args, **kwargs)\u001b[0m\n\u001b[1;32m     84\u001b[0m                 \u001b[0merror_response\u001b[0m\u001b[0;34m.\u001b[0m\u001b[0mstatus_code\u001b[0m\u001b[0;34m,\u001b[0m \u001b[0mHttpException\u001b[0m\u001b[0;34m\u001b[0m\u001b[0;34m\u001b[0m\u001b[0m\n\u001b[1;32m     85\u001b[0m             )\n\u001b[0;32m---> 86\u001b[0;31m             raise exec_class(\n\u001b[0m\u001b[1;32m     87\u001b[0m                 \u001b[0merror_response\u001b[0m\u001b[0;34m.\u001b[0m\u001b[0mstatus_code\u001b[0m\u001b[0;34m,\u001b[0m\u001b[0;34m\u001b[0m\u001b[0;34m\u001b[0m\u001b[0m\n\u001b[1;32m     88\u001b[0m                 \u001b[0merror_response\u001b[0m\u001b[0;34m.\u001b[0m\u001b[0merror_code\u001b[0m\u001b[0;34m,\u001b[0m\u001b[0;34m\u001b[0m\u001b[0;34m\u001b[0m\u001b[0m\n",
      "\u001b[0;31mBadRequest\u001b[0m: DB::Exception: Syntax error: failed at position 929 (end of query) (line 6, col 9): . Expected one of: expression with optional alias, element of expression with optional alias, lambda expression, end of query. Stack trace:\n\n0. DB::Exception::Exception(DB::Exception::MessageMasked&&, int, bool) @ 0xe0c9a75 in /usr/bin/clickhouse\n1. ? @ 0x8cce74d in /usr/bin/clickhouse\n2. DB::parseQueryAndMovePosition(DB::IParser&, char const*&, char const*, std::__1::basic_string<char, std::__1::char_traits<char>, std::__1::allocator<char>> const&, bool, unsigned long, unsigned long) @ 0x14dcb87f in /usr/bin/clickhouse\n3. ? @ 0x1398075c in /usr/bin/clickhouse\n4. DB::executeQuery(std::__1::basic_string<char, std::__1::char_traits<char>, std::__1::allocator<char>> const&, std::__1::shared_ptr<DB::Context>, bool, DB::QueryProcessingStage::Enum) @ 0x1398012d in /usr/bin/clickhouse\n5. DB::TCPHandler::runImpl() @ 0x14708699 in /usr/bin/clickhouse\n6. DB::TCPHandler::run() @ 0x1471dbb9 in /usr/bin/clickhouse\n7. Poco::Net::TCPServerConnection::start() @ 0x17621e54 in /usr/bin/clickhouse\n8. Poco::Net::TCPServerDispatcher::run() @ 0x1762307b in /usr/bin/clickhouse\n9. Poco::PooledThread::run() @ 0x177aa407 in /usr/bin/clickhouse\n10. Poco::ThreadImpl::runnableEntry(void*) @ 0x177a7e3d in /usr/bin/clickhouse\n11. ? @ 0x7f93e306c609 in ?\n12. __clone @ 0x7f93e2f91133 in ?\n"
     ]
    }
   ],
   "source": [
    "protected_features = ['gender', 'race']\n",
    "positive_outcome = 1\n",
    "\n",
    "# fairness_metrics = client.run_fairness(\n",
    "#     project_id=PROJECT_ID,\n",
    "#     model_id=MODEL_ID,\n",
    "#     dataset_id=DATASET_ID,\n",
    "#     protected_features=protected_features,\n",
    "#     positive_outcome=positive_outcome\n",
    "# )\n",
    "\n",
    "fairness_metrics = client.get_fairness(\n",
    "    project_id=PROJECT_ID,\n",
    "    model_id=MODEL_ID,\n",
    "    data_source=fdl.DatasetDataSource(dataset_name=DATASET_ID, num_samples=200),\n",
    "    protected_features=protected_features,\n",
    "    positive_outcome=positive_outcome,\n",
    "    score_threshold=0.6\n",
    ")\n",
    "\n",
    "fairness_metrics"
   ]
  },
  {
   "cell_type": "markdown",
   "id": "a9f07628-f153-453d-b53a-e829e16f94ef",
   "metadata": {
    "id": "a9f07628-f153-453d-b53a-e829e16f94ef"
   },
   "source": [
    "\n",
    "\n",
    "---\n",
    "\n",
    "\n",
    "**Questions?**  \n",
    "  \n",
    "Check out [our docs](https://docs.fiddler.ai/) for a more detailed explanation of what Fiddler has to offer.\n",
    "\n",
    "If you're still looking for answers, fill out a ticket on [our support page](https://fiddlerlabs.zendesk.com/) and we'll get back to you shortly."
   ]
  },
  {
   "cell_type": "code",
   "execution_count": null,
   "id": "544b87a2-3f4d-4a15-b5a3-4d1685fe106d",
   "metadata": {},
   "outputs": [],
   "source": []
  }
 ],
 "metadata": {
  "colab": {
   "provenance": []
  },
  "kernelspec": {
   "display_name": "Python 3",
   "language": "python",
   "name": "python3"
  },
  "language_info": {
   "codemirror_mode": {
    "name": "ipython",
    "version": 3
   },
   "file_extension": ".py",
   "mimetype": "text/x-python",
   "name": "python",
   "nbconvert_exporter": "python",
   "pygments_lexer": "ipython3",
   "version": "3.8.8"
  }
 },
 "nbformat": 4,
 "nbformat_minor": 5
}
