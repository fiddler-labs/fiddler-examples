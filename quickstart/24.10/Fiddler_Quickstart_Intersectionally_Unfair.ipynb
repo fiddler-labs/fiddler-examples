{
 "cells": [
  {
   "cell_type": "markdown",
   "id": "f0c3549a",
   "metadata": {
    "id": "f0c3549a"
   },
   "source": [
    "# Onboard a Credit Approval Model to Evaluate Fairness\n",
    "\n",
    "In this notebook, we present the steps for onboarding a model to evaluate model fairness.  \n",
    "\n",
    "Fiddler is the pioneer in the **AI Observability** space, offering a unified platform that enables Data Science, MLOps, Risk, Compliance, Analytics, and LOB teams to **monitor, explain, analyze, and improve ML deployments at enterprise scale**. \n",
    "Obtain contextual insights at any stage of the ML lifecycle, improve predictions, increase transparency and fairness, and optimize business revenue.\n",
    "\n",
    "---\n",
    "\n",
    "You can experience Fiddler's Fairness Offering ***in minutes*** by following these four quick steps:\n",
    "\n",
    "1. Connect to Fiddler\n",
    "2. Define Your Model Specifications\n",
    "3. Add Your Model\n",
    "4. Add Fairness Metrics\n",
    "5. Publish Production Events\n",
    "6. Get Fairness insights\n"
   ]
  },
  {
   "cell_type": "markdown",
   "id": "9f1db734",
   "metadata": {
    "id": "9f1db734"
   },
   "source": [
    "# 0. Imports"
   ]
  },
  {
   "cell_type": "code",
   "execution_count": null,
   "id": "f99c2b2f",
   "metadata": {
    "colab": {
     "base_uri": "https://localhost:8080/"
    },
    "id": "f99c2b2f",
    "outputId": "40667583-548d-47e6-c7de-bea6b74151b8",
    "scrolled": true
   },
   "outputs": [],
   "source": [
    "!pip install -q fiddler-client\n",
    "\n",
    "import fiddler as fdl\n",
    "import pandas as pd\n",
    "import yaml\n",
    "import datetime\n",
    "import time\n",
    "from IPython.display import clear_output\n",
    "\n",
    "print(f\"Running Fiddler client version {fdl.__version__}\")"
   ]
  },
  {
   "cell_type": "markdown",
   "id": "dcc2ed42-2cd9-424c-bc04-f8fcd3c01a69",
   "metadata": {
    "id": "dcc2ed42-2cd9-424c-bc04-f8fcd3c01a69"
   },
   "source": [
    "# 1. Connect to Fiddler\n",
    "\n",
    "Before you can add information about your model with Fiddler, you'll need to connect using our Python client.\n",
    "\n",
    "---\n",
    "\n",
    "**We need a few pieces of information to get started.**\n",
    "1. The URL you're using to connect to Fiddler\n",
    "3. Your authorization token\n",
    "\n",
    "The latter two of these can be found by pointing your browser to your Fiddler URL and navigating to the **Settings** page."
   ]
  },
  {
   "cell_type": "code",
   "execution_count": null,
   "id": "21245781-c546-41de-9c18-9409361615e3",
   "metadata": {
    "id": "21245781-c546-41de-9c18-9409361615e3"
   },
   "outputs": [],
   "source": [
    "URL = ''  # Make sure to include the full URL (including https://).\n",
    "TOKEN = ''"
   ]
  },
  {
   "cell_type": "markdown",
   "id": "cd9678de-4d81-4b9b-905d-e2a6b0d8b141",
   "metadata": {
    "id": "cd9678de-4d81-4b9b-905d-e2a6b0d8b141"
   },
   "source": [
    "Now just run the following code block to connect the client to your Fiddler environment."
   ]
  },
  {
   "cell_type": "code",
   "execution_count": null,
   "id": "2abb4cb3-907a-4405-866e-dd4591c4957b",
   "metadata": {
    "id": "2abb4cb3-907a-4405-866e-dd4591c4957b"
   },
   "outputs": [],
   "source": [
    "fdl.init(\n",
    "    url=URL,\n",
    "    token=TOKEN)"
   ]
  },
  {
   "cell_type": "markdown",
   "id": "d88c43f3-1b5e-427d-92ed-307299d73bea",
   "metadata": {
    "id": "d88c43f3-1b5e-427d-92ed-307299d73bea"
   },
   "source": [
    "Once you connect, you can create a new project by specifying a project name using Fiddler's [Project API](https://docs.fiddler.ai/client-guide/create-a-project-and-model#create-a-project)."
   ]
  },
  {
   "cell_type": "code",
   "execution_count": null,
   "id": "82ba61dc-a436-4186-8b07-68fa429d34d3",
   "metadata": {
    "colab": {
     "base_uri": "https://localhost:8080/"
    },
    "id": "82ba61dc-a436-4186-8b07-68fa429d34d3",
    "outputId": "e1055a05-fa15-45f8-fd78-5e20627b2417"
   },
   "outputs": [],
   "source": [
    "PROJECT_NAME = 'credit_approval'\n",
    "\n",
    "project = fdl.Project(\n",
    "    name=PROJECT_NAME)\n",
    "\n",
    "project.create()"
   ]
  },
  {
   "cell_type": "markdown",
   "id": "9900ae24-997b-4422-8349-b2a097025745",
   "metadata": {
    "id": "9900ae24-997b-4422-8349-b2a097025745"
   },
   "source": [
    "# 2. Define Your Model \n",
    "\n",
    "In this example, we'll be considering the case where we're a bank and we have **a model that predicts credit approval worthiness**.\n",
    "  \n",
    "In order to get insights into the model's performance, **Fiddler needs a small  sample of data that can serve as a baseline** for making comparisons with data in production.\n",
    "\n",
    "\n",
    "---\n",
    "\n",
    "\n",
    "*For more information on how to design a sample dataset, [click here](https://docs.fiddler.ai/client-guide/creating-a-baseline-dataset).*"
   ]
  },
  {
   "cell_type": "code",
   "execution_count": null,
   "id": "8a715829-783e-4f72-9fcf-0ff78379ba33",
   "metadata": {
    "colab": {
     "base_uri": "https://localhost:8080/",
     "height": 488
    },
    "id": "8a715829-783e-4f72-9fcf-0ff78379ba33",
    "outputId": "0031c673-d2ef-4fb7-98d6-d3248a5c5f68"
   },
   "outputs": [],
   "source": [
    "PATH_TO_CSV = '/Users/anushrav/Projects/fiddler-examples/quickstart/data/v3/intersectionally_unfair_events.csv'\n",
    "\n",
    "events_df = pd.read_csv(PATH_TO_CSV)\n",
    "sample_df = events_df.sample(50)\n",
    "sample_df"
   ]
  },
  {
   "cell_type": "code",
   "execution_count": null,
   "id": "db6937a1-38b6-4fd6-8155-3bff9de7920b",
   "metadata": {},
   "outputs": [],
   "source": []
  },
  {
   "cell_type": "markdown",
   "id": "a44dc2e6-37a0-4411-8a7e-420a12942ab4",
   "metadata": {
    "id": "a44dc2e6-37a0-4411-8a7e-420a12942ab4"
   },
   "source": [
    "### 2.a Define Model Specification\n",
    "In order to add your model to Fiddler, simply create a ModelSpec object with information about what each column of your data sample should used for.\n",
    "\n",
    "Fiddler supports four column types:\n",
    "1. **Inputs**\n",
    "2. **Outputs** (Model predictions)\n",
    "3. **Targets** (Ground truth values)\n",
    "4. **Metadata**"
   ]
  },
  {
   "cell_type": "code",
   "execution_count": null,
   "id": "a47e6262-bd7d-4162-89ef-c2d1f140eb40",
   "metadata": {
    "colab": {
     "base_uri": "https://localhost:8080/"
    },
    "id": "a47e6262-bd7d-4162-89ef-c2d1f140eb40",
    "outputId": "b1d5079a-9241-4d01-faac-50f7992fe177"
   },
   "outputs": [],
   "source": [
    "model_spec = fdl.ModelSpec(\n",
    "    inputs=['flag_own_car', 'flag_own_realty', 'name_income_type',\n",
    "       'name_education_type', 'name_family_status', 'name_housing_type',\n",
    "       'days_birth', 'days_employed', 'cnt_fam_members', 'income', 'paid_off',\n",
    "       '__of_pastdues', 'no_loan'],\n",
    "    outputs=['approve_probability_of_credit_request'],\n",
    "    targets=['target'],\n",
    "    metadata=['gender','race'])"
   ]
  },
  {
   "cell_type": "markdown",
   "id": "ad568d06-b502-4ca7-8392-6132956e62bb",
   "metadata": {},
   "source": [
    "### 2.b Define Model Task\n",
    "\n",
    "Fiddler supports a variety of model tasks. In this case, we're adding a binary classification model.\n",
    "\n",
    "For this, we'll create a ModelTask object and an additional ModelTaskParams object to specify the ordering of our positive and negative labels.\n",
    "\n",
    "For a detailed breakdown of all supported model tasks, click here."
   ]
  },
  {
   "cell_type": "code",
   "execution_count": null,
   "id": "20bc5485-26dc-4bef-ab2b-aa371edf36dd",
   "metadata": {},
   "outputs": [],
   "source": [
    "model_task = fdl.ModelTask.BINARY_CLASSIFICATION\n",
    "\n",
    "task_params = fdl.ModelTaskParams(target_class_order=[0, 1])"
   ]
  },
  {
   "cell_type": "markdown",
   "id": "eeff6a3b-27df-4438-9265-020fdbd53cb9",
   "metadata": {},
   "source": [
    "## 3. Add your model\n",
    "\n",
    "Create a Model object and publish it to Fiddler, passing in:\n",
    "1. Your data sample\n",
    "2. Your ModelSpec object\n",
    "3. Your ModelTask and ModelTaskParams objects"
   ]
  },
  {
   "cell_type": "code",
   "execution_count": null,
   "id": "444be5d6-e5bf-41b8-990a-540f56b9a050",
   "metadata": {},
   "outputs": [],
   "source": [
    "MODEL_NAME = 'intersectionally_unfair'\n",
    "\n",
    "model = fdl.Model.from_data(\n",
    "    name=MODEL_NAME,\n",
    "    project_id=fdl.Project.from_name(PROJECT_NAME).id,\n",
    "    source=sample_df,\n",
    "    spec=model_spec,\n",
    "    task=model_task,\n",
    "    task_params=task_params,\n",
    "    event_ts_col='ts')\n",
    "\n",
    "model.create()"
   ]
  },
  {
   "cell_type": "markdown",
   "id": "364f1071-6d3a-4acb-a865-082185b4c815",
   "metadata": {},
   "source": [
    "## 4. Track Fairness Metrics \n",
    "\n",
    "Fiddler's [Custom Metric API](https://docs.fiddler.ai/python-client-3-x/api-methods-30#custommetric) allows for the creation of custom metrics that can be leveraged for creating **Fairness Metrics**.  These fairness metrics will be tracked over time and can be charted and alerted upon just like any other out-of-the-box metric offered by the Fiddler platform. You can configure these through the Fiddler UI too."
   ]
  },
  {
   "cell_type": "markdown",
   "id": "08d7ff9b-f890-4299-926d-50d7ceda4201",
   "metadata": {},
   "source": [
    "### 4.a Create Fairness Metrics\n",
    "\n",
    "Here are some examples of industry-standard metrics that you can create with Fiddler:\n",
    "- Group Benefit\n",
    "- Demographic Parity"
   ]
  },
  {
   "cell_type": "code",
   "execution_count": null,
   "id": "dfb27158-5d64-48e3-987b-83ff5d6014a3",
   "metadata": {},
   "outputs": [],
   "source": [
    "group_benefit = fdl.CustomMetric(\n",
    "    name='Group Benefit',\n",
    "    model_id=model.id,\n",
    "    description='Measures Ocurrance Rate vs Prediction Rate',\n",
    "    definition=\"sum(if(tp(), 1, 0)+if(fp(), 1, 0)) / sum(if(tp(), 1, 0)+if(fn(), 1, 0))\" \n",
    ")\n",
    "\n",
    "group_benefit.create()"
   ]
  },
  {
   "cell_type": "code",
   "execution_count": null,
   "id": "4a538e30-674b-4697-a222-c7dc988ebd18",
   "metadata": {},
   "outputs": [],
   "source": [
    "demographic_parity = fdl.CustomMetric(\n",
    "    name='Demographic Parity',\n",
    "    model_id=model.id,\n",
    "    description='Ratio of Passing Rate and Total Applicants',\n",
    "    definition=\"sum(if(\\\"approve_probability_of_credit_request\\\">0.8, 1, 0))/count(\\\"approve_probability_of_credit_request\\\")\" \n",
    ")\n",
    "\n",
    "demographic_parity.create()"
   ]
  },
  {
   "cell_type": "markdown",
   "id": "ab7286aa-1f74-4cc3-b4ed-da7ba466ea95",
   "metadata": {},
   "source": [
    "### 4.b Define Segments for Intersectional Fairness \n",
    "\n",
    "You can also segment users to visualize these fairness metrics for different intersections of user identities "
   ]
  },
  {
   "cell_type": "code",
   "execution_count": null,
   "id": "a588a32c-0ccf-4946-8435-99dd578b678f",
   "metadata": {},
   "outputs": [],
   "source": [
    "caucasian_male = fdl.Segment(\n",
    "    name='Caucasian Male',\n",
    "    model_id=model.id,\n",
    "    description='Applicants Identifying as Pacific Islander and Male',\n",
    "    definition=\"\\\"race\\\"=='Caucasian' and \\\"gender\\\"=='M'\"\n",
    ")\n",
    "\n",
    "caucasian_male.create()"
   ]
  },
  {
   "cell_type": "code",
   "execution_count": null,
   "id": "2ab9f212-b0bf-4c73-8a9f-e7d0de69b661",
   "metadata": {},
   "outputs": [],
   "source": [
    "caucasian_female = fdl.Segment(\n",
    "    name='Caucasian Female',\n",
    "    model_id=model.id,\n",
    "    description='Applicants Identifying as Pacific Islander and Male',\n",
    "    definition=\"\\\"race\\\"=='Caucasian' and \\\"gender\\\"=='F'\"\n",
    ")\n",
    "\n",
    "caucasian_female.create()"
   ]
  },
  {
   "cell_type": "markdown",
   "id": "d45cbc49-c687-41c4-8887-289649e35472",
   "metadata": {},
   "source": [
    "## 5. Publish Production Events\n",
    "\n",
    "Finally, let's send in some production data that we can track these fairness metrics for.\n",
    "\n",
    "---\n",
    "\n",
    "Each record sent to Fiddler is called **an event**.\n",
    "  \n",
    "We will use the same dataset we sampled at the start of this notebook"
   ]
  },
  {
   "cell_type": "code",
   "execution_count": null,
   "id": "9959b265-0627-40e8-ba28-83b1fb439b9e",
   "metadata": {},
   "outputs": [],
   "source": [
    "# Shift the timestamps of the production events to be as recent as today\n",
    "events_df['ts'] = events_df['ts'] + (int(time.time()) - events_df['ts'].max())\n",
    "events_df"
   ]
  },
  {
   "cell_type": "code",
   "execution_count": null,
   "id": "9c6c1bcf-ba93-4845-b76e-ef0a4725a6fa",
   "metadata": {},
   "outputs": [],
   "source": [
    "model.publish(events_df)"
   ]
  },
  {
   "cell_type": "markdown",
   "id": "25e237cc-d7b6-4181-991f-ae27bf61cce3",
   "metadata": {
    "id": "25e237cc-d7b6-4181-991f-ae27bf61cce3"
   },
   "source": [
    "# 6. Get Fairness insights\n",
    "\n",
    "**You're all done!**\n",
    "  \n",
    "Now head to your Fiddler environment and you can access your fairness metrics and apply segments to them to best understand your model outcomes by plotting these metrics and segments using our charts."
   ]
  },
  {
   "cell_type": "markdown",
   "id": "28efe93c-b862-4399-98cd-b13be4a179d3",
   "metadata": {},
   "source": [
    "<table>\n",
    "    <tr>\n",
    "        <td>\n",
    "            <img src=\"https://raw.githubusercontent.com/fiddler-labs/fiddler-examples/main/quickstart/images/fariness_disparate_impact.png\"/>\n",
    "        </td>\n",
    "    </tr>\n",
    "</table>"
   ]
  },
  {
   "cell_type": "markdown",
   "id": "a9f07628-f153-453d-b53a-e829e16f94ef",
   "metadata": {
    "id": "a9f07628-f153-453d-b53a-e829e16f94ef"
   },
   "source": [
    "\n",
    "\n",
    "---\n",
    "\n",
    "\n",
    "**Questions?**  \n",
    "  \n",
    "Check out [our docs](https://docs.fiddler.ai/) for a more detailed explanation of what Fiddler has to offer.\n",
    "\n",
    "If you're still looking for answers, fill out a ticket on [our support page](https://fiddlerlabs.zendesk.com/) and we'll get back to you shortly."
   ]
  }
 ],
 "metadata": {
  "colab": {
   "provenance": []
  },
  "kernelspec": {
   "display_name": "Python 3 (ipykernel)",
   "language": "python",
   "name": "python3"
  },
  "language_info": {
   "codemirror_mode": {
    "name": "ipython",
    "version": 3
   },
   "file_extension": ".py",
   "mimetype": "text/x-python",
   "name": "python",
   "nbconvert_exporter": "python",
   "pygments_lexer": "ipython3",
   "version": "3.12.3"
  }
 },
 "nbformat": 4,
 "nbformat_minor": 5
}
