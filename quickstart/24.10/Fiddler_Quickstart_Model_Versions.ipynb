{
  "cells": [
    {
      "cell_type": "markdown",
      "id": "03f71592",
      "metadata": {
        "id": "03f71592"
      },
      "source": [
        "# Model Versions\n",
        "\n",
        "In this notebook, we present the steps for updating a model schema/version.  When a model is onboarded on to fiddler as a version 1, there can be multiple incremental updates or iterations to that model, the history to which is maintained in fiddler, called model versioning. The users can update existing model schema/versions and also access the older versions.\n",
        "\n",
        "This notebook is an example of how changes can be made in a model/schema and how fiddler maintains them.\n",
        "\n",
        "---"
      ]
    },
    {
      "cell_type": "markdown",
      "id": "be48501f",
      "metadata": {
        "id": "be48501f"
      },
      "source": [
        "Model versioning docs can be referred [here](https://docs.fiddler.ai/platform-guide/monitoring-platform/model-versions)\n",
        "\n",
        "Model Versions are supported on fiddler client version 3.1.0 and above, and the python version is 3.10 and above.\n",
        "\n",
        "You can experience Fiddler's Model Versioning in minutes by following these quick steps:\n",
        "\n",
        "1. Connect to fiddler - Initialisation, Load a Data Sample\n",
        "2. Create a Project\n",
        "3. Create a first version of model with no task\n",
        "4. Second version with target class and binary classification task & defined threshold\n",
        "5. Third version - Changes in the Datatype of a column and Delete a column\n",
        "6. Fourth version - Update Schema by changing the column names\n",
        "7. Fifth version - Update the range of Age column(min, max) & define the max balance\n",
        "8. Update version name\n",
        "9. Delete a model version"
      ]
    },
    {
      "cell_type": "code",
      "execution_count": null,
      "id": "8ebef010",
      "metadata": {
        "id": "8ebef010",
        "colab": {
          "base_uri": "https://localhost:8080/"
        },
        "outputId": "683ebb63-5206-48e6-adc0-c395d31ac2b8"
      },
      "outputs": [
        {
          "output_type": "stream",
          "name": "stdout",
          "text": [
            "\u001b[2K     \u001b[90m━━━━━━━━━━━━━━━━━━━━━━━━━━━━━━━━━━━━━━━━\u001b[0m \u001b[32m151.6/151.6 kB\u001b[0m \u001b[31m5.9 MB/s\u001b[0m eta \u001b[36m0:00:00\u001b[0m\n",
            "\u001b[2K   \u001b[90m━━━━━━━━━━━━━━━━━━━━━━━━━━━━━━━━━━━━━━━━\u001b[0m \u001b[32m115.1/115.1 kB\u001b[0m \u001b[31m8.0 MB/s\u001b[0m eta \u001b[36m0:00:00\u001b[0m\n",
            "\u001b[2K   \u001b[90m━━━━━━━━━━━━━━━━━━━━━━━━━━━━━━━━━━━━━━━━\u001b[0m \u001b[32m3.1/3.1 MB\u001b[0m \u001b[31m52.8 MB/s\u001b[0m eta \u001b[36m0:00:00\u001b[0m\n",
            "\u001b[2K   \u001b[90m━━━━━━━━━━━━━━━━━━━━━━━━━━━━━━━━━━━━━━━━\u001b[0m \u001b[32m137.9/137.9 kB\u001b[0m \u001b[31m9.7 MB/s\u001b[0m eta \u001b[36m0:00:00\u001b[0m\n",
            "\u001b[2K   \u001b[90m━━━━━━━━━━━━━━━━━━━━━━━━━━━━━━━━━━━━━━━━\u001b[0m \u001b[32m54.5/54.5 kB\u001b[0m \u001b[31m3.8 MB/s\u001b[0m eta \u001b[36m0:00:00\u001b[0m\n",
            "\u001b[?25h3.10.12 (main, Mar 22 2024, 16:50:05) [GCC 11.4.0]\n"
          ]
        }
      ],
      "source": [
        "!pip install -q fiddler-client  #fiddler client version needs to be 3.1.0 and above\n",
        "import sys\n",
        "print(sys.version)   #python version needs to be 3.10.11 and above"
      ]
    },
    {
      "cell_type": "markdown",
      "id": "7a839c55",
      "metadata": {
        "id": "7a839c55"
      },
      "source": [
        "# 0. Imports"
      ]
    },
    {
      "cell_type": "code",
      "execution_count": null,
      "id": "582c8fc3",
      "metadata": {
        "id": "582c8fc3"
      },
      "outputs": [],
      "source": [
        "import fiddler as fdl\n",
        "import time as time\n",
        "import numpy as np\n",
        "import pandas as pd\n",
        "from datetime import datetime, timedelta"
      ]
    },
    {
      "cell_type": "markdown",
      "id": "d7d9c7e3",
      "metadata": {
        "id": "d7d9c7e3"
      },
      "source": [
        "# 1. Connect to Fiddler\n",
        "\n",
        "Before you can add information about your model with Fiddler, you'll need to connect using our Python client.\n",
        "\n",
        "---\n",
        "\n",
        "**We need a few pieces of information to get started.**\n",
        "1. The URL you're using to connect to Fiddler\n",
        "3. Your authorization token\n",
        "\n",
        "The latter two of these can be found by pointing your browser to your Fiddler URL and navigating to the **Settings** page."
      ]
    },
    {
      "cell_type": "code",
      "execution_count": null,
      "id": "60aaa44b",
      "metadata": {
        "id": "60aaa44b"
      },
      "outputs": [],
      "source": [
        "URL = 'https://telus.fiddler.ai/' # UPDATE ME\n",
        "TOKEN = 'F4U5BCyMp46ozayJGwvJc8gIHEiyO53TfARFxrT4gZE' # UPDATE ME"
      ]
    },
    {
      "cell_type": "markdown",
      "id": "878685eb",
      "metadata": {
        "id": "878685eb"
      },
      "source": [
        "# Initialization\n",
        "\n",
        "Initilize the connection to Fiddler Client. This call will also validate the client vs server version compatibility."
      ]
    },
    {
      "cell_type": "code",
      "execution_count": null,
      "id": "882cadae",
      "metadata": {
        "id": "882cadae"
      },
      "outputs": [],
      "source": [
        "fdl.init(url=URL, token=TOKEN)"
      ]
    },
    {
      "cell_type": "markdown",
      "id": "1a7aabac",
      "metadata": {
        "id": "1a7aabac"
      },
      "source": [
        "# Load a Data Sample"
      ]
    },
    {
      "cell_type": "code",
      "execution_count": null,
      "id": "cbbf9b17",
      "metadata": {
        "id": "cbbf9b17"
      },
      "outputs": [],
      "source": [
        "DATASET_FILE_PATH = \"https://raw.githubusercontent.com/fiddler-labs/fiddler-examples/main/quickstart/data/v3/churn_data_sample.csv\"\n",
        "EVENTS_PATH = \"https://raw.githubusercontent.com/fiddler-labs/fiddler-examples/main/quickstart/data/v3/churn_production_data.csv\"\n",
        "\n",
        "PROJECT_NAME = 'model_versioning_test' # UPDATE ME\n",
        "DATASET_NAME = 'dataset_model_version' # UPDATE ME\n",
        "MODEL_NAME = 'model_versioning' # UPDATE ME\n",
        "STATIC_BASELINE_NAME = 'baseline_dataset'"
      ]
    },
    {
      "cell_type": "markdown",
      "id": "6ad44441",
      "metadata": {
        "id": "6ad44441"
      },
      "source": [
        "Drop some output columns from the CSV file, update timestamp field to spread over last 30 days, and pick the columns for inputs."
      ]
    },
    {
      "cell_type": "code",
      "execution_count": null,
      "id": "80c407cf",
      "metadata": {
        "id": "80c407cf"
      },
      "outputs": [],
      "source": [
        "sample_df = pd.read_csv(DATASET_FILE_PATH)\n",
        "\n",
        "# update timestamp to make it linear over last 30 days\n",
        "def update_timestamp(dataframe, number_of_days_lookback=30):\n",
        "  # end time = now\n",
        "  end_time = int(time.time() * 1000)\n",
        "  # start time = 30 days ago\n",
        "  start_time = end_time - (number_of_days_lookback * 86400000)\n",
        "  # modify timestamp\n",
        "  dataframe['timestamp'] = np.linspace(start_time, end_time, dataframe.shape[0]).astype(int)\n",
        "  dataframe = dataframe.sort_values(by=['timestamp'], ascending=True)\n",
        "  return dataframe\n",
        "\n",
        "\n",
        "sample_df = update_timestamp(sample_df, 30)\n",
        "column_list  = sample_df.columns\n",
        "input_columns  = list(column_list.drop([\"predicted_churn\",\"churn\", \"customer_id\", \"timestamp\"]))"
      ]
    },
    {
      "cell_type": "markdown",
      "id": "6e66776a",
      "metadata": {
        "id": "6e66776a"
      },
      "source": [
        "## 2. Create project"
      ]
    },
    {
      "cell_type": "code",
      "execution_count": null,
      "id": "c968eae9",
      "metadata": {
        "id": "c968eae9",
        "colab": {
          "base_uri": "https://localhost:8080/"
        },
        "outputId": "b67f19a1-fb40-44f3-b6a0-ea38e5032c0e"
      },
      "outputs": [
        {
          "output_type": "stream",
          "name": "stdout",
          "text": [
            "New project created with id = e56f65f7-a512-4a44-84b7-391aec69bbaa and name = model_versioning_test\n"
          ]
        }
      ],
      "source": [
        "try:\n",
        "    # Create project\n",
        "    project = fdl.Project(name=PROJECT_NAME).create()\n",
        "    print(f'New project created with id = {project.id} and name = {project.name}')\n",
        "except fdl.Conflict:\n",
        "    # Get project by name\n",
        "    project = fdl.Project.from_name(name=PROJECT_NAME)\n",
        "    print(f'Loaded existing project with id = {project.id} and name = {project.name}')"
      ]
    },
    {
      "cell_type": "markdown",
      "id": "5bf916ca",
      "metadata": {
        "id": "5bf916ca"
      },
      "source": [
        "## 3. First version with no task\n",
        "\n",
        "Create the first version of model in the project with NOT_SET task"
      ]
    },
    {
      "cell_type": "markdown",
      "id": "62b282de",
      "metadata": {
        "vscode": {
          "languageId": "plaintext"
        },
        "id": "62b282de"
      },
      "source": [
        "<table>\n",
        "    <tr>\n",
        "        <td>\n",
        "            <img src=\"https://raw.githubusercontent.com/fiddler-labs/fiddler-examples/main/quickstart/images/model_versions_1.png\" />\n",
        "        </td>\n",
        "    </tr>\n",
        "</table>"
      ]
    },
    {
      "cell_type": "code",
      "execution_count": null,
      "id": "f7073f31",
      "metadata": {
        "id": "f7073f31",
        "colab": {
          "base_uri": "https://localhost:8080/"
        },
        "outputId": "176fe11a-6e73-42b3-bebf-9966813d1c17"
      },
      "outputs": [
        {
          "output_type": "stream",
          "name": "stdout",
          "text": [
            "New model created with id = 259c3dbc-c02f-48f8-b910-2661cd5e4631\n"
          ]
        }
      ],
      "source": [
        "version_v1 = 'v1'\n",
        "\n",
        "model_spec = fdl.ModelSpec(\n",
        "    inputs = input_columns,\n",
        "    outputs = ['predicted_churn'],\n",
        "    targets = ['churn'],\n",
        "    metadata = ['customer_id', 'timestamp'],\n",
        "    decisions = [],\n",
        "    custom_features = [],\n",
        ")\n",
        "\n",
        "try:\n",
        "    model_v1 = fdl.Model.from_name(\n",
        "        name = MODEL_NAME,\n",
        "        project_id = project.id,\n",
        "        version = version_v1\n",
        "    )\n",
        "    print(f'Loaded existing model with id = {model_v1.id}')\n",
        "except fdl.NotFound:\n",
        "    model_v1 = fdl.Model.from_data(\n",
        "        source = sample_df,\n",
        "        name = MODEL_NAME,\n",
        "        version = version_v1,\n",
        "        project_id = project.id,\n",
        "        spec = model_spec,\n",
        "        task = fdl.ModelTask.NOT_SET,           # this sets the modeltask as NOT SET\n",
        "        event_ts_col='timestamp',               # use 'timestamp' field of data as event timestamp\n",
        "    )\n",
        "\n",
        "    model_v1.create()                           # this creates the model\n",
        "    print(f'New model created with id = {model_v1.id}')"
      ]
    },
    {
      "cell_type": "markdown",
      "source": [
        "### Publish events against first version"
      ],
      "metadata": {
        "id": "Ez4DpygaVQNf"
      },
      "id": "Ez4DpygaVQNf"
    },
    {
      "cell_type": "code",
      "source": [
        "output = model_v1.publish(\n",
        "    source=sample_df,\n",
        "    environment=fdl.EnvType.PRE_PRODUCTION,\n",
        "    dataset_name=STATIC_BASELINE_NAME\n",
        ")\n",
        "\n",
        "print(f'Baseline dataset is published against model, Job id: {output.id}')\n",
        "\n",
        "production_df = pd.read_csv(EVENTS_PATH)\n",
        "production_df = update_timestamp(production_df, 30)\n",
        "output = model_v1.publish(production_df)\n",
        "print(f'Production event dataset is published against model, Job id: {output.id}')"
      ],
      "metadata": {
        "id": "SXtKOkF0ViIC",
        "colab": {
          "base_uri": "https://localhost:8080/"
        },
        "outputId": "cbea1fc3-78b7-4857-be01-cc3c4462c468"
      },
      "id": "SXtKOkF0ViIC",
      "execution_count": null,
      "outputs": [
        {
          "output_type": "stream",
          "name": "stdout",
          "text": [
            "Baseline dataset is published against model, Job id: e529016f-7aae-43b8-a5ee-ee2dbf768473\n",
            "Production event dataset is published against model, Job id: ff8a5938-bc58-47be-88d6-0b21a82e138a\n"
          ]
        }
      ]
    },
    {
      "cell_type": "markdown",
      "id": "8691e3ff",
      "metadata": {
        "id": "8691e3ff"
      },
      "source": [
        "## 4. Second version with a task\n",
        "Add Second version with binary classification task\n",
        "\n",
        "Update the version and provide target class and binary classification task & threshold"
      ]
    },
    {
      "cell_type": "code",
      "execution_count": null,
      "id": "d2640a7d",
      "metadata": {
        "id": "d2640a7d",
        "colab": {
          "base_uri": "https://localhost:8080/"
        },
        "outputId": "53284603-471c-4ba5-f672-2d165d147e14"
      },
      "outputs": [
        {
          "output_type": "stream",
          "name": "stdout",
          "text": [
            "New model created with id = f719f258-464f-4ba2-a20f-0a303111e7fc\n"
          ]
        }
      ],
      "source": [
        "version_v2 = 'v2'\n",
        "\n",
        "task_params = fdl.ModelTaskParams(\n",
        "    binary_classification_threshold = 0.5,\n",
        "    target_class_order = ['no', 'yes'],\n",
        "    class_weights = None,\n",
        "    group_by = None,\n",
        "    top_k = None,\n",
        "    weighted_ref_histograms = None,\n",
        ")\n",
        "\n",
        "try:\n",
        "    model_v2 = fdl.Model.from_name(\n",
        "        name=MODEL_NAME,\n",
        "        project_id=project.id,\n",
        "        version=version_v2\n",
        "    )\n",
        "    print(f'Loaded existing model with id = {model_v2.id}')\n",
        "except fdl.NotFound:\n",
        "    model_v2 = model_v1.duplicate(version=version_v2)\n",
        "    model_v2.task_params = task_params\n",
        "    model_v2.task = fdl.ModelTask.BINARY_CLASSIFICATION\n",
        "    model_v2.create()\n",
        "    print(f'New model created with id = {model_v2.id}')"
      ]
    },
    {
      "cell_type": "markdown",
      "source": [
        "## Publish events against second version"
      ],
      "metadata": {
        "id": "uJhbSBGKuxfD"
      },
      "id": "uJhbSBGKuxfD"
    },
    {
      "cell_type": "code",
      "source": [
        "output = model_v2.publish(\n",
        "    source=sample_df,\n",
        "    environment=fdl.EnvType.PRE_PRODUCTION,\n",
        "    dataset_name=STATIC_BASELINE_NAME\n",
        ")\n",
        "print(f'Baseline dataset is published against model, Job id: {output.id}')\n",
        "output = model_v2.publish(production_df)\n",
        "print(f'Production event dataset is published against model, Job id: {output.id}')"
      ],
      "metadata": {
        "id": "tERZrb4Hu4on",
        "colab": {
          "base_uri": "https://localhost:8080/"
        },
        "outputId": "26d2f6f2-7adb-44ec-cd36-9d53bae9bb17"
      },
      "id": "tERZrb4Hu4on",
      "execution_count": null,
      "outputs": [
        {
          "output_type": "stream",
          "name": "stdout",
          "text": [
            "Baseline dataset is published against model, Job id: 6e2452f2-70be-497f-a8c7-de7708edc388\n",
            "Production event dataset is published against model, Job id: cb2b40e1-f87d-4f4e-9923-dc8871d0b5e5\n"
          ]
        }
      ]
    },
    {
      "cell_type": "markdown",
      "id": "c39e7c35",
      "metadata": {
        "id": "c39e7c35"
      },
      "source": [
        "\n",
        "\n",
        "```\n",
        "# This is formatted as code\n",
        "```\n",
        "\n",
        "## 5. Third version with schema change\n",
        "Add third version with change in schema\n",
        "here we are deleting an input param\n",
        "And changing the datatype of a column Geography from Category to String."
      ]
    },
    {
      "cell_type": "code",
      "execution_count": null,
      "id": "fcf2a23d",
      "metadata": {
        "id": "fcf2a23d",
        "colab": {
          "base_uri": "https://localhost:8080/"
        },
        "outputId": "e87fd133-7f9f-4ab0-acdd-aa010f879e38"
      },
      "outputs": [
        {
          "output_type": "stream",
          "name": "stdout",
          "text": [
            "New model created with id = 4d96a684-2927-46cd-b5b8-f21ecaf4010d\n"
          ]
        }
      ],
      "source": [
        "version_v3 = 'v3'\n",
        "\n",
        "try:\n",
        "    model_v3 = fdl.Model.from_name(\n",
        "        name=MODEL_NAME,\n",
        "        project_id=project.id,\n",
        "        version=version_v3\n",
        "    )\n",
        "    print(f'Loaded existing model with id = {model_v3.id}')\n",
        "except fdl.NotFound:\n",
        "    model_v3 = model_v2.duplicate(version=version_v3)\n",
        "    del model_v3.schema['tenure']                                   #this deletes the tenure column from the inputs\n",
        "\n",
        "    model_v3.schema['hascrcard'].min = None                            #Removing min and mix of a numerical column before changing datatype\n",
        "    model_v3.schema['hascrcard'].max = None\n",
        "    model_v3.schema['hascrcard'].data_type= fdl.DataType.BOOLEAN\n",
        "    model_v3.schema['hascrcard'].categories = [True, False]\n",
        "\n",
        "    model_v3.spec.inputs = ['creditscore', 'geography', 'age', 'balance', 'numofproducts', 'hascrcard', 'isactivemember', 'estimatedsalary']\n",
        "    model_v3.create()\n",
        "    print(f'New model created with id = {model_v3.id}')"
      ]
    },
    {
      "cell_type": "markdown",
      "source": [
        "# Publish events against third version"
      ],
      "metadata": {
        "id": "dgc8aSOhvIsu"
      },
      "id": "dgc8aSOhvIsu"
    },
    {
      "cell_type": "code",
      "source": [
        "output = model_v3.publish(\n",
        "    source=sample_df,\n",
        "    environment=fdl.EnvType.PRE_PRODUCTION,\n",
        "    dataset_name=STATIC_BASELINE_NAME\n",
        ")\n",
        "print(f'Baseline dataset is published against model, Job id: {output.id}')\n",
        "output = model_v3.publish(production_df)\n",
        "print(f'Production event dataset is published against model, Job id: {output.id}')"
      ],
      "metadata": {
        "id": "A0QloDDWvBH_",
        "colab": {
          "base_uri": "https://localhost:8080/"
        },
        "outputId": "fb83510b-1ad7-432a-fa3a-52f5da0b5079"
      },
      "id": "A0QloDDWvBH_",
      "execution_count": null,
      "outputs": [
        {
          "output_type": "stream",
          "name": "stdout",
          "text": [
            "Baseline dataset is published against model, Job id: 5ebe640e-44fe-437c-b0b4-530b484c22b8\n",
            "Production event dataset is published against model, Job id: f331f37a-751b-4e2c-b788-632481b13371\n"
          ]
        }
      ]
    },
    {
      "cell_type": "markdown",
      "id": "4b7e9bf5",
      "metadata": {
        "id": "4b7e9bf5"
      },
      "source": [
        "## 6. Fourth version with schema change\n",
        "Add fourth version with change in schema, where\n",
        "we are changing the name of columns"
      ]
    },
    {
      "cell_type": "code",
      "execution_count": null,
      "id": "c152cfcf",
      "metadata": {
        "id": "c152cfcf",
        "colab": {
          "base_uri": "https://localhost:8080/"
        },
        "outputId": "f5846841-b13f-4ca3-e4a9-f530bd36c520"
      },
      "outputs": [
        {
          "output_type": "stream",
          "name": "stdout",
          "text": [
            "New model created with id = e8aa97c0-5534-406f-b35b-ac60ac898e71\n"
          ]
        }
      ],
      "source": [
        "version_v4 = 'v4'\n",
        "\n",
        "try:\n",
        "    model_v4 = fdl.Model.from_name(\n",
        "        name=MODEL_NAME,\n",
        "        project_id=project.id,\n",
        "        version=version_v4\n",
        "    )\n",
        "    print(f'Loaded existing model with id = {model_v4.id}')\n",
        "except fdl.NotFound:\n",
        "    model_v4 = model_v3.duplicate(version=version_v4)\n",
        "    model_v4.schema['age'].name = 'Age'                                                 #we are renaming the column names\n",
        "    model_v4.schema['creditscore'].name = 'CreditScore'\n",
        "    model_v4.schema['geography'].name = 'Geography'\n",
        "    model_v4.schema['balance'].name = 'BalanceNew'\n",
        "    model_v4.schema['numofproducts'].name = 'NumOfProducts'\n",
        "    model_v4.schema['hascrcard'].name = 'HasCrCard'\n",
        "    model_v4.schema['isactivemember'].name = 'IsActiveMember'\n",
        "    model_v4.schema['estimatedsalary'].name = 'EstimatedSalary'\n",
        "    model_v4.spec.inputs = ['CreditScore', 'Geography', 'Age', 'BalanceNew', 'NumOfProducts', 'HasCrCard', 'IsActiveMember', 'EstimatedSalary']\n",
        "\n",
        "    model_v4.create()\n",
        "    print(f'New model created with id = {model_v4.id}')"
      ]
    },
    {
      "cell_type": "markdown",
      "source": [
        "# Publish events against fourth version"
      ],
      "metadata": {
        "id": "t2WPzJZWvPa3"
      },
      "id": "t2WPzJZWvPa3"
    },
    {
      "cell_type": "code",
      "source": [
        "output = model_v4.publish(\n",
        "    source=sample_df,\n",
        "    environment=fdl.EnvType.PRE_PRODUCTION,\n",
        "    dataset_name=STATIC_BASELINE_NAME\n",
        ")\n",
        "print(f'Baseline dataset is published against model, Job id: {output.id}')\n",
        "output = model_v4.publish(production_df)\n",
        "print(f'Production event dataset is published against model, Job id: {output.id}')"
      ],
      "metadata": {
        "id": "AYaejq5YvWqK",
        "colab": {
          "base_uri": "https://localhost:8080/"
        },
        "outputId": "98a68127-55d1-4bb0-d0bb-2e6c9cc23a92"
      },
      "id": "AYaejq5YvWqK",
      "execution_count": null,
      "outputs": [
        {
          "output_type": "stream",
          "name": "stdout",
          "text": [
            "Baseline dataset is published against model, Job id: d492916e-b336-4f79-9578-7dc18c8d99c1\n",
            "Production event dataset is published against model, Job id: 980d864b-ff17-444f-8810-f3f304792058\n"
          ]
        }
      ]
    },
    {
      "cell_type": "markdown",
      "id": "e8c250bf",
      "metadata": {
        "id": "e8c250bf"
      },
      "source": [
        "## 7. Fifth version with schema change\n",
        "Add fifth version with change in schema, where\n",
        "we are changing the changing the max limit of the balance field"
      ]
    },
    {
      "cell_type": "markdown",
      "id": "7219c3d2",
      "metadata": {
        "id": "7219c3d2"
      },
      "source": [
        "<table>\n",
        "    <tr>\n",
        "        <td>\n",
        "            <img src=\"https://raw.githubusercontent.com/fiddler-labs/fiddler-examples/main/quickstart/images/model_versions_2.png\" />\n",
        "        </td>\n",
        "    </tr>\n",
        "</table>"
      ]
    },
    {
      "cell_type": "code",
      "execution_count": null,
      "id": "05c1761d",
      "metadata": {
        "id": "05c1761d",
        "colab": {
          "base_uri": "https://localhost:8080/"
        },
        "outputId": "d8a9a4a6-8cf8-445f-99cf-f300aae1af5c"
      },
      "outputs": [
        {
          "output_type": "stream",
          "name": "stdout",
          "text": [
            "New model created with id = 8ad69595-0e43-409e-aeb4-a11154ef66ca\n"
          ]
        }
      ],
      "source": [
        "version_v5 = 'v5'\n",
        "\n",
        "try:\n",
        "    model_v5 = fdl.Model.from_name(\n",
        "        name=MODEL_NAME,\n",
        "        project_id=project.id,\n",
        "        version=version_v5\n",
        "    )\n",
        "    print(f'Loaded existing model with id = {model_v5.id}')\n",
        "except fdl.NotFound as e:\n",
        "    model_v5 = model_v4.duplicate(version=version_v5)\n",
        "    model_v5.schema['Age'].min = 18                                             #this sets the min and max of the age column\n",
        "    model_v5.schema['Age'].max = 85\n",
        "\n",
        "    model_v5.schema['BalanceNew'].max = 1250000                                     #this sets the max value for the balance column\n",
        "    model_v5.create()\n",
        "    print(f'New model created with id = {model_v5.id}')\n"
      ]
    },
    {
      "cell_type": "markdown",
      "source": [
        "# Publish events against fifth version"
      ],
      "metadata": {
        "id": "VEujgpB5uO-R"
      },
      "id": "VEujgpB5uO-R"
    },
    {
      "cell_type": "code",
      "source": [
        "output = model_v5.publish(\n",
        "    source=sample_df,\n",
        "    environment=fdl.EnvType.PRE_PRODUCTION,\n",
        "    dataset_name=STATIC_BASELINE_NAME\n",
        ")\n",
        "print(f'Baseline dataset is published against model, Job id: {output.id}')\n",
        "output = model_v5.publish(production_df)\n",
        "print(f'Production event dataset is published against model, Job id: {output.id}')"
      ],
      "metadata": {
        "id": "RM_g2nMVuE-d"
      },
      "id": "RM_g2nMVuE-d",
      "execution_count": null,
      "outputs": []
    },
    {
      "cell_type": "markdown",
      "id": "1a7ee20d",
      "metadata": {
        "id": "1a7ee20d"
      },
      "source": [
        "## 8. Update version name"
      ]
    },
    {
      "cell_type": "code",
      "execution_count": null,
      "id": "4ef35a0f",
      "metadata": {
        "id": "4ef35a0f"
      },
      "outputs": [],
      "source": [
        "model_v4.version = 'v4-old'                                                     #this renames the v4 version name to 'v4-old'\n",
        "\n",
        "model_v4.update()\n"
      ]
    },
    {
      "cell_type": "markdown",
      "id": "e7c283e2",
      "metadata": {
        "id": "e7c283e2"
      },
      "source": [
        "<table>\n",
        "    <tr>\n",
        "        <td>\n",
        "            <img src=\"https://raw.githubusercontent.com/fiddler-labs/fiddler-examples/main/quickstart/images/model_versions_3.png\" />\n",
        "        </td>\n",
        "    </tr>\n",
        "</table>"
      ]
    },
    {
      "cell_type": "markdown",
      "id": "50a0df73",
      "metadata": {
        "id": "50a0df73"
      },
      "source": [
        "## 9. Delete model version\n",
        "Delete v5 version"
      ]
    },
    {
      "cell_type": "code",
      "execution_count": null,
      "id": "68cbc4ee",
      "metadata": {
        "id": "68cbc4ee"
      },
      "outputs": [],
      "source": [
        "job = model_v5.delete()                                     #this deletes a specified version of the model\n",
        "job.wait()"
      ]
    },
    {
      "cell_type": "markdown",
      "id": "1327baa3",
      "metadata": {
        "id": "1327baa3"
      },
      "source": [
        "\n",
        "\n",
        "---\n",
        "\n",
        "\n",
        "**Questions?**  \n",
        "  \n",
        "Check out [our docs](https://docs.fiddler.ai/) for a more detailed explanation of what Fiddler has to offer.\n",
        "\n",
        "If you're still looking for answers, fill out a ticket on [our support page](https://fiddlerlabs.zendesk.com/) and we'll get back to you shortly."
      ]
    }
  ],
  "metadata": {
    "colab": {
      "provenance": []
    },
    "kernelspec": {
      "display_name": "Python 3 (ipykernel)",
      "language": "python",
      "name": "python3"
    },
    "language_info": {
      "codemirror_mode": {
        "name": "ipython",
        "version": 3
      },
      "file_extension": ".py",
      "mimetype": "text/x-python",
      "name": "python",
      "nbconvert_exporter": "python",
      "pygments_lexer": "ipython3",
      "version": "3.9.18"
    }
  },
  "nbformat": 4,
  "nbformat_minor": 5
}