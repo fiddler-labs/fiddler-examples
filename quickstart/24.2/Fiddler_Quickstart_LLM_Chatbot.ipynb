{
 "cells": [
  {
   "cell_type": "markdown",
   "metadata": {
    "id": "sF3cOBoVx9Ji"
   },
   "source": [
    "# Fiddler LLM Application Quick Start Guide\n",
    "\n",
    "Fiddler is the pioneer in enterprise AI Observability, offering a unified platform that enables all model stakeholders to monitor model performance and to investigate the true source of model degredation.  Fiddler's AI Observability platform supports both traditional ML models as well as Generative AI applications.  This guide walks you through how to onboard a LLM chatbot application that is built using a RAG architecture.\n",
    "\n",
    "---\n",
    "\n",
    "You can start using Fiddler ***in minutes*** by following these 8 quick steps:\n",
    "\n",
    "1. Imports\n",
    "2. Connect to Fiddler\n",
    "3. Create a Fiddler project\n",
    "4. Upload a baseline dataset\n",
    "5. Opt-in to specific Fiddler's LLM Enrichments\n",
    "6. Add information about the LLM application\n",
    "7. Publish production events\n",
    "8. Get insights\n",
    "\n",
    "**Don't have a Fiddler account? [Sign-up for a 14-day free trial](https://www.fiddler.ai/trial?utm_source=fiddler_docs&utm_medium=referral).**"
   ]
  },
  {
   "cell_type": "markdown",
   "metadata": {
    "id": "wUZi_5s7wsGA"
   },
   "source": [
    "## 1. Imports"
   ]
  },
  {
   "cell_type": "code",
   "execution_count": null,
   "metadata": {},
   "outputs": [],
   "source": [
    "!pip install fiddler-client"
   ]
  },
  {
   "cell_type": "code",
   "execution_count": null,
   "metadata": {
    "ExecuteTime": {
     "end_time": "2023-07-27T19:02:01.749620Z",
     "start_time": "2023-07-27T19:01:56.285723Z"
    },
    "id": "Pg-BdRJ4w3LM"
   },
   "outputs": [],
   "source": [
    "import numpy as np\n",
    "import pandas as pd\n",
    "import time as time\n",
    "import fiddler as fdl\n",
    "import datetime\n",
    "\n",
    "print(f\"Running client version {fdl.__version__}\")"
   ]
  },
  {
   "cell_type": "markdown",
   "metadata": {
    "id": "hcP0yWfV1GoZ"
   },
   "source": [
    "## 2. Connect to Fiddler\n",
    "\n",
    "Before you can add information about your LLM application with Fiddler, you'll need to connect using our API client.\n",
    "\n",
    "\n",
    "---\n",
    "\n",
    "\n",
    "**We need a few pieces of information to get started.**\n",
    "1. The URL you're using to connect to Fiddler\n",
    "2. Your organization ID\n",
    "3. Your authorization token"
   ]
  },
  {
   "cell_type": "code",
   "execution_count": null,
   "metadata": {
    "ExecuteTime": {
     "end_time": "2023-07-27T19:02:01.753366Z",
     "start_time": "2023-07-27T19:02:01.751323Z"
    },
    "id": "05hPBZHr1eBv"
   },
   "outputs": [],
   "source": [
    "URL = '' \n",
    "ORG_NAME = ''\n",
    "AUTH_TOKEN = ''"
   ]
  },
  {
   "cell_type": "markdown",
   "metadata": {
    "id": "c2B7cgPa2Ajo"
   },
   "source": [
    "These parameters can be found on the **Settings** page of your Fiddler environment."
   ]
  },
  {
   "cell_type": "markdown",
   "metadata": {
    "id": "4EttApX9BBIn"
   },
   "source": [
    "Now just run the following code block to connect to the Fiddler API!"
   ]
  },
  {
   "cell_type": "code",
   "execution_count": null,
   "metadata": {
    "ExecuteTime": {
     "end_time": "2023-07-27T19:02:58.459534Z",
     "start_time": "2023-07-27T19:02:57.976152Z"
    },
    "id": "g6ONUHliBAsH"
   },
   "outputs": [],
   "source": [
    "client = fdl.FiddlerApi(url=URL, org_id=ORG_NAME, auth_token=AUTH_TOKEN)"
   ]
  },
  {
   "cell_type": "markdown",
   "metadata": {
    "id": "QpUHeE3dBTHD"
   },
   "source": [
    "## 3. Create a Fiddler Project\n",
    "\n",
    "Once you connect, you can create a new project by specifying a unique project ID in the client's `add_project` function."
   ]
  },
  {
   "cell_type": "code",
   "execution_count": null,
   "metadata": {
    "ExecuteTime": {
     "end_time": "2023-07-27T19:02:34.637727Z",
     "start_time": "2023-07-27T19:02:34.590808Z"
    },
    "id": "CWErNsofAz6B"
   },
   "outputs": [],
   "source": [
    "PROJECT_ID = 'fiddler_chatbot'\n",
    "DATASET_ID = 'fiddler_chatbot_history'\n",
    "MODEL_ID = 'rag_chatbot'"
   ]
  },
  {
   "cell_type": "code",
   "execution_count": null,
   "metadata": {
    "ExecuteTime": {
     "end_time": "2023-07-27T18:54:19.978019Z",
     "start_time": "2023-07-27T18:54:19.874012Z"
    },
    "scrolled": true
   },
   "outputs": [],
   "source": [
    "client.add_project(PROJECT_ID)"
   ]
  },
  {
   "cell_type": "markdown",
   "metadata": {
    "id": "V3V2EhIdwA_Q"
   },
   "source": [
    "## 4. Upload a baseline dataset\n",
    "\n",
    "In this example, we'll be onboarding data in order to observe our **Fiddler chatbot application**.  Any Fiddler AI application under observation must first establish a baseline dataset that establishes what the data should look like.   \n",
    "  \n",
    "In order to get insights into the model's performance, **Fiddler needs a small sample of data that can serve as a baseline** for making comparisons with data in production.  Let's use a file with some historical prompts, source docs, and responses from our Fiddler chatbot for our baseline.\n",
    "\n",
    "---\n",
    "\n",
    "*For more information on how to design a baseline dataset, [click here](https://docs.fiddler.ai/docs/designing-a-baseline-dataset).*"
   ]
  },
  {
   "cell_type": "code",
   "execution_count": null,
   "metadata": {},
   "outputs": [],
   "source": [
    "PATH_TO_BASELINE_CSV = 'https://media.githubusercontent.com/media/fiddler-labs/fiddler-examples/main/quickstart/data/chatbot_llm_baseline.csv'\n",
    "\n",
    "baseline_df = pd.read_csv(PATH_TO_BASELINE_CSV)\n",
    "baseline_df"
   ]
  },
  {
   "cell_type": "markdown",
   "metadata": {
    "id": "niKle55HCgIj"
   },
   "source": [
    "Fiddler uses this baseline dataset to keep track of important information about your data.  This includes **data types**, **data ranges**, and **unique values** for categorical variables.\n",
    "\n",
    "---\n",
    "\n",
    "You can construct a `DatasetInfo` object to be used as **a schema for keeping track of this information** by running the following code block."
   ]
  },
  {
   "cell_type": "code",
   "execution_count": null,
   "metadata": {
    "ExecuteTime": {
     "end_time": "2023-07-19T20:11:06.219352Z",
     "start_time": "2023-07-19T20:11:06.173582Z"
    },
    "id": "TI_x9-T93G-v"
   },
   "outputs": [],
   "source": [
    "dataset_info = fdl.DatasetInfo.from_dataframe(baseline_df, max_inferred_cardinality=5)\n",
    "dataset_info"
   ]
  },
  {
   "cell_type": "markdown",
   "metadata": {},
   "source": [
    "Then use the client's [upload_dataset](https://docs.fiddler.ai/reference/clientupload_dataset) function to send this information to Fiddler.\n",
    "  \n",
    "*Just include:*\n",
    "1. A unique dataset ID\n",
    "2. The baseline dataset as a pandas DataFrame\n",
    "3. The [DatasetInfo](https://docs.fiddler.ai/reference/fdldatasetinfo) object you just created"
   ]
  },
  {
   "cell_type": "code",
   "execution_count": null,
   "metadata": {
    "ExecuteTime": {
     "end_time": "2023-07-27T18:55:05.429945Z",
     "start_time": "2023-07-27T18:55:05.407413Z"
    },
    "id": "Nk0Bpus92oJK",
    "scrolled": true
   },
   "outputs": [],
   "source": [
    "client.upload_dataset(\n",
    "    project_id=PROJECT_ID,\n",
    "    dataset_id=DATASET_ID,\n",
    "    dataset={\n",
    "        'baseline': baseline_df\n",
    "    },\n",
    "    info=dataset_info\n",
    ")"
   ]
  },
  {
   "cell_type": "markdown",
   "metadata": {},
   "source": [
    "## 5. Opt-in to specific Fiddler LLM Enrichments\n",
    "\n",
    "After publishing our chatbot's prompts and responses to our Fiddler environment, we can request that Fiddler execute a series of enrichment services that can \"score\" our prompts and responses for a variety of insights.  These enrichment services can detect AI safety issues like PII leakage, hallucinations, toxicity, and more.  We can also opt-in for enrichment services like embedding generation which will allow us to track prompt and response outliers and drift.  A full description of these enrichments can be found here.\n",
    "\n",
    "---\n",
    "\n",
    "Let's define the enrichment services we'd like to use.  Here we will opt in for embedding generation for our prompts, responses and source docs.  Additionally, let's opt in for PII detection, outlier detection through centroid distance metrics, and some other text based evaluation scores."
   ]
  },
  {
   "cell_type": "code",
   "execution_count": null,
   "metadata": {},
   "outputs": [],
   "source": [
    "fiddler_backend_enrichments = [\n",
    "    fdl.Enrichment(\n",
    "        name='Enrichment Prompt Embedding',\n",
    "        enrichment='embedding',\n",
    "        columns=['question'],\n",
    "    ),\n",
    "    fdl.TextEmbedding(\n",
    "        name='Prompt TextEmbedding',\n",
    "        source_column='question',\n",
    "        column='Enrichment Prompt Embedding',\n",
    "        n_tags=10\n",
    "    ),\n",
    "    fdl.Enrichment(\n",
    "        name='Enrichment Prompt Centroid Distance',\n",
    "        enrichment='centroid_distance',\n",
    "        columns=['Prompt TextEmbedding'],\n",
    "    ),\n",
    "    fdl.Enrichment(\n",
    "        name='Enrichment Source Docs Embedding',\n",
    "        enrichment='embedding',\n",
    "        columns=['source_docs'],\n",
    "    ),\n",
    "    fdl.TextEmbedding(\n",
    "        name='Source Docs TextEmbedding',\n",
    "        source_column='source_docs',\n",
    "        column='Enrichment Source Docs Embedding',\n",
    "        n_tags=10\n",
    "    ),\n",
    "    fdl.Enrichment(\n",
    "        name='Enrichment Source Docs Centroid Distance',\n",
    "        enrichment='centroid_distance',\n",
    "        columns=['Source Docs TextEmbedding'],\n",
    "    ),    \n",
    "     fdl.Enrichment(\n",
    "        name='Enrichment Response Embedding',\n",
    "        enrichment='embedding',\n",
    "        columns=['response'],\n",
    "    ),\n",
    "    fdl.TextEmbedding(\n",
    "        name='Response TextEmbedding',\n",
    "        source_column='response',\n",
    "        column='Enrichment Response Embedding',\n",
    "        n_tags=10\n",
    "    ),\n",
    "    fdl.Enrichment(\n",
    "        name='Enrichment Response Centroid Distance',\n",
    "        enrichment='centroid_distance',\n",
    "        columns=['Response TextEmbedding'],\n",
    "    ),\n",
    "    fdl.Enrichment(\n",
    "        name='Enrichment QA TextStat',\n",
    "        enrichment='textstat',\n",
    "        columns=['question', 'response'],\n",
    "        config={'statistics': [\n",
    "                'char_count',\n",
    "                'flesch_reading_ease',\n",
    "                'flesch_kincaid_grade',\n",
    "            ]\n",
    "        }\n",
    "    ),\n",
    "    fdl.Enrichment(\n",
    "        name='Enrichment QA Sentiment',\n",
    "        enrichment='sentiment',\n",
    "        columns=['question', 'response'],\n",
    "    )\n",
    "]"
   ]
  },
  {
   "cell_type": "markdown",
   "metadata": {},
   "source": [
    "## 6.  Add information about the LLM application\n",
    "\n",
    "Now it's time to onboard information about our LLM application to Fiddler.  We do this by defining a [ModelInfo](https://docs.fiddler.ai/reference/fdlmodelinfo) object.\n",
    "\n",
    "\n",
    "---\n",
    "\n",
    "\n",
    "The [ModelInfo](https://docs.fiddler.ai/reference/fdlmodelinfo) object will contain some **information about how your LLM application operates**.\n",
    "  \n",
    "*Just include:*\n",
    "1. The **dataset_info** object which defines our data types and columns\n",
    "2. The **dataset_id** of our baseline dataset.  The baseline dataset will also be enriched during this step based on the enrichments we've configured.\n",
    "3. The **task** your model is performing (LLM, regression, binary classification, etc.)\n",
    "4. The **features** columns.  For a LLM application, these are just the raw inputs and outputs of our LLM application.\n",
    "5. The **custom_features** which contain the configuration of the enrichments we opted for.\n"
   ]
  },
  {
   "cell_type": "code",
   "execution_count": null,
   "metadata": {},
   "outputs": [],
   "source": [
    "model_info = fdl.ModelInfo.from_dataset_info(\n",
    "    dataset_info=dataset_info,\n",
    "    dataset_id='baseline',\n",
    "    model_task=fdl.ModelTask.LLM,\n",
    "    features=['question', 'response', 'source_docs'],\n",
    "    custom_features=fiddler_backend_enrichments\n",
    ")\n",
    "model_info"
   ]
  },
  {
   "cell_type": "markdown",
   "metadata": {
    "id": "azE_UU6HE6vW"
   },
   "source": [
    "Almost done! Now just specify a unique model ID and use the client's [add_model](https://docs.fiddler.ai/reference/clientadd_model) function to send this information to Fiddler.  This step can take a little longer as the baseline dataset will also be enriched during this call."
   ]
  },
  {
   "cell_type": "code",
   "execution_count": null,
   "metadata": {
    "ExecuteTime": {
     "end_time": "2023-07-27T18:54:59.368286Z",
     "start_time": "2023-07-27T18:54:59.358977Z"
    },
    "id": "HMDG9vei24pw"
   },
   "outputs": [],
   "source": [
    "client.add_model(\n",
    "    project_id=PROJECT_ID,\n",
    "    dataset_id=DATASET_ID,\n",
    "    model_id=MODEL_ID,\n",
    "    model_info=model_info,\n",
    ")"
   ]
  },
  {
   "cell_type": "markdown",
   "metadata": {},
   "source": [
    "## 7. Publish production events\n",
    "\n",
    "Information about our LLM application is onboarded to Fiddler and now it's time to start publishing some production data!  \n",
    "Fiddler will **monitor this data and compare it to your baseline to generate powerful insights into how your model is behaving**.\n",
    "\n",
    "\n",
    "---\n",
    "\n",
    "\n",
    "Each record sent to Fiddler is called **an event**.  Events simply contain the inputs and outputs of a predictive model or LLM application.\n",
    "  \n",
    "Let's load in some sample events (prompts and responses) from a CSV file."
   ]
  },
  {
   "cell_type": "code",
   "execution_count": 45,
   "metadata": {},
   "outputs": [
    {
     "data": {
      "text/html": [
       "<div>\n",
       "<style scoped>\n",
       "    .dataframe tbody tr th:only-of-type {\n",
       "        vertical-align: middle;\n",
       "    }\n",
       "\n",
       "    .dataframe tbody tr th {\n",
       "        vertical-align: top;\n",
       "    }\n",
       "\n",
       "    .dataframe thead th {\n",
       "        text-align: right;\n",
       "    }\n",
       "</style>\n",
       "<table border=\"1\" class=\"dataframe\">\n",
       "  <thead>\n",
       "    <tr style=\"text-align: right;\">\n",
       "      <th></th>\n",
       "      <th>session_id</th>\n",
       "      <th>source_docs</th>\n",
       "      <th>response</th>\n",
       "      <th>question</th>\n",
       "      <th>comment</th>\n",
       "      <th>feedback</th>\n",
       "      <th>ts</th>\n",
       "    </tr>\n",
       "  </thead>\n",
       "  <tbody>\n",
       "    <tr>\n",
       "      <th>0</th>\n",
       "      <td>6d9917af-c889-40a5-bd83-a7860318a26f</td>\n",
       "      <td>Document:  slug: \"cv-monitoring\" _ID, ''moni...</td>\n",
       "      <td>Yes, Fiddler supports LLM (Lifecycle Model Mon...</td>\n",
       "      <td>Does Fiddler support LLM monitoring?</td>\n",
       "      <td>NaN</td>\n",
       "      <td>NaN</td>\n",
       "      <td>2023-10-29 02:29:18.094</td>\n",
       "    </tr>\n",
       "    <tr>\n",
       "      <th>1</th>\n",
       "      <td>6d9917af-c889-40a5-bd83-a7860318a26f</td>\n",
       "      <td>Document:  ---\\ntitle: \"Designing a Baseline...</td>\n",
       "      <td>A baseline dataset is a representative sample ...</td>\n",
       "      <td>what is baseline dataset?</td>\n",
       "      <td>NaN</td>\n",
       "      <td>Like</td>\n",
       "      <td>2023-10-29 02:30:48.656</td>\n",
       "    </tr>\n",
       "    <tr>\n",
       "      <th>2</th>\n",
       "      <td>6d9917af-c889-40a5-bd83-a7860318a26f</td>\n",
       "      <td>Document:  ---\\ntitle: \"Baselines\"\\nslug: \"f...</td>\n",
       "      <td>No, the default baseline for all monitoring me...</td>\n",
       "      <td>Does Fiddler have the ability to change the mo...</td>\n",
       "      <td>NaN</td>\n",
       "      <td>Like</td>\n",
       "      <td>2023-10-29 02:33:35.860</td>\n",
       "    </tr>\n",
       "    <tr>\n",
       "      <th>3</th>\n",
       "      <td>6d9917af-c889-40a5-bd83-a7860318a26f</td>\n",
       "      <td>Document:  ---\\ntitle: \"Data Drift\"\\nslug: \"...</td>\n",
       "      <td>The calculation of data drift metrics in Fiddl...</td>\n",
       "      <td>how is data drift metrics calculated?</td>\n",
       "      <td>pretty good</td>\n",
       "      <td>Like</td>\n",
       "      <td>2023-10-29 02:35:27.871</td>\n",
       "    </tr>\n",
       "    <tr>\n",
       "      <th>4</th>\n",
       "      <td>6d9917af-c889-40a5-bd83-a7860318a26f</td>\n",
       "      <td>Document:  ---\\ntitle: \"Deploying Fiddler\"\\n...</td>\n",
       "      <td>Yes, it is possible to deploy Fiddler on data ...</td>\n",
       "      <td>Can Fiddler be deployed on data-centers?</td>\n",
       "      <td>nice!</td>\n",
       "      <td>Like</td>\n",
       "      <td>2023-10-29 02:38:26.411</td>\n",
       "    </tr>\n",
       "    <tr>\n",
       "      <th>...</th>\n",
       "      <td>...</td>\n",
       "      <td>...</td>\n",
       "      <td>...</td>\n",
       "      <td>...</td>\n",
       "      <td>...</td>\n",
       "      <td>...</td>\n",
       "      <td>...</td>\n",
       "    </tr>\n",
       "    <tr>\n",
       "      <th>441</th>\n",
       "      <td>1b88a642-1d2c-4560-821e-ad3ea338ec99</td>\n",
       "      <td>Document:  ResourceLink:https://www.fiddler....</td>\n",
       "      <td>Krishna Gade is the Founder and CEO of Fiddler...</td>\n",
       "      <td>Who is Krisha GaDE?</td>\n",
       "      <td>NaN</td>\n",
       "      <td>NaN</td>\n",
       "      <td>2024-02-27 02:38:46.767</td>\n",
       "    </tr>\n",
       "    <tr>\n",
       "      <th>442</th>\n",
       "      <td>e71adb1a-c425-4e46-ad61-ec731bdeadb4</td>\n",
       "      <td>Document:  ResourceLink:https://www.fiddler....</td>\n",
       "      <td>Yes, Fiddler can observe LLM applications. Fid...</td>\n",
       "      <td>Can Fiddler Observe LLM APplicaitons?</td>\n",
       "      <td>NaN</td>\n",
       "      <td>NaN</td>\n",
       "      <td>2024-02-27 20:52:41.327</td>\n",
       "    </tr>\n",
       "    <tr>\n",
       "      <th>443</th>\n",
       "      <td>76499c4d-77c5-471c-b0aa-2584c535a28d</td>\n",
       "      <td>Document:  BlogLink:https://www.fiddler.ai/b...</td>\n",
       "      <td>Yes, Fiddler supports LLM (Language Model Moni...</td>\n",
       "      <td>Can Fiddler Support LLM Observability?</td>\n",
       "      <td>NaN</td>\n",
       "      <td>NaN</td>\n",
       "      <td>2024-02-27 21:07:49.141</td>\n",
       "    </tr>\n",
       "    <tr>\n",
       "      <th>444</th>\n",
       "      <td>78845331-55ca-45f1-8624-f4910025bec9</td>\n",
       "      <td>Document:  ResourceLink:https://www.fiddler....</td>\n",
       "      <td>Fiddler supports LLMs by providing tools and r...</td>\n",
       "      <td>How does Fiddler support LLMs?</td>\n",
       "      <td>NaN</td>\n",
       "      <td>Like</td>\n",
       "      <td>2024-02-27 23:17:21.129</td>\n",
       "    </tr>\n",
       "    <tr>\n",
       "      <th>445</th>\n",
       "      <td>43d86f83-d268-4b74-8cf6-3179794d41eb</td>\n",
       "      <td>Document:  ResourceLink:https://www.fiddler....</td>\n",
       "      <td>Fiddler supports LLMs by providing tools and r...</td>\n",
       "      <td>How does Fiddler support LLMs?</td>\n",
       "      <td>NaN</td>\n",
       "      <td>NaN</td>\n",
       "      <td>2024-02-28 00:00:00.000</td>\n",
       "    </tr>\n",
       "  </tbody>\n",
       "</table>\n",
       "<p>446 rows × 7 columns</p>\n",
       "</div>"
      ],
      "text/plain": [
       "                               session_id  \\\n",
       "0    6d9917af-c889-40a5-bd83-a7860318a26f   \n",
       "1    6d9917af-c889-40a5-bd83-a7860318a26f   \n",
       "2    6d9917af-c889-40a5-bd83-a7860318a26f   \n",
       "3    6d9917af-c889-40a5-bd83-a7860318a26f   \n",
       "4    6d9917af-c889-40a5-bd83-a7860318a26f   \n",
       "..                                    ...   \n",
       "441  1b88a642-1d2c-4560-821e-ad3ea338ec99   \n",
       "442  e71adb1a-c425-4e46-ad61-ec731bdeadb4   \n",
       "443  76499c4d-77c5-471c-b0aa-2584c535a28d   \n",
       "444  78845331-55ca-45f1-8624-f4910025bec9   \n",
       "445  43d86f83-d268-4b74-8cf6-3179794d41eb   \n",
       "\n",
       "                                           source_docs  \\\n",
       "0      Document:  slug: \"cv-monitoring\" _ID, ''moni...   \n",
       "1      Document:  ---\\ntitle: \"Designing a Baseline...   \n",
       "2      Document:  ---\\ntitle: \"Baselines\"\\nslug: \"f...   \n",
       "3      Document:  ---\\ntitle: \"Data Drift\"\\nslug: \"...   \n",
       "4      Document:  ---\\ntitle: \"Deploying Fiddler\"\\n...   \n",
       "..                                                 ...   \n",
       "441    Document:  ResourceLink:https://www.fiddler....   \n",
       "442    Document:  ResourceLink:https://www.fiddler....   \n",
       "443    Document:  BlogLink:https://www.fiddler.ai/b...   \n",
       "444    Document:  ResourceLink:https://www.fiddler....   \n",
       "445    Document:  ResourceLink:https://www.fiddler....   \n",
       "\n",
       "                                              response  \\\n",
       "0    Yes, Fiddler supports LLM (Lifecycle Model Mon...   \n",
       "1    A baseline dataset is a representative sample ...   \n",
       "2    No, the default baseline for all monitoring me...   \n",
       "3    The calculation of data drift metrics in Fiddl...   \n",
       "4    Yes, it is possible to deploy Fiddler on data ...   \n",
       "..                                                 ...   \n",
       "441  Krishna Gade is the Founder and CEO of Fiddler...   \n",
       "442  Yes, Fiddler can observe LLM applications. Fid...   \n",
       "443  Yes, Fiddler supports LLM (Language Model Moni...   \n",
       "444  Fiddler supports LLMs by providing tools and r...   \n",
       "445  Fiddler supports LLMs by providing tools and r...   \n",
       "\n",
       "                                              question      comment feedback  \\\n",
       "0                 Does Fiddler support LLM monitoring?          NaN      NaN   \n",
       "1                            what is baseline dataset?          NaN     Like   \n",
       "2    Does Fiddler have the ability to change the mo...          NaN     Like   \n",
       "3                how is data drift metrics calculated?  pretty good     Like   \n",
       "4             Can Fiddler be deployed on data-centers?        nice!     Like   \n",
       "..                                                 ...          ...      ...   \n",
       "441                                Who is Krisha GaDE?          NaN      NaN   \n",
       "442              Can Fiddler Observe LLM APplicaitons?          NaN      NaN   \n",
       "443             Can Fiddler Support LLM Observability?          NaN      NaN   \n",
       "444                     How does Fiddler support LLMs?          NaN     Like   \n",
       "445                     How does Fiddler support LLMs?          NaN      NaN   \n",
       "\n",
       "                         ts  \n",
       "0   2023-10-29 02:29:18.094  \n",
       "1   2023-10-29 02:30:48.656  \n",
       "2   2023-10-29 02:33:35.860  \n",
       "3   2023-10-29 02:35:27.871  \n",
       "4   2023-10-29 02:38:26.411  \n",
       "..                      ...  \n",
       "441 2024-02-27 02:38:46.767  \n",
       "442 2024-02-27 20:52:41.327  \n",
       "443 2024-02-27 21:07:49.141  \n",
       "444 2024-02-27 23:17:21.129  \n",
       "445 2024-02-28 00:00:00.000  \n",
       "\n",
       "[446 rows x 7 columns]"
      ]
     },
     "execution_count": 45,
     "metadata": {},
     "output_type": "execute_result"
    }
   ],
   "source": [
    "PATH_TO_EVENTS_CSV = 'https://media.githubusercontent.com/media/fiddler-labs/fiddler-examples/main/quickstart/data/chatbot_llm_events.csv'\n",
    "\n",
    "llm_events_df = pd.read_csv(PATH_TO_EVENTS_CSV)\n",
    " \n",
    "# Timeshifting the timestamp column in the events file so the events are as recent as today\n",
    "llm_events_df['ts'] = pd.to_datetime(llm_events_df['ts'])\n",
    "time_diff = pd.Timestamp.now().normalize() - llm_events_df['ts'].max()\n",
    "llm_events_df['ts'] += time_diff\n",
    "\n",
    "llm_events_df"
   ]
  },
  {
   "cell_type": "markdown",
   "metadata": {},
   "source": [
    "You can use the client's `publish_events_batch` function to start pumping data into Fiddler!\n",
    "  \n",
    "*Just include:*\n",
    "1. The DataFrame containing your events\n",
    "2. The name of the column containing event timestamps"
   ]
  },
  {
   "cell_type": "code",
   "execution_count": null,
   "metadata": {},
   "outputs": [],
   "source": [
    "client.publish_events_batch(\n",
    "    project_id=PROJECT_ID,\n",
    "    model_id=MODEL_ID,\n",
    "    batch_source=llm_events_df,\n",
    "    timestamp_field='ts'\n",
    ")"
   ]
  },
  {
   "cell_type": "markdown",
   "metadata": {},
   "source": [
    "# 8. Get insights\n",
    "\n",
    "**You're all done!**\n",
    "  \n",
    "You can now head to your Fiddler environment and start getting enhanced observability into your LLM application's performance."
   ]
  },
  {
   "cell_type": "markdown",
   "metadata": {},
   "source": [
    "<table>\n",
    "    <tr>\n",
    "        <td>\n",
    "            <img src=\"https://raw.githubusercontent.com/fiddler-labs/fiddler-examples/main/quickstart/images/LLM_chatbot_UMAP.png\" />\n",
    "        </td>\n",
    "    </tr>\n",
    "</table>"
   ]
  },
  {
   "cell_type": "markdown",
   "metadata": {
    "id": "Jdkj1eHgOTAO"
   },
   "source": [
    "**What's Next?**\n",
    "\n",
    "Try the [NLP Monitoring - Quickstart Notebook](https://docs.fiddler.ai/docs/simple-nlp-monitoring-quick-start)\n",
    "\n",
    "---\n",
    "\n",
    "\n",
    "**Questions?**  \n",
    "  \n",
    "Check out [our docs](https://docs.fiddler.ai/) for a more detailed explanation of what Fiddler has to offer.\n",
    "\n",
    "Join our [community Slack](http://fiddler-community.slack.com/) to ask any questions!\n",
    "\n",
    "If you're still looking for answers, fill out a ticket on [our support page](https://fiddlerlabs.zendesk.com/) and we'll get back to you shortly."
   ]
  }
 ],
 "metadata": {
  "colab": {
   "provenance": []
  },
  "kernelspec": {
   "display_name": "Python 3",
   "language": "python",
   "name": "python3"
  },
  "language_info": {
   "codemirror_mode": {
    "name": "ipython",
    "version": 3
   },
   "file_extension": ".py",
   "mimetype": "text/x-python",
   "name": "python",
   "nbconvert_exporter": "python",
   "pygments_lexer": "ipython3",
   "version": "3.8.8"
  }
 },
 "nbformat": 4,
 "nbformat_minor": 4
}
