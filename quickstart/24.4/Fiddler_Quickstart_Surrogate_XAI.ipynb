{
 "cells": [
  {
   "cell_type": "markdown",
   "metadata": {
    "id": "KxxiKou3wZTw"
   },
   "source": [
    "# Fiddler Quick Start Guide for Explainability (XAI) with Surrogate Models\n",
    "\n",
    "Fiddler is not only a powerful observability tool for monitoring the health of your ML models in production but also an explainability tool to peak into your black box models. With the ability to **point explain** and **global explain** your model, Fiddler provides powerful insights that can demystify your model's behavior. \n",
    "\n",
    "\n",
    "---\n",
    "\n",
    "\n",
    "You can start exploring Fiddler's XAI capabilities by following these five quick steps:\n",
    "\n",
    "1. Connect to Fiddler\n",
    "2. Define your model specifications\n",
    "3. Add your model\n",
    "4. Generate a Surrogate Model to Enable Explainability\n",
    "5. Publish Production Events\n",
    "6. Get insights\n"
   ]
  },
  {
   "cell_type": "markdown",
   "metadata": {
    "id": "wUZi_5s7wsGA"
   },
   "source": [
    "## 0. Imports"
   ]
  },
  {
   "cell_type": "code",
   "execution_count": null,
   "metadata": {
    "id": "Pg-BdRJ4w3LM"
   },
   "outputs": [],
   "source": [
    "!pip install -q fiddler-client\n",
    "\n",
    "import numpy as np\n",
    "import pandas as pd\n",
    "import fiddler as fdl\n",
    "import time as time\n",
    "\n",
    "print(f\"Running client version {fdl.__version__}\")"
   ]
  },
  {
   "cell_type": "markdown",
   "metadata": {
    "id": "hcP0yWfV1GoZ"
   },
   "source": [
    "## 1. Connect to Fiddler\n",
    "\n",
    "Before you can register your model with Fiddler, you'll need to connect using our API client.\n",
    "\n",
    "---\n",
    "\n",
    "**We need just two pieces of information to get started.**\n",
    "1. The URL you're using to connect to Fiddler\n",
    "2. Your authorization token\n",
    "\n",
    "These can be found by navigating to the **Settings** page of your Fiddler environment."
   ]
  },
  {
   "cell_type": "code",
   "execution_count": null,
   "metadata": {
    "id": "05hPBZHr1eBv"
   },
   "outputs": [],
   "source": [
    "URL = ''\n",
    "TOKEN = ''"
   ]
  },
  {
   "cell_type": "markdown",
   "metadata": {
    "id": "4EttApX9BBIn"
   },
   "source": [
    "Now just run the following code block to connect to the Fiddler API!"
   ]
  },
  {
   "cell_type": "code",
   "execution_count": null,
   "metadata": {
    "id": "g6ONUHliBAsH"
   },
   "outputs": [],
   "source": [
    "fdl.init(\n",
    "    url=URL,\n",
    "    token=TOKEN\n",
    ")"
   ]
  },
  {
   "cell_type": "markdown",
   "metadata": {
    "id": "QpUHeE3dBTHD"
   },
   "source": [
    "Once you connect, you can create a new project by specifying a project name and initializing it by using `project.create()`"
   ]
  },
  {
   "cell_type": "code",
   "execution_count": null,
   "metadata": {
    "id": "vh46Mp1MBSMj"
   },
   "outputs": [],
   "source": [
    "PROJECT_NAME = 'quickstart_surrogate_xai1'\n",
    "\n",
    "project = fdl.Project(\n",
    "    name=PROJECT_NAME)\n",
    "\n",
    "project.create()"
   ]
  },
  {
   "cell_type": "markdown",
   "metadata": {
    "id": "tlp8zEvlqO8I"
   },
   "source": [
    "You should now be able to see the newly created project on the UI."
   ]
  },
  {
   "cell_type": "markdown",
   "metadata": {},
   "source": [
    "<table>\n",
    "    <tr>\n",
    "        <td>\n",
    "            <img src=\"https://raw.githubusercontent.com/fiddler-labs/fiddler-examples/main/quickstart/images/surrogate_xai_1.png\" />\n",
    "        </td>\n",
    "    </tr>\n",
    "</table>"
   ]
  },
  {
   "cell_type": "markdown",
   "metadata": {
    "id": "V3V2EhIdwA_Q"
   },
   "source": [
    "## 2. Define your model specifications\n",
    "\n",
    "In this example, we'll be considering the case where we're a bank and we have **a model that predicts churn for our customers**.\n",
    "  \n",
    "In order to get insights into the model's performance, **Fiddler needs a small sample of data** to learn the schema of incoming data."
   ]
  },
  {
   "cell_type": "code",
   "execution_count": null,
   "metadata": {
    "id": "TFVJcU8uCY7z"
   },
   "outputs": [],
   "source": [
    "PATH_TO_SAMPLE_CSV = 'https://raw.githubusercontent.com/fiddler-labs/fiddler-examples/main/quickstart/data/v3/churn_data_sample.csv'\n",
    "\n",
    "sample_df = pd.read_csv(PATH_TO_BASELINE_CSV)\n",
    "sample_df"
   ]
  },
  {
   "cell_type": "markdown",
   "metadata": {},
   "source": [
    "### 2.a Define Model Specification\n",
    "In order to add your model to Fiddler, simply create a ModelSpec object with information about what each column of your data sample should used for.\n",
    "\n",
    "Fiddler supports four column types:\n",
    "1. **Inputs**\n",
    "2. **Outputs** (Model predictions)\n",
    "3. **Targets** (Ground truth values)\n",
    "4. **Metadata**"
   ]
  },
  {
   "cell_type": "code",
   "execution_count": null,
   "metadata": {
    "id": "TI_x9-T93G-v"
   },
   "outputs": [],
   "source": [
    "model_spec = fdl.ModelSpec(\n",
    "    inputs=[\n",
    "        'creditscore',\n",
    "        'geography',\n",
    "        'gender',\n",
    "        'age',\n",
    "        'tenure',\n",
    "        'balance',\n",
    "        'numofproducts',\n",
    "        'hascrcard',\n",
    "        'isactivemember',\n",
    "        'estimatedsalary'\n",
    "    ],\n",
    "    outputs=['predicted_churn'],\n",
    "    targets=['churn'],\n",
    "    metadata=['customer_id', 'timestamp']\n",
    ")"
   ]
  },
  {
   "cell_type": "markdown",
   "metadata": {},
   "source": [
    "If you have columns in your ModelSpec that denote prediction IDs or timestamps, then Fiddler can use these to power its analytics accordingly. Let's define those as well:"
   ]
  },
  {
   "cell_type": "code",
   "execution_count": null,
   "metadata": {},
   "outputs": [],
   "source": [
    "id_column = 'customer_id'\n",
    "timestamp_column = 'timestamp'"
   ]
  },
  {
   "cell_type": "markdown",
   "metadata": {},
   "source": [
    "### 2.b Define Model Task"
   ]
  },
  {
   "cell_type": "markdown",
   "metadata": {},
   "source": [
    "Fiddler supports a variety of model tasks. In this case, we're adding a binary classification model.\n",
    "\n",
    "For this, we'll create a ModelTask object and an additional ModelTaskParams object to specify the ordering of our positive and negative labels.\n",
    "\n",
    "For a detailed breakdown of all supported model tasks, click here."
   ]
  },
  {
   "cell_type": "code",
   "execution_count": null,
   "metadata": {},
   "outputs": [],
   "source": [
    "model_task = fdl.ModelTask.BINARY_CLASSIFICATION\n",
    "\n",
    "task_params = fdl.ModelTaskParams(target_class_order=['no', 'yes'])"
   ]
  },
  {
   "cell_type": "markdown",
   "metadata": {},
   "source": [
    "## 3. Add your model"
   ]
  },
  {
   "cell_type": "markdown",
   "metadata": {},
   "source": [
    "Create a Model object and publish it to Fiddler, passing in:\n",
    "1. Your data sample\n",
    "2. Your ModelSpec object\n",
    "3. Your ModelTask and ModelTaskParams objects\n",
    "4. Your ID and timestamp columns"
   ]
  },
  {
   "cell_type": "code",
   "execution_count": null,
   "metadata": {},
   "outputs": [],
   "source": [
    "MODEL_NAME = 'bank_churn'\n",
    "\n",
    "model = fdl.Model.from_data(\n",
    "    name=MODEL_NAME,\n",
    "    project_id=fdl.Project.from_name(PROJECT_NAME).id,\n",
    "    source=sample_df,\n",
    "    spec=model_spec,\n",
    "    task=model_task,\n",
    "    task_params=task_params,\n",
    "    event_id_col=id_column,\n",
    "    event_ts_col=timestamp_column\n",
    ")\n",
    "\n",
    "model.create()"
   ]
  },
  {
   "cell_type": "markdown",
   "metadata": {
    "id": "1dmA8PP7GTdJ"
   },
   "source": [
    "## 4. Generate a Surrogate Model to enable **Explainability**"
   ]
  },
  {
   "cell_type": "markdown",
   "metadata": {},
   "source": [
    "Fiddler allows users to access model explanations by leveraging your model artifacts or using Fiddler to generate a surrogate model based on your based on the sample data you uploaded earlier. This guide will focus on generating a surrogate model by uploading the sample dataset to Fiddler and using it to generate a Surrogate model with just one API call:"
   ]
  },
  {
   "cell_type": "code",
   "execution_count": null,
   "metadata": {
    "scrolled": true
   },
   "outputs": [],
   "source": [
    "DATASET_NAME = 'baseline' \n",
    "#Publishing Pre-prod dataset\n",
    "model.publish(\n",
    "  source=sample_df, # we are using the same sample dataset we used earlier in model onboarding\n",
    "  environment=fdl.EnvType.PRE_PRODUCTION, #environemnt parameter is used to designate this dataset as a pre-production data\n",
    "  dataset_name=DATASET_NAME)"
   ]
  },
  {
   "cell_type": "code",
   "execution_count": null,
   "metadata": {},
   "outputs": [],
   "source": [
    "PROJECT = fdl.Project.from_name(name=PROJECT_NAME)\n",
    "MODEL = fdl.Model.from_name(name=MODEL_NAME, project_id=PROJECT.id)\n",
    "DATASET = fdl.Dataset.from_name(name=DATASET_NAME, model_id=MODEL.id)"
   ]
  },
  {
   "cell_type": "code",
   "execution_count": null,
   "metadata": {
    "scrolled": true
   },
   "outputs": [],
   "source": [
    "DEPLOYMENT_PARAMS = {'memory': 1024, 'cpu': 1000}\n",
    "\n",
    "model.add_surrogate(\n",
    "  dataset_id=DATASET.id,\n",
    "  deployment_params=fdl.DeploymentParams(**DEPLOYMENT_PARAMS))"
   ]
  },
  {
   "cell_type": "markdown",
   "metadata": {},
   "source": [
    "<table>\n",
    "    <tr>\n",
    "        <td>\n",
    "            <img src=\"https://raw.githubusercontent.com/fiddler-labs/fiddler-examples/main/quickstart/images/Model_Schema-Surrogate_Model.png\"/>\n",
    "        </td>\n",
    "    </tr>\n",
    "</table>"
   ]
  },
  {
   "cell_type": "markdown",
   "metadata": {},
   "source": [
    "## 5. Finally Let's Publish Some Events "
   ]
  },
  {
   "cell_type": "code",
   "execution_count": null,
   "metadata": {},
   "outputs": [],
   "source": [
    "PATH_TO_EVENTS_CSV = 'https://raw.githubusercontent.com/fiddler-labs/fiddler-examples/main/quickstart/data/churn_events.csv'\n",
    "\n",
    "production_df = pd.read_csv(PATH_TO_EVENTS_CSV)\n",
    "# Shift the timestamps of the production events to be as recent as today \n",
    "production_df['timestamp'] = production_df['timestamp'] + (int(time.time() * 1000) - production_df['timestamp'].max())"
   ]
  },
  {
   "cell_type": "code",
   "execution_count": null,
   "metadata": {},
   "outputs": [],
   "source": [
    "dataset = model.publish(\n",
    "  source=production_df, \n",
    "  environment=fdl.EnvType.PRODUCTION) #make sure to specify this environment as PRODUCTION "
   ]
  },
  {
   "cell_type": "markdown",
   "metadata": {
    "id": "vR6IR8YNHgG1"
   },
   "source": [
    "## 6. Get insights\n",
    "\n",
    "**You're all done!**\n",
    "  \n",
    "Return to your Fiddler environment to get enhanced monitoring and explainability into the surrogate model.  With a surrogate model or an uploaded model artifact, we can unlock advance observability like global and point explanations, PDP Plots, segment-level feature impacts and more."
   ]
  },
  {
   "cell_type": "markdown",
   "metadata": {
    "id": "-DZMVHAEBzC_"
   },
   "source": [
    "<table>\n",
    "    <tr>\n",
    "        <td>\n",
    "            <img src=\"https://raw.githubusercontent.com/fiddler-labs/fiddler-examples/main/quickstart/images/surrogate_xai_5.png\" />\n",
    "        </td>\n",
    "    </tr>\n",
    "</table>"
   ]
  },
  {
   "cell_type": "markdown",
   "metadata": {},
   "source": [
    "You can also run explanations and/or get feature impact now from the client..."
   ]
  },
  {
   "cell_type": "code",
   "execution_count": null,
   "metadata": {},
   "outputs": [],
   "source": [
    "#grab a row from the baseline to run an explanation on\n",
    "row = production_df.to_dict(orient='records')[0]\n",
    "row"
   ]
  },
  {
   "cell_type": "code",
   "execution_count": null,
   "metadata": {},
   "outputs": [],
   "source": [
    "explanation = explain_result = model.explain(\n",
    "        input_data_source=fdl.RowDataSource(row=row),\n",
    "        ref_data_source=fdl.DatasetDataSource(\n",
    "            env_type='PRODUCTION'))\n",
    "\n",
    "explanation"
   ]
  },
  {
   "cell_type": "markdown",
   "metadata": {
    "id": "Jdkj1eHgOTAO"
   },
   "source": [
    "\n",
    "\n",
    "---\n",
    "\n",
    "\n",
    "**Questions?**  \n",
    "  \n",
    "Check out [our docs](https://docs.fiddler.ai/) for a more detailed explanation of what Fiddler has to offer.\n",
    "\n",
    "If you're still looking for answers, fill out a ticket on [our support page](https://fiddlerlabs.zendesk.com/) and we'll get back to you shortly."
   ]
  }
 ],
 "metadata": {
  "colab": {
   "collapsed_sections": [],
   "name": "Fiddler_Quick_Start_Guide.ipynb",
   "provenance": []
  },
  "kernelspec": {
   "display_name": "Python 3 (ipykernel)",
   "language": "python",
   "name": "python3"
  },
  "language_info": {
   "codemirror_mode": {
    "name": "ipython",
    "version": 3
   },
   "file_extension": ".py",
   "mimetype": "text/x-python",
   "name": "python",
   "nbconvert_exporter": "python",
   "pygments_lexer": "ipython3",
   "version": "3.10.13"
  }
 },
 "nbformat": 4,
 "nbformat_minor": 4
}
