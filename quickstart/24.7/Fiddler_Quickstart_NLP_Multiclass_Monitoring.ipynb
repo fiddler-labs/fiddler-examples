{
 "cells": [
  {
   "cell_type": "markdown",
   "id": "f0c3549a",
   "metadata": {
    "id": "f0c3549a"
   },
   "source": [
    "# Monitoring a Multiclass Classifier Model with Text Inputs\n",
    "Unstructured data such as text are usually represented as high-dimensional vectors when processed by ML models. In this example notebook we present how [Fiddler Vector Monitoring](https://www.fiddler.ai/blog/monitoring-natural-language-processing-and-computer-vision-models-part-1) can be used to monitor NLP models using a text classification use case.\n",
    "\n",
    "Following the steps in this notebook you can see how to onboard models that deal with unstructured text inputs. In this example, we use the 20Newsgroups dataset and train a multi-class classifier that is applied to vector embeddings of text documents.\n",
    "\n",
    "We monitor this model at production time and assess the performance of Fiddler's vector monitoring by manufacturing synthetc drift via sampling from specific text categories at different deployment time intervals.\n",
    "\n",
    "---\n",
    "\n",
    "Now we perform the following steps to demonstrate how Fiddler NLP monitoring works:\n",
    "\n",
    "1. Connect to Fiddler\n",
    "2. Create a Project\n",
    "3. Load a Data Sample\n",
    "4. Add Information About the Model's Schema\n",
    "5. Publish Production Events\n",
    "6. Get insights"
   ]
  },
  {
   "cell_type": "markdown",
   "id": "6IvnT5Rpwpcy",
   "metadata": {
    "id": "6IvnT5Rpwpcy"
   },
   "source": [
    "## Imports"
   ]
  },
  {
   "cell_type": "code",
   "execution_count": 13,
   "id": "380bfb82",
   "metadata": {
    "id": "380bfb82"
   },
   "outputs": [],
   "source": [
    "import pandas as pd\n",
    "import numpy as np\n",
    "import random\n",
    "import time as time\n",
    "import os"
   ]
  },
  {
   "cell_type": "markdown",
   "id": "sbUNWGfpZJrr",
   "metadata": {
    "id": "sbUNWGfpZJrr"
   },
   "source": [
    "# 1. Connect to Fiddler"
   ]
  },
  {
   "cell_type": "markdown",
   "id": "z1LoKQAouoDk",
   "metadata": {
    "id": "z1LoKQAouoDk"
   },
   "source": [
    "First we install and import the Fiddler Python client."
   ]
  },
  {
   "cell_type": "code",
   "execution_count": 14,
   "id": "TJKuEt6oZkUy",
   "metadata": {
    "id": "TJKuEt6oZkUy"
   },
   "outputs": [
    {
     "name": "stdout",
     "output_type": "stream",
     "text": [
      "Running client version 3.1.2\n"
     ]
    }
   ],
   "source": [
    "!pip install -q fiddler-client;\n",
    "import fiddler as fdl\n",
    "print(f\"Running client version {fdl.__version__}\")"
   ]
  },
  {
   "cell_type": "markdown",
   "id": "buFkZ_xkZgyN",
   "metadata": {
    "id": "buFkZ_xkZgyN"
   },
   "source": [
    "Before you can add information about your model with Fiddler, you'll need to connect using our API client.\n",
    "\n",
    "---\n",
    "\n",
    "**We need a few pieces of information to get started.**\n",
    "1. The URL you're using to connect to Fiddler\n",
    "2. Your authorization token\n",
    "\n",
    "These can be found by pointing your browser to your Fiddler URL and navigating to the **Settings** page."
   ]
  },
  {
   "cell_type": "code",
   "execution_count": 15,
   "id": "a41e2e8d",
   "metadata": {
    "id": "a41e2e8d"
   },
   "outputs": [],
   "source": [
    "URL = ''  # Make sure to include the full URL (including https://).\n",
    "TOKEN = ''"
   ]
  },
  {
   "cell_type": "markdown",
   "id": "024b0fda",
   "metadata": {
    "id": "024b0fda"
   },
   "source": [
    "Once you connect, you can create a new project by calling a Project's `create` method."
   ]
  },
  {
   "cell_type": "code",
   "execution_count": 16,
   "id": "627e583c",
   "metadata": {
    "id": "627e583c"
   },
   "outputs": [],
   "source": [
    "fdl.init(\n",
    "    url=URL,\n",
    "    token=TOKEN\n",
    ")"
   ]
  },
  {
   "cell_type": "markdown",
   "id": "d0099d99-a241-406b-97ba-05c8da60d924",
   "metadata": {
    "id": "d0099d99-a241-406b-97ba-05c8da60d924"
   },
   "source": [
    "# 2. Create a Project"
   ]
  },
  {
   "cell_type": "markdown",
   "id": "3c513f82",
   "metadata": {
    "id": "3c513f82"
   },
   "source": [
    "Once you connect, you can create a new project by specifying a unique project ID in the client's `create_project` function."
   ]
  },
  {
   "cell_type": "code",
   "execution_count": 17,
   "id": "CWukS_D9aEU4",
   "metadata": {
    "id": "CWukS_D9aEU4"
   },
   "outputs": [
    {
     "data": {
      "text/plain": [
       "<fiddler.entities.project.Project at 0x7f7e153dfaf0>"
      ]
     },
     "execution_count": 17,
     "metadata": {},
     "output_type": "execute_result"
    }
   ],
   "source": [
    "PROJECT_NAME = 'nlp_newsgroups'\n",
    "\n",
    "project = fdl.Project(\n",
    "    name=PROJECT_NAME\n",
    ")\n",
    "\n",
    "project.create()"
   ]
  },
  {
   "cell_type": "markdown",
   "id": "1884a477",
   "metadata": {
    "id": "1884a477"
   },
   "source": [
    "# 3. Load a Data Sample"
   ]
  },
  {
   "cell_type": "markdown",
   "id": "kLTJ_yQ6z7Kk",
   "metadata": {
    "id": "kLTJ_yQ6z7Kk"
   },
   "source": [
    "Now we retrieve the 20Newsgroup dataset. This dataset is fetched from the [scikit-learn real-world datasets](https://scikit-learn.org/stable/modules/generated/sklearn.datasets.fetch_20newsgroups.html#) and pre-processed using [this notebook](https://colab.research.google.com/github/fiddler-labs/fiddler-examples/blob/main/pre-proccessing/20newsgroups_prep_vectorization.ipynb).  For simplicity sake, we have stored it here:"
   ]
  },
  {
   "cell_type": "code",
   "execution_count": 18,
   "id": "7d384c6e-8873-4b61-92c2-4ec7ae9bd4c8",
   "metadata": {},
   "outputs": [
    {
     "data": {
      "text/html": [
       "<div>\n",
       "<style scoped>\n",
       "    .dataframe tbody tr th:only-of-type {\n",
       "        vertical-align: middle;\n",
       "    }\n",
       "\n",
       "    .dataframe tbody tr th {\n",
       "        vertical-align: top;\n",
       "    }\n",
       "\n",
       "    .dataframe thead th {\n",
       "        text-align: right;\n",
       "    }\n",
       "</style>\n",
       "<table border=\"1\" class=\"dataframe\">\n",
       "  <thead>\n",
       "    <tr style=\"text-align: right;\">\n",
       "      <th></th>\n",
       "      <th>predicted_target</th>\n",
       "      <th>prob_computer</th>\n",
       "      <th>prob_forsale</th>\n",
       "      <th>prob_recreation</th>\n",
       "      <th>prob_religion</th>\n",
       "      <th>prob_science</th>\n",
       "      <th>original_text</th>\n",
       "      <th>original_target</th>\n",
       "      <th>target</th>\n",
       "      <th>n_tokens</th>\n",
       "      <th>string_size</th>\n",
       "      <th>timestamp</th>\n",
       "    </tr>\n",
       "  </thead>\n",
       "  <tbody>\n",
       "    <tr>\n",
       "      <th>0</th>\n",
       "      <td>science</td>\n",
       "      <td>0.049720</td>\n",
       "      <td>0.015294</td>\n",
       "      <td>0.040910</td>\n",
       "      <td>0.025433</td>\n",
       "      <td>0.868644</td>\n",
       "      <td>: Has anyone ever heard of a food product call...</td>\n",
       "      <td>sci.space</td>\n",
       "      <td>science</td>\n",
       "      <td>87</td>\n",
       "      <td>482</td>\n",
       "      <td>1713288933452</td>\n",
       "    </tr>\n",
       "    <tr>\n",
       "      <th>1</th>\n",
       "      <td>computer</td>\n",
       "      <td>0.749487</td>\n",
       "      <td>0.045994</td>\n",
       "      <td>0.019984</td>\n",
       "      <td>0.016209</td>\n",
       "      <td>0.168327</td>\n",
       "      <td>Getting an image from a computer monitor to a ...</td>\n",
       "      <td>comp.graphics</td>\n",
       "      <td>computer</td>\n",
       "      <td>108</td>\n",
       "      <td>589</td>\n",
       "      <td>1713289192800</td>\n",
       "    </tr>\n",
       "    <tr>\n",
       "      <th>2</th>\n",
       "      <td>forsale</td>\n",
       "      <td>0.068282</td>\n",
       "      <td>0.739602</td>\n",
       "      <td>0.088766</td>\n",
       "      <td>0.032307</td>\n",
       "      <td>0.071043</td>\n",
       "      <td>The following used CD's are for sale.  They ar...</td>\n",
       "      <td>misc.forsale</td>\n",
       "      <td>forsale</td>\n",
       "      <td>128</td>\n",
       "      <td>775</td>\n",
       "      <td>1713289452148</td>\n",
       "    </tr>\n",
       "    <tr>\n",
       "      <th>3</th>\n",
       "      <td>science</td>\n",
       "      <td>0.060254</td>\n",
       "      <td>0.036090</td>\n",
       "      <td>0.072608</td>\n",
       "      <td>0.028312</td>\n",
       "      <td>0.802736</td>\n",
       "      <td>Since your MOSFET is a 1972 vintage, it's prob...</td>\n",
       "      <td>sci.electronics</td>\n",
       "      <td>science</td>\n",
       "      <td>117</td>\n",
       "      <td>652</td>\n",
       "      <td>1713289711496</td>\n",
       "    </tr>\n",
       "    <tr>\n",
       "      <th>4</th>\n",
       "      <td>computer</td>\n",
       "      <td>0.259612</td>\n",
       "      <td>0.088936</td>\n",
       "      <td>0.198272</td>\n",
       "      <td>0.206862</td>\n",
       "      <td>0.246319</td>\n",
       "      <td>Are 'Moody Monthly' and 'Moody' the same magaz...</td>\n",
       "      <td>soc.religion.christian</td>\n",
       "      <td>religion</td>\n",
       "      <td>26</td>\n",
       "      <td>148</td>\n",
       "      <td>1713289970844</td>\n",
       "    </tr>\n",
       "    <tr>\n",
       "      <th>...</th>\n",
       "      <td>...</td>\n",
       "      <td>...</td>\n",
       "      <td>...</td>\n",
       "      <td>...</td>\n",
       "      <td>...</td>\n",
       "      <td>...</td>\n",
       "      <td>...</td>\n",
       "      <td>...</td>\n",
       "      <td>...</td>\n",
       "      <td>...</td>\n",
       "      <td>...</td>\n",
       "      <td>...</td>\n",
       "    </tr>\n",
       "    <tr>\n",
       "      <th>2328</th>\n",
       "      <td>science</td>\n",
       "      <td>0.284201</td>\n",
       "      <td>0.027899</td>\n",
       "      <td>0.018825</td>\n",
       "      <td>0.012399</td>\n",
       "      <td>0.656676</td>\n",
       "      <td>Yes.  I use 74HC4066 and others commerically f...</td>\n",
       "      <td>sci.electronics</td>\n",
       "      <td>science</td>\n",
       "      <td>100</td>\n",
       "      <td>513</td>\n",
       "      <td>1713892696059</td>\n",
       "    </tr>\n",
       "    <tr>\n",
       "      <th>2329</th>\n",
       "      <td>science</td>\n",
       "      <td>0.140781</td>\n",
       "      <td>0.017383</td>\n",
       "      <td>0.120168</td>\n",
       "      <td>0.063662</td>\n",
       "      <td>0.658006</td>\n",
       "      <td>Even if they somehow address this issue it is ...</td>\n",
       "      <td>sci.crypt</td>\n",
       "      <td>science</td>\n",
       "      <td>38</td>\n",
       "      <td>222</td>\n",
       "      <td>1713892955407</td>\n",
       "    </tr>\n",
       "    <tr>\n",
       "      <th>2330</th>\n",
       "      <td>computer</td>\n",
       "      <td>0.937898</td>\n",
       "      <td>0.017932</td>\n",
       "      <td>0.009471</td>\n",
       "      <td>0.007481</td>\n",
       "      <td>0.027219</td>\n",
       "      <td>Hello,      I am searching for rendering softw...</td>\n",
       "      <td>comp.graphics</td>\n",
       "      <td>computer</td>\n",
       "      <td>39</td>\n",
       "      <td>215</td>\n",
       "      <td>1713893214755</td>\n",
       "    </tr>\n",
       "    <tr>\n",
       "      <th>2331</th>\n",
       "      <td>science</td>\n",
       "      <td>0.153452</td>\n",
       "      <td>0.039111</td>\n",
       "      <td>0.073378</td>\n",
       "      <td>0.030796</td>\n",
       "      <td>0.703263</td>\n",
       "      <td>For those of you interested in the above Proce...</td>\n",
       "      <td>sci.med</td>\n",
       "      <td>science</td>\n",
       "      <td>114</td>\n",
       "      <td>556</td>\n",
       "      <td>1713893474103</td>\n",
       "    </tr>\n",
       "    <tr>\n",
       "      <th>2332</th>\n",
       "      <td>science</td>\n",
       "      <td>0.191443</td>\n",
       "      <td>0.061594</td>\n",
       "      <td>0.044375</td>\n",
       "      <td>0.032202</td>\n",
       "      <td>0.670386</td>\n",
       "      <td>Someone in Canada asked me to send him some pu...</td>\n",
       "      <td>sci.crypt</td>\n",
       "      <td>science</td>\n",
       "      <td>101</td>\n",
       "      <td>343</td>\n",
       "      <td>1713893733452</td>\n",
       "    </tr>\n",
       "  </tbody>\n",
       "</table>\n",
       "<p>2333 rows × 12 columns</p>\n",
       "</div>"
      ],
      "text/plain": [
       "     predicted_target  prob_computer  prob_forsale  prob_recreation  \\\n",
       "0             science       0.049720      0.015294         0.040910   \n",
       "1            computer       0.749487      0.045994         0.019984   \n",
       "2             forsale       0.068282      0.739602         0.088766   \n",
       "3             science       0.060254      0.036090         0.072608   \n",
       "4            computer       0.259612      0.088936         0.198272   \n",
       "...               ...            ...           ...              ...   \n",
       "2328          science       0.284201      0.027899         0.018825   \n",
       "2329          science       0.140781      0.017383         0.120168   \n",
       "2330         computer       0.937898      0.017932         0.009471   \n",
       "2331          science       0.153452      0.039111         0.073378   \n",
       "2332          science       0.191443      0.061594         0.044375   \n",
       "\n",
       "      prob_religion  prob_science  \\\n",
       "0          0.025433      0.868644   \n",
       "1          0.016209      0.168327   \n",
       "2          0.032307      0.071043   \n",
       "3          0.028312      0.802736   \n",
       "4          0.206862      0.246319   \n",
       "...             ...           ...   \n",
       "2328       0.012399      0.656676   \n",
       "2329       0.063662      0.658006   \n",
       "2330       0.007481      0.027219   \n",
       "2331       0.030796      0.703263   \n",
       "2332       0.032202      0.670386   \n",
       "\n",
       "                                          original_text  \\\n",
       "0     : Has anyone ever heard of a food product call...   \n",
       "1     Getting an image from a computer monitor to a ...   \n",
       "2     The following used CD's are for sale.  They ar...   \n",
       "3     Since your MOSFET is a 1972 vintage, it's prob...   \n",
       "4     Are 'Moody Monthly' and 'Moody' the same magaz...   \n",
       "...                                                 ...   \n",
       "2328  Yes.  I use 74HC4066 and others commerically f...   \n",
       "2329  Even if they somehow address this issue it is ...   \n",
       "2330  Hello,      I am searching for rendering softw...   \n",
       "2331  For those of you interested in the above Proce...   \n",
       "2332  Someone in Canada asked me to send him some pu...   \n",
       "\n",
       "             original_target    target  n_tokens  string_size      timestamp  \n",
       "0                  sci.space   science        87          482  1713288933452  \n",
       "1              comp.graphics  computer       108          589  1713289192800  \n",
       "2               misc.forsale   forsale       128          775  1713289452148  \n",
       "3            sci.electronics   science       117          652  1713289711496  \n",
       "4     soc.religion.christian  religion        26          148  1713289970844  \n",
       "...                      ...       ...       ...          ...            ...  \n",
       "2328         sci.electronics   science       100          513  1713892696059  \n",
       "2329               sci.crypt   science        38          222  1713892955407  \n",
       "2330           comp.graphics  computer        39          215  1713893214755  \n",
       "2331                 sci.med   science       114          556  1713893474103  \n",
       "2332               sci.crypt   science       101          343  1713893733452  \n",
       "\n",
       "[2333 rows x 12 columns]"
      ]
     },
     "execution_count": 18,
     "metadata": {},
     "output_type": "execute_result"
    }
   ],
   "source": [
    "PATH_TO_SAMPLE_CSV = 'https://raw.githubusercontent.com/fiddler-labs/fiddler-examples/main/quickstart/data/v3/nlp_text_multiclassifier_data_sample.csv'\n",
    "\n",
    "sample_df = pd.read_csv(PATH_TO_SAMPLE_CSV)\n",
    "sample_df"
   ]
  },
  {
   "cell_type": "markdown",
   "id": "roikR8aTmfNE",
   "metadata": {
    "id": "roikR8aTmfNE"
   },
   "source": [
    "# 4. Add Information About the Model's Schema"
   ]
  },
  {
   "cell_type": "markdown",
   "id": "1Ex_5KxtiHs5",
   "metadata": {
    "id": "1Ex_5KxtiHs5"
   },
   "source": [
    "Next we should tell Fiddler a bit more about our model by creating a `ModelSpec` object that specifies the model's inputs, outputs, targets, and metadata, along with other information such as the enrichments we want performed on our model's data."
   ]
  },
  {
   "cell_type": "markdown",
   "id": "bIWeThOD0XVh",
   "metadata": {
    "id": "bIWeThOD0XVh"
   },
   "source": [
    "### Instruct Fiddler to generate embeddings for our unstructured model input"
   ]
  },
  {
   "cell_type": "markdown",
   "id": "QJv_IGSb0jCS",
   "metadata": {
    "id": "QJv_IGSb0jCS"
   },
   "source": [
    "Fiddler offers a powerful set of enrichment services that we can use to enhance how we monitor our model's performance.  In this example, we instruct Fiddler to generate embeddings for our unstructured text.  These generated embedddings are a numerical vector that represent the content and the context of our unstructured input field, _original_text_.  These embeddings then power Fiddler's vector monitoring capability for detecting drift.\n",
    "\n",
    "Before creating a `ModelSpec` object, we define a custom feature using the [fdl.Enrichment()](https://docs.fiddler.ai/reference/fdlenrichment-beta) API. When creating an enrichment, a name must be assigned to the custom feature using the `name` argument. Each enrichment appears in the monitoring tab in Fiddler UI with this assigned name. Finally, the default clustering setup can be modified by passing the number of cluster centroids to the `n_clusters` argument.\n",
    "\n",
    "Here we define an [embedding fdl.Enrichment](https://docs.fiddler.ai/reference/embedding-enrichment-beta) and then use that embedding enrichment to create a [fdl.TextEnrichment](https://docs.fiddler.ai/reference/fdltextembedding) input that can be used to track drift and to be plotted in Fiddler's UMAP visualizations."
   ]
  },
  {
   "cell_type": "code",
   "execution_count": 19,
   "id": "dlUZbFLya6rv",
   "metadata": {
    "id": "dlUZbFLya6rv"
   },
   "outputs": [],
   "source": [
    "fiddler_backend_enrichments = [\n",
    "    fdl.Enrichment(\n",
    "        name='Enrichment Text Embedding',\n",
    "        enrichment='embedding',\n",
    "        columns=['original_text'],\n",
    "    ),\n",
    "    fdl.TextEmbedding(\n",
    "        name='Original TextEmbedding',\n",
    "        source_column='original_text',\n",
    "        column='Enrichment Text Embedding',\n",
    "        n_clusters=6\n",
    "    )\n",
    "]"
   ]
  },
  {
   "cell_type": "code",
   "execution_count": 20,
   "id": "2632df25-8f0e-42c8-97f9-4268a2ea6604",
   "metadata": {},
   "outputs": [],
   "source": [
    "model_spec = fdl.ModelSpec(\n",
    "    inputs=[\n",
    "        'original_text'\n",
    "    ],\n",
    "    outputs=[col for col in sample_df.columns if col.startswith('prob_')],\n",
    "    targets=['target'],\n",
    "    metadata=['n_tokens', 'string_size', 'timestamp'],\n",
    "    custom_features=fiddler_backend_enrichments,\n",
    ")"
   ]
  },
  {
   "cell_type": "code",
   "execution_count": 21,
   "id": "d55492df-924f-4d19-95ac-eda0f3ee70d5",
   "metadata": {},
   "outputs": [],
   "source": [
    "timestamp_column = 'timestamp'"
   ]
  },
  {
   "cell_type": "code",
   "execution_count": 22,
   "id": "35ca3a11-8693-400e-a7a0-fb9d865615c9",
   "metadata": {},
   "outputs": [],
   "source": [
    "model_task = fdl.ModelTask.MULTICLASS_CLASSIFICATION\n",
    "\n",
    "task_params = fdl.ModelTaskParams(target_class_order=[col[5:] for col in model_spec.outputs])"
   ]
  },
  {
   "cell_type": "markdown",
   "id": "hRZNx26pwTye",
   "metadata": {
    "id": "hRZNx26pwTye"
   },
   "source": [
    "Once we've specified information about our model, we can publish it to Fiddler by calling `fdl.Model.create`."
   ]
  },
  {
   "cell_type": "code",
   "execution_count": 23,
   "id": "e4b691a7-d05c-40ba-91e1-d0af374461dd",
   "metadata": {},
   "outputs": [
    {
     "data": {
      "text/plain": [
       "<fiddler.entities.model.Model at 0x7f7e153f3a90>"
      ]
     },
     "execution_count": 23,
     "metadata": {},
     "output_type": "execute_result"
    }
   ],
   "source": [
    "MODEL_NAME = 'log_reg_multiclassifier'\n",
    "\n",
    "model = fdl.Model.from_data(\n",
    "    name=MODEL_NAME,\n",
    "    project_id=project.id,\n",
    "    source=sample_df,\n",
    "    spec=model_spec,\n",
    "    task=model_task,\n",
    "    task_params=task_params,\n",
    "    event_ts_col=timestamp_column\n",
    ")\n",
    "\n",
    "model.create()"
   ]
  },
  {
   "cell_type": "markdown",
   "id": "L6L9yGBdcVFU",
   "metadata": {
    "id": "L6L9yGBdcVFU"
   },
   "source": [
    "# 5. Publish Production Events"
   ]
  },
  {
   "cell_type": "markdown",
   "id": "uWB1dDYPnRSf",
   "metadata": {
    "id": "uWB1dDYPnRSf"
   },
   "source": [
    "Now let's publish some sample production events into Fiddler. For the timestamps in the middle of the event dataset, we've oversampled from certain topics which introduces synthetic drift. This oversampling to inject drift allows us to better illustrate how Fiddler's vector monitoring approach detects drift in our unstructured inputs."
   ]
  },
  {
   "cell_type": "code",
   "execution_count": 24,
   "id": "2363c914-6c61-40ac-8c0f-1f59114719f5",
   "metadata": {},
   "outputs": [],
   "source": [
    "PATH_TO_EVENTS_CSV = 'https://raw.githubusercontent.com/fiddler-labs/fiddler-examples/main/quickstart/data/v3/nlp_text_multiclassifier_production_data.csv'\n",
    "\n",
    "production_df = pd.read_csv(PATH_TO_EVENTS_CSV)\n",
    "\n",
    "# Shift the timestamps of the production events to be as recent as today\n",
    "production_df['timestamp'] = production_df['timestamp'] + (int(time.time() * 1000) - production_df['timestamp'].max())"
   ]
  },
  {
   "cell_type": "markdown",
   "id": "7QrQ_2KMdKZR",
   "metadata": {
    "id": "7QrQ_2KMdKZR"
   },
   "source": [
    "Next, let's publish events our events with the synthetic drift"
   ]
  },
  {
   "cell_type": "code",
   "execution_count": 25,
   "id": "197GcBxRdKGx",
   "metadata": {
    "id": "197GcBxRdKGx"
   },
   "outputs": [],
   "source": [
    "output = model.publish(production_df)"
   ]
  },
  {
   "cell_type": "markdown",
   "id": "fbf936e3-407b-4f1e-9374-3072930c4dc4",
   "metadata": {
    "id": "fbf936e3-407b-4f1e-9374-3072930c4dc4"
   },
   "source": [
    "# 6. Get insights\n",
    "\n",
    "\n",
    "**You're all done!**\n",
    "  \n",
    "You can now head to Fiddler URL and start getting enhanced observability into your model's performance.\n",
    "\n"
   ]
  },
  {
   "cell_type": "markdown",
   "id": "qeV8BFLe9Pby",
   "metadata": {
    "id": "qeV8BFLe9Pby"
   },
   "source": [
    "In particular, you can go to your model's default dashboard in Fiddler and check out the resulting drift chart . Bellow is a sceernshot of the data drift chart after running this notebook on the [Fiddler demo](https://demo.fiddler.ai/) deployment. (Annotation bubbles are not generated by the Fiddler UI.)"
   ]
  },
  {
   "cell_type": "markdown",
   "id": "3b8b38a3-2716-486a-af95-e30f18ae1307",
   "metadata": {
    "id": "3b8b38a3-2716-486a-af95-e30f18ae1307",
    "tags": []
   },
   "source": [
    "<table>\n",
    "    <tr>\n",
    "        <td>\n",
    "            <img src=\"https://raw.githubusercontent.com/fiddler-labs/fiddler-examples/main/quickstart/images/nlp_multiiclass_drift.png\" />\n",
    "        </td>\n",
    "    </tr>\n",
    "</table>"
   ]
  }
 ],
 "metadata": {
  "colab": {
   "provenance": []
  },
  "kernelspec": {
   "display_name": "Python 3 (ipykernel)",
   "language": "python",
   "name": "python3"
  },
  "language_info": {
   "codemirror_mode": {
    "name": "ipython",
    "version": 3
   },
   "file_extension": ".py",
   "mimetype": "text/x-python",
   "name": "python",
   "nbconvert_exporter": "python",
   "pygments_lexer": "ipython3",
   "version": "3.9.18"
  }
 },
 "nbformat": 4,
 "nbformat_minor": 5
}
