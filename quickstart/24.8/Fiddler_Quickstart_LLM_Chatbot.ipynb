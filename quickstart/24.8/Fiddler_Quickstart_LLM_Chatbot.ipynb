{
 "cells": [
  {
   "cell_type": "markdown",
   "metadata": {
    "id": "sF3cOBoVx9Ji"
   },
   "source": [
    "# Fiddler LLM Application Quick Start Guide\n",
    "\n",
    "Fiddler is the pioneer in enterprise AI Observability, offering a unified platform that enables all model stakeholders to monitor model performance and to investigate the true source of model degredation.  Fiddler's AI Observability platform supports both traditional ML models as well as Generative AI applications.  This guide walks you through how to onboard a LLM chatbot application that is built using a RAG architecture.\n",
    "\n",
    "---\n",
    "\n",
    "You can start using Fiddler ***in minutes*** by following these 8 quick steps:\n",
    "\n",
    "1. Imports\n",
    "2. Connect to Fiddler\n",
    "3. Create a Fiddler project\n",
    "4. Load a data sample\n",
    "5. Opt-in to specific Fiddler's LLM Enrichments\n",
    "6. Add information about the LLM application\n",
    "7. Publish production events\n",
    "8. Get insights\n",
    "\n",
    "**Don't have a Fiddler account? [Sign-up for a 14-day free trial](https://www.fiddler.ai/trial?utm_source=fiddler_docs&utm_medium=referral).**"
   ]
  },
  {
   "cell_type": "markdown",
   "metadata": {
    "id": "wUZi_5s7wsGA"
   },
   "source": [
    "## 1. Imports"
   ]
  },
  {
   "cell_type": "code",
   "execution_count": 17,
   "metadata": {
    "ExecuteTime": {
     "end_time": "2023-07-27T19:02:01.749620Z",
     "start_time": "2023-07-27T19:01:56.285723Z"
    },
    "id": "Pg-BdRJ4w3LM"
   },
   "outputs": [
    {
     "name": "stdout",
     "output_type": "stream",
     "text": [
      "Running client version 3.2.0\n"
     ]
    }
   ],
   "source": [
    "import numpy as np\n",
    "import pandas as pd\n",
    "import time as time\n",
    "import fiddler as fdl\n",
    "import datetime\n",
    "\n",
    "print(f\"Running client version {fdl.__version__}\")"
   ]
  },
  {
   "cell_type": "markdown",
   "metadata": {
    "id": "hcP0yWfV1GoZ"
   },
   "source": [
    "## 2. Connect to Fiddler\n",
    "\n",
    "Before you can add information about your LLM application with Fiddler, you'll need to connect using our API client.\n",
    "\n",
    "\n",
    "---\n",
    "\n",
    "\n",
    "**We need a few pieces of information to get started.**\n",
    "1. The URL you're using to connect to Fiddler\n",
    "2. Your authorization token"
   ]
  },
  {
   "cell_type": "code",
   "execution_count": null,
   "metadata": {
    "ExecuteTime": {
     "end_time": "2023-07-27T19:02:01.753366Z",
     "start_time": "2023-07-27T19:02:01.751323Z"
    },
    "id": "05hPBZHr1eBv"
   },
   "outputs": [],
   "source": [
    "URL = ''  # Make sure to include the full URL (including https://).\n",
    "TOKEN = ''"
   ]
  },
  {
   "cell_type": "markdown",
   "metadata": {
    "id": "c2B7cgPa2Ajo"
   },
   "source": [
    "These parameters can be found on the **Settings** page of your Fiddler environment."
   ]
  },
  {
   "cell_type": "markdown",
   "metadata": {
    "id": "4EttApX9BBIn"
   },
   "source": [
    "Now just run the following code block to connect to the Fiddler API!"
   ]
  },
  {
   "cell_type": "code",
   "execution_count": null,
   "metadata": {
    "ExecuteTime": {
     "end_time": "2023-07-27T19:02:58.459534Z",
     "start_time": "2023-07-27T19:02:57.976152Z"
    },
    "id": "g6ONUHliBAsH"
   },
   "outputs": [],
   "source": [
    "fdl.init(\n",
    "    url=URL,\n",
    "    token=TOKEN\n",
    ")"
   ]
  },
  {
   "cell_type": "markdown",
   "metadata": {
    "id": "QpUHeE3dBTHD"
   },
   "source": [
    "## 3. Create a Fiddler Project\n",
    "\n",
    "Once you connect, you can create a new project using the client's `Project` class."
   ]
  },
  {
   "cell_type": "code",
   "execution_count": null,
   "metadata": {
    "ExecuteTime": {
     "end_time": "2023-07-27T19:02:34.637727Z",
     "start_time": "2023-07-27T19:02:34.590808Z"
    },
    "id": "CWErNsofAz6B"
   },
   "outputs": [],
   "source": [
    "PROJECT_NAME = 'fiddler_chatbot_test'"
   ]
  },
  {
   "cell_type": "code",
   "execution_count": null,
   "metadata": {
    "ExecuteTime": {
     "end_time": "2023-07-27T18:54:19.978019Z",
     "start_time": "2023-07-27T18:54:19.874012Z"
    },
    "id": "raH7eU2Koaai",
    "scrolled": true
   },
   "outputs": [],
   "source": [
    "project = fdl.Project(\n",
    "    name=PROJECT_NAME\n",
    ")\n",
    "\n",
    "project.create()"
   ]
  },
  {
   "cell_type": "markdown",
   "metadata": {},
   "source": [
    "## 4. Load a data sample\n",
    "\n",
    "In this example, we'll be onboarding data in order to observe our **Fiddler chatbot application**.\n",
    "  \n",
    "In order to get insights into the model's performance, **Fiddler needs a small sample of data** to learn the schema of incoming data.\n",
    "Let's use a file with some historical prompts, source docs, and responses from our chatbot for our sample."
   ]
  },
  {
   "cell_type": "code",
   "execution_count": null,
   "metadata": {
    "id": "0ketSE6Goaaj"
   },
   "outputs": [],
   "source": [
    "PATH_TO_SAMPLE_CSV = 'https://raw.githubusercontent.com/fiddler-labs/fiddler-examples/main/quickstart/data/v3/chatbot_data_sample.csv'\n",
    "\n",
    "sample_df = pd.read_csv(PATH_TO_SAMPLE_CSV)\n",
    "sample_df"
   ]
  },
  {
   "cell_type": "markdown",
   "metadata": {
    "id": "niKle55HCgIj"
   },
   "source": [
    "Fiddler will uses this data sample to keep track of important information about your data.  This includes **data types**, **data ranges**, and **unique values** for categorical variables."
   ]
  },
  {
   "cell_type": "markdown",
   "metadata": {
    "id": "hgDizRNXoaan"
   },
   "source": [
    "## 5. Opt-in to specific Fiddler LLM Enrichments\n",
    "\n",
    "After picking a sample of our chatbot's prompts and responses, we can request that Fiddler execute a series of enrichment services that can \"score\" our prompts and responses for a variety of insights.  These enrichment services can detect AI safety issues like PII leakage, hallucinations, toxicity, and more.  We can also opt-in for enrichment services like embedding generation which will allow us to track prompt and response outliers and drift. A full description of these enrichments can be found [here](https://docs.fiddler.ai/docs/enrichments-beta).\n",
    "\n",
    "---\n",
    "\n",
    "Let's define the enrichment services we'd like to use.  Here we will opt in for embedding generation for our prompts, responses and source docs.  Additionally, let's opt in for PII detection, outlier detection through centroid distance metrics, and some other text based evaluation scores."
   ]
  },
  {
   "cell_type": "code",
   "execution_count": 12,
   "metadata": {
    "id": "kJmCV_40oaan"
   },
   "outputs": [],
   "source": [
    "fiddler_backend_enrichments = [\n",
    "\n",
    "    #prompt enrichemnts\n",
    "    fdl.Enrichment(\n",
    "        name='Enrichment Prompt Embedding',\n",
    "        enrichment='embedding',\n",
    "        columns=['question'],\n",
    "    ),\n",
    "    fdl.TextEmbedding(\n",
    "        name='Prompt TextEmbedding',\n",
    "        source_column='question',\n",
    "        column='Enrichment Prompt Embedding',\n",
    "        n_tags=10\n",
    "    ),\n",
    "    #response enrichments\n",
    "     fdl.Enrichment(\n",
    "        name='Enrichment Response Embedding',\n",
    "        enrichment='embedding',\n",
    "        columns=['response'],\n",
    "    ),\n",
    "    fdl.TextEmbedding(\n",
    "        name='Response TextEmbedding',\n",
    "        source_column='response',\n",
    "        column='Enrichment Response Embedding',\n",
    "        n_tags=10\n",
    "    ),\n",
    "    #rag document enrichments\n",
    "    fdl.TextEmbedding(\n",
    "        name='Source Docs TextEmbedding',\n",
    "        source_column='source_docs',\n",
    "        column='Enrichment Source Docs Embedding',\n",
    "        n_tags=10\n",
    "    ),\n",
    "    fdl.Enrichment(\n",
    "        name='Enrichment Source Docs Embedding',\n",
    "        enrichment='embedding',\n",
    "        columns=['source_docs'],\n",
    "    ),    \n",
    "    #safety\n",
    "    fdl.Enrichment(\n",
    "        name='FTL Safety',\n",
    "        enrichment='ftl_prompt_safety',\n",
    "        columns=['question', 'response'],\n",
    "    ),\n",
    "    #text quality\n",
    "    fdl.Enrichment(\n",
    "        name='Enrichment QA TextStat',\n",
    "        enrichment='textstat',\n",
    "        columns=['question', 'response'],\n",
    "        config={'statistics': [\n",
    "                'char_count',\n",
    "                'flesch_reading_ease',\n",
    "                'flesch_kincaid_grade',\n",
    "            ]\n",
    "        }\n",
    "    ),\n",
    "    fdl.Enrichment(\n",
    "        name='Enrichment QA Sentiment',\n",
    "        enrichment='sentiment',\n",
    "        columns=['question', 'response'],\n",
    "    )\n",
    "]"
   ]
  },
  {
   "cell_type": "markdown",
   "metadata": {
    "id": "vSY_Es-coaan"
   },
   "source": [
    "## 6.  Add information about the LLM application\n",
    "\n",
    "Now it's time to onboard information about our LLM application to Fiddler.  We do this by defining a `ModelSpec` object.\n",
    "\n",
    "\n",
    "---\n",
    "\n",
    "\n",
    "The `ModelSpec` object will contain some **information about how your LLM application operates**.\n",
    "  \n",
    "*Just include:*\n",
    "1. The **input/output** columns.  For a LLM application, these are just the raw inputs and outputs of our LLM application.\n",
    "2. Any **metadata** columns.\n",
    "3. The **custom features** which contain the configuration of the enrichments we opted for.\n",
    "\n",
    "We'll also want a few other pieces of information:\n",
    "1. The **task** your model is performing (LLM, regression, binary classification, etc.)\n",
    "2. Which column to use to read timestamps from."
   ]
  },
  {
   "cell_type": "code",
   "execution_count": 13,
   "metadata": {},
   "outputs": [],
   "source": [
    "model_spec = fdl.ModelSpec(\n",
    "    inputs=['question', 'response', 'source_docs'],\n",
    "    metadata=['session_id', 'comment', 'timestamp', 'feedback'],\n",
    "    custom_features=fiddler_backend_enrichments\n",
    ")\n",
    "\n",
    "model_task = fdl.ModelTask.LLM\n",
    "\n",
    "timestamp_column = 'timestamp'"
   ]
  },
  {
   "cell_type": "markdown",
   "metadata": {},
   "source": [
    "Then just publish all of this to Fiddler by creating a `Model` object."
   ]
  },
  {
   "cell_type": "code",
   "execution_count": 14,
   "metadata": {},
   "outputs": [
    {
     "data": {
      "text/plain": [
       "<fiddler.entities.model.Model at 0x137cb9a00>"
      ]
     },
     "execution_count": 14,
     "metadata": {},
     "output_type": "execute_result"
    }
   ],
   "source": [
    "MODEL_NAME = 'rag_chatbot'\n",
    "\n",
    "model = fdl.Model.from_data(\n",
    "    source=sample_df,\n",
    "    name=MODEL_NAME,\n",
    "    project_id=project.id,\n",
    "    spec=model_spec,\n",
    "    task=model_task,\n",
    "    event_ts_col=timestamp_column\n",
    ")\n",
    "\n",
    "model.create()"
   ]
  },
  {
   "cell_type": "markdown",
   "metadata": {
    "id": "tBZZCUPsoaao"
   },
   "source": [
    "## 7. Publish production events\n",
    "\n",
    "Information about our LLM application is onboarded to Fiddler and now it's time to start publishing some production data!  \n",
    "Fiddler will **monitor this data and compare it to your baseline to generate powerful insights into how your model is behaving**.\n",
    "\n",
    "\n",
    "---\n",
    "\n",
    "\n",
    "Each record sent to Fiddler is called **an event**.  Events simply contain the inputs and outputs of a predictive model or LLM application.\n",
    "  \n",
    "Let's load in some sample events (prompts and responses) from a CSV file."
   ]
  },
  {
   "cell_type": "code",
   "execution_count": 15,
   "metadata": {
    "id": "bq41uqX1oaao"
   },
   "outputs": [
    {
     "data": {
      "text/html": [
       "<div>\n",
       "<style scoped>\n",
       "    .dataframe tbody tr th:only-of-type {\n",
       "        vertical-align: middle;\n",
       "    }\n",
       "\n",
       "    .dataframe tbody tr th {\n",
       "        vertical-align: top;\n",
       "    }\n",
       "\n",
       "    .dataframe thead th {\n",
       "        text-align: right;\n",
       "    }\n",
       "</style>\n",
       "<table border=\"1\" class=\"dataframe\">\n",
       "  <thead>\n",
       "    <tr style=\"text-align: right;\">\n",
       "      <th></th>\n",
       "      <th>session_id</th>\n",
       "      <th>source_docs</th>\n",
       "      <th>response</th>\n",
       "      <th>question</th>\n",
       "      <th>comment</th>\n",
       "      <th>feedback</th>\n",
       "      <th>timestamp</th>\n",
       "    </tr>\n",
       "  </thead>\n",
       "  <tbody>\n",
       "    <tr>\n",
       "      <th>0</th>\n",
       "      <td>6d9917af-c889-40a5-bd83-a7860318a26f</td>\n",
       "      <td>Document:  slug: \"cv-monitoring\" _ID, ''moni...</td>\n",
       "      <td>Yes, Fiddler supports LLM (Lifecycle Model Mon...</td>\n",
       "      <td>Does Fiddler support LLM monitoring?</td>\n",
       "      <td>NaN</td>\n",
       "      <td>NaN</td>\n",
       "      <td>2024-02-24 02:29:18.094</td>\n",
       "    </tr>\n",
       "    <tr>\n",
       "      <th>1</th>\n",
       "      <td>6d9917af-c889-40a5-bd83-a7860318a26f</td>\n",
       "      <td>Document:  ---\\ntitle: \"Designing a Baseline...</td>\n",
       "      <td>A baseline dataset is a representative sample ...</td>\n",
       "      <td>what is baseline dataset?</td>\n",
       "      <td>NaN</td>\n",
       "      <td>Like</td>\n",
       "      <td>2024-02-24 02:30:48.656</td>\n",
       "    </tr>\n",
       "    <tr>\n",
       "      <th>2</th>\n",
       "      <td>6d9917af-c889-40a5-bd83-a7860318a26f</td>\n",
       "      <td>Document:  ---\\ntitle: \"Baselines\"\\nslug: \"f...</td>\n",
       "      <td>No, the default baseline for all monitoring me...</td>\n",
       "      <td>Does Fiddler have the ability to change the mo...</td>\n",
       "      <td>NaN</td>\n",
       "      <td>Like</td>\n",
       "      <td>2024-02-24 02:33:35.860</td>\n",
       "    </tr>\n",
       "    <tr>\n",
       "      <th>3</th>\n",
       "      <td>6d9917af-c889-40a5-bd83-a7860318a26f</td>\n",
       "      <td>Document:  ---\\ntitle: \"Data Drift\"\\nslug: \"...</td>\n",
       "      <td>The calculation of data drift metrics in Fiddl...</td>\n",
       "      <td>how is data drift metrics calculated?</td>\n",
       "      <td>pretty good</td>\n",
       "      <td>Like</td>\n",
       "      <td>2024-02-24 02:35:27.871</td>\n",
       "    </tr>\n",
       "    <tr>\n",
       "      <th>4</th>\n",
       "      <td>6d9917af-c889-40a5-bd83-a7860318a26f</td>\n",
       "      <td>Document:  ---\\ntitle: \"Deploying Fiddler\"\\n...</td>\n",
       "      <td>Yes, it is possible to deploy Fiddler on data ...</td>\n",
       "      <td>Can Fiddler be deployed on data-centers?</td>\n",
       "      <td>nice!</td>\n",
       "      <td>Like</td>\n",
       "      <td>2024-02-24 02:38:26.411</td>\n",
       "    </tr>\n",
       "    <tr>\n",
       "      <th>...</th>\n",
       "      <td>...</td>\n",
       "      <td>...</td>\n",
       "      <td>...</td>\n",
       "      <td>...</td>\n",
       "      <td>...</td>\n",
       "      <td>...</td>\n",
       "      <td>...</td>\n",
       "    </tr>\n",
       "    <tr>\n",
       "      <th>441</th>\n",
       "      <td>1b88a642-1d2c-4560-821e-ad3ea338ec99</td>\n",
       "      <td>Document:  ResourceLink:https://www.fiddler....</td>\n",
       "      <td>Krishna Gade is the Founder and CEO of Fiddler...</td>\n",
       "      <td>Who is Krisha GaDE?</td>\n",
       "      <td>NaN</td>\n",
       "      <td>NaN</td>\n",
       "      <td>2024-06-24 02:38:46.767</td>\n",
       "    </tr>\n",
       "    <tr>\n",
       "      <th>442</th>\n",
       "      <td>e71adb1a-c425-4e46-ad61-ec731bdeadb4</td>\n",
       "      <td>Document:  ResourceLink:https://www.fiddler....</td>\n",
       "      <td>Yes, Fiddler can observe LLM applications. Fid...</td>\n",
       "      <td>Can Fiddler Observe LLM APplicaitons?</td>\n",
       "      <td>NaN</td>\n",
       "      <td>NaN</td>\n",
       "      <td>2024-06-24 20:52:41.327</td>\n",
       "    </tr>\n",
       "    <tr>\n",
       "      <th>443</th>\n",
       "      <td>76499c4d-77c5-471c-b0aa-2584c535a28d</td>\n",
       "      <td>Document:  BlogLink:https://www.fiddler.ai/b...</td>\n",
       "      <td>Yes, Fiddler supports LLM (Language Model Moni...</td>\n",
       "      <td>Can Fiddler Support LLM Observability?</td>\n",
       "      <td>NaN</td>\n",
       "      <td>NaN</td>\n",
       "      <td>2024-06-24 21:07:49.141</td>\n",
       "    </tr>\n",
       "    <tr>\n",
       "      <th>444</th>\n",
       "      <td>78845331-55ca-45f1-8624-f4910025bec9</td>\n",
       "      <td>Document:  ResourceLink:https://www.fiddler....</td>\n",
       "      <td>Fiddler supports LLMs by providing tools and r...</td>\n",
       "      <td>How does Fiddler support LLMs?</td>\n",
       "      <td>NaN</td>\n",
       "      <td>Like</td>\n",
       "      <td>2024-06-24 23:17:21.129</td>\n",
       "    </tr>\n",
       "    <tr>\n",
       "      <th>445</th>\n",
       "      <td>43d86f83-d268-4b74-8cf6-3179794d41eb</td>\n",
       "      <td>Document:  ResourceLink:https://www.fiddler....</td>\n",
       "      <td>Fiddler supports LLMs by providing tools and r...</td>\n",
       "      <td>How does Fiddler support LLMs?</td>\n",
       "      <td>NaN</td>\n",
       "      <td>NaN</td>\n",
       "      <td>2024-06-25 00:00:00.000</td>\n",
       "    </tr>\n",
       "  </tbody>\n",
       "</table>\n",
       "<p>446 rows × 7 columns</p>\n",
       "</div>"
      ],
      "text/plain": [
       "                               session_id  \\\n",
       "0    6d9917af-c889-40a5-bd83-a7860318a26f   \n",
       "1    6d9917af-c889-40a5-bd83-a7860318a26f   \n",
       "2    6d9917af-c889-40a5-bd83-a7860318a26f   \n",
       "3    6d9917af-c889-40a5-bd83-a7860318a26f   \n",
       "4    6d9917af-c889-40a5-bd83-a7860318a26f   \n",
       "..                                    ...   \n",
       "441  1b88a642-1d2c-4560-821e-ad3ea338ec99   \n",
       "442  e71adb1a-c425-4e46-ad61-ec731bdeadb4   \n",
       "443  76499c4d-77c5-471c-b0aa-2584c535a28d   \n",
       "444  78845331-55ca-45f1-8624-f4910025bec9   \n",
       "445  43d86f83-d268-4b74-8cf6-3179794d41eb   \n",
       "\n",
       "                                           source_docs  \\\n",
       "0      Document:  slug: \"cv-monitoring\" _ID, ''moni...   \n",
       "1      Document:  ---\\ntitle: \"Designing a Baseline...   \n",
       "2      Document:  ---\\ntitle: \"Baselines\"\\nslug: \"f...   \n",
       "3      Document:  ---\\ntitle: \"Data Drift\"\\nslug: \"...   \n",
       "4      Document:  ---\\ntitle: \"Deploying Fiddler\"\\n...   \n",
       "..                                                 ...   \n",
       "441    Document:  ResourceLink:https://www.fiddler....   \n",
       "442    Document:  ResourceLink:https://www.fiddler....   \n",
       "443    Document:  BlogLink:https://www.fiddler.ai/b...   \n",
       "444    Document:  ResourceLink:https://www.fiddler....   \n",
       "445    Document:  ResourceLink:https://www.fiddler....   \n",
       "\n",
       "                                              response  \\\n",
       "0    Yes, Fiddler supports LLM (Lifecycle Model Mon...   \n",
       "1    A baseline dataset is a representative sample ...   \n",
       "2    No, the default baseline for all monitoring me...   \n",
       "3    The calculation of data drift metrics in Fiddl...   \n",
       "4    Yes, it is possible to deploy Fiddler on data ...   \n",
       "..                                                 ...   \n",
       "441  Krishna Gade is the Founder and CEO of Fiddler...   \n",
       "442  Yes, Fiddler can observe LLM applications. Fid...   \n",
       "443  Yes, Fiddler supports LLM (Language Model Moni...   \n",
       "444  Fiddler supports LLMs by providing tools and r...   \n",
       "445  Fiddler supports LLMs by providing tools and r...   \n",
       "\n",
       "                                              question      comment feedback  \\\n",
       "0                 Does Fiddler support LLM monitoring?          NaN      NaN   \n",
       "1                            what is baseline dataset?          NaN     Like   \n",
       "2    Does Fiddler have the ability to change the mo...          NaN     Like   \n",
       "3                how is data drift metrics calculated?  pretty good     Like   \n",
       "4             Can Fiddler be deployed on data-centers?        nice!     Like   \n",
       "..                                                 ...          ...      ...   \n",
       "441                                Who is Krisha GaDE?          NaN      NaN   \n",
       "442              Can Fiddler Observe LLM APplicaitons?          NaN      NaN   \n",
       "443             Can Fiddler Support LLM Observability?          NaN      NaN   \n",
       "444                     How does Fiddler support LLMs?          NaN     Like   \n",
       "445                     How does Fiddler support LLMs?          NaN      NaN   \n",
       "\n",
       "                  timestamp  \n",
       "0   2024-02-24 02:29:18.094  \n",
       "1   2024-02-24 02:30:48.656  \n",
       "2   2024-02-24 02:33:35.860  \n",
       "3   2024-02-24 02:35:27.871  \n",
       "4   2024-02-24 02:38:26.411  \n",
       "..                      ...  \n",
       "441 2024-06-24 02:38:46.767  \n",
       "442 2024-06-24 20:52:41.327  \n",
       "443 2024-06-24 21:07:49.141  \n",
       "444 2024-06-24 23:17:21.129  \n",
       "445 2024-06-25 00:00:00.000  \n",
       "\n",
       "[446 rows x 7 columns]"
      ]
     },
     "execution_count": 15,
     "metadata": {},
     "output_type": "execute_result"
    }
   ],
   "source": [
    "PATH_TO_EVENTS_CSV = 'https://raw.githubusercontent.com/fiddler-labs/fiddler-examples/main/quickstart/data/v3/chatbot_production_data.csv'\n",
    "\n",
    "llm_events_df = pd.read_csv(PATH_TO_EVENTS_CSV)\n",
    "\n",
    "# Timeshifting the timestamp column in the events file so the events are as recent as today\n",
    "llm_events_df['timestamp'] = pd.to_datetime(llm_events_df['timestamp'])\n",
    "time_diff = pd.Timestamp.now().normalize() - llm_events_df['timestamp'].max()\n",
    "llm_events_df['timestamp'] += time_diff\n",
    "\n",
    "llm_events_df"
   ]
  },
  {
   "cell_type": "markdown",
   "metadata": {
    "id": "YVmYiZgkoaao"
   },
   "source": [
    "You can use the model's `publish` function to start pumping data into Fiddler!\n",
    "  \n",
    "Just pass in the DataFrame containing your events."
   ]
  },
  {
   "cell_type": "code",
   "execution_count": 16,
   "metadata": {
    "id": "0HA3zidgoaao"
   },
   "outputs": [],
   "source": [
    "output = model.publish(llm_events_df)"
   ]
  },
  {
   "cell_type": "markdown",
   "metadata": {
    "id": "1AZGF6e0oaap"
   },
   "source": [
    "# 8. Get insights\n",
    "\n",
    "**You're all done!**\n",
    "  \n",
    "You can now head to your Fiddler environment and start getting enhanced observability into your LLM application's performance."
   ]
  },
  {
   "cell_type": "markdown",
   "metadata": {
    "id": "vJxbHh32oaap"
   },
   "source": [
    "<table>\n",
    "    <tr>\n",
    "        <td>\n",
    "            <img src=\"https://raw.githubusercontent.com/fiddler-labs/fiddler-examples/main/quickstart/images/LLM_chatbot_UMAP.png\" />\n",
    "        </td>\n",
    "    </tr>\n",
    "</table>"
   ]
  },
  {
   "cell_type": "markdown",
   "metadata": {
    "id": "Jdkj1eHgOTAO"
   },
   "source": [
    "**What's Next?**\n",
    "\n",
    "Try the [NLP Monitoring - Quickstart Notebook](https://docs.fiddler.ai/docs/simple-nlp-monitoring-quick-start)\n",
    "\n",
    "---\n",
    "\n",
    "\n",
    "**Questions?**  \n",
    "  \n",
    "Check out [our docs](https://docs.fiddler.ai/) for a more detailed explanation of what Fiddler has to offer.\n",
    "\n",
    "Join our [community Slack](http://fiddler-community.slack.com/) to ask any questions!\n",
    "\n",
    "If you're still looking for answers, fill out a ticket on [our support page](https://fiddlerlabs.zendesk.com/) and we'll get back to you shortly."
   ]
  }
 ],
 "metadata": {
  "colab": {
   "provenance": []
  },
  "kernelspec": {
   "display_name": "Python 3 (ipykernel)",
   "language": "python",
   "name": "python3"
  },
  "language_info": {
   "codemirror_mode": {
    "name": "ipython",
    "version": 3
   },
   "file_extension": ".py",
   "mimetype": "text/x-python",
   "name": "python",
   "nbconvert_exporter": "python",
   "pygments_lexer": "ipython3",
   "version": "3.12.3"
  }
 },
 "nbformat": 4,
 "nbformat_minor": 4
}
