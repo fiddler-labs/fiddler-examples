{
 "cells": [
  {
   "cell_type": "markdown",
   "id": "03f71592",
   "metadata": {},
   "source": [
    "# Model Versions\n",
    "\n",
    "In this notebook, we present the steps for updating a model schema/version.  When a model is onboarded on to fiddler as a version 1, there can be multiple incremental updates or iterations to that model, the history to which is maintained in fiddler, called model versioning. The users can update existing model schema/versions and also access the older versions. \n",
    "\n",
    "This notebook is an example of how changes can be made in a model/schema and how fiddler maintains them.\n",
    "\n",
    "---"
   ]
  },
  {
   "cell_type": "markdown",
   "id": "be48501f",
   "metadata": {},
   "source": [
    "Model versioning docs can be referred [here](https://docs.fiddler.ai/platform-guide/monitoring-platform/model-versions) \n",
    "\n",
    "Model Versions are supported on fiddler client version 3.1.0 and above, and the python version is 3.10 and above.\n",
    "\n",
    "You can experience Fiddler's Model Versioning in minutes by following these quick steps:\n",
    "\n",
    "1. Connect to fiddler - Initialisation, Load a Data Sample\n",
    "2. Create a Project\n",
    "3. Create a first version of model with no task\n",
    "4. Second version with target class and binary classification task & defined threshold\n",
    "5. Third version - Changes in the Datatype of a column and Delete a column \n",
    "6. Fourth version - Update Schema by changing the column names\n",
    "7. Fifth version - Update the range of Age column(min, max) & define the max balance\n",
    "8. Update version name\n",
    "9. Delete a model version"
   ]
  },
  {
   "cell_type": "code",
   "execution_count": null,
   "id": "8ebef010",
   "metadata": {},
   "outputs": [],
   "source": [
    "# !pip install -q fiddler-client==3.1.x  #fiddler client version needs to be 3.1.0 and above\n",
    "import sys\n",
    "print(sys.version)   #python version needs to be 3.10.11 and above"
   ]
  },
  {
   "cell_type": "markdown",
   "id": "7a839c55",
   "metadata": {},
   "source": [
    "# 0. Imports"
   ]
  },
  {
   "cell_type": "code",
   "execution_count": null,
   "id": "582c8fc3",
   "metadata": {},
   "outputs": [],
   "source": [
    "import fiddler as fdl\n",
    "import time as time\n",
    "import numpy as np\n",
    "import pandas as pd\n",
    "from datetime import datetime, timedelta"
   ]
  },
  {
   "cell_type": "markdown",
   "id": "d7d9c7e3",
   "metadata": {},
   "source": [
    "# 1. Connect to Fiddler\n",
    "\n",
    "Before you can add information about your model with Fiddler, you'll need to connect using our Python client.\n",
    "\n",
    "---\n",
    "\n",
    "**We need a few pieces of information to get started.**\n",
    "1. The URL you're using to connect to Fiddler\n",
    "3. Your authorization token\n",
    "\n",
    "The latter two of these can be found by pointing your browser to your Fiddler URL and navigating to the **Settings** page."
   ]
  },
  {
   "cell_type": "code",
   "execution_count": null,
   "id": "60aaa44b",
   "metadata": {},
   "outputs": [],
   "source": [
    "URL = 'abc.fiddler.ai/' # UPDATE ME\n",
    "TOKEN = 'AUTH_TOKEN' # UPDATE ME"
   ]
  },
  {
   "cell_type": "markdown",
   "id": "878685eb",
   "metadata": {},
   "source": [
    "# Initialization\n",
    "\n",
    "Initilize the connection to Fiddler Client. This call will also validate the client vs server version compatibility."
   ]
  },
  {
   "cell_type": "code",
   "execution_count": null,
   "id": "882cadae",
   "metadata": {},
   "outputs": [],
   "source": [
    "fdl.init(url=URL, token=TOKEN)"
   ]
  },
  {
   "cell_type": "markdown",
   "id": "1a7aabac",
   "metadata": {},
   "source": [
    "# Load a Data Sample"
   ]
  },
  {
   "cell_type": "code",
   "execution_count": null,
   "id": "cbbf9b17",
   "metadata": {},
   "outputs": [],
   "source": [
    "DATASET_FILE_PATH = \"https://raw.githubusercontent.com/fiddler-labs/fiddler-examples/main/quickstart/data/v3/churn_data_sample.csv\" # UPDATE ME    \n",
    "PROJECT_NAME = 'model_version_sample_project' # UPDATE ME\n",
    "DATASET_NAME = 'dataset_1' # UPDATE ME\n",
    "MODEL_NAME = 'model_1' # UPDATE ME"
   ]
  },
  {
   "cell_type": "markdown",
   "id": "6ad44441",
   "metadata": {},
   "source": [
    "Drop some output columns from the CSV file and pick the columns for inputs"
   ]
  },
  {
   "cell_type": "code",
   "execution_count": null,
   "id": "80c407cf",
   "metadata": {},
   "outputs": [],
   "source": [
    "sample_df = pd.read_csv(DATASET_FILE_PATH)\n",
    "column_list  = sample_df.columns\n",
    "\n",
    "input_columns  = list(column_list.drop([\"predicted_churn\",\"churn\", \"customer_id\", \"timestamp\"]))"
   ]
  },
  {
   "cell_type": "markdown",
   "id": "6e66776a",
   "metadata": {},
   "source": [
    "## 2. Create project"
   ]
  },
  {
   "cell_type": "code",
   "execution_count": null,
   "id": "c968eae9",
   "metadata": {},
   "outputs": [],
   "source": [
    "try:\n",
    "    # Create project\n",
    "    project = fdl.Project(name=PROJECT_NAME).create()\n",
    "    print(f'New project created with id = {project.id} and name = {project.name}')\n",
    "except fdl.Conflict:\n",
    "    # Get project by name\n",
    "    project = fdl.Project.from_name(name=PROJECT_NAME)\n",
    "    print(f'Loaded existing project with id = {project.id} and name = {project.name}')"
   ]
  },
  {
   "cell_type": "markdown",
   "id": "5bf916ca",
   "metadata": {},
   "source": [
    "## 3. First version with no task\n",
    "\n",
    "Create the first version of model in the project with NOT_SET task"
   ]
  },
  {
   "cell_type": "markdown",
   "id": "62b282de",
   "metadata": {
    "vscode": {
     "languageId": "plaintext"
    }
   },
   "source": [
    "<table>\n",
    "    <tr>\n",
    "        <td>\n",
    "            <img src=\"https://raw.githubusercontent.com/fiddler-labs/fiddler-examples/main/quickstart/images/model_versions_1.png\" />\n",
    "        </td>\n",
    "    </tr>\n",
    "</table>"
   ]
  },
  {
   "cell_type": "code",
   "execution_count": null,
   "id": "f7073f31",
   "metadata": {},
   "outputs": [],
   "source": [
    "version_v1 = 'v1'\n",
    "\n",
    "model_spec = fdl.ModelSpec(\n",
    "    inputs = input_columns,\n",
    "    outputs = ['predicted_churn'],\n",
    "    targets = ['churn'],\n",
    "    metadata = ['customer_id', 'timestamp'],\n",
    "    decisions = [],\n",
    "    custom_features = [],\n",
    ")\n",
    "\n",
    "try:\n",
    "    model_v1 = fdl.Model.from_name(\n",
    "        name = MODEL_NAME,\n",
    "        project_id = project.id,\n",
    "        version = version_v1\n",
    "    )\n",
    "    print(f'Loaded existing model with id = {model_v1.id}')\n",
    "except fdl.NotFound:\n",
    "    model_v1 = fdl.Model.from_data(\n",
    "        source = sample_df, \n",
    "        name = MODEL_NAME, \n",
    "        version = version_v1,\n",
    "        project_id = project.id,\n",
    "        spec = model_spec,\n",
    "        task = fdl.ModelTask.NOT_SET,           # this sets the modeltask as NOT SET\n",
    "    ) \n",
    "\n",
    "    model_v1.create()                           # this creates the model\n",
    "    print(f'New model created with id = {model_v1.id}')"
   ]
  },
  {
   "cell_type": "markdown",
   "id": "8691e3ff",
   "metadata": {},
   "source": [
    "## 4. Second version with a task\n",
    "Add Second version with binary classification task \n",
    "\n",
    "Update the version and provide target class and binary classification task & threshold"
   ]
  },
  {
   "cell_type": "code",
   "execution_count": null,
   "id": "d2640a7d",
   "metadata": {},
   "outputs": [],
   "source": [
    "version_v2 = 'v2'\n",
    "\n",
    "task_params = fdl.ModelTaskParams(\n",
    "    binary_classification_threshold = 0.5,\n",
    "    target_class_order = ['no', 'yes'],\n",
    "    class_weights = None,\n",
    "    group_by = None,\n",
    "    top_k = None,\n",
    "    weighted_ref_histograms = None,\n",
    ")\n",
    "\n",
    "try:\n",
    "    model_v2 = fdl.Model.from_name(\n",
    "        name=MODEL_NAME,\n",
    "        project_id=project.id,\n",
    "        version=version_v2\n",
    "    )\n",
    "    print(f'Loaded existing model with id = {model_v2.id}')\n",
    "except fdl.NotFound:\n",
    "    model_v2 = model_v1.duplicate(version=version_v2)\n",
    "    model_v2.task_params = task_params\n",
    "    model_v2.task = fdl.ModelTask.BINARY_CLASSIFICATION\n",
    "    model_v2.create()\n",
    "    print(f'New model created with id = {model_v2.id}')"
   ]
  },
  {
   "cell_type": "markdown",
   "id": "c39e7c35",
   "metadata": {},
   "source": [
    "## 5. Third version with schema change\n",
    "Add third version with change in schema\n",
    "here we are deleting an input param\n",
    "And changing the datatype of a column Geography from Category to String."
   ]
  },
  {
   "cell_type": "code",
   "execution_count": null,
   "id": "fcf2a23d",
   "metadata": {},
   "outputs": [],
   "source": [
    "version_v3 = 'v3'\n",
    "\n",
    "try:\n",
    "    model_v3 = fdl.Model.from_name(\n",
    "        name=MODEL_NAME,\n",
    "        project_id=project.id,\n",
    "        version=version_v3\n",
    "    )\n",
    "    print(f'Loaded existing model with id = {model_v3.id}')\n",
    "except fdl.NotFound:\n",
    "    model_v3 = model_v2.duplicate(version=version_v3)\n",
    "    del model_v3.schema['tenure']                                   #this deletes the tenure column from the inputs\n",
    "\n",
    "    model_v3.schema['hascrcard'].min = None                            #Removing min and mix of a numerical column before changing datatype\n",
    "    model_v3.schema['hascrcard'].max = None \n",
    "    model_v3.schema['hascrcard'].data_type= fdl.DataType.BOOLEAN\n",
    "    model_v3.schema['hascrcard'].categories = [True, False]\n",
    "\n",
    "    model_v3.spec.inputs = ['creditscore', 'geography', 'age', 'balance', 'numofproducts', 'hascrcard', 'isactivemember', 'estimatedsalary']\n",
    "    model_v3.create()\n",
    "    print(f'New model created with id = {model_v3.id}')"
   ]
  },
  {
   "cell_type": "markdown",
   "id": "4b7e9bf5",
   "metadata": {},
   "source": [
    "## 6. Fourth version with schema change\n",
    "Add fourth version with change in schema, where \n",
    "we are changing the name of columns"
   ]
  },
  {
   "cell_type": "code",
   "execution_count": null,
   "id": "c152cfcf",
   "metadata": {},
   "outputs": [],
   "source": [
    "version_v4 = 'v4'\n",
    "\n",
    "try:\n",
    "    model_v4 = fdl.Model.from_name(\n",
    "        name=MODEL_NAME,\n",
    "        project_id=project.id,\n",
    "        version=version_v4\n",
    "    )\n",
    "    print(f'Loaded existing model with id = {model_v4.id}')\n",
    "except fdl.NotFound:\n",
    "    model_v4 = model_v3.duplicate(version=version_v4)\n",
    "    model_v4.schema['age'].name = 'Age'                                                 #we are renaming the column names\n",
    "    model_v4.schema['creditscore'].name = 'CreditScore'\n",
    "    model_v4.schema['geography'].name = 'Geography'\n",
    "    model_v4.schema['balance'].name = 'BalanceNew'\n",
    "    model_v4.schema['numofproducts'].name = 'NumOfProducts'\n",
    "    model_v4.schema['hascrcard'].name = 'HasCrCard'\n",
    "    model_v4.schema['isactivemember'].name = 'IsActiveMember'\n",
    "    model_v4.schema['estimatedsalary'].name = 'EstimatedSalary'\n",
    "    model_v4.spec.inputs = ['CreditScore', 'Geography', 'Age', 'BalanceNew', 'NumOfProducts', 'HasCrCard', 'IsActiveMember', 'EstimatedSalary']\n",
    "\n",
    "    model_v4.create()\n",
    "    print(f'New model created with id = {model_v4.id}')"
   ]
  },
  {
   "cell_type": "markdown",
   "id": "e8c250bf",
   "metadata": {},
   "source": [
    "## 7. Fifth version with schema change\n",
    "Add fifth version with change in schema, where \n",
    "we are changing the changing the max limit of the balance field"
   ]
  },
  {
   "cell_type": "markdown",
   "id": "7219c3d2",
   "metadata": {},
   "source": [
    "<table>\n",
    "    <tr>\n",
    "        <td>\n",
    "            <img src=\"https://raw.githubusercontent.com/fiddler-labs/fiddler-examples/main/quickstart/images/model_versions_2.png\" />\n",
    "        </td>\n",
    "    </tr>\n",
    "</table>"
   ]
  },
  {
   "cell_type": "code",
   "execution_count": null,
   "id": "05c1761d",
   "metadata": {},
   "outputs": [],
   "source": [
    "version_v5 = 'v5'\n",
    "\n",
    "try:\n",
    "    model_v5 = fdl.Model.from_name(\n",
    "        name=MODEL_NAME,\n",
    "        project_id=project.id,\n",
    "        version=version_v5\n",
    "    )\n",
    "    print(f'Loaded existing model with id = {model_v5.id}')\n",
    "except fdl.NotFound as e:\n",
    "    model_v5 = model_v4.duplicate(version=version_v5)\n",
    "    model_v5.schema['Age'].min = 18                                             #this sets the min and max of the age column\n",
    "    model_v5.schema['Age'].max = 85\n",
    "\n",
    "    model_v5.schema['BalanceNew'].max = 1250000                                     #this sets the max value for the balance column\n",
    "    model_v5.create()\n",
    "    print(f'New model created with id = {model_v5.id}')\n"
   ]
  },
  {
   "cell_type": "markdown",
   "id": "1a7ee20d",
   "metadata": {},
   "source": [
    "## 8. Update version name"
   ]
  },
  {
   "cell_type": "code",
   "execution_count": null,
   "id": "4ef35a0f",
   "metadata": {},
   "outputs": [],
   "source": [
    "model_v4.version = 'v4-old'                                                     #this renames the v4 version name to 'v4-old'\n",
    "\n",
    "model_v4.update()\n"
   ]
  },
  {
   "cell_type": "markdown",
   "id": "e7c283e2",
   "metadata": {},
   "source": [
    "<table>\n",
    "    <tr>\n",
    "        <td>\n",
    "            <img src=\"https://raw.githubusercontent.com/fiddler-labs/fiddler-examples/main/quickstart/images/model_versions_3.png\" />\n",
    "        </td>\n",
    "    </tr>\n",
    "</table>"
   ]
  },
  {
   "cell_type": "markdown",
   "id": "50a0df73",
   "metadata": {},
   "source": [
    "## 9. Delete model version\n",
    "Delete v5 version"
   ]
  },
  {
   "cell_type": "code",
   "execution_count": null,
   "id": "68cbc4ee",
   "metadata": {},
   "outputs": [],
   "source": [
    "job = model_v5.delete()                                     #this deletes a specified version of the model\n",
    "job.wait()  "
   ]
  },
  {
   "cell_type": "markdown",
   "id": "1327baa3",
   "metadata": {},
   "source": [
    "\n",
    "\n",
    "---\n",
    "\n",
    "\n",
    "**Questions?**  \n",
    "  \n",
    "Check out [our docs](https://docs.fiddler.ai/) for a more detailed explanation of what Fiddler has to offer.\n",
    "\n",
    "If you're still looking for answers, fill out a ticket on [our support page](https://fiddlerlabs.zendesk.com/) and we'll get back to you shortly."
   ]
  }
 ],
 "metadata": {
  "colab": {
   "provenance": []
  },
  "kernelspec": {
   "display_name": "Python 3 (ipykernel)",
   "language": "python",
   "name": "python3"
  },
  "language_info": {
   "codemirror_mode": {
    "name": "ipython",
    "version": 3
   },
   "file_extension": ".py",
   "mimetype": "text/x-python",
   "name": "python",
   "nbconvert_exporter": "python",
   "pygments_lexer": "ipython3",
   "version": "3.9.18"
  }
 },
 "nbformat": 4,
 "nbformat_minor": 5
}
