{
 "cells": [
  {
   "cell_type": "markdown",
   "metadata": {
    "id": "KxxiKou3wZTw",
    "tags": []
   },
   "source": [
    "# Fiddler Quickstart notebook for a Class Imbalance Example\n",
    "\n",
    "Many ML use cases, like fraud detection and facial recognition, suffer from what is known as the class imbalance problem.  This problem exists where a vast majority of the inferences seen by the model belong to only one class, known as the majority class.  This makes detecting drift in the minority class very difficult as the \"signal\" is completely outweighed by the shear number of inferences seen in the majority class.  The following notebook showcases how Fiddler uses a class weighting paramater to deal with this problem. This notebook will onboard two identical models -- one without class imbalance weighting and one with class imbalance weighting -- to illustrate how drift signals in the minority class are easier to detect once properly amplified by Fiddler's unique class weighting approach.\n",
    "\n",
    "1. Connect to Fiddler\n",
    "2. Upload a baseline dataset for a fraud detection use case\n",
    "3. Onboard two fraud models to Fiddler -- one with class weighting and one without\n",
    "4. Publish production events to both models with synthetic drift in the minority class\n",
    "5. Get Insights -- compare the two onboarding approaches in Fiddler"
   ]
  },
  {
   "cell_type": "markdown",
   "metadata": {
    "id": "wUZi_5s7wsGA"
   },
   "source": [
    "## 0. Imports"
   ]
  },
  {
   "cell_type": "code",
   "execution_count": null,
   "metadata": {
    "id": "Pg-BdRJ4w3LM"
   },
   "outputs": [],
   "source": [
    "!pip install -q fiddler-client;\n",
    "\n",
    "import numpy as np\n",
    "import pandas as pd\n",
    "import fiddler as fdl\n",
    "import sklearn\n",
    "import datetime\n",
    "import time\n",
    "\n",
    "print(f\"Running client version {fdl.__version__}\")\n",
    "\n",
    "RANDOM_STATE = 42"
   ]
  },
  {
   "cell_type": "markdown",
   "metadata": {
    "id": "hcP0yWfV1GoZ"
   },
   "source": [
    "## 1. Connect to Fiddler"
   ]
  },
  {
   "cell_type": "code",
   "execution_count": null,
   "metadata": {},
   "outputs": [],
   "source": [
    "URL = ''  # Make sure to include the full URL (including https://).\n",
    "TOKEN = ''"
   ]
  },
  {
   "cell_type": "code",
   "execution_count": null,
   "metadata": {},
   "outputs": [],
   "source": [
    "fdl.init(\n",
    "    url=URL,\n",
    "    token=TOKEN\n",
    ")"
   ]
  },
  {
   "cell_type": "code",
   "execution_count": null,
   "metadata": {},
   "outputs": [],
   "source": [
    "PROJECT_NAME = 'imbalance_cc_fraud'\n",
    "\n",
    "project = fdl.Project(\n",
    "    name=PROJECT_NAME\n",
    ")\n",
    "\n",
    "project.create()"
   ]
  },
  {
   "cell_type": "code",
   "execution_count": null,
   "metadata": {
    "id": "TFVJcU8uCY7z"
   },
   "outputs": [],
   "source": [
    "PATH_TO_SAMPLE_CSV = 'https://raw.githubusercontent.com/fiddler-labs/fiddler-examples/main/quickstart/data/v3/imbalance_data_sample.csv'\n",
    "\n",
    "sample_df = pd.read_csv(PATH_TO_SAMPLE_CSV)\n",
    "sample_df.head()"
   ]
  },
  {
   "cell_type": "code",
   "execution_count": null,
   "metadata": {
    "id": "NKXCbsxwvBHY"
   },
   "outputs": [],
   "source": [
    "sample_df['Class'].value_counts()\n",
    "print('Percentage of minority class: {}%'.format(round(sample_df['Class'].value_counts()[1]*100/sample_df.shape[0], 4)))"
   ]
  },
  {
   "cell_type": "markdown",
   "metadata": {
    "id": "IK3sL73_4FxO"
   },
   "source": [
    "## 3. Onboard two fraud models to Fiddler -- one with class weighting and one without"
   ]
  },
  {
   "cell_type": "markdown",
   "metadata": {
    "id": "kMIVScsbvBHZ"
   },
   "source": [
    "Now, we will add two models:\n",
    "1. With class weight parameters\n",
    "2. Without class weight parameters"
   ]
  },
  {
   "cell_type": "markdown",
   "metadata": {
    "id": "PRd0MBknvBHZ"
   },
   "source": [
    "Below, we first create a `ModelSpec` object and then onboard (add) the two models to Fiddler -- the first model onboarded without weights undefined, the second with weights defined."
   ]
  },
  {
   "cell_type": "code",
   "execution_count": null,
   "metadata": {},
   "outputs": [],
   "source": [
    "model_spec = fdl.ModelSpec(\n",
    "    inputs=set(sample_df.columns) - set(['Class', 'prediction_score', 'timestamp']),\n",
    "    outputs=['prediction_score'],\n",
    "    targets=['Class'],\n",
    "    metadata=['timestamp']\n",
    ")"
   ]
  },
  {
   "cell_type": "code",
   "execution_count": null,
   "metadata": {},
   "outputs": [],
   "source": [
    "timestamp_column = 'timestamp'"
   ]
  },
  {
   "cell_type": "code",
   "execution_count": null,
   "metadata": {},
   "outputs": [],
   "source": [
    "model_task = fdl.ModelTask.BINARY_CLASSIFICATION\n",
    "\n",
    "task_params_weighted = fdl.ModelTaskParams(\n",
    "    target_class_order=[0, 1],\n",
    "    binary_classification_threshold=0.4,\n",
    "    class_weights=sklearn.utils.class_weight.compute_class_weight(class_weight='balanced',\n",
    "        classes=np.unique(sample_df['Class']),\n",
    "        y=sample_df['Class']).tolist()\n",
    ")\n",
    "\n",
    "task_params_unweighted = fdl.ModelTaskParams(\n",
    "    target_class_order=[0, 1],\n",
    "    binary_classification_threshold=0.4,\n",
    ")"
   ]
  },
  {
   "cell_type": "code",
   "execution_count": null,
   "metadata": {},
   "outputs": [],
   "source": [
    "MODEL_NAMES = ['imbalance_cc_fraud', 'imbalance_cc_fraud_weighted']\n",
    "\n",
    "for model_name in MODEL_NAMES:\n",
    "    model = fdl.Model.from_data(\n",
    "        name=model_name,\n",
    "        project_id=project.id,\n",
    "        source=sample_df,\n",
    "        spec=model_spec,\n",
    "        task=model_task,\n",
    "        task_params=task_params_unweighted if model_name == 'imbalance_cc_fraud' else task_params_weighted,\n",
    "        event_ts_col=timestamp_column\n",
    "    )\n",
    "\n",
    "    model.create()"
   ]
  },
  {
   "cell_type": "markdown",
   "metadata": {
    "id": "GZNJ5NNm5vnA"
   },
   "source": [
    "## 4. Publish production events to both models with synthetic drift in the minority class"
   ]
  },
  {
   "cell_type": "code",
   "execution_count": null,
   "metadata": {
    "id": "1dmA8PP7GTdJ"
   },
   "outputs": [],
   "source": [
    "PATH_TO_EVENTS_CSV = 'https://raw.githubusercontent.com/fiddler-labs/fiddler-examples/main/quickstart/data/v3/imbalance_production_data.csv'\n",
    "\n",
    "production_df = pd.read_csv(PATH_TO_EVENTS_CSV)\n",
    "\n",
    "# Shift the timestamps of the production events to be as recent as today\n",
    "production_df['timestamp'] = production_df['timestamp'] + (int(time.time() * 1000) - production_df['timestamp'].max())\n",
    "production_df.head()"
   ]
  },
  {
   "cell_type": "code",
   "execution_count": null,
   "metadata": {
    "id": "JnFA3KGzvBHa"
   },
   "outputs": [],
   "source": [
    "print('Percentage of minority class: {}%'.format(round(production_df['Class'].value_counts()[1]*100/production_df.shape[0], 4)))"
   ]
  },
  {
   "cell_type": "markdown",
   "metadata": {
    "id": "9IuKuheyvBHa"
   },
   "source": [
    "We see that the percentage of minority class in production data is > 3 times than that of baseline data. This should create a big drift in the predictions.\n",
    "\n",
    "We will now publish the same production/event data for both of the models -- the one with class weights and the one without class weights."
   ]
  },
  {
   "cell_type": "code",
   "execution_count": null,
   "metadata": {
    "id": "WM4ZUocQvBHa"
   },
   "outputs": [],
   "source": [
    "for model_name in MODEL_NAMES:\n",
    "    model.publish(production_df)"
   ]
  },
  {
   "cell_type": "markdown",
   "metadata": {
    "id": "vR6IR8YNHgG1"
   },
   "source": [
    "## 5. Get Insights -- compare the two onboarding approaches in Fiddler\n",
    "\n",
    "**You're all done!**\n"
   ]
  },
  {
   "cell_type": "markdown",
   "metadata": {
    "id": "7oFePPOSvBHa"
   },
   "source": [
    "In the Fiddler UI, we can the model without the class weights defined the output/prediction drift in the minority class is very hard to detect (`<=0.05`) because it is trumped byt the overwhelming volume of events in the majority class.  If we declare class weights then we see a higher drift which is more correct respresentation if the production data where the ratio of minority is class is 3x."
   ]
  },
  {
   "cell_type": "markdown",
   "metadata": {
    "id": "-7WCOUHvvBHa"
   },
   "source": [
    "<table>\n",
    "    <tr>\n",
    "        <td>\n",
    "            <img src=\"https://raw.githubusercontent.com/fiddler-labs/fiddler-examples/main/quickstart/images/imabalance_data_1.png\" />\n",
    "        </td>\n",
    "    </tr>\n",
    "</table>"
   ]
  },
  {
   "cell_type": "markdown",
   "metadata": {
    "id": "Jdkj1eHgOTAO"
   },
   "source": [
    "\n",
    "\n",
    "---\n",
    "\n",
    "\n",
    "**Questions?**  \n",
    "  \n",
    "Check out [our docs](https://docs.fiddler.ai/) for a more detailed explanation of what Fiddler has to offer.\n",
    "\n",
    "If you're still looking for answers, fill out a ticket on [our support page](https://fiddlerlabs.zendesk.com/) and we'll get back to you shortly."
   ]
  }
 ],
 "metadata": {
  "colab": {
   "name": "Fiddler_Quick_Start_DIY.ipynb",
   "provenance": []
  },
  "kernelspec": {
   "display_name": "Python 3 (ipykernel)",
   "language": "python",
   "name": "python3"
  },
  "language_info": {
   "codemirror_mode": {
    "name": "ipython",
    "version": 3
   },
   "file_extension": ".py",
   "mimetype": "text/x-python",
   "name": "python",
   "nbconvert_exporter": "python",
   "pygments_lexer": "ipython3",
   "version": "3.12.3"
  }
 },
 "nbformat": 4,
 "nbformat_minor": 4
}
