{
 "cells": [
  {
   "cell_type": "markdown",
   "id": "03f71592",
   "metadata": {},
   "source": [
    "# Model Versions\n",
    "\n",
    "In this notebook, we present the steps for updating a model schema/version.  When a model is onboarded on to fiddler as a version 1, there can be multiple incremental updates or iterations to that model, the history to which is maintained in fiddler, called model versioning. The users can update existing model schema/versions and also access the older versions. \n",
    "\n",
    "This notebook is an example of how changes can be made in a model/schema and how fiddler maintains them.\n",
    "\n",
    "\n",
    "Fiddler is the pioneer in enterprise A Observability, offering a unified platform that enables Data Science, MLOps, Risk, Compliance, Analytics, and LOB teams to **monitor, explain, analyze, and improve AI deployments at enterprise scale**. \n",
    "Obtain contextual insights at any stage of the ML lifecycle, improve predictions, increase transparency and fairness, and optimize business revenue."
   ]
  },
  {
   "cell_type": "markdown",
   "id": "be48501f",
   "metadata": {},
   "source": [
    "# Introduction\n",
    "\n",
    "This notebook creates different scenarios for adding new versions for a model.\n",
    "\n",
    "Model Versions are supported on fiddler client version 3.1.0 and above\n",
    "Make sure that the python version is 3.10 and above"
   ]
  },
  {
   "cell_type": "code",
   "execution_count": null,
   "id": "8ebef010",
   "metadata": {},
   "outputs": [
    {
     "ename": "",
     "evalue": "",
     "output_type": "error",
     "traceback": [
      "\u001b[1;31mThe kernel failed to start as 'TypeAliasType' could not be imported from '/Users/konark/.pyenv/versions/3.10.11/lib/python3.10/site-packages/typing_extensions.py'.\n",
      "\u001b[1;31mClick <a href='https://aka.ms/kernelFailuresModuleImportErrFromFile'>here</a> for more info."
     ]
    }
   ],
   "source": [
    "pip install -q fiddler-client==3.1.0"
   ]
  },
  {
   "cell_type": "code",
   "execution_count": null,
   "id": "867e4c6a",
   "metadata": {},
   "outputs": [
    {
     "ename": "",
     "evalue": "",
     "output_type": "error",
     "traceback": [
      "\u001b[1;31mThe kernel failed to start as 'TypeAliasType' could not be imported from '/Users/konark/.pyenv/versions/3.10.11/lib/python3.10/site-packages/typing_extensions.py'.\n",
      "\u001b[1;31mClick <a href='https://aka.ms/kernelFailuresModuleImportErrFromFile'>here</a> for more info."
     ]
    }
   ],
   "source": [
    "import sys\n",
    "print(sys.version)"
   ]
  },
  {
   "cell_type": "code",
   "execution_count": null,
   "id": "582c8fc3",
   "metadata": {},
   "outputs": [],
   "source": [
    "import fiddler as fdl\n",
    "import tempfile\n",
    "import time as time\n",
    "import numpy as np\n",
    "import pandas as pd\n",
    "import logging\n",
    "from uuid import uuid4\n",
    "from datetime import datetime, timedelta\n",
    "\n",
    "fdl.__version__"
   ]
  },
  {
   "cell_type": "markdown",
   "id": "3b5826fe",
   "metadata": {},
   "source": [
    "# Set log levels\n",
    "\n",
    "Set the log level for verbose information. Python Client mostly focus on programatic usage, rather than being interactive. Set the log level appropriately for notebook friendly usage."
   ]
  },
  {
   "cell_type": "code",
   "execution_count": null,
   "id": "69235359",
   "metadata": {},
   "outputs": [],
   "source": [
    "fdl.set_logging(level=logging.DEBUG)"
   ]
  },
  {
   "cell_type": "markdown",
   "id": "d7d9c7e3",
   "metadata": {},
   "source": [
    "# Connect to Fiddler\n",
    "\n",
    "Before you can add information about your model with Fiddler, you'll need to connect using our Python client.\n",
    "\n",
    "---\n",
    "\n",
    "**We need a few pieces of information to get started.**\n",
    "1. The URL you're using to connect to Fiddler\n",
    "3. Your authorization token\n",
    "\n",
    "The latter two of these can be found by pointing your browser to your Fiddler URL and navigating to the **Settings** page."
   ]
  },
  {
   "cell_type": "code",
   "execution_count": null,
   "id": "60aaa44b",
   "metadata": {},
   "outputs": [],
   "source": [
    "URL = 'https://preprod.fiddler.ai' # UPDATE ME\n",
    "TOKEN = '-B5h3iKsUBk2yrYEbamxGHcDggXZTPb7URD6lvzWkrk' # UPDATE ME"
   ]
  },
  {
   "cell_type": "markdown",
   "id": "878685eb",
   "metadata": {},
   "source": [
    "# Initialization\n",
    "\n",
    "Initilize the connection to Fiddler Client. This call will also validate the client vs server version compatibility."
   ]
  },
  {
   "cell_type": "code",
   "execution_count": null,
   "id": "882cadae",
   "metadata": {},
   "outputs": [],
   "source": [
    "fdl.init(url=URL, token=TOKEN)\n",
    "\n",
    "print(f'Client version: {fdl.__version__}')\n",
    "print(f'Server version: {fdl.conn.server_version}')\n",
    "print(f'Organization id: {fdl.conn.organization_id}')\n",
    "print(f'Organization name: {fdl.conn.organization_name}')"
   ]
  },
  {
   "cell_type": "code",
   "execution_count": null,
   "id": "cbbf9b17",
   "metadata": {},
   "outputs": [],
   "source": [
    "DATASET_FILE_PATH = \"https://raw.githubusercontent.com/fiddler-labs/fiddler-examples/main/quickstart/data/v3/churn_data_sample.csv\" # UPDATE ME    \n",
    "PROJECT_NAME = 'konark_project_1' # UPDATE ME\n",
    "DATASET_NAME = 'dataset_1' # UPDATE ME\n",
    "MODEL_NAME = 'model_1' # UPDATE ME"
   ]
  },
  {
   "cell_type": "markdown",
   "id": "6ad44441",
   "metadata": {},
   "source": [
    "Drop some output columns from the CSV file and pick the columns for inputs"
   ]
  },
  {
   "cell_type": "code",
   "execution_count": null,
   "id": "80c407cf",
   "metadata": {},
   "outputs": [],
   "source": [
    "sample_df = pd.read_csv(DATASET_FILE_PATH)\n",
    "column_list  = sample_df.columns\n",
    "\n",
    "input_columns  = list(column_list.drop([\"predicted_churn\",\"churn\", \"customer_id\", \"timestamp\"]))\n",
    "# list(column_list.drop([\"predicted_churn\",\"churn\", \"customer_id\", \"timestamp\"]))\n",
    "\n",
    "# sample_df\n",
    "input_columns"
   ]
  },
  {
   "cell_type": "markdown",
   "id": "be55c920",
   "metadata": {},
   "source": [
    "## Utility methods"
   ]
  },
  {
   "cell_type": "code",
   "execution_count": null,
   "id": "ebb7092a",
   "metadata": {},
   "outputs": [],
   "source": [
    "def _add_timestamp(df, event_ts_col: str, start: datetime = datetime.now(), end: datetime = datetime.now() - timedelta(days=30)):\n",
    "    \"\"\"\n",
    "    This function will add a random timestamp to df between\n",
    "    two datetime objects - start and end.\n",
    "    \"\"\"\n",
    "    start_time = start.timestamp() * 1000\n",
    "    end_time = end.timestamp() * 1000\n",
    "    df[event_ts_col] = np.linspace(start_time, end_time, df.shape[0]).astype(int)\n",
    "    df.sort_values(by=[event_ts_col], ascending=True)"
   ]
  },
  {
   "cell_type": "markdown",
   "id": "6e66776a",
   "metadata": {},
   "source": [
    "## Create project"
   ]
  },
  {
   "cell_type": "code",
   "execution_count": null,
   "id": "c968eae9",
   "metadata": {},
   "outputs": [],
   "source": [
    "try:\n",
    "    # Create project\n",
    "    project = fdl.Project(name=PROJECT_NAME).create()\n",
    "    print(f'New project created with id = {project.id}')\n",
    "except fdl.Conflict:\n",
    "    # Get project by name\n",
    "    project = fdl.Project.from_name(name=PROJECT_NAME)\n",
    "    print(f'Loaded existing project with id = {project.id}')"
   ]
  },
  {
   "cell_type": "code",
   "execution_count": null,
   "id": "e33b1654",
   "metadata": {},
   "outputs": [],
   "source": [
    "for x in fdl.Project.list():\n",
    "    print(f'Project: {x.id} - {x.name}')"
   ]
  },
  {
   "cell_type": "markdown",
   "id": "5bf916ca",
   "metadata": {},
   "source": [
    "## First version with no task\n",
    "\n",
    "Create the first version of model in the project with NOT_SET task and pre-publish production and production events"
   ]
  },
  {
   "cell_type": "code",
   "execution_count": null,
   "id": "f7073f31",
   "metadata": {},
   "outputs": [],
   "source": [
    "version_v1 = 'v1'\n",
    "\n",
    "model_spec = fdl.ModelSpec(\n",
    "    inputs=input_columns,\n",
    "    outputs=['predicted_churn'],\n",
    "    targets=['churn'],\n",
    "    metadata=['customer_id', 'timestamp'],\n",
    "    decisions=[],\n",
    "    metadata=[],\n",
    "    custom_features=[],\n",
    ")\n",
    "\n",
    "try:\n",
    "    model_v1 = fdl.Model.from_name(\n",
    "        name=MODEL_NAME,\n",
    "        project_id=project.id,\n",
    "        version=version_v1\n",
    "    )\n",
    "    print(f'Loaded existing model with id = {model_v1.id}')\n",
    "except fdl.NotFound:\n",
    "    model_v1 = fdl.Model.from_data(\n",
    "        source=sample_df, \n",
    "        name=MODEL_NAME, \n",
    "        version=version_v1,\n",
    "        project_id=project.id,\n",
    "        spec=model_spec,\n",
    "        task=fdl.ModelTask.BINARY_CLASSIFICATION,\n",
    "        event_ts_col='__timestamp',\n",
    "        event_id_col='__event_id',\n",
    "    )\n",
    "\n",
    "    model_v1.create()\n",
    "    print(f'New model created with id = {model_v1.id}')"
   ]
  },
  {
   "cell_type": "markdown",
   "id": "8691e3ff",
   "metadata": {},
   "source": [
    "## Second version with a task\n",
    "Add Second version with binary classification task and publish production and pre-production events\n",
    "Update the datatype of input feature Geography & update the age min/max"
   ]
  },
  {
   "cell_type": "code",
   "execution_count": null,
   "id": "d2640a7d",
   "metadata": {},
   "outputs": [],
   "source": [
    "version_v2 = 'v2'\n",
    "\n",
    "model_spec1 = fdl.ModelSpec(\n",
    "    inputs = [\n",
    "        fdl.schemas.model_schema.Column(\n",
    "            name='Geography',\n",
    "            data_type=fdl.DataType.STRING\n",
    "        )\n",
    "    ]\n",
    ")\n",
    "\n",
    "task_params = fdl.ModelTaskParams(\n",
    "    binary_classification_threshold=0.5,\n",
    "    target_class_order=['no', 'yes'],\n",
    "    class_weights=None,\n",
    "    group_by=None,\n",
    "    top_k=None,\n",
    "    weighted_ref_histograms=None,\n",
    ")\n",
    "\n",
    "xai_params = fdl.XaiParams(\n",
    "    custom_explain_methods=[],\n",
    "    default_explain_method=None,\n",
    ")\n",
    "\n",
    "try:\n",
    "    model_v2 = fdl.Model.from_name(\n",
    "        name=MODEL_NAME,\n",
    "        spec=model_spec1,\n",
    "        project_id=project.id,\n",
    "        version=version_v2\n",
    "    )\n",
    "    print(f'Loaded existing model with id = {model_v2.id}')\n",
    "except fdl.NotFound:\n",
    "    model_v2 = model_v1.duplicate(version=version_v2)\n",
    "    model_v2.schema['age'].min = 21\n",
    "    model_v2.schema['age'].max = 55\n",
    "    model_v2.task_params = task_params\n",
    "    model_v2.xai_params = xai_params\n",
    "    model_v2.task = fdl.ModelTask.BINARY_CLASSIFICATION\n",
    "    model_v2.create()\n",
    "    print(f'New model created with id = {model_v2.id}')\n"
   ]
  },
  {
   "cell_type": "markdown",
   "id": "c39e7c35",
   "metadata": {},
   "source": [
    "## Third version with schema change\n",
    "Add third version with change in schema\n",
    "here we are changing the age min/max, deleting an input param"
   ]
  },
  {
   "cell_type": "code",
   "execution_count": null,
   "id": "fcf2a23d",
   "metadata": {},
   "outputs": [],
   "source": [
    "version_v3 = 'v3'\n",
    "\n",
    "try:\n",
    "    model_v3 = fdl.Model.from_name(\n",
    "        name=MODEL_NAME,\n",
    "        project_id=project.id,\n",
    "        version=version_v3\n",
    "    )\n",
    "    print(f'Loaded existing model with id = {model_v3.id}')\n",
    "except fdl.NotFound:\n",
    "    model_v3 = model_v2.duplicate(version=version_v3)\n",
    "    model_v3.schema['creditscore'].name = 'CreditScore'\n",
    "    model_v3.schema['geography'].name = 'Geography'\n",
    "    model_v3.schema['balance'].name = 'BalanceNew'\n",
    "    model_v3.schema['numofproducts'].name = 'NumOfProducts'\n",
    "    model_v3.schema['hascrcard'].name = 'HasCrCard'\n",
    "    model_v3.schema['isactivemember'].name = 'IsActiveMember'\n",
    "    model_v3.schema['estimatedsalary'].name = 'EstimatedSalary'\n",
    "    model_v3.schema['age'].name = 'Age'\n",
    "    model_v3.schema['Age'].min = 18\n",
    "    model_v3.schema['Age'].max = 85\n",
    "    del model_v3.schema['tenure']\n",
    "\n",
    "    model_v3.spec.inputs = ['CreditScore', 'Geography', 'Age', 'BalanceNew', 'NumOfProducts', 'HasCrCard', 'IsActiveMember', 'EstimatedSalary']\n",
    "    \n",
    "    model_v3.create()\n",
    "    print(f'New model created with id = {model_v3.id}')"
   ]
  },
  {
   "cell_type": "markdown",
   "id": "4b7e9bf5",
   "metadata": {},
   "source": [
    "## Fourth version with schema change\n",
    "Add fourth version with change in schema, where \n",
    "we are changing the weights of the class, removing some input params, "
   ]
  },
  {
   "cell_type": "code",
   "execution_count": null,
   "id": "c152cfcf",
   "metadata": {},
   "outputs": [],
   "source": [
    "version_v4 = 'v4'\n",
    "\n",
    "try:\n",
    "    model_v4 = fdl.Model.from_name(\n",
    "        name=MODEL_NAME,\n",
    "        project_id=project.id,\n",
    "        version=version_v4\n",
    "    )\n",
    "    print(f'Loaded existing model with id = {model_v4.id}')\n",
    "except fdl.NotFound as e:\n",
    "    print('konark is here 1st block ')\n",
    "    print(e.message)\n",
    "    model_v4 = model_v3.duplicate(version=version_v4)\n",
    "    \n",
    "    model_v4.spec.inputs = ['CreditScore', 'Geography', 'Age', 'BalanceNew', 'NumOfProducts', 'HasCrCard', 'IsActiveMember', 'EstimatedSalary']\n",
    "    model_v4.schema['BalanceNew'].max = 250000\n",
    "\n",
    "    task_params = fdl.ModelTaskParams(\n",
    "        class_weights = [23.0, 12.0, 25.0, 12.5, 12.5, 7.5, 7.5, 0.0],\n",
    "    weighted_ref_histograms = True,\n",
    "    )\n",
    "    \n",
    "    model_v4.task_params = task_params    \n",
    "    model_v4.create()\n",
    "    print(f'New model created with id = {model_v4.id}')"
   ]
  },
  {
   "cell_type": "code",
   "execution_count": null,
   "id": "05c1761d",
   "metadata": {},
   "outputs": [],
   "source": [
    "version_v5 = 'v5'\n",
    "\n",
    "try:\n",
    "    model_v5 = fdl.Model.from_name(\n",
    "        name=MODEL_NAME,\n",
    "        project_id=project.id,\n",
    "        version=version_v5\n",
    "    )\n",
    "    print(f'Loaded existing model with id = {model_v4.id}')\n",
    "except fdl.NotFound as e:\n",
    "    model_v5 = model_v4.duplicate(version=version_v5)\n",
    "    \n",
    "    model_v5.spec.inputs = ['CreditScore', 'Geography', 'Age', 'BalanceNew', 'NumOfProducts', 'HasCrCard', 'IsActiveMember', 'EstimatedSalary']\n",
    "    model_v5.schema['BalanceNew'].max = 1250000    \n",
    "    model_v5.create()\n",
    "    print(f'New model created with id = {model_v5.id}')\n"
   ]
  },
  {
   "cell_type": "markdown",
   "id": "d19af6d1",
   "metadata": {},
   "source": [
    "## Publish pre-production events"
   ]
  },
  {
   "cell_type": "code",
   "execution_count": null,
   "id": "80057adb",
   "metadata": {},
   "outputs": [],
   "source": [
    "for model in [model_v1, model_v2, model_v3, model_v4. model_v5]:\n",
    "    try:\n",
    "        fdl.Dataset.from_name(name=DATASET_NAME, model_id=model.id)\n",
    "    except fdl.NotFound:\n",
    "        print(f\"Publishing dataset for {model.name}/{model.version}\")\n",
    "        job = model.publish(\n",
    "            source=DATASET_FILE_PATH,\n",
    "            environment=fdl.EnvType.PRE_PRODUCTION,\n",
    "            dataset_name=DATASET_NAME,\n",
    "        )\n",
    "        job.wait()"
   ]
  },
  {
   "cell_type": "markdown",
   "id": "14ee25f1",
   "metadata": {},
   "source": [
    "## Publish events"
   ]
  },
  {
   "cell_type": "code",
   "execution_count": null,
   "id": "1308b02f",
   "metadata": {},
   "outputs": [],
   "source": [
    "events_df = pd.read_csv(DATASET_FILE_PATH)\n",
    "\n",
    "for model in [model_v1, model_v2, model_v3, model_v4]:    \n",
    "    print(f\"Publishing events for {model.name}/{model.version}\")\n",
    "    \n",
    "    events_df[model.event_id_col] = [str(uuid4()) for _ in range(len(events_df))]\n",
    "    _add_timestamp(df=events_df, event_ts_col=model.event_ts_col)\n",
    "    \n",
    "    job = model.publish(source=events_df)\n",
    "    job.wait()"
   ]
  },
  {
   "cell_type": "markdown",
   "id": "1a7ee20d",
   "metadata": {},
   "source": [
    "## Update version name"
   ]
  },
  {
   "cell_type": "code",
   "execution_count": null,
   "id": "4ef35a0f",
   "metadata": {},
   "outputs": [],
   "source": [
    "model_v4.version = 'v4-old'\n",
    "model_v4.update()"
   ]
  },
  {
   "cell_type": "markdown",
   "id": "b2629db9",
   "metadata": {},
   "source": [
    "## List model versions\n",
    "\n",
    "List all the versions of a model"
   ]
  },
  {
   "cell_type": "code",
   "execution_count": null,
   "id": "bbfd4583",
   "metadata": {},
   "outputs": [],
   "source": [
    "for x in fdl.Model.list(project_id=project.id, name=MODEL_NAME):\n",
    "    print(f'Model: {x.id} - {x.name} {x.version}')"
   ]
  },
  {
   "cell_type": "markdown",
   "id": "50a0df73",
   "metadata": {},
   "source": [
    "## Delete model version\n",
    "Delete v4 version"
   ]
  },
  {
   "cell_type": "code",
   "execution_count": null,
   "id": "68cbc4ee",
   "metadata": {},
   "outputs": [],
   "source": [
    "job = model_v5.delete()\n",
    "job.wait()"
   ]
  },
  {
   "cell_type": "code",
   "execution_count": null,
   "id": "6742f108",
   "metadata": {},
   "outputs": [],
   "source": [
    "new_model = model.duplicate(version='v2')\n",
    "\n",
    "new_model.schema['Age'].min = 18\n",
    "new_model.schema['Age'].max = 60\n",
    "new_model.task = fdl.ModelTask.BINARY_CLASSIFICATION\n",
    "\n",
    "try:\n",
    "    new_model.create()\n",
    "    print(f'New model version created with id = {model.id}')\n",
    "except fdl.Conflict:\n",
    "    new_model = fdl.Model.from_name(name=model.name, project_id=project.id, version=new_model.version)\n",
    "    print(f'Loaded existing model version with id = {model.id}')"
   ]
  },
  {
   "cell_type": "markdown",
   "id": "e2ad608f",
   "metadata": {},
   "source": [
    "**You're all done!**\n",
    "  \n",
    "Now just head to your Fiddler environment's UI and explore the model's explainability by navigating to the model and selecting the **Explain** tab on the top right."
   ]
  },
  {
   "cell_type": "markdown",
   "id": "1327baa3",
   "metadata": {},
   "source": [
    "\n",
    "\n",
    "---\n",
    "\n",
    "\n",
    "**Questions?**  \n",
    "  \n",
    "Check out [our docs](https://docs.fiddler.ai/) for a more detailed explanation of what Fiddler has to offer.\n",
    "\n",
    "If you're still looking for answers, fill out a ticket on [our support page](https://fiddlerlabs.zendesk.com/) and we'll get back to you shortly."
   ]
  }
 ],
 "metadata": {
  "colab": {
   "provenance": []
  },
  "kernelspec": {
   "display_name": "Python 3 (ipykernel)",
   "language": "python",
   "name": "python3"
  },
  "language_info": {
   "codemirror_mode": {
    "name": "ipython",
    "version": 3
   },
   "file_extension": ".py",
   "mimetype": "text/x-python",
   "name": "python",
   "nbconvert_exporter": "python",
   "pygments_lexer": "ipython3",
   "version": "3.10.11"
  }
 },
 "nbformat": 4,
 "nbformat_minor": 5
}
