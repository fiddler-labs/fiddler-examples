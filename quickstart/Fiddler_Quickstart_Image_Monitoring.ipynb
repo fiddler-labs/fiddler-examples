{
 "cells": [
  {
   "cell_type": "markdown",
   "id": "18a75022",
   "metadata": {},
   "source": [
    "# Monitoring Image data using Fiddler Vector Monotoring\n",
    "\n",
    "In this notebook we present the steps for monitoring images. Fiddler employs a vector-based monitoring approach that can be used to monitor data drift in high-dimensional data such as NLP embeddings, images, video etc. In this notebook we demonstrate how to detect drift in image data using model embeddings.\n",
    "\n",
    "Fiddler is the pioneer in enterprise Model Performance Management (MPM), offering a unified platform that enables Data Science, MLOps, Risk, Compliance, Analytics, and LOB teams to **monitor, explain, analyze, and improve ML deployments at enterprise scale**. \n",
    "Obtain contextual insights at any stage of the ML lifecycle, improve predictions, increase transparency and fairness, and optimize business revenue.\n",
    "\n",
    "---\n",
    "\n",
    "You can experience Fiddler's Image monitoring ***in minutes*** by following these quick steps:\n",
    "\n",
    "1. Connect to Fiddler\n",
    "2. Load and generate embeddings for CIFAR-10 dataset\n",
    "3. Upload the vectorized baseline dataset\n",
    "4. Add metadata about your model \n",
    "5. Inject data drift and publish production events\n",
    "6. Get insights"
   ]
  },
  {
   "cell_type": "markdown",
   "id": "443126a9",
   "metadata": {},
   "source": [
    "## Imports"
   ]
  },
  {
   "cell_type": "code",
   "execution_count": null,
   "id": "749423fa",
   "metadata": {},
   "outputs": [],
   "source": [
    "!pip install torch==1.12.1\n",
    "!pip install torchvision==0.13.1\n",
    "!pip install -q fiddler-client"
   ]
  },
  {
   "cell_type": "code",
   "execution_count": null,
   "id": "ce568ccb",
   "metadata": {},
   "outputs": [],
   "source": [
    "import numpy as np\n",
    "import pandas as pd\n",
    "import random\n",
    "import time\n",
    "import torch\n",
    "import torch.nn as nn\n",
    "import torchvision.transforms as transforms\n",
    "from torchvision.models import resnet18, ResNet18_Weights\n",
    "import torchvision\n",
    "import requests\n",
    "\n",
    "import fiddler as fdl\n",
    "print(f\"Running Fiddler client version {fdl.__version__}\")"
   ]
  },
  {
   "cell_type": "markdown",
   "id": "e2dead36",
   "metadata": {},
   "source": [
    "# 1. Connect to Fiddler\n",
    "\n",
    "Before you can add information about your model with Fiddler, you'll need to connect using our API client.\n",
    "\n",
    "---\n",
    "\n",
    "**We need a few pieces of information to get started.**\n",
    "1. The URL you're using to connect to Fiddler\n",
    "2. Your organization ID\n",
    "3. Your authorization token\n",
    "\n",
    "The latter two of these can be found by pointing your browser to your Fiddler URL and navigating to the **Settings** page."
   ]
  },
  {
   "cell_type": "code",
   "execution_count": null,
   "id": "a41e2e8d",
   "metadata": {},
   "outputs": [],
   "source": [
    "URL = '' # Make sure to include the full URL (including https://).\n",
    "ORG_ID = ''\n",
    "AUTH_TOKEN = ''"
   ]
  },
  {
   "cell_type": "markdown",
   "id": "024b0fda",
   "metadata": {},
   "source": [
    "Now just run the following code block to connect to the Fiddler API!"
   ]
  },
  {
   "cell_type": "code",
   "execution_count": null,
   "id": "627e583c",
   "metadata": {},
   "outputs": [],
   "source": [
    "client = fdl.FiddlerApi(\n",
    "    url=URL,\n",
    "    org_id=ORG_ID,\n",
    "    auth_token=AUTH_TOKEN,\n",
    ")"
   ]
  },
  {
   "cell_type": "markdown",
   "id": "3c513f82",
   "metadata": {},
   "source": [
    "Once you connect, you can create a new project by specifying a unique project ID in the client's `create_project` function."
   ]
  },
  {
   "cell_type": "code",
   "execution_count": null,
   "id": "b3db485e",
   "metadata": {},
   "outputs": [],
   "source": [
    "PROJECT_ID = 'image_monitoring'\n",
    "\n",
    "if not PROJECT_ID in client.list_projects():\n",
    "    print(f'Creating project: {PROJECT_ID}')\n",
    "    client.create_project(PROJECT_ID)\n",
    "else:\n",
    "    print(f'Project: {PROJECT_ID} already exists')"
   ]
  },
  {
   "cell_type": "markdown",
   "id": "19011830",
   "metadata": {},
   "source": [
    "## 2. Generate Embeddings for CIFAR-10 data\n",
    "\n",
    "In this example, we'll use the popular CIFAR-10 classification dataset and a model based on Resnet-18 architecture. For the purpose of this example we have pre-trained the model. If you'd like to retrain the model you can use the script located here [TODO: Add link]\n",
    "  \n",
    "In order to compute data and prediction drift, **Fiddler needs a sample of data that can serve as a baseline** for making comparisons with data in production. When it comes to computing distributional shift for images, Fiddler relies on the model's intermediate representations also known as activations or embeddings. You can read more about our approach [here](https://www.fiddler.ai/blog/monitoring-natural-language-processing-and-computer-vision-models-part-1).\n",
    "\n",
    "In the the following cells we'll extract these embeddings."
   ]
  },
  {
   "cell_type": "code",
   "execution_count": null,
   "id": "6db22a69",
   "metadata": {},
   "outputs": [],
   "source": [
    "device = 'cuda' if torch.cuda.is_available() else 'cpu'\n",
    "print(f'Device to be used: {device}')"
   ]
  },
  {
   "cell_type": "markdown",
   "id": "94ecb2a6",
   "metadata": {},
   "source": [
    "Let us load the pre-trained model"
   ]
  },
  {
   "cell_type": "code",
   "execution_count": null,
   "id": "94f288a2",
   "metadata": {},
   "outputs": [],
   "source": [
    "MODEL_URL='https://raw.githubusercontent.com/fiddler-labs/fiddler-samples/master/content_root/tutorial/quickstart/resnet18_cifar10_epoch5.pth'\n",
    "MODEL_PATH='resnet18_cifar10_epoch5.pth'\n",
    "\n",
    "def load_model(device):\n",
    "    \"\"\"Loads the pre-trained CIFAR-10 model\"\"\"\n",
    "    model = resnet18()\n",
    "    model.fc = nn.Sequential(\n",
    "        nn.Linear(512, 128),\n",
    "        nn.ReLU(),\n",
    "        nn.Linear(128, 10),\n",
    "    )\n",
    "    \n",
    "    r = requests.get(MODEL_URL)\n",
    "    with open(MODEL_PATH,'wb') as f:\n",
    "        f.write(r.content)\n",
    "    \n",
    "    model.load_state_dict(torch.load(MODEL_PATH, map_location=torch.device(device)))\n",
    "    model.to(device)\n",
    "    return model\n",
    "\n",
    "resnet_model = load_model(device)"
   ]
  },
  {
   "cell_type": "markdown",
   "id": "1ad83d0d",
   "metadata": {},
   "source": [
    "We'll need the CIFAR-10 dataloaders for this example. Note that running the cell below will download the CIFAR-10 data and load them using torch's dataloaders."
   ]
  },
  {
   "cell_type": "code",
   "execution_count": null,
   "id": "b9a635c3",
   "metadata": {},
   "outputs": [],
   "source": [
    "image_transforms = transforms.Compose(\n",
    "    [\n",
    "        transforms.ToTensor(),\n",
    "        transforms.Normalize([0.5, 0.5, 0.5], [0.5, 0.5, 0.5]),\n",
    "    ]\n",
    ")\n",
    "batch_size = 32\n",
    "trainset = torchvision.datasets.CIFAR10(\n",
    "    root='./cifar10_data',\n",
    "    train=True,\n",
    "    download=True,\n",
    "    transform=image_transforms\n",
    ")\n",
    "trainloader = torch.utils.data.DataLoader(\n",
    "    trainset,\n",
    "    batch_size=batch_size,\n",
    "    shuffle=True, \n",
    "    num_workers=2\n",
    ")\n",
    "\n",
    "testset = torchvision.datasets.CIFAR10(\n",
    "    root='./cifar10_data',\n",
    "    train=False,\n",
    "    download=True,\n",
    "    transform=image_transforms\n",
    ")\n",
    "testloader = torch.utils.data.DataLoader(\n",
    "    testset,\n",
    "    batch_size=batch_size,\n",
    "    shuffle=False,\n",
    "    num_workers=2\n",
    ")"
   ]
  },
  {
   "cell_type": "markdown",
   "id": "f6effa9e",
   "metadata": {},
   "source": [
    "***In the cell below we define functions that will extract the 128-dimensional embedding from the FC1 layer of the model***"
   ]
  },
  {
   "cell_type": "code",
   "execution_count": null,
   "id": "9077f38f",
   "metadata": {},
   "outputs": [],
   "source": [
    "from copy import deepcopy\n",
    "import matplotlib.pyplot as plt\n",
    "import numpy as np\n",
    "\n",
    "import torch\n",
    "import torch.nn.functional as F\n",
    "import torchvision.transforms as transforms\n",
    "\n",
    "torch.manual_seed(0)\n",
    "\n",
    "CIFAR_CLASSES = (\n",
    "    'plane', 'car', 'bird', 'cat',\n",
    "    'deer', 'dog', 'frog',\n",
    "    'horse', 'ship', 'truck',\n",
    ")\n",
    "\n",
    "global view_fc1_output_embeds\n",
    "\n",
    "def fc1_hook_func(model, input, output):\n",
    "    global view_fc1_output_embeds\n",
    "    view_fc1_output_embeds = output\n",
    "\n",
    "def idx_to_classes(target_arr):\n",
    "    return [CIFAR_CLASSES[int(i)] for i in target_arr]\n",
    "\n",
    "def generate_embeddings(model, device, dataloader, n=100_000):\n",
    "    \"\"\"Generate embeddings for the inout images\"\"\"\n",
    "    with torch.no_grad():\n",
    "        model = model.eval()\n",
    "        fc1_module = model.fc[0]\n",
    "        fc1_hook = fc1_module.register_forward_hook(fc1_hook_func)\n",
    "        correct_preds = 0\n",
    "        images_processed = 0\n",
    "        try:\n",
    "            for i, (inputs, labels) in enumerate(dataloader):\n",
    "                inputs = inputs.to(device)\n",
    "                labels = labels.to(device)\n",
    "                outputs = model(inputs)\n",
    "                outputs_smax = F.softmax(outputs, dim=1)\n",
    "                _, preds = torch.max(outputs, 1)\n",
    "                correct_preds += torch.sum(preds == labels.data)\n",
    "                if i == 0:\n",
    "                    fc1_embeds = view_fc1_output_embeds.cpu().detach().numpy()\n",
    "                    output_scores = outputs_smax.cpu().detach().numpy()\n",
    "                    target = labels.cpu().detach().numpy()\n",
    "                else:\n",
    "                    fc1_embeds = np.concatenate((fc1_embeds, view_fc1_output_embeds.cpu().detach().numpy()))\n",
    "                    output_scores = np.concatenate((output_scores, outputs_smax.cpu().detach().numpy()))\n",
    "                    target = np.concatenate((target, labels.cpu().detach().numpy()))\n",
    "                images_processed += outputs.size(0)\n",
    "                if images_processed >= n:\n",
    "                    break\n",
    "        except Exception as e:\n",
    "            fc1_hook.remove()\n",
    "            raise\n",
    "    embs = deepcopy(fc1_embeds[:n])\n",
    "    labels = idx_to_classes(target[:n]) \n",
    "    embedding_cols = ['emb_'+str(i) for i in range(128)]\n",
    "    baseline_embeddings = pd.DataFrame(embs, columns=embedding_cols)\n",
    "    baseline_predictions = pd.DataFrame(output_scores[:n], columns=CIFAR_CLASSES)\n",
    "    baseline_labels = pd.DataFrame(labels, columns=['target'])\n",
    "    embeddings_df = pd.concat(\n",
    "        [baseline_embeddings, baseline_predictions, baseline_labels],\n",
    "        axis='columns',\n",
    "        ignore_index=False\n",
    "    )\n",
    "    return embeddings_df\n",
    "\n",
    "\n",
    "def get_cifar_transforms():\n",
    "    image_transforms = transforms.Compose(\n",
    "        [\n",
    "            transforms.ToTensor(),\n",
    "            transforms.Normalize([0.5, 0.5, 0.5], [0.5, 0.5, 0.5])\n",
    "        ]\n",
    "    )\n",
    "    return image_transforms\n",
    "\n",
    "def get_blur_transforms():\n",
    "    image_transforms = transforms.Compose(\n",
    "        [\n",
    "            transforms.GaussianBlur(kernel_size=(3, 3), sigma=(0.1, 2)),\n",
    "            transforms.ToTensor(),\n",
    "            transforms.Normalize([0.5, 0.5, 0.5], [0.5, 0.5, 0.5]),\n",
    "        ]\n",
    "    )\n",
    "    return image_transforms\n",
    "\n",
    "def get_brightness_transforms():\n",
    "    image_transforms = transforms.Compose(\n",
    "        [\n",
    "            transforms.ColorJitter(brightness=(0.4, 0.6)),\n",
    "            transforms.ToTensor(),\n",
    "            transforms.Normalize([0.5, 0.5, 0.5], [0.5, 0.5, 0.5]),\n",
    "        ]\n",
    "    )\n",
    "    return image_transforms\n",
    "\n",
    "def get_cifar_dataloader(train_data=False, batch_size=32, shuffle_data=False, image_transforms=None):\n",
    "    if image_transforms is None:\n",
    "        image_transforms = get_cifar_transforms()\n",
    "    dataset = torchvision.datasets.CIFAR10(root='./cifar10_data', train=train_data,\n",
    "                                           download=True, transform=image_transforms)\n",
    "    dataloader = torch.utils.data.DataLoader(\n",
    "        dataset,\n",
    "        batch_size=batch_size,\n",
    "        shuffle=shuffle_data,\n",
    "        num_workers=2\n",
    "    )\n",
    "    return dataloader\n",
    "\n",
    "# functions to show an image\n",
    "def imshow(img):\n",
    "    img = img / 2 + 0.5     # unnormalize\n",
    "    npimg = img.numpy()\n",
    "    plt.imshow(np.transpose(npimg, (1, 2, 0)))\n",
    "    plt.show()"
   ]
  },
  {
   "cell_type": "markdown",
   "id": "56726d41",
   "metadata": {},
   "source": [
    "We'll now extract the embeddings for training data which will serve as baseline for monitoring."
   ]
  },
  {
   "cell_type": "code",
   "execution_count": null,
   "id": "4b095397",
   "metadata": {},
   "outputs": [],
   "source": [
    "baseline_df = generate_embeddings(resnet_model, device, trainloader)\n",
    "baseline_df.head()"
   ]
  },
  {
   "cell_type": "markdown",
   "id": "320be46b",
   "metadata": {},
   "source": [
    "# 3. Upload the vectorized baseline dataset to Fiddler\n",
    "\n",
    "Next, let's create a [DatasetInfo](https://docs.fiddler.ai/reference/fdldatasetinfo) object to describe our baseline dataset and then [upload_dataset()](https://docs.fiddler.ai/reference/clientupload_dataset) to Fiddler."
   ]
  },
  {
   "cell_type": "code",
   "execution_count": null,
   "id": "87cb58dc",
   "metadata": {},
   "outputs": [],
   "source": [
    "DATASET_ID = 'cifar10_baseline'  # The dataset name in Fiddler platform\n",
    "dataset_info = fdl.DatasetInfo.from_dataframe(baseline_df, max_inferred_cardinality=100)\n",
    "dataset_info\n",
    "if not DATASET_ID in client.list_datasets(project_id=PROJECT_ID):\n",
    "    print(f'Uploading dataset {DATASET_ID}')\n",
    "    \n",
    "    client.upload_dataset(\n",
    "        project_id=PROJECT_ID,\n",
    "        dataset_id=DATASET_ID,\n",
    "        dataset={'baseline': baseline_df},\n",
    "        info=dataset_info\n",
    "    )\n",
    "    print('Finished uploading the baseline dataset.')\n",
    "else:\n",
    "    print(f'Dataset: {DATASET_ID} already exists in Project: {PROJECT_ID}.\\n'\n",
    "               'The new dataset is not uploaded. (please use a different name.)')"
   ]
  },
  {
   "cell_type": "markdown",
   "id": "47edf8eb",
   "metadata": {},
   "source": [
    "# 4. Add metadata about the model\n",
    "\n",
    "Next we must tell Fiddler a bit more about our model.  This is done either by calling [.register_model()](https://docs.fiddler.ai/reference/clientregister_model) or [.add_model()](https://docs.fiddler.ai/reference/clientadd_model).  This notebook will use [.add_model()](https://docs.fiddler.ai/reference/clientadd_model) When calling [.add_model()](https://docs.fiddler.ai/reference/clientadd_model), we must pass in a [model_info](https://docs.fiddler.ai/reference/fdlmodelinfo) object to tell Fiddler about our model.  This [model_info](https://docs.fiddler.ai/reference/fdlmodelinfo) object will tell Fiddler about our model's task, inputs, output, target and which features form the image embedding.\n",
    "\n",
    "Let's first define our Image vector using the API below."
   ]
  },
  {
   "cell_type": "code",
   "execution_count": null,
   "id": "205af1a0",
   "metadata": {},
   "outputs": [],
   "source": [
    "embedding_cols = ['emb_'+str(i) for i in range(128)]\n",
    "CF1 = fdl.CustomFeature.from_columns(embedding_cols, n_clusters=10, custom_name='fc1_embedding')"
   ]
  },
  {
   "cell_type": "markdown",
   "id": "a57898d3",
   "metadata": {},
   "source": [
    "Now let's define our [model_info](https://docs.fiddler.ai/reference/fdlmodelinfo) object."
   ]
  },
  {
   "cell_type": "code",
   "execution_count": null,
   "id": "000b90b2",
   "metadata": {},
   "outputs": [],
   "source": [
    "# This is a multi-class classification problem\n",
    "model_task = fdl.ModelTask.MULTICLASS_CLASSIFICATION\n",
    "# name of the column that contains ground truth\n",
    "target = 'target'\n",
    "\n",
    "model_info = fdl.ModelInfo.from_dataset_info(\n",
    "    dataset_info=dataset_info,\n",
    "    dataset_id=DATASET_ID,\n",
    "    features=embedding_cols,\n",
    "    target=target,\n",
    "    outputs=CIFAR_CLASSES,\n",
    "    custom_features=[CF1],\n",
    "    model_task=model_task,\n",
    "    description='An example to showcase monitoring Image data using model embeddings.',\n",
    "    categorical_target_class_details=CIFAR_CLASSES,\n",
    ")\n",
    "model_info"
   ]
  },
  {
   "cell_type": "markdown",
   "id": "6a7110b2",
   "metadata": {},
   "source": [
    "Now we specify a unique model ID and use the client's [add_model](https://docs.fiddler.ai/reference/clientadd_model) function to send this information to Fiddler."
   ]
  },
  {
   "cell_type": "code",
   "execution_count": null,
   "id": "43e75271",
   "metadata": {},
   "outputs": [],
   "source": [
    "MODEL_ID = 'resnet18'\n",
    "\n",
    "client.add_model(\n",
    "    project_id=PROJECT_ID,\n",
    "    dataset_id=DATASET_ID,\n",
    "    model_id=MODEL_ID,\n",
    "    model_info=model_info,\n",
    ")"
   ]
  },
  {
   "cell_type": "markdown",
   "id": "53496a28",
   "metadata": {},
   "source": [
    "# 5. Inject data drift and publish production events\n",
    "\n",
    "Netx, we'll inject data drift in form of blurring and brightness-reduction. The following cell illustrates these transforms."
   ]
  },
  {
   "cell_type": "code",
   "execution_count": null,
   "id": "fda44427",
   "metadata": {},
   "outputs": [],
   "source": [
    "drift_xform_lut = {\n",
    "    'original': None,\n",
    "    'blurred': get_blur_transforms(),\n",
    "    'brightness_reduced': get_brightness_transforms(),\n",
    "}\n",
    "for drift_type, xform in drift_xform_lut.items():\n",
    "    cifar_testloader = get_cifar_dataloader(train_data=False, batch_size=32, image_transforms=xform)\n",
    "    # get some test images\n",
    "    dataiter = iter(cifar_testloader)\n",
    "    images, labels = dataiter.next()\n",
    "\n",
    "    # show images\n",
    "    print(f'Image type: {drift_type}')\n",
    "    imshow(torchvision.utils.make_grid(images))"
   ]
  },
  {
   "cell_type": "markdown",
   "id": "cff619a6",
   "metadata": {},
   "source": [
    "### Publish events to Fiddler\n",
    "\n",
    "We'll publish events over past 3 weeks. \n",
    "\n",
    "- Week 1: We publish CIFAR-10 test set, which would signify no distributional shift\n",
    "- Week 2: We publish **blurred** CIFAR-10 test set \n",
    "- Week 3: We publish **brightness reduce** CIFAR-10 test set "
   ]
  },
  {
   "cell_type": "code",
   "execution_count": null,
   "id": "db89da28",
   "metadata": {},
   "outputs": [],
   "source": [
    "import time\n",
    "\n",
    "for i, drift_type in enumerate(['original', 'blurred', 'brightness_reduced']):\n",
    "    week_days = 6\n",
    "    xform = drift_xform_lut[drift_type]\n",
    "    cifar_testloader = get_cifar_dataloader(train_data=False, batch_size=32, image_transforms=xform)\n",
    "    prod_df = generate_embeddings(resnet_model, device, cifar_testloader)\n",
    "    week_offset = (2-i)*7*24*60*60*1e3 \n",
    "    day_offset = 24*60*60*1e3\n",
    "    print(f'Publishing events with {drift_type} transformation for week {i}.')\n",
    "    for day in range(week_days): \n",
    "        now = time.time() * 1000\n",
    "        timestamp = int(now - week_offset - day*day_offset)\n",
    "        events_df = prod_df.sample(1000)\n",
    "        events_df['timestamp'] = timestamp\n",
    "        client.publish_events_batch(\n",
    "            project_id=PROJECT_ID,\n",
    "            model_id=MODEL_ID,\n",
    "            batch_source=events_df,\n",
    "            timestamp_field='timestamp',\n",
    "        )"
   ]
  },
  {
   "cell_type": "markdown",
   "id": "eb57a1fd",
   "metadata": {},
   "source": [
    "## 6. Get insights\n",
    "\n",
    "**You're all done!**\n",
    "  \n",
    "You can now head to Fiddler URL and start getting enhanced observability into your model's performance.\n",
    "\n",
    "Run the following code block to get your URL."
   ]
  },
  {
   "cell_type": "code",
   "execution_count": null,
   "id": "0c12e0b5",
   "metadata": {},
   "outputs": [],
   "source": [
    "print('/'.join([URL, 'projects', PROJECT_ID, 'models', MODEL_ID, 'monitor']))"
   ]
  },
  {
   "cell_type": "markdown",
   "id": "45cebc85",
   "metadata": {},
   "source": [
    "*Please allow 3-5 minutes for monitoring data to populate the charts.*\n",
    "  \n",
    "The following screen (without the annotation bubbles) will be available to you upon completion.\n",
    "<table>\n",
    "    <tr>\n",
    "        <td>\n",
    "            <img src=\"https://raw.githubusercontent.com/fiddler-labs/fiddler-samples/example/image_monitoring/content_root/tutorial/quickstart/images/image_monitoring_drift.png\" />\n",
    "        </td>\n",
    "    </tr>\n",
    "</table>"
   ]
  },
  {
   "cell_type": "markdown",
   "id": "800aecc2",
   "metadata": {},
   "source": [
    "\n",
    "\n",
    "---\n",
    "\n",
    "\n",
    "**Questions?**  \n",
    "  \n",
    "Check out [our docs](https://docs.fiddler.ai/) for a more detailed explanation of what Fiddler has to offer.\n",
    "\n",
    "Join our [community Slack](http://fiddler-community.slack.com/) to ask any questions!\n",
    "\n",
    "If you're still looking for answers, fill out a ticket on [our support page](https://fiddlerlabs.zendesk.com/) and we'll get back to you shortly."
   ]
  }
 ],
 "metadata": {
  "kernelspec": {
   "display_name": "Python 3 (ipykernel)",
   "language": "python",
   "name": "python3"
  },
  "language_info": {
   "codemirror_mode": {
    "name": "ipython",
    "version": 3
   },
   "file_extension": ".py",
   "mimetype": "text/x-python",
   "name": "python",
   "nbconvert_exporter": "python",
   "pygments_lexer": "ipython3",
   "version": "3.8.11"
  }
 },
 "nbformat": 4,
 "nbformat_minor": 5
}
