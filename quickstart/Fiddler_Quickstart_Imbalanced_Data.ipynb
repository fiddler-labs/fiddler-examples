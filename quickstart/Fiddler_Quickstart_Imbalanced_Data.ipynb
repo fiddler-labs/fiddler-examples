{
 "cells": [
  {
   "cell_type": "markdown",
   "metadata": {
    "id": "KxxiKou3wZTw",
    "tags": []
   },
   "source": [
    "# Fiddler Quickstart notebook for a Class Imbalance Example\n",
    "\n",
    "Many ML use cases, like fraud detection and facial recognition, suffer from what is known as the class imbalance problem.  This problem exists where a vast majority of the inferences seen by the model belong to only one class, known as the majority class.  This makes detecting drift in the minority class very difficult as the \"signal\" is completely outweighed by the shear number of inferences seen in the majority class.  The following notebook showcases how Fiddler uses a class weighting paramater to deal with this problem. This notebook will onboard two identical models -- one without class imbalance weighting and one with class imbalance weighting -- to illustrate how drift signals in the minority class are easier to detect once properly amplified by Fiddler's unique class weighting approach.\n",
    "\n",
    "1. Connect to Fiddler\n",
    "2. Upload a baseline dataset for a fraud detection use case\n",
    "3. Onboard two fraud models to Fiddler -- one with class weighting and one without\n",
    "4. Publish production events to both models with synthetic drift in the minority class\n",
    "5. Get Insights -- compare the two onboarding approaches in Fiddler"
   ]
  },
  {
   "cell_type": "markdown",
   "metadata": {
    "id": "wUZi_5s7wsGA"
   },
   "source": [
    "## 0. Imports"
   ]
  },
  {
   "cell_type": "code",
   "execution_count": null,
   "metadata": {
    "id": "Pg-BdRJ4w3LM"
   },
   "outputs": [],
   "source": [
    "!pip3 install -q fiddler-client;\n",
    "\n",
    "import numpy as np\n",
    "import pandas as pd\n",
    "import fiddler as fdl\n",
    "import sklearn\n",
    "import datetime\n",
    "\n",
    "print(f\"Running client version {fdl.__version__}\")\n",
    "\n",
    "RANDOM_STATE = 42"
   ]
  },
  {
   "cell_type": "markdown",
   "metadata": {
    "id": "hcP0yWfV1GoZ"
   },
   "source": [
    "## 1. Connect to Fiddler"
   ]
  },
  {
   "cell_type": "code",
   "execution_count": null,
   "metadata": {
    "id": "05hPBZHr1eBv"
   },
   "outputs": [],
   "source": [
    "URL = ''\n",
    "ORG_ID = ''\n",
    "AUTH_TOKEN = ''\n",
    "\n",
    "PROJECT_ID = 'imbalance_credit_card_fraud'\n",
    "MODEL_ID = 'imbalance_cc_fraud'\n",
    "DATASET_ID = 'imbalance_cc_fraud_baseline'\n",
    "\n",
    "client = fdl.FiddlerApi(\n",
    "    url=URL,\n",
    "    org_id=ORG_ID,\n",
    "    auth_token=AUTH_TOKEN\n",
    ")"
   ]
  },
  {
   "cell_type": "code",
   "execution_count": null,
   "metadata": {},
   "outputs": [],
   "source": [
    "# Create a new project within Fiddler\n",
    "client.create_project(PROJECT_ID)"
   ]
  },
  {
   "cell_type": "markdown",
   "metadata": {
    "id": "V3V2EhIdwA_Q"
   },
   "source": [
    "## 2. Upload a baseline dataset for a fraud detection use case\n"
   ]
  },
  {
   "cell_type": "code",
   "execution_count": null,
   "metadata": {
    "id": "TFVJcU8uCY7z"
   },
   "outputs": [],
   "source": [
    "PATH_TO_BASELINE_CSV = 'https://raw.githubusercontent.com/fiddler-labs/fiddler-examples/main/quickstart/data/imbalance_baseline_data_sample.csv'\n",
    "\n",
    "baseline_df = pd.read_csv(PATH_TO_BASELINE_CSV)\n",
    "baseline_df.head()"
   ]
  },
  {
   "cell_type": "code",
   "execution_count": null,
   "metadata": {},
   "outputs": [],
   "source": [
    "baseline_df['Class'].value_counts()\n",
    "print('Percentage of minority class: {}%'.format(round(baseline_df['Class'].value_counts()[1]*100/baseline_df.shape[0], 4)))"
   ]
  },
  {
   "cell_type": "code",
   "execution_count": null,
   "metadata": {
    "id": "TI_x9-T93G-v"
   },
   "outputs": [],
   "source": [
    "dataset_info = fdl.DatasetInfo.from_dataframe(baseline_df, max_inferred_cardinality=100)\n",
    "dataset_info"
   ]
  },
  {
   "cell_type": "code",
   "execution_count": null,
   "metadata": {
    "id": "Nk0Bpus92oJK"
   },
   "outputs": [],
   "source": [
    "client.upload_dataset(\n",
    "    project_id=PROJECT_ID,\n",
    "    dataset_id=DATASET_ID,\n",
    "    dataset={\n",
    "        'baseline': baseline_df\n",
    "    },\n",
    "    info=dataset_info\n",
    ")"
   ]
  },
  {
   "cell_type": "markdown",
   "metadata": {
    "id": "IK3sL73_4FxO"
   },
   "source": [
    "## 3. Onboard two fraud models to Fiddler -- one with class weighting and one without"
   ]
  },
  {
   "cell_type": "markdown",
   "metadata": {},
   "source": [
    "Now, we will add two models: \n",
    "1. With class weight parameters\n",
    "2. Without class weight parameters"
   ]
  },
  {
   "cell_type": "code",
   "execution_count": null,
   "metadata": {},
   "outputs": [],
   "source": [
    "CLASS_WEIGHT = sklearn.utils.class_weight.compute_class_weight(class_weight='balanced', classes=np.unique(baseline_df['Class']), y=baseline_df['Class']).tolist()\n",
    "print(f'Computed class-weights: {CLASS_WEIGHT}')\n",
    "\n",
    "BINARY_THRESHOLD = 0.4\n",
    "TARGET_COL = 'Class'\n",
    "OUTPUT_COL = 'prediction_score'"
   ]
  },
  {
   "cell_type": "markdown",
   "metadata": {},
   "source": [
    "Below, we first create a `ModelInfo` object and then onboard (add) the two models to Fiddler -- the first model onboarded with weights defined, the second without weights defined."
   ]
  },
  {
   "cell_type": "code",
   "execution_count": null,
   "metadata": {},
   "outputs": [],
   "source": [
    "for mid in [MODEL_ID + '_weighted', MODEL_ID]:\n",
    "    \n",
    "    if 'weighted' in mid:\n",
    "        weighting_params = fdl.WeightingParams(class_weight=CLASS_WEIGHT)\n",
    "        print(f'Onboard surrogate model with weighting parameters.')\n",
    "    else:\n",
    "        weighting_params = None\n",
    "        print(f'Onboard surrogate model without weighting parameters.')\n",
    "    \n",
    "    target_col = TARGET_COL\n",
    "    output_col = OUTPUT_COL\n",
    "    inp_features = set(baseline_df.columns) - set([target_col, output_col])\n",
    "    \n",
    "    # Create ModelInfo object\n",
    "    model_info = fdl.ModelInfo.from_dataset_info(\n",
    "        dataset_info=dataset_info,\n",
    "        target=target_col,\n",
    "        dataset_id= DATASET_ID,\n",
    "        features=inp_features,\n",
    "        display_name='Fraud model',\n",
    "        description='Fraud model with predictions in baseline',\n",
    "        input_type=fdl.core_objects.ModelInputType.TABULAR,\n",
    "        model_task=fdl.core_objects.ModelTask.BINARY_CLASSIFICATION,\n",
    "        outputs=output_col,\n",
    "        weighting_params=weighting_params,\n",
    "        binary_classification_threshold=BINARY_THRESHOLD,\n",
    "        categorical_target_class_details=[0, 1],\n",
    "    )\n",
    "    \n",
    "    # Add Model and create surrogate model\n",
    "    if mid not in client.list_models(project_id=PROJECT_ID):\n",
    "        client.add_model(project_id=PROJECT_ID, model_id=mid, dataset_id=DATASET_ID, model_info=model_info)\n",
    "        client.add_model_surrogate(project_id=PROJECT_ID, model_id=mid)\n",
    "    else:\n",
    "        print(f'Model: {mid} already exists in Project: {PROJECT_ID}')"
   ]
  },
  {
   "cell_type": "markdown",
   "metadata": {
    "id": "GZNJ5NNm5vnA"
   },
   "source": [
    "## 4. Publish production events to both models with synthetic drift in the minority class"
   ]
  },
  {
   "cell_type": "code",
   "execution_count": null,
   "metadata": {
    "id": "1dmA8PP7GTdJ"
   },
   "outputs": [],
   "source": [
    "PATH_TO_EVENTS_CSV = 'https://raw.githubusercontent.com/fiddler-labs/fiddler-examples/main/quickstart/data/imbalance_production_data.csv'\n",
    "\n",
    "production_df = pd.read_csv(PATH_TO_EVENTS_CSV)\n",
    "\n",
    "# Shift the timestamps of the production events to be as recent as today \n",
    "production_df['timestamp'] = pd.to_datetime(production_df['timestamp'],format='%Y-%m-%d %H:%M:%S')\n",
    "production_df['timestamp'] = production_df['timestamp'] + (pd.to_datetime(datetime.date.today()) - (production_df['timestamp'].max()))\n",
    "\n",
    "production_df.head()"
   ]
  },
  {
   "cell_type": "code",
   "execution_count": null,
   "metadata": {},
   "outputs": [],
   "source": [
    "print('Percentage of minority class: {}%'.format(round(production_df['Class'].value_counts()[1]*100/production_df.shape[0], 4)))"
   ]
  },
  {
   "cell_type": "markdown",
   "metadata": {},
   "source": [
    "We see that the percentage of minority class in production data is > 3 times than that of baseline data. This should create a big drift in the predictions.\n",
    "\n",
    "We will now publish the same production/event data for both of the models -- the one with class weights and the one without class weights."
   ]
  },
  {
   "cell_type": "code",
   "execution_count": null,
   "metadata": {},
   "outputs": [],
   "source": [
    "for mid in [MODEL_ID + '_weighted', MODEL_ID]:\n",
    "    t0 = time.time()\n",
    "    print('Publishing events for Model ID: {}'.format(mid))\n",
    "    client.publish_events_batch(\n",
    "        project_id=PROJECT_ID,\n",
    "        model_id=mid,\n",
    "        batch_source=production_df,\n",
    "        timestamp_field='timestamp'\n",
    "    )\n",
    "    t1 = time.time()\n",
    "    dt = t1-t0\n",
    "    print(f'Time required: {dt} secs for {len(production_df)} events. [{len(production_df)/dt} events/sec]')"
   ]
  },
  {
   "cell_type": "markdown",
   "metadata": {
    "id": "vR6IR8YNHgG1"
   },
   "source": [
    "## 5. Get Insights -- compare the two onboarding approaches in Fiddler\n",
    "\n",
    "**You're all done!**\n",
    "\n",
    "Run the following code block to get your URL."
   ]
  },
  {
   "cell_type": "code",
   "execution_count": null,
   "metadata": {
    "id": "VPjFE5USNsrF"
   },
   "outputs": [],
   "source": [
    "print('/'.join([URL, 'projects', PROJECT_ID, 'models', MODEL_ID, 'monitor']))"
   ]
  },
  {
   "cell_type": "markdown",
   "metadata": {
    "id": "-DZMVHAEBzC_"
   },
   "source": [
    "*Please allow 3-5 minutes for monitoring data to populate the charts.*"
   ]
  },
  {
   "cell_type": "markdown",
   "metadata": {},
   "source": [
    "In the Fiddler UI, we can the model without the class weights defined the output/prediction drift in the minority class is very hard to detect (`<=0.05`) because it is trumped byt the overwhelming volume of events in the majority class.\n",
    "\n",
    "<table>\n",
    "    <tr>\n",
    "        <td>\n",
    "            <img src=\"https://github.com/fiddler-labs/fiddler-examples/raw/main/quickstart/images/unweighted_drift.png\" />\n",
    "        </td>\n",
    "    </tr>\n",
    "</table>"
   ]
  },
  {
   "cell_type": "markdown",
   "metadata": {},
   "source": [
    "whereas, if we declare class weights then we see a higher drift which is more correct respresentation if the production data where the ratio of minority is class is 3x.\n",
    "\n",
    "<table>\n",
    "    <tr>\n",
    "        <td>\n",
    "            <img src=\"https://github.com/fiddler-labs/fiddler-examples/raw/main/quickstart/images/weighted_drift.png\" />\n",
    "        </td>\n",
    "    </tr>\n",
    "</table>"
   ]
  },
  {
   "cell_type": "markdown",
   "metadata": {
    "id": "Jdkj1eHgOTAO"
   },
   "source": [
    "\n",
    "\n",
    "---\n",
    "\n",
    "\n",
    "**Questions?**  \n",
    "  \n",
    "Check out [our docs](https://docs.fiddler.ai/) for a more detailed explanation of what Fiddler has to offer.\n",
    "\n",
    "If you're still looking for answers, fill out a ticket on [our support page](https://fiddlerlabs.zendesk.com/) and we'll get back to you shortly."
   ]
  }
 ],
 "metadata": {
  "colab": {
   "collapsed_sections": [],
   "name": "Fiddler_Quick_Start_DIY.ipynb",
   "provenance": []
  },
  "kernelspec": {
   "display_name": "Python 3",
   "language": "python",
   "name": "python3"
  },
  "language_info": {
   "codemirror_mode": {
    "name": "ipython",
    "version": 3
   },
   "file_extension": ".py",
   "mimetype": "text/x-python",
   "name": "python",
   "nbconvert_exporter": "python",
   "pygments_lexer": "ipython3",
   "version": "3.8.8"
  }
 },
 "nbformat": 4,
 "nbformat_minor": 4
}
