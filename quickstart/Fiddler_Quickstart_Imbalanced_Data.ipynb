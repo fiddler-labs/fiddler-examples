{
 "cells": [
  {
   "cell_type": "markdown",
   "metadata": {
    "id": "KxxiKou3wZTw",
    "tags": []
   },
   "source": [
    "# Fiddler working notebook for Churn usecase\n",
    "\n",
    "\n",
    "\n",
    "1. Connect to Fiddler\n",
    "2. Upload a baseline dataset\n",
    "3. Add your model with Fiddler and create a surrogate model\n",
    "4. Publish production events\n",
    "5. Run prediction and explanation on a sample data point"
   ]
  },
  {
   "cell_type": "markdown",
   "metadata": {
    "id": "wUZi_5s7wsGA"
   },
   "source": [
    "## 0. Imports"
   ]
  },
  {
   "cell_type": "code",
   "execution_count": null,
   "metadata": {
    "id": "Pg-BdRJ4w3LM"
   },
   "outputs": [],
   "source": [
    "!pip3 install -q fiddler-client;\n",
    "\n",
    "import numpy as np\n",
    "import pandas as pd\n",
    "import fiddler as fdl\n",
    "import sklearn\n",
    "import time\n",
    "\n",
    "print(f\"Running client version {fdl.__version__}\")"
   ]
  },
  {
   "cell_type": "code",
   "execution_count": null,
   "metadata": {},
   "outputs": [],
   "source": [
    "RANDOM_STATE = 42"
   ]
  },
  {
   "cell_type": "markdown",
   "metadata": {
    "id": "hcP0yWfV1GoZ"
   },
   "source": [
    "## 1. Connect to Fiddler"
   ]
  },
  {
   "cell_type": "code",
   "execution_count": null,
   "metadata": {
    "id": "05hPBZHr1eBv"
   },
   "outputs": [],
   "source": [
    "URL = ''\n",
    "AUTH_TOKEN = ''\n",
    "ORG_ID = ''\n",
    "\n",
    "client = fdl.FiddlerApi(\n",
    "    url=URL,\n",
    "    org_id=ORG_ID,\n",
    "    auth_token=AUTH_TOKEN\n",
    ")"
   ]
  },
  {
   "cell_type": "code",
   "execution_count": null,
   "metadata": {
    "id": "vh46Mp1MBSMj"
   },
   "outputs": [],
   "source": [
    "PROJECT_ID = 'imbalance_credit_card_fraud'"
   ]
  },
  {
   "cell_type": "code",
   "execution_count": null,
   "metadata": {},
   "outputs": [],
   "source": [
    "MODEL_ID = 'imbalance_cc_fraud'\n",
    "DATASET_ID = 'imbalance_cc_fraud_baseline'"
   ]
  },
  {
   "cell_type": "code",
   "execution_count": null,
   "metadata": {},
   "outputs": [],
   "source": [
    "client.create_project(PROJECT_ID)"
   ]
  },
  {
   "cell_type": "markdown",
   "metadata": {
    "id": "V3V2EhIdwA_Q"
   },
   "source": [
    "## 2. Upload a baseline dataset\n"
   ]
  },
  {
   "cell_type": "code",
   "execution_count": null,
   "metadata": {
    "id": "TFVJcU8uCY7z"
   },
   "outputs": [],
   "source": [
    "PATH_TO_BASELINE_CSV = 'https://raw.githubusercontent.com/fiddler-labs/fiddler-examples/main/quickstart/data/imbalance_baseline_data_sample.csv'\n",
    "\n",
    "baseline_df = pd.read_csv(PATH_TO_BASELINE_CSV)\n",
    "baseline_df.head()"
   ]
  },
  {
   "cell_type": "code",
   "execution_count": null,
   "metadata": {},
   "outputs": [],
   "source": [
    "baseline_df['Class'].value_counts()"
   ]
  },
  {
   "cell_type": "code",
   "execution_count": null,
   "metadata": {},
   "outputs": [],
   "source": [
    "print('Percentage of minority class: {}%'.format(round(baseline_df['Class'].value_counts()[1]*100/baseline_df.shape[0], 4)))\n"
   ]
  },
  {
   "cell_type": "code",
   "execution_count": null,
   "metadata": {
    "id": "TI_x9-T93G-v"
   },
   "outputs": [],
   "source": [
    "dataset_info = fdl.DatasetInfo.from_dataframe(baseline_df, max_inferred_cardinality=100)\n",
    "dataset_info"
   ]
  },
  {
   "cell_type": "code",
   "execution_count": null,
   "metadata": {
    "id": "Nk0Bpus92oJK"
   },
   "outputs": [],
   "source": [
    "client.upload_dataset(\n",
    "    project_id=PROJECT_ID,\n",
    "    dataset_id=DATASET_ID,\n",
    "    dataset={\n",
    "        'baseline': baseline_df\n",
    "    },\n",
    "    info=dataset_info\n",
    ")"
   ]
  },
  {
   "cell_type": "markdown",
   "metadata": {
    "id": "IK3sL73_4FxO"
   },
   "source": [
    "## 3. Add your model and create a surrogate model\n"
   ]
  },
  {
   "cell_type": "code",
   "execution_count": null,
   "metadata": {},
   "outputs": [],
   "source": [
    "CLASS_WEIGHT = sklearn.utils.class_weight.compute_class_weight(class_weight='balanced', classes=np.unique(baseline_df['Class']), y=baseline_df['Class']).tolist()\n",
    "print(f'Computed class-weights: {CLASS_WEIGHT}')"
   ]
  },
  {
   "cell_type": "markdown",
   "metadata": {},
   "source": [
    "Now, we will add two models - \n",
    "1. With class weight parameters\n",
    "2. Without class weight parameters"
   ]
  },
  {
   "cell_type": "code",
   "execution_count": null,
   "metadata": {},
   "outputs": [],
   "source": [
    "BINARY_THRESHOLD = 0.4\n",
    "TARGET_COL = 'Class'\n",
    "OUTPUT_COL = 'prediction_score'"
   ]
  },
  {
   "cell_type": "markdown",
   "metadata": {},
   "source": [
    "Below, we first create a `ModelInfo` object and then add the two models."
   ]
  },
  {
   "cell_type": "code",
   "execution_count": null,
   "metadata": {},
   "outputs": [],
   "source": [
    "for mid in [MODEL_ID + '_weighted', MODEL_ID]:\n",
    "    if 'weighted' in mid:\n",
    "        weighting_params = fdl.core_objects.WeightingParams(class_weight=CLASS_WEIGHT)\n",
    "        print(f'Add surrogate model with weighting parameters.')\n",
    "    else:\n",
    "        weighting_params = None\n",
    "        print(f'Add surrogate model without weighting parameters.')\n",
    "    target_col = TARGET_COL\n",
    "    output_col = OUTPUT_COL\n",
    "    inp_features = set(baseline_df.columns) - set([target_col, output_col])\n",
    "    \n",
    "    # Create ModelInfo object\n",
    "    model_info = fdl.ModelInfo.from_dataset_info(\n",
    "        dataset_info=dataset_info,\n",
    "        target=target_col,\n",
    "        dataset_id= DATASET_ID,\n",
    "        features=inp_features,\n",
    "        display_name='Fraud model',\n",
    "        description='Fraud model with predictions in baseline',\n",
    "        input_type=fdl.core_objects.ModelInputType.TABULAR,\n",
    "        model_task=fdl.core_objects.ModelTask.BINARY_CLASSIFICATION,\n",
    "        outputs=output_col,\n",
    "        weighting_params=weighting_params,\n",
    "        binary_classification_threshold=BINARY_THRESHOLD,\n",
    "        categorical_target_class_details=[0, 1],\n",
    "\n",
    "    )\n",
    "    \n",
    "    # Add Model and create surrogate model\n",
    "    if mid not in client.list_models(project_id=PROJECT_ID):\n",
    "        client.add_model(project_id=PROJECT_ID, model_id=mid, dataset_id=DATASET_ID, model_info=model_info)\n",
    "        client.add_model_surrogate(project_id=PROJECT_ID, model_id=mid)\n",
    "    else:\n",
    "        print(f'Model: {mid} already exists in Project: {PROJECT_ID}')\n",
    "\n"
   ]
  },
  {
   "cell_type": "markdown",
   "metadata": {
    "id": "GZNJ5NNm5vnA"
   },
   "source": [
    "## 4. Publish production events"
   ]
  },
  {
   "cell_type": "code",
   "execution_count": null,
   "metadata": {
    "id": "1dmA8PP7GTdJ"
   },
   "outputs": [],
   "source": [
    "PATH_TO_EVENTS_CSV = 'https://raw.githubusercontent.com/fiddler-labs/fiddler-examples/main/quickstart/data/imbalance_production_data.csv'\n",
    "\n",
    "production_df = pd.read_csv(PATH_TO_EVENTS_CSV)\n",
    "production_df.head()"
   ]
  },
  {
   "cell_type": "code",
   "execution_count": null,
   "metadata": {},
   "outputs": [],
   "source": [
    "print('Percentage of minority class: {}%'.format(round(production_df['Class'].value_counts()[1]*100/production_df.shape[0], 4)))\n"
   ]
  },
  {
   "cell_type": "markdown",
   "metadata": {},
   "source": [
    "We see that the percentage of minority class in production data is > 3 times than that of baseline data. This should create a big drift in the predictions\n",
    "\n",
    "We will now publish the same production data for both the model, i.e. with class weights and without class weights"
   ]
  },
  {
   "cell_type": "code",
   "execution_count": null,
   "metadata": {},
   "outputs": [],
   "source": [
    "for mid in [MODEL_ID + '_weighted', MODEL_ID]:\n",
    "    t0 = time.time()\n",
    "    print('Publishing events for Model ID: {}'.format(mid))\n",
    "    client.publish_events_batch(\n",
    "        project_id=PROJECT_ID,\n",
    "        model_id=mid,\n",
    "        batch_source=production_df,\n",
    "        timestamp_field='timestamp'\n",
    "    )\n",
    "    t1 = time.time()\n",
    "    dt = t1-t0\n",
    "    print(f'Time required: {dt} secs for {len(production_df)} events. [{len(production_df)/dt} events/sec]')"
   ]
  },
  {
   "cell_type": "markdown",
   "metadata": {
    "id": "vR6IR8YNHgG1"
   },
   "source": [
    "## 5. Get insights\n",
    "\n",
    "**You're all done!**\n",
    "\n",
    "Run the following code block to get your URL."
   ]
  },
  {
   "cell_type": "code",
   "execution_count": null,
   "metadata": {
    "id": "VPjFE5USNsrF"
   },
   "outputs": [],
   "source": [
    "print('/'.join([URL, 'projects', PROJECT_ID, 'models', MODEL_ID, 'monitor']))"
   ]
  },
  {
   "cell_type": "markdown",
   "metadata": {
    "id": "-DZMVHAEBzC_"
   },
   "source": [
    "*Please allow 3-5 minutes for monitoring data to populate the charts.*"
   ]
  },
  {
   "cell_type": "markdown",
   "metadata": {},
   "source": [
    "## 6. Monitoring Output"
   ]
  },
  {
   "cell_type": "markdown",
   "metadata": {},
   "source": [
    "We see if we do not declare class weights the drift is low (`<=0.05`)\n",
    "\n",
    "<table>\n",
    "    <tr>\n",
    "        <td>\n",
    "            <img src=\"https://github.com/fiddler-labs/fiddler-examples/raw/main/quickstart/images/unweighted_drift.png\" />\n",
    "        </td>\n",
    "    </tr>\n",
    "</table>"
   ]
  },
  {
   "cell_type": "markdown",
   "metadata": {},
   "source": [
    "whereas, if we declare class weights then we see a higher drift which is more correct respresentation if the production data where the ratio of minority is class is 3x\n",
    "\n",
    "<table>\n",
    "    <tr>\n",
    "        <td>\n",
    "            <img src=\"https://github.com/fiddler-labs/fiddler-examples/raw/main/quickstart/images/weighted_drift.png\" />\n",
    "        </td>\n",
    "    </tr>\n",
    "</table>"
   ]
  },
  {
   "cell_type": "markdown",
   "metadata": {
    "id": "Jdkj1eHgOTAO"
   },
   "source": [
    "\n",
    "\n",
    "---\n",
    "\n",
    "\n",
    "**Questions?**  \n",
    "  \n",
    "Check out [our docs](https://docs.fiddler.ai/) for a more detailed explanation of what Fiddler has to offer.\n",
    "\n",
    "If you're still looking for answers, fill out a ticket on [our support page](https://fiddlerlabs.zendesk.com/) and we'll get back to you shortly."
   ]
  }
 ],
 "metadata": {
  "colab": {
   "collapsed_sections": [],
   "name": "Fiddler_Quick_Start_DIY.ipynb",
   "provenance": []
  },
  "kernelspec": {
   "display_name": "Python 3",
   "language": "python",
   "name": "python3"
  },
  "language_info": {
   "codemirror_mode": {
    "name": "ipython",
    "version": 3
   },
   "file_extension": ".py",
   "mimetype": "text/x-python",
   "name": "python",
   "nbconvert_exporter": "python",
   "pygments_lexer": "ipython3",
   "version": "3.8.8"
  }
 },
 "nbformat": 4,
 "nbformat_minor": 4
}
