{
 "cells": [
  {
   "cell_type": "markdown",
   "metadata": {
    "id": "sF3cOBoVx9Ji"
   },
   "source": [
    "# Fiddler Simple Monitoring Quick Start Guide\n",
    "\n",
    "Fiddler is the pioneer in enterprise Model Performance Management (MPM), offering a unified platform that enables Data Science, MLOps, Risk, Compliance, Analytics, and LOB teams to **monitor, explain, analyze, and improve ML deployments at enterprise scale**. \n",
    "Obtain contextual insights at any stage of the ML lifecycle, improve predictions, increase transparency and fairness, and optimize business revenue.\n",
    "\n",
    "---\n",
    "\n",
    "You can start using Fiddler ***in minutes*** by following these 7 quick steps:\n",
    "\n",
    "1. Imports\n",
    "2. Connect to Fiddler\n",
    "3. Upload a baseline dataset\n",
    "4. Add metadata about your model with Fiddler\n",
    "5. Set up Alerts and Notifications (Optional)\n",
    "6. Publish production events\n",
    "7. Get insights\n",
    "\n",
    "**Don't have a Fiddler account? [Sign-up for a 14-day free trial](https://www.fiddler.ai/trial?utm_source=fiddler_docs&utm_medium=referral).**"
   ]
  },
  {
   "cell_type": "markdown",
   "metadata": {
    "id": "wUZi_5s7wsGA"
   },
   "source": [
    "## 1. Imports"
   ]
  },
  {
   "cell_type": "code",
   "execution_count": null,
   "metadata": {
    "id": "Pg-BdRJ4w3LM"
   },
   "outputs": [],
   "source": [
    "!pip install -q fiddler-client;\n",
    "\n",
    "import numpy as np\n",
    "import pandas as pd\n",
    "import time as time\n",
    "import fiddler as fdl\n",
    "\n",
    "print(f\"Running client version {fdl.__version__}\")"
   ]
  },
  {
   "cell_type": "markdown",
   "metadata": {
    "id": "hcP0yWfV1GoZ"
   },
   "source": [
    "## 2. Connect to Fiddler\n",
    "\n",
    "Before you can add information about your model with Fiddler, you'll need to connect using our API client.\n",
    "\n",
    "\n",
    "---\n",
    "\n",
    "\n",
    "**We need a few pieces of information to get started.**\n",
    "1. The URL you're using to connect to Fiddler"
   ]
  },
  {
   "cell_type": "code",
   "execution_count": null,
   "metadata": {
    "id": "05hPBZHr1eBv"
   },
   "outputs": [],
   "source": [
    "URL = '' # Make sure to include the full URL (including https://). For example, https://abc.xyz.ai"
   ]
  },
  {
   "cell_type": "markdown",
   "metadata": {
    "id": "c2B7cgPa2Ajo"
   },
   "source": [
    "2. Your organization ID\n",
    "3. Your authorization token\n",
    "\n",
    "Both of these can be found by clicking the URL you entered and navigating to the **Settings** page.\n",
    "\n",
    "<table>\n",
    "    <tr>\n",
    "        <td><img src=\"https://raw.githubusercontent.com/fiddler-labs/fiddler-samples/master/content_root/tutorial/quickstart/images/1.png\" /></td>\n",
    "        <td><img src=\"https://raw.githubusercontent.com/fiddler-labs/fiddler-samples/master/content_root/tutorial/quickstart/images/2.png\" /></td>\n",
    "    </tr>\n",
    "    <tr>\n",
    "        <td><img src=\"https://raw.githubusercontent.com/fiddler-labs/fiddler-samples/master/content_root/tutorial/quickstart/images/3.png\" /></td>\n",
    "        <td><img src=\"https://raw.githubusercontent.com/fiddler-labs/fiddler-samples/master/content_root/tutorial/quickstart/images/4.png\" /></td>\n",
    "    </tr>\n",
    "</table>"
   ]
  },
  {
   "cell_type": "code",
   "execution_count": null,
   "metadata": {
    "id": "CWErNsofAz6B"
   },
   "outputs": [],
   "source": [
    "ORG_ID = ''\n",
    "AUTH_TOKEN = ''"
   ]
  },
  {
   "cell_type": "markdown",
   "metadata": {
    "id": "4EttApX9BBIn"
   },
   "source": [
    "Now just run the following code block to connect to the Fiddler API!"
   ]
  },
  {
   "cell_type": "code",
   "execution_count": null,
   "metadata": {
    "id": "g6ONUHliBAsH"
   },
   "outputs": [],
   "source": [
    "client = fdl.FiddlerApi(url=URL, org_id=ORG_ID, auth_token=AUTH_TOKEN)"
   ]
  },
  {
   "cell_type": "markdown",
   "metadata": {
    "id": "QpUHeE3dBTHD"
   },
   "source": [
    "Once you connect, you can create a new project by specifying a unique project ID in the client's `create_project` function."
   ]
  },
  {
   "cell_type": "code",
   "execution_count": null,
   "metadata": {
    "id": "vh46Mp1MBSMj"
   },
   "outputs": [],
   "source": [
    "PROJECT_ID = 'quickstart_example'\n",
    "\n",
    "client.create_project(PROJECT_ID)"
   ]
  },
  {
   "cell_type": "markdown",
   "metadata": {
    "id": "tlp8zEvlqO8I"
   },
   "source": [
    "You should now be able to see the newly created project on the UI.\n",
    "\n",
    "<table>\n",
    "    <tr>\n",
    "        <td>\n",
    "            <img src=\"https://raw.githubusercontent.com/fiddler-labs/fiddler-samples/master/content_root/tutorial/quickstart/images/5.png\" />\n",
    "        </td>\n",
    "    </tr>\n",
    "</table>"
   ]
  },
  {
   "cell_type": "markdown",
   "metadata": {
    "id": "V3V2EhIdwA_Q"
   },
   "source": [
    "## 3. Upload a baseline dataset\n",
    "\n",
    "In this example, we'll be considering the case where we're a bank and we have **a model that predicts churn for our customers**.  \n",
    "We want to know when our model's predictions start to drift—that is, **when churn starts to increase** within our customer base.\n",
    "  \n",
    "In order to get insights into the model's performance, **Fiddler needs a small  sample of data that can serve as a baseline** for making comparisons with data in production.\n",
    "\n",
    "\n",
    "---\n",
    "\n",
    "\n",
    "*For more information on how to design a baseline dataset, [click here](https://docs.fiddler.ai/docs/designing-a-baseline-dataset).*"
   ]
  },
  {
   "cell_type": "code",
   "execution_count": null,
   "metadata": {
    "id": "TFVJcU8uCY7z"
   },
   "outputs": [],
   "source": [
    "PATH_TO_BASELINE_CSV = 'https://raw.githubusercontent.com/fiddler-labs/fiddler-samples/master/content_root/tutorial/quickstart/churn_baseline.csv'\n",
    "\n",
    "baseline_df = pd.read_csv(PATH_TO_BASELINE_CSV)\n",
    "baseline_df"
   ]
  },
  {
   "cell_type": "markdown",
   "metadata": {
    "id": "niKle55HCgIj"
   },
   "source": [
    "Fiddler uses this baseline dataset to keep track of important information about your data.\n",
    "  \n",
    "This includes **data types**, **data ranges**, and **unique values** for categorical variables.\n",
    "\n",
    "---\n",
    "\n",
    "You can construct a `DatasetInfo` object to be used as **a schema for keeping track of this information** by running the following code block."
   ]
  },
  {
   "cell_type": "code",
   "execution_count": null,
   "metadata": {
    "id": "TI_x9-T93G-v"
   },
   "outputs": [],
   "source": [
    "dataset_info = fdl.DatasetInfo.from_dataframe(baseline_df, max_inferred_cardinality=100)\n",
    "dataset_info"
   ]
  },
  {
   "cell_type": "markdown",
   "metadata": {
    "id": "32YjZcpTDwKU"
   },
   "source": [
    "Then use the client's [upload_dataset](https://docs.fiddler.ai/reference/clientupload_dataset) function to send this information to Fiddler!\n",
    "  \n",
    "*Just include:*\n",
    "1. A unique dataset ID\n",
    "2. The baseline dataset as a pandas DataFrame\n",
    "3. The [DatasetInfo](https://docs.fiddler.ai/reference/fdldatasetinfo) object you just created"
   ]
  },
  {
   "cell_type": "code",
   "execution_count": null,
   "metadata": {
    "id": "Nk0Bpus92oJK"
   },
   "outputs": [],
   "source": [
    "DATASET_ID = 'churn_data'\n",
    "\n",
    "client.upload_dataset(\n",
    "    project_id=PROJECT_ID,\n",
    "    dataset_id=DATASET_ID,\n",
    "    dataset={\n",
    "        'baseline': baseline_df\n",
    "    },\n",
    "    info=dataset_info\n",
    ")"
   ]
  },
  {
   "cell_type": "markdown",
   "metadata": {
    "id": "D9Phfp9Yu7bA"
   },
   "source": [
    "If you click on your project, you should now be able to see the newly created dataset on the UI.\n",
    "\n",
    "<table>\n",
    "    <tr>\n",
    "        <td>\n",
    "            <img src=\"https://raw.githubusercontent.com/fiddler-labs/fiddler-samples/master/content_root/tutorial/quickstart/images/6.png\" />\n",
    "        </td>\n",
    "    </tr>\n",
    "</table>"
   ]
  },
  {
   "cell_type": "markdown",
   "metadata": {
    "id": "IK3sL73_4FxO"
   },
   "source": [
    "## 4. Add metadata about your model\n",
    "\n",
    "Now it's time to add your model with Fiddler.  We do this by defining a [ModelInfo](https://docs.fiddler.ai/reference/fdlmodelinfo) object.\n",
    "\n",
    "\n",
    "---\n",
    "\n",
    "\n",
    "The [ModelInfo](https://docs.fiddler.ai/reference/fdlmodelinfo) object will contain some **information about how your model operates**.\n",
    "  \n",
    "*Just include:*\n",
    "1. The **task** your model is performing (regression, binary classification, etc.)\n",
    "2. The **target** (ground truth) column\n",
    "3. The **output** (prediction) column\n",
    "4. The **feature** columns\n",
    "5. Any **metadata** columns\n",
    "6. Any **decision** columns (these measures the direct business decisions made as result of the model's prediction)\n"
   ]
  },
  {
   "cell_type": "code",
   "execution_count": null,
   "metadata": {
    "id": "kpKz2dDK4ZiV"
   },
   "outputs": [],
   "source": [
    "# Specify task\n",
    "model_task = 'binary'\n",
    "\n",
    "if model_task == 'regression':\n",
    "    model_task = fdl.ModelTask.REGRESSION\n",
    "    \n",
    "elif model_task == 'binary':\n",
    "    model_task = fdl.ModelTask.BINARY_CLASSIFICATION\n",
    "\n",
    "elif model_task == 'multiclass':\n",
    "    model_task = fdl.ModelTask.MULTICLASS_CLASSIFICATION\n",
    "    \n",
    "elif model_task == 'ranking':\n",
    "    model_task = fdl.ModelTask.RANKING\n",
    "\n",
    "    \n",
    "# Specify column types\n",
    "features = ['geography', 'gender', 'age', 'tenure', 'balance', 'numofproducts', 'hascrcard', 'isactivemember', 'estimatedsalary']\n",
    "outputs = ['predicted_churn']\n",
    "target = 'churn'\n",
    "decision_cols = ['decision']\n",
    "metadata_cols = ['customer_id']\n",
    "    \n",
    "# Generate ModelInfo\n",
    "model_info = fdl.ModelInfo.from_dataset_info(\n",
    "    dataset_info=dataset_info,\n",
    "    dataset_id=DATASET_ID,\n",
    "    model_task=model_task,\n",
    "    features=features,\n",
    "    outputs=outputs,\n",
    "    target=target,\n",
    "    decision_cols=decision_cols, # Optional\n",
    "    metadata_cols=metadata_cols, # Optional\n",
    "    binary_classification_threshold=0.5 # Optional\n",
    ")\n",
    "model_info"
   ]
  },
  {
   "cell_type": "markdown",
   "metadata": {
    "id": "azE_UU6HE6vW"
   },
   "source": [
    "Almost done! Now just specify a unique model ID and use the client's [add_model](https://docs.fiddler.ai/reference/clientadd_model) function to send this information to Fiddler."
   ]
  },
  {
   "cell_type": "code",
   "execution_count": null,
   "metadata": {
    "id": "HMDG9vei24pw"
   },
   "outputs": [],
   "source": [
    "MODEL_ID = 'churn_classifier'\n",
    "\n",
    "client.add_model(\n",
    "    project_id=PROJECT_ID,\n",
    "    dataset_id=DATASET_ID,\n",
    "    model_id=MODEL_ID,\n",
    "    model_info=model_info,\n",
    ")"
   ]
  },
  {
   "cell_type": "markdown",
   "metadata": {
    "id": "0GmqFXTYwRg6"
   },
   "source": [
    "On the project page, you should now be able to see the newly created model.\n",
    "\n",
    "<table>\n",
    "    <tr>\n",
    "        <td>\n",
    "            <img src=\"https://raw.githubusercontent.com/fiddler-labs/fiddler-samples/master/content_root/tutorial/quickstart/images/7.png\" />\n",
    "        </td>\n",
    "    </tr>\n",
    "</table>"
   ]
  },
  {
   "cell_type": "markdown",
   "metadata": {
    "id": "R-hj33B10Ssw"
   },
   "source": [
    "## 5. Set up Alerts and Notifications (Optional)\n",
    "\n",
    "Fiddler Client API function [add_alert_rule](https://dash.readme.com/project/fiddler/v1.5/refs/clientadd_alert_rule) allow creating rules to receive email and pagerduty notifications when your data or model predictions deviates from it's expected behavior.\n",
    "\n",
    "The rules can of **Data Drift, Performance, Data Integrity,** and **Service Metrics** types and they can be compared to **absolute** or **relative** values.\n",
    "\n",
    "Please refer [our documentation](https://docs.fiddler.ai/docs/alerts) for more information on Alert Rules. \n",
    "\n",
    "---\n",
    "  \n",
    "Let's set up a few Alert Rules.\n",
    "\n",
    "The following API call sets up a Data Integrity type rule which triggers an email notification when published events have 5 or more null values in any 1 hour bin for the \"age\" column."
   ]
  },
  {
   "cell_type": "code",
   "execution_count": null,
   "metadata": {
    "id": "_M9F22O621Ec"
   },
   "outputs": [],
   "source": [
    "notifications_config = client.build_notifications_config(\n",
    "    emails = \"name@google.com\",\n",
    ")\n",
    "\n",
    "client.add_alert_rule(\n",
    "    name = \"age_missing_value_1_hr\",\n",
    "    project_id = PROJECT_ID,\n",
    "    model_id = MODEL_ID,\n",
    "    alert_type = fdl.AlertType.DATA_INTEGRITY,\n",
    "    metric = fdl.Metric.MISSING_VALUE,\n",
    "    bin_size = fdl.BinSize.ONE_HOUR, \n",
    "    compare_to = fdl.CompareTo.RAW_VALUE,\n",
    "    priority = fdl.Priority.HIGH,\n",
    "    warning_threshold = 5,\n",
    "    critical_threshold = 10,\n",
    "    condition = fdl.AlertCondition.GREATER,\n",
    "    column = \"age\",\n",
    "    notifications_config = notifications_config\n",
    ")"
   ]
  },
  {
   "cell_type": "markdown",
   "metadata": {
    "id": "xb1Zr4zj6sxN"
   },
   "source": [
    "The following API call sets up a Performance type rule which triggers an email notification when precision metric is 5% higher than that from 1 hr bin one day ago."
   ]
  },
  {
   "cell_type": "code",
   "execution_count": null,
   "metadata": {
    "id": "pRuBHbQy6u4M"
   },
   "outputs": [],
   "source": [
    "notifications_config = client.build_notifications_config(\n",
    "    emails = \"name@google.com\",\n",
    ")\n",
    "client.add_alert_rule(\n",
    "    name = \"perf_gt_5prec_1hr_1d_ago\",\n",
    "    project_id = PROJECT_ID,\n",
    "    model_id = MODEL_ID,\n",
    "    alert_type = fdl.AlertType.PERFORMANCE,\n",
    "    metric = fdl.Metric.PRECISION,\n",
    "    bin_size = fdl.BinSize.ONE_HOUR, \n",
    "    compare_to = fdl.CompareTo.TIME_PERIOD,\n",
    "    compare_period = fdl.ComparePeriod.ONE_DAY,\n",
    "    warning_threshold = 0.05,\n",
    "    critical_threshold = 0.1,\n",
    "    condition = fdl.AlertCondition.GREATER,\n",
    "    priority = fdl.Priority.HIGH,\n",
    "    notifications_config = notifications_config\n",
    ")"
   ]
  },
  {
   "cell_type": "markdown",
   "metadata": {
    "id": "GZNJ5NNm5vnA"
   },
   "source": [
    "## 6. Publish production events\n",
    "\n",
    "Information about your model is added to Fiddler and now it's time to start publishing some production data!  \n",
    "Fiddler will **monitor this data and compare it to your baseline to generate powerful insights into how your model is behaving**.\n",
    "\n",
    "\n",
    "---\n",
    "\n",
    "\n",
    "Each record sent to Fiddler is called **an event**.\n",
    "  \n",
    "Let's load in some sample events from a CSV file."
   ]
  },
  {
   "cell_type": "code",
   "execution_count": null,
   "metadata": {
    "id": "1dmA8PP7GTdJ"
   },
   "outputs": [],
   "source": [
    "PATH_TO_EVENTS_CSV = 'https://raw.githubusercontent.com/fiddler-labs/fiddler-samples/master/content_root/tutorial/quickstart/churn_events.csv'\n",
    "\n",
    "production_df = pd.read_csv(PATH_TO_EVENTS_CSV)\n",
    "\n",
    "# Shift the timestamps of the production events to be as recent as today \n",
    "production_df['timestamp'] = production_df['timestamp'] + (int(time.time() * 1000) - production_df['timestamp'].max())"
   ]
  },
  {
   "cell_type": "markdown",
   "metadata": {
    "id": "rw052Qg7G1ft"
   },
   "source": [
    "You can use the client's `publish_events_batch` function to start pumping data into Fiddler!\n",
    "  \n",
    "*Just include:*\n",
    "1. The DataFrame containing your events\n",
    "2. The name of the column containing event timestamps"
   ]
  },
  {
   "cell_type": "code",
   "execution_count": null,
   "metadata": {
    "id": "TI-gqrMmhEOe"
   },
   "outputs": [],
   "source": [
    "client.publish_events_batch(\n",
    "    project_id=PROJECT_ID,\n",
    "    model_id=MODEL_ID,\n",
    "    batch_source=production_df,\n",
    "    timestamp_field='timestamp',\n",
    "    id_field='customer_id' # Optional\n",
    ")"
   ]
  },
  {
   "cell_type": "markdown",
   "metadata": {
    "id": "vR6IR8YNHgG1"
   },
   "source": [
    "## 7. Get insights\n",
    "  \n",
    "Now just head to your Fiddler URL and start getting enhanced observability into your model's performance.\n",
    "\n",
    "Run the following code block to get your URL."
   ]
  },
  {
   "cell_type": "code",
   "execution_count": null,
   "metadata": {
    "colab": {
     "base_uri": "https://localhost:8080/"
    },
    "id": "VPjFE5USNsrF",
    "outputId": "50fd6d02-233d-4569-ca47-a25fa2fe8021"
   },
   "outputs": [
    {
     "name": "stdout",
     "output_type": "stream",
     "text": [
      "https://preprod.fiddler.ai/projects/quickstart_example/models/churn_classifier/monitor\n"
     ]
    }
   ],
   "source": [
    "print('/'.join([URL, 'projects', PROJECT_ID, 'models', MODEL_ID, 'monitor']))"
   ]
  },
  {
   "cell_type": "markdown",
   "metadata": {
    "id": "-DZMVHAEBzC_"
   },
   "source": [
    "*Please allow 5-10 minutes for monitoring data to populate the charts.*\n",
    "  \n",
    "The following screen will be available to you upon completion.\n",
    "<table>\n",
    "    <tr>\n",
    "        <td>\n",
    "            <img src=\"https://raw.githubusercontent.com/fiddler-labs/fiddler-samples/master/content_root/tutorial/quickstart/images/8.png\" />\n",
    "        </td>\n",
    "    </tr>\n",
    "</table>"
   ]
  },
  {
   "cell_type": "markdown",
   "metadata": {
    "id": "Jdkj1eHgOTAO"
   },
   "source": [
    "**What's Next?**\n",
    "\n",
    "Try the [NLP Monitoring - Quickstart Notebook](https://docs.fiddler.ai/docs/a-multi-class-classifier-for-nlp-data)\n",
    "\n",
    "---\n",
    "\n",
    "\n",
    "**Questions?**  \n",
    "  \n",
    "Check out [our docs](https://docs.fiddler.ai/) for a more detailed explanation of what Fiddler has to offer.\n",
    "\n",
    "Join our [community Slack](http://fiddler-community.slack.com/) to ask any questions!\n",
    "\n",
    "If you're still looking for answers, fill out a ticket on [our support page](https://fiddlerlabs.zendesk.com/) and we'll get back to you shortly."
   ]
  },
  {
   "cell_type": "code",
   "execution_count": null,
   "metadata": {},
   "outputs": [],
   "source": []
  }
 ],
 "metadata": {
  "colab": {
   "provenance": []
  },
  "kernelspec": {
   "display_name": "Python 3 (ipykernel)",
   "language": "python",
   "name": "python3"
  },
  "language_info": {
   "codemirror_mode": {
    "name": "ipython",
    "version": 3
   },
   "file_extension": ".py",
   "mimetype": "text/x-python",
   "name": "python",
   "nbconvert_exporter": "python",
   "pygments_lexer": "ipython3",
   "version": "3.8.16"
  }
 },
 "nbformat": 4,
 "nbformat_minor": 1
}
