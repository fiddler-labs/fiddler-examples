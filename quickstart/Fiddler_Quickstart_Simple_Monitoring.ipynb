{
 "cells": [
  {
   "cell_type": "markdown",
   "metadata": {
    "id": "sF3cOBoVx9Ji"
   },
   "source": [
    "# Fiddler Simple Monitoring Quick Start Guide\n",
    "\n",
    "Fiddler is the pioneer in enterprise Model Performance Management (MPM), offering a unified platform that enables Data Science, MLOps, Risk, Compliance, Analytics, and other LOB teams to **monitor, explain, analyze, and improve ML deployments at enterprise scale**. \n",
    "Obtain contextual insights at any stage of the ML lifecycle, improve predictions, increase transparency and fairness, and optimize business revenue.\n",
    "\n",
    "---\n",
    "\n",
    "You can start using Fiddler ***in minutes*** by following these 7 quick steps:\n",
    "\n",
    "1. Imports\n",
    "2. Connect to Fiddler\n",
    "3. Upload a baseline dataset\n",
    "4. Add metadata about your model with Fiddler\n",
    "5. Set up Alerts and Notifications (Optional)\n",
    "6. Publish production events\n",
    "7. Get insights\n",
    "\n",
    "**Don't have a Fiddler account? [Sign-up for a 14-day free trial](https://www.fiddler.ai/trial?utm_source=fiddler_docs&utm_medium=referral).**"
   ]
  },
  {
   "cell_type": "markdown",
   "metadata": {
    "id": "wUZi_5s7wsGA"
   },
   "source": [
    "## 1. Imports"
   ]
  },
  {
   "cell_type": "code",
   "execution_count": 1,
   "metadata": {
    "id": "Pg-BdRJ4w3LM"
   },
   "outputs": [
    {
     "name": "stdout",
     "output_type": "stream",
     "text": [
      "Running client version 1.8.0\n"
     ]
    }
   ],
   "source": [
    "!pip install -q fiddler-client==1.8.0\n",
    "\n",
    "import numpy as np\n",
    "import pandas as pd\n",
    "import time as time\n",
    "import fiddler as fdl\n",
    "\n",
    "print(f\"Running client version {fdl.__version__}\")"
   ]
  },
  {
   "cell_type": "markdown",
   "metadata": {
    "id": "hcP0yWfV1GoZ"
   },
   "source": [
    "## 2. Connect to Fiddler\n",
    "\n",
    "Before you can add information about your model with Fiddler, you'll need to connect using our API client.\n",
    "\n",
    "\n",
    "---\n",
    "\n",
    "\n",
    "**We need a few pieces of information to get started.**\n",
    "1. The URL you're using to connect to Fiddler"
   ]
  },
  {
   "cell_type": "code",
   "execution_count": 2,
   "metadata": {
    "id": "05hPBZHr1eBv"
   },
   "outputs": [],
   "source": [
    "URL = 'https://preprod.fiddler.ai' # Make sure to include the full URL (including https://). For example, https://abc.xyz.ai"
   ]
  },
  {
   "cell_type": "markdown",
   "metadata": {
    "id": "c2B7cgPa2Ajo"
   },
   "source": [
    "2. Your organization ID\n",
    "3. Your authorization token\n",
    "\n",
    "Both of these can be found by clicking the URL you entered and navigating to the **Settings** page.\n",
    "\n",
    "<table>\n",
    "    <tr>\n",
    "        <td><img src=\"https://raw.githubusercontent.com/fiddler-labs/fiddler-examples/main/quickstart/images/1.png\" /></td>\n",
    "        <td><img src=\"https://raw.githubusercontent.com/fiddler-labs/fiddler-examples/main/quickstart/images/2.png\" /></td>\n",
    "    </tr>\n",
    "    <tr>\n",
    "        <td><img src=\"https://raw.githubusercontent.com/fiddler-labs/fiddler-examples/main/quickstart/images/3.png\" /></td>\n",
    "        <td><img src=\"https://raw.githubusercontent.com/fiddler-labs/fiddler-examples/main/quickstart/images/4.png\" /></td>\n",
    "    </tr>\n",
    "</table>"
   ]
  },
  {
   "cell_type": "code",
   "execution_count": 3,
   "metadata": {
    "id": "CWErNsofAz6B"
   },
   "outputs": [],
   "source": [
    "ORG_ID = 'preprod'\n",
    "AUTH_TOKEN = '6lxdgyAZ3B2PNFxR3GZ7N4ao6As6UvicPQdamdaU13g'"
   ]
  },
  {
   "cell_type": "markdown",
   "metadata": {
    "id": "4EttApX9BBIn"
   },
   "source": [
    "Now just run the following code block to connect to the Fiddler API!"
   ]
  },
  {
   "cell_type": "code",
   "execution_count": 4,
   "metadata": {
    "id": "g6ONUHliBAsH"
   },
   "outputs": [],
   "source": [
    "client = fdl.FiddlerApi(url=URL, org_id=ORG_ID, auth_token=AUTH_TOKEN)"
   ]
  },
  {
   "cell_type": "markdown",
   "metadata": {
    "id": "QpUHeE3dBTHD"
   },
   "source": [
    "Once you connect, you can create a new project by specifying a unique project ID in the client's `create_project` function."
   ]
  },
  {
   "cell_type": "code",
   "execution_count": 6,
   "metadata": {
    "id": "vh46Mp1MBSMj"
   },
   "outputs": [
    {
     "data": {
      "text/plain": [
       "{'project_name': 'one_point_eight'}"
      ]
     },
     "execution_count": 6,
     "metadata": {},
     "output_type": "execute_result"
    }
   ],
   "source": [
    "PROJECT_ID = 'one_point_eight'\n",
    "\n",
    "client.create_project(PROJECT_ID)"
   ]
  },
  {
   "cell_type": "markdown",
   "metadata": {
    "id": "tlp8zEvlqO8I"
   },
   "source": [
    "You should now be able to see the newly created project on the UI.\n",
    "\n",
    "<table>\n",
    "    <tr>\n",
    "        <td>\n",
    "            <img src=\"https://raw.githubusercontent.com/fiddler-labs/fiddler-examples/main/quickstart/images/5.png\" />\n",
    "        </td>\n",
    "    </tr>\n",
    "</table>"
   ]
  },
  {
   "cell_type": "markdown",
   "metadata": {
    "id": "V3V2EhIdwA_Q"
   },
   "source": [
    "## 3. Upload a baseline dataset\n",
    "\n",
    "In this example, we'll be considering the case where we're a bank and we have **a model that predicts churn for our customers**.  \n",
    "We want to know when our model's predictions start to drift—that is, **when churn starts to increase** within our customer base.\n",
    "  \n",
    "In order to get insights into the model's performance, **Fiddler needs a small  sample of data that can serve as a baseline** for making comparisons with data in production.\n",
    "\n",
    "\n",
    "---\n",
    "\n",
    "\n",
    "*For more information on how to design a baseline dataset, [click here](https://docs.fiddler.ai/docs/designing-a-baseline-dataset).*"
   ]
  },
  {
   "cell_type": "code",
   "execution_count": 7,
   "metadata": {
    "id": "TFVJcU8uCY7z"
   },
   "outputs": [
    {
     "data": {
      "text/html": [
       "<div>\n",
       "<style scoped>\n",
       "    .dataframe tbody tr th:only-of-type {\n",
       "        vertical-align: middle;\n",
       "    }\n",
       "\n",
       "    .dataframe tbody tr th {\n",
       "        vertical-align: top;\n",
       "    }\n",
       "\n",
       "    .dataframe thead th {\n",
       "        text-align: right;\n",
       "    }\n",
       "</style>\n",
       "<table border=\"1\" class=\"dataframe\">\n",
       "  <thead>\n",
       "    <tr style=\"text-align: right;\">\n",
       "      <th></th>\n",
       "      <th>customer_id</th>\n",
       "      <th>creditscore</th>\n",
       "      <th>geography</th>\n",
       "      <th>gender</th>\n",
       "      <th>age</th>\n",
       "      <th>tenure</th>\n",
       "      <th>balance</th>\n",
       "      <th>numofproducts</th>\n",
       "      <th>hascrcard</th>\n",
       "      <th>isactivemember</th>\n",
       "      <th>estimatedsalary</th>\n",
       "      <th>predicted_churn</th>\n",
       "      <th>decision</th>\n",
       "      <th>churn</th>\n",
       "    </tr>\n",
       "  </thead>\n",
       "  <tbody>\n",
       "    <tr>\n",
       "      <th>0</th>\n",
       "      <td>27acd1c2</td>\n",
       "      <td>545</td>\n",
       "      <td>Texas</td>\n",
       "      <td>Male</td>\n",
       "      <td>37</td>\n",
       "      <td>9</td>\n",
       "      <td>110483.86</td>\n",
       "      <td>1</td>\n",
       "      <td>1</td>\n",
       "      <td>1</td>\n",
       "      <td>127394.67</td>\n",
       "      <td>0.897202</td>\n",
       "      <td>high_risk</td>\n",
       "      <td>yes</td>\n",
       "    </tr>\n",
       "    <tr>\n",
       "      <th>1</th>\n",
       "      <td>27b36d0c</td>\n",
       "      <td>497</td>\n",
       "      <td>Texas</td>\n",
       "      <td>Female</td>\n",
       "      <td>55</td>\n",
       "      <td>7</td>\n",
       "      <td>131778.66</td>\n",
       "      <td>1</td>\n",
       "      <td>1</td>\n",
       "      <td>1</td>\n",
       "      <td>9972.64</td>\n",
       "      <td>0.997441</td>\n",
       "      <td>high_risk</td>\n",
       "      <td>yes</td>\n",
       "    </tr>\n",
       "    <tr>\n",
       "      <th>2</th>\n",
       "      <td>27b5360a</td>\n",
       "      <td>509</td>\n",
       "      <td>New York</td>\n",
       "      <td>Female</td>\n",
       "      <td>29</td>\n",
       "      <td>0</td>\n",
       "      <td>107712.57</td>\n",
       "      <td>2</td>\n",
       "      <td>1</td>\n",
       "      <td>1</td>\n",
       "      <td>92898.17</td>\n",
       "      <td>0.920563</td>\n",
       "      <td>high_risk</td>\n",
       "      <td>yes</td>\n",
       "    </tr>\n",
       "    <tr>\n",
       "      <th>3</th>\n",
       "      <td>27b5d650</td>\n",
       "      <td>743</td>\n",
       "      <td>Hawaii</td>\n",
       "      <td>Nonbinary</td>\n",
       "      <td>39</td>\n",
       "      <td>6</td>\n",
       "      <td>0.00</td>\n",
       "      <td>2</td>\n",
       "      <td>1</td>\n",
       "      <td>0</td>\n",
       "      <td>44265.28</td>\n",
       "      <td>0.779282</td>\n",
       "      <td>high_risk</td>\n",
       "      <td>yes</td>\n",
       "    </tr>\n",
       "    <tr>\n",
       "      <th>4</th>\n",
       "      <td>27b236a8</td>\n",
       "      <td>699</td>\n",
       "      <td>Florida</td>\n",
       "      <td>Female</td>\n",
       "      <td>25</td>\n",
       "      <td>8</td>\n",
       "      <td>0.00</td>\n",
       "      <td>2</td>\n",
       "      <td>1</td>\n",
       "      <td>1</td>\n",
       "      <td>52404.47</td>\n",
       "      <td>0.825474</td>\n",
       "      <td>high_risk</td>\n",
       "      <td>yes</td>\n",
       "    </tr>\n",
       "    <tr>\n",
       "      <th>...</th>\n",
       "      <td>...</td>\n",
       "      <td>...</td>\n",
       "      <td>...</td>\n",
       "      <td>...</td>\n",
       "      <td>...</td>\n",
       "      <td>...</td>\n",
       "      <td>...</td>\n",
       "      <td>...</td>\n",
       "      <td>...</td>\n",
       "      <td>...</td>\n",
       "      <td>...</td>\n",
       "      <td>...</td>\n",
       "      <td>...</td>\n",
       "      <td>...</td>\n",
       "    </tr>\n",
       "    <tr>\n",
       "      <th>19995</th>\n",
       "      <td>27b409ba</td>\n",
       "      <td>686</td>\n",
       "      <td>Texas</td>\n",
       "      <td>Male</td>\n",
       "      <td>39</td>\n",
       "      <td>3</td>\n",
       "      <td>129626.19</td>\n",
       "      <td>2</td>\n",
       "      <td>1</td>\n",
       "      <td>1</td>\n",
       "      <td>103220.56</td>\n",
       "      <td>0.760645</td>\n",
       "      <td>high_risk</td>\n",
       "      <td>yes</td>\n",
       "    </tr>\n",
       "    <tr>\n",
       "      <th>19996</th>\n",
       "      <td>27aaff96</td>\n",
       "      <td>446</td>\n",
       "      <td>Massachusetts</td>\n",
       "      <td>Female</td>\n",
       "      <td>45</td>\n",
       "      <td>10</td>\n",
       "      <td>125191.69</td>\n",
       "      <td>1</td>\n",
       "      <td>1</td>\n",
       "      <td>1</td>\n",
       "      <td>128260.86</td>\n",
       "      <td>0.216093</td>\n",
       "      <td>low_risk</td>\n",
       "      <td>no</td>\n",
       "    </tr>\n",
       "    <tr>\n",
       "      <th>19997</th>\n",
       "      <td>27ad3162</td>\n",
       "      <td>794</td>\n",
       "      <td>California</td>\n",
       "      <td>Male</td>\n",
       "      <td>35</td>\n",
       "      <td>6</td>\n",
       "      <td>0.00</td>\n",
       "      <td>2</td>\n",
       "      <td>1</td>\n",
       "      <td>1</td>\n",
       "      <td>68730.91</td>\n",
       "      <td>0.982021</td>\n",
       "      <td>high_risk</td>\n",
       "      <td>yes</td>\n",
       "    </tr>\n",
       "    <tr>\n",
       "      <th>19998</th>\n",
       "      <td>27b076ce</td>\n",
       "      <td>832</td>\n",
       "      <td>California</td>\n",
       "      <td>Male</td>\n",
       "      <td>61</td>\n",
       "      <td>2</td>\n",
       "      <td>0.00</td>\n",
       "      <td>1</td>\n",
       "      <td>0</td>\n",
       "      <td>1</td>\n",
       "      <td>127804.66</td>\n",
       "      <td>0.071598</td>\n",
       "      <td>low_risk</td>\n",
       "      <td>no</td>\n",
       "    </tr>\n",
       "    <tr>\n",
       "      <th>19999</th>\n",
       "      <td>27aee1d8</td>\n",
       "      <td>641</td>\n",
       "      <td>Massachusetts</td>\n",
       "      <td>Female</td>\n",
       "      <td>36</td>\n",
       "      <td>1</td>\n",
       "      <td>0.00</td>\n",
       "      <td>2</td>\n",
       "      <td>1</td>\n",
       "      <td>0</td>\n",
       "      <td>102021.39</td>\n",
       "      <td>0.817325</td>\n",
       "      <td>high_risk</td>\n",
       "      <td>yes</td>\n",
       "    </tr>\n",
       "  </tbody>\n",
       "</table>\n",
       "<p>20000 rows × 14 columns</p>\n",
       "</div>"
      ],
      "text/plain": [
       "      customer_id  creditscore      geography     gender  age  tenure  \\\n",
       "0        27acd1c2          545          Texas       Male   37       9   \n",
       "1        27b36d0c          497          Texas     Female   55       7   \n",
       "2        27b5360a          509       New York     Female   29       0   \n",
       "3        27b5d650          743         Hawaii  Nonbinary   39       6   \n",
       "4        27b236a8          699        Florida     Female   25       8   \n",
       "...           ...          ...            ...        ...  ...     ...   \n",
       "19995    27b409ba          686          Texas       Male   39       3   \n",
       "19996    27aaff96          446  Massachusetts     Female   45      10   \n",
       "19997    27ad3162          794     California       Male   35       6   \n",
       "19998    27b076ce          832     California       Male   61       2   \n",
       "19999    27aee1d8          641  Massachusetts     Female   36       1   \n",
       "\n",
       "         balance  numofproducts  hascrcard  isactivemember  estimatedsalary  \\\n",
       "0      110483.86              1          1               1        127394.67   \n",
       "1      131778.66              1          1               1          9972.64   \n",
       "2      107712.57              2          1               1         92898.17   \n",
       "3           0.00              2          1               0         44265.28   \n",
       "4           0.00              2          1               1         52404.47   \n",
       "...          ...            ...        ...             ...              ...   \n",
       "19995  129626.19              2          1               1        103220.56   \n",
       "19996  125191.69              1          1               1        128260.86   \n",
       "19997       0.00              2          1               1         68730.91   \n",
       "19998       0.00              1          0               1        127804.66   \n",
       "19999       0.00              2          1               0        102021.39   \n",
       "\n",
       "       predicted_churn   decision churn  \n",
       "0             0.897202  high_risk   yes  \n",
       "1             0.997441  high_risk   yes  \n",
       "2             0.920563  high_risk   yes  \n",
       "3             0.779282  high_risk   yes  \n",
       "4             0.825474  high_risk   yes  \n",
       "...                ...        ...   ...  \n",
       "19995         0.760645  high_risk   yes  \n",
       "19996         0.216093   low_risk    no  \n",
       "19997         0.982021  high_risk   yes  \n",
       "19998         0.071598   low_risk    no  \n",
       "19999         0.817325  high_risk   yes  \n",
       "\n",
       "[20000 rows x 14 columns]"
      ]
     },
     "execution_count": 7,
     "metadata": {},
     "output_type": "execute_result"
    }
   ],
   "source": [
    "PATH_TO_BASELINE_CSV = 'https://raw.githubusercontent.com/fiddler-labs/fiddler-examples/main/quickstart/data/churn_baseline.csv'\n",
    "\n",
    "baseline_df = pd.read_csv(PATH_TO_BASELINE_CSV)\n",
    "baseline_df"
   ]
  },
  {
   "cell_type": "markdown",
   "metadata": {
    "id": "niKle55HCgIj"
   },
   "source": [
    "Fiddler uses this baseline dataset to keep track of important information about your data.\n",
    "  \n",
    "This includes **data types**, **data ranges**, and **unique values** for categorical variables.\n",
    "\n",
    "---\n",
    "\n",
    "You can construct a `DatasetInfo` object to be used as **a schema for keeping track of this information** by running the following code block."
   ]
  },
  {
   "cell_type": "code",
   "execution_count": 8,
   "metadata": {
    "id": "TI_x9-T93G-v"
   },
   "outputs": [
    {
     "data": {
      "text/html": [
       "<div style=\"border: thin solid rgb(41, 57, 141); padding: 10px;\"><h3 style=\"text-align: center; margin: auto;\">DatasetInfo\n",
       "</h3><pre>display_name: \n",
       "files: []\n",
       "</pre><hr>Columns:<div>\n",
       "<style scoped>\n",
       "    .dataframe tbody tr th:only-of-type {\n",
       "        vertical-align: middle;\n",
       "    }\n",
       "\n",
       "    .dataframe tbody tr th {\n",
       "        vertical-align: top;\n",
       "    }\n",
       "\n",
       "    .dataframe thead th {\n",
       "        text-align: right;\n",
       "    }\n",
       "</style>\n",
       "<table border=\"1\" class=\"dataframe\">\n",
       "  <thead>\n",
       "    <tr style=\"text-align: right;\">\n",
       "      <th></th>\n",
       "      <th>column</th>\n",
       "      <th>dtype</th>\n",
       "      <th>count(possible_values)</th>\n",
       "      <th>is_nullable</th>\n",
       "      <th>value_range</th>\n",
       "    </tr>\n",
       "  </thead>\n",
       "  <tbody>\n",
       "    <tr>\n",
       "      <th>0</th>\n",
       "      <td>customer_id</td>\n",
       "      <td>STRING</td>\n",
       "      <td></td>\n",
       "      <td>False</td>\n",
       "      <td></td>\n",
       "    </tr>\n",
       "    <tr>\n",
       "      <th>1</th>\n",
       "      <td>creditscore</td>\n",
       "      <td>INTEGER</td>\n",
       "      <td></td>\n",
       "      <td>False</td>\n",
       "      <td>350 - 850</td>\n",
       "    </tr>\n",
       "    <tr>\n",
       "      <th>2</th>\n",
       "      <td>geography</td>\n",
       "      <td>CATEGORY</td>\n",
       "      <td>6</td>\n",
       "      <td>False</td>\n",
       "      <td></td>\n",
       "    </tr>\n",
       "    <tr>\n",
       "      <th>3</th>\n",
       "      <td>gender</td>\n",
       "      <td>CATEGORY</td>\n",
       "      <td>3</td>\n",
       "      <td>False</td>\n",
       "      <td></td>\n",
       "    </tr>\n",
       "    <tr>\n",
       "      <th>4</th>\n",
       "      <td>age</td>\n",
       "      <td>INTEGER</td>\n",
       "      <td></td>\n",
       "      <td>False</td>\n",
       "      <td>18 - 92</td>\n",
       "    </tr>\n",
       "    <tr>\n",
       "      <th>5</th>\n",
       "      <td>tenure</td>\n",
       "      <td>INTEGER</td>\n",
       "      <td></td>\n",
       "      <td>False</td>\n",
       "      <td>0 - 10</td>\n",
       "    </tr>\n",
       "    <tr>\n",
       "      <th>6</th>\n",
       "      <td>balance</td>\n",
       "      <td>FLOAT</td>\n",
       "      <td></td>\n",
       "      <td>False</td>\n",
       "      <td>0.0 - 250,900.0</td>\n",
       "    </tr>\n",
       "    <tr>\n",
       "      <th>7</th>\n",
       "      <td>numofproducts</td>\n",
       "      <td>INTEGER</td>\n",
       "      <td></td>\n",
       "      <td>False</td>\n",
       "      <td>1 - 4</td>\n",
       "    </tr>\n",
       "    <tr>\n",
       "      <th>8</th>\n",
       "      <td>hascrcard</td>\n",
       "      <td>INTEGER</td>\n",
       "      <td></td>\n",
       "      <td>False</td>\n",
       "      <td>0 - 1</td>\n",
       "    </tr>\n",
       "    <tr>\n",
       "      <th>9</th>\n",
       "      <td>isactivemember</td>\n",
       "      <td>INTEGER</td>\n",
       "      <td></td>\n",
       "      <td>False</td>\n",
       "      <td>0 - 1</td>\n",
       "    </tr>\n",
       "    <tr>\n",
       "      <th>10</th>\n",
       "      <td>estimatedsalary</td>\n",
       "      <td>FLOAT</td>\n",
       "      <td></td>\n",
       "      <td>False</td>\n",
       "      <td>11.58 - 200,000.0</td>\n",
       "    </tr>\n",
       "    <tr>\n",
       "      <th>11</th>\n",
       "      <td>predicted_churn</td>\n",
       "      <td>FLOAT</td>\n",
       "      <td></td>\n",
       "      <td>False</td>\n",
       "      <td>0.0 - 1.0</td>\n",
       "    </tr>\n",
       "    <tr>\n",
       "      <th>12</th>\n",
       "      <td>decision</td>\n",
       "      <td>CATEGORY</td>\n",
       "      <td>2</td>\n",
       "      <td>False</td>\n",
       "      <td></td>\n",
       "    </tr>\n",
       "    <tr>\n",
       "      <th>13</th>\n",
       "      <td>churn</td>\n",
       "      <td>CATEGORY</td>\n",
       "      <td>2</td>\n",
       "      <td>False</td>\n",
       "      <td></td>\n",
       "    </tr>\n",
       "  </tbody>\n",
       "</table>\n",
       "</div></div>"
      ],
      "text/plain": [
       "DatasetInfo:\n",
       "  display_name: \n",
       "  files: []\n",
       "  columns:\n",
       "                 column     dtype count(possible_values) is_nullable  \\\n",
       "    0       customer_id    STRING                              False   \n",
       "    1       creditscore   INTEGER                              False   \n",
       "    2         geography  CATEGORY                      6       False   \n",
       "    3            gender  CATEGORY                      3       False   \n",
       "    4               age   INTEGER                              False   \n",
       "    5            tenure   INTEGER                              False   \n",
       "    6           balance     FLOAT                              False   \n",
       "    7     numofproducts   INTEGER                              False   \n",
       "    8         hascrcard   INTEGER                              False   \n",
       "    9    isactivemember   INTEGER                              False   \n",
       "    10  estimatedsalary     FLOAT                              False   \n",
       "    11  predicted_churn     FLOAT                              False   \n",
       "    12         decision  CATEGORY                      2       False   \n",
       "    13            churn  CATEGORY                      2       False   \n",
       "\n",
       "                  value_range  \n",
       "    0                          \n",
       "    1         350 - 850        \n",
       "    2                          \n",
       "    3                          \n",
       "    4          18 - 92         \n",
       "    5           0 - 10         \n",
       "    6         0.0 - 250,900.0  \n",
       "    7           1 - 4          \n",
       "    8           0 - 1          \n",
       "    9           0 - 1          \n",
       "    10      11.58 - 200,000.0  \n",
       "    11        0.0 - 1.0        \n",
       "    12                         \n",
       "    13                         "
      ]
     },
     "execution_count": 8,
     "metadata": {},
     "output_type": "execute_result"
    }
   ],
   "source": [
    "dataset_info = fdl.DatasetInfo.from_dataframe(baseline_df, max_inferred_cardinality=100)\n",
    "dataset_info"
   ]
  },
  {
   "cell_type": "markdown",
   "metadata": {
    "id": "32YjZcpTDwKU"
   },
   "source": [
    "Then use the client's [upload_dataset](https://docs.fiddler.ai/reference/clientupload_dataset) function to send this information to Fiddler!\n",
    "  \n",
    "*Just include:*\n",
    "1. A unique dataset ID\n",
    "2. The baseline dataset as a pandas DataFrame\n",
    "3. The [DatasetInfo](https://docs.fiddler.ai/reference/fdldatasetinfo) object you just created"
   ]
  },
  {
   "cell_type": "code",
   "execution_count": 9,
   "metadata": {
    "id": "Nk0Bpus92oJK"
   },
   "outputs": [
    {
     "data": {
      "text/plain": [
       "{'uuid': 'dcab31d2-640a-49bc-81a4-a24453d1e9b0',\n",
       " 'name': 'Ingestion dataset Upload',\n",
       " 'info': {'project_name': 'one_point_eight',\n",
       "  'resource_name': 'churn_data',\n",
       "  'resource_type': 'DATASET'},\n",
       " 'status': 'SUCCESS',\n",
       " 'progress': 100.0,\n",
       " 'error_message': None,\n",
       " 'error_reason': None}"
      ]
     },
     "execution_count": 9,
     "metadata": {},
     "output_type": "execute_result"
    }
   ],
   "source": [
    "DATASET_ID = 'churn_data'\n",
    "\n",
    "client.upload_dataset(\n",
    "    project_id=PROJECT_ID,\n",
    "    dataset_id=DATASET_ID,\n",
    "    dataset={\n",
    "        'baseline': baseline_df\n",
    "    },\n",
    "    info=dataset_info\n",
    ")"
   ]
  },
  {
   "cell_type": "markdown",
   "metadata": {
    "id": "D9Phfp9Yu7bA"
   },
   "source": [
    "If you click on your project, you should now be able to see the newly created dataset on the UI.\n",
    "\n",
    "<table>\n",
    "    <tr>\n",
    "        <td>\n",
    "            <img src=\"https://raw.githubusercontent.com/fiddler-labs/fiddler-examples/main/quickstart/images/6.png\" />\n",
    "        </td>\n",
    "    </tr>\n",
    "</table>"
   ]
  },
  {
   "cell_type": "markdown",
   "metadata": {
    "id": "IK3sL73_4FxO"
   },
   "source": [
    "## 4. Add metadata about your model\n",
    "\n",
    "Now it's time to add your model with Fiddler.  We do this by defining a [ModelInfo](https://docs.fiddler.ai/reference/fdlmodelinfo) object.\n",
    "\n",
    "\n",
    "---\n",
    "\n",
    "\n",
    "The [ModelInfo](https://docs.fiddler.ai/reference/fdlmodelinfo) object will contain some **information about how your model operates**.\n",
    "  \n",
    "*Just include:*\n",
    "1. The **task** your model is performing (regression, binary classification, etc.)\n",
    "2. The **target** (ground truth) column\n",
    "3. The **output** (prediction) column\n",
    "4. The **feature** columns\n",
    "5. Any **metadata** columns\n",
    "6. Any **decision** columns (these measures the direct business decisions made as result of the model's prediction)\n"
   ]
  },
  {
   "cell_type": "code",
   "execution_count": 11,
   "metadata": {
    "id": "kpKz2dDK4ZiV"
   },
   "outputs": [
    {
     "name": "stderr",
     "output_type": "stream",
     "text": [
      "Using binary_classification_threshold=0.5\n"
     ]
    },
    {
     "data": {
      "text/html": [
       "<div style=\"border: thin solid rgb(41, 57, 141); padding: 10px;\"><h3 style=\"text-align: center; margin: auto;\">ModelInfo\n",
       "</h3><pre>  display_name:  model\n",
       "  description: None\n",
       "  input_type: ModelInputType.TABULAR\n",
       "  model_task: ModelTask.BINARY_CLASSIFICATION\n",
       "  target_class_order: ['no', 'yes']\n",
       "  preferred_explanation: None\n",
       "  custom_explanation_names: []\n",
       "  misc: {}</pre><hr>targets:<div>\n",
       "<style scoped>\n",
       "    .dataframe tbody tr th:only-of-type {\n",
       "        vertical-align: middle;\n",
       "    }\n",
       "\n",
       "    .dataframe tbody tr th {\n",
       "        vertical-align: top;\n",
       "    }\n",
       "\n",
       "    .dataframe thead th {\n",
       "        text-align: right;\n",
       "    }\n",
       "</style>\n",
       "<table border=\"1\" class=\"dataframe\">\n",
       "  <thead>\n",
       "    <tr style=\"text-align: right;\">\n",
       "      <th></th>\n",
       "      <th>column</th>\n",
       "      <th>dtype</th>\n",
       "      <th>count(possible_values)</th>\n",
       "      <th>is_nullable</th>\n",
       "      <th>value_range</th>\n",
       "    </tr>\n",
       "  </thead>\n",
       "  <tbody>\n",
       "    <tr>\n",
       "      <th>0</th>\n",
       "      <td>churn</td>\n",
       "      <td>CATEGORY</td>\n",
       "      <td>2</td>\n",
       "      <td>False</td>\n",
       "      <td></td>\n",
       "    </tr>\n",
       "  </tbody>\n",
       "</table>\n",
       "</div><hr>inputs:<div>\n",
       "<style scoped>\n",
       "    .dataframe tbody tr th:only-of-type {\n",
       "        vertical-align: middle;\n",
       "    }\n",
       "\n",
       "    .dataframe tbody tr th {\n",
       "        vertical-align: top;\n",
       "    }\n",
       "\n",
       "    .dataframe thead th {\n",
       "        text-align: right;\n",
       "    }\n",
       "</style>\n",
       "<table border=\"1\" class=\"dataframe\">\n",
       "  <thead>\n",
       "    <tr style=\"text-align: right;\">\n",
       "      <th></th>\n",
       "      <th>column</th>\n",
       "      <th>dtype</th>\n",
       "      <th>count(possible_values)</th>\n",
       "      <th>is_nullable</th>\n",
       "      <th>value_range</th>\n",
       "    </tr>\n",
       "  </thead>\n",
       "  <tbody>\n",
       "    <tr>\n",
       "      <th>0</th>\n",
       "      <td>geography</td>\n",
       "      <td>CATEGORY</td>\n",
       "      <td>6</td>\n",
       "      <td>False</td>\n",
       "      <td></td>\n",
       "    </tr>\n",
       "    <tr>\n",
       "      <th>1</th>\n",
       "      <td>gender</td>\n",
       "      <td>CATEGORY</td>\n",
       "      <td>3</td>\n",
       "      <td>False</td>\n",
       "      <td></td>\n",
       "    </tr>\n",
       "    <tr>\n",
       "      <th>2</th>\n",
       "      <td>age</td>\n",
       "      <td>INTEGER</td>\n",
       "      <td></td>\n",
       "      <td>False</td>\n",
       "      <td>18 - 92</td>\n",
       "    </tr>\n",
       "    <tr>\n",
       "      <th>3</th>\n",
       "      <td>tenure</td>\n",
       "      <td>INTEGER</td>\n",
       "      <td></td>\n",
       "      <td>False</td>\n",
       "      <td>0 - 10</td>\n",
       "    </tr>\n",
       "    <tr>\n",
       "      <th>4</th>\n",
       "      <td>balance</td>\n",
       "      <td>FLOAT</td>\n",
       "      <td></td>\n",
       "      <td>False</td>\n",
       "      <td>0.0 - 250,900.0</td>\n",
       "    </tr>\n",
       "    <tr>\n",
       "      <th>5</th>\n",
       "      <td>numofproducts</td>\n",
       "      <td>INTEGER</td>\n",
       "      <td></td>\n",
       "      <td>False</td>\n",
       "      <td>1 - 4</td>\n",
       "    </tr>\n",
       "    <tr>\n",
       "      <th>6</th>\n",
       "      <td>hascrcard</td>\n",
       "      <td>INTEGER</td>\n",
       "      <td></td>\n",
       "      <td>False</td>\n",
       "      <td>0 - 1</td>\n",
       "    </tr>\n",
       "    <tr>\n",
       "      <th>7</th>\n",
       "      <td>isactivemember</td>\n",
       "      <td>INTEGER</td>\n",
       "      <td></td>\n",
       "      <td>False</td>\n",
       "      <td>0 - 1</td>\n",
       "    </tr>\n",
       "    <tr>\n",
       "      <th>8</th>\n",
       "      <td>estimatedsalary</td>\n",
       "      <td>FLOAT</td>\n",
       "      <td></td>\n",
       "      <td>False</td>\n",
       "      <td>11.58 - 200,000.0</td>\n",
       "    </tr>\n",
       "  </tbody>\n",
       "</table>\n",
       "</div><hr>outputs:<div>\n",
       "<style scoped>\n",
       "    .dataframe tbody tr th:only-of-type {\n",
       "        vertical-align: middle;\n",
       "    }\n",
       "\n",
       "    .dataframe tbody tr th {\n",
       "        vertical-align: top;\n",
       "    }\n",
       "\n",
       "    .dataframe thead th {\n",
       "        text-align: right;\n",
       "    }\n",
       "</style>\n",
       "<table border=\"1\" class=\"dataframe\">\n",
       "  <thead>\n",
       "    <tr style=\"text-align: right;\">\n",
       "      <th></th>\n",
       "      <th>column</th>\n",
       "      <th>dtype</th>\n",
       "      <th>count(possible_values)</th>\n",
       "      <th>is_nullable</th>\n",
       "      <th>value_range</th>\n",
       "    </tr>\n",
       "  </thead>\n",
       "  <tbody>\n",
       "    <tr>\n",
       "      <th>0</th>\n",
       "      <td>predicted_churn</td>\n",
       "      <td>FLOAT</td>\n",
       "      <td></td>\n",
       "      <td>False</td>\n",
       "      <td>0.0 - 1.0</td>\n",
       "    </tr>\n",
       "  </tbody>\n",
       "</table>\n",
       "</div><hr>decisions:<div>\n",
       "<style scoped>\n",
       "    .dataframe tbody tr th:only-of-type {\n",
       "        vertical-align: middle;\n",
       "    }\n",
       "\n",
       "    .dataframe tbody tr th {\n",
       "        vertical-align: top;\n",
       "    }\n",
       "\n",
       "    .dataframe thead th {\n",
       "        text-align: right;\n",
       "    }\n",
       "</style>\n",
       "<table border=\"1\" class=\"dataframe\">\n",
       "  <thead>\n",
       "    <tr style=\"text-align: right;\">\n",
       "      <th></th>\n",
       "      <th>column</th>\n",
       "      <th>dtype</th>\n",
       "      <th>count(possible_values)</th>\n",
       "      <th>is_nullable</th>\n",
       "      <th>value_range</th>\n",
       "    </tr>\n",
       "  </thead>\n",
       "  <tbody>\n",
       "    <tr>\n",
       "      <th>0</th>\n",
       "      <td>decision</td>\n",
       "      <td>CATEGORY</td>\n",
       "      <td>2</td>\n",
       "      <td>False</td>\n",
       "      <td></td>\n",
       "    </tr>\n",
       "  </tbody>\n",
       "</table>\n",
       "</div><hr>metadata:<div>\n",
       "<style scoped>\n",
       "    .dataframe tbody tr th:only-of-type {\n",
       "        vertical-align: middle;\n",
       "    }\n",
       "\n",
       "    .dataframe tbody tr th {\n",
       "        vertical-align: top;\n",
       "    }\n",
       "\n",
       "    .dataframe thead th {\n",
       "        text-align: right;\n",
       "    }\n",
       "</style>\n",
       "<table border=\"1\" class=\"dataframe\">\n",
       "  <thead>\n",
       "    <tr style=\"text-align: right;\">\n",
       "      <th></th>\n",
       "      <th>column</th>\n",
       "      <th>dtype</th>\n",
       "      <th>count(possible_values)</th>\n",
       "      <th>is_nullable</th>\n",
       "      <th>value_range</th>\n",
       "    </tr>\n",
       "  </thead>\n",
       "  <tbody>\n",
       "    <tr>\n",
       "      <th>0</th>\n",
       "      <td>customer_id</td>\n",
       "      <td>STRING</td>\n",
       "      <td></td>\n",
       "      <td>False</td>\n",
       "      <td></td>\n",
       "    </tr>\n",
       "  </tbody>\n",
       "</table>\n",
       "</div>  data_type_version: v1\n",
       "</div>"
      ],
      "text/plain": [
       "ModelInfo:\n",
       "  display_name:  model\n",
       "  description: None\n",
       "  input_type: ModelInputType.TABULAR\n",
       "  model_task: ModelTask.BINARY_CLASSIFICATION\n",
       "  target_class_order: ['no', 'yes']\n",
       "  preferred_explanation: None\n",
       "  custom_explanation_names: []\n",
       "  inputs:\n",
       "                column     dtype count(possible_values) is_nullable  \\\n",
       "    0        geography  CATEGORY                      6       False   \n",
       "    1           gender  CATEGORY                      3       False   \n",
       "    2              age   INTEGER                              False   \n",
       "    3           tenure   INTEGER                              False   \n",
       "    4          balance     FLOAT                              False   \n",
       "    5    numofproducts   INTEGER                              False   \n",
       "    6        hascrcard   INTEGER                              False   \n",
       "    7   isactivemember   INTEGER                              False   \n",
       "    8  estimatedsalary     FLOAT                              False   \n",
       "\n",
       "                 value_range  \n",
       "    0                         \n",
       "    1                         \n",
       "    2         18 - 92         \n",
       "    3          0 - 10         \n",
       "    4        0.0 - 250,900.0  \n",
       "    5          1 - 4          \n",
       "    6          0 - 1          \n",
       "    7          0 - 1          \n",
       "    8      11.58 - 200,000.0  \n",
       "  outputs:\n",
       "                column  dtype count(possible_values) is_nullable value_range\n",
       "    0  predicted_churn  FLOAT                              False   0.0 - 1.0\n",
       "\n",
       "  metadata:\n",
       "            column   dtype count(possible_values) is_nullable value_range\n",
       "    0  customer_id  STRING                              False            \n",
       "  decisions:\n",
       "         column     dtype  count(possible_values) is_nullable value_range\n",
       "    0  decision  CATEGORY                       2       False            \n",
       "  targets:\n",
       "      column     dtype  count(possible_values) is_nullable value_range\n",
       "    0  churn  CATEGORY                       2       False              data_type_version: v1\n",
       "  misc:\n",
       "    {}"
      ]
     },
     "execution_count": 11,
     "metadata": {},
     "output_type": "execute_result"
    }
   ],
   "source": [
    "# Specify task\n",
    "model_task = 'binary'\n",
    "\n",
    "if model_task == 'regression':\n",
    "    model_task = fdl.ModelTask.REGRESSION\n",
    "    \n",
    "elif model_task == 'binary':\n",
    "    model_task = fdl.ModelTask.BINARY_CLASSIFICATION\n",
    "\n",
    "elif model_task == 'multiclass':\n",
    "    model_task = fdl.ModelTask.MULTICLASS_CLASSIFICATION\n",
    "    \n",
    "elif model_task == 'ranking':\n",
    "    model_task = fdl.ModelTask.RANKING\n",
    "\n",
    "    \n",
    "# Specify column types\n",
    "features = ['geography', 'gender', 'age', 'tenure', 'balance', 'numofproducts', 'hascrcard', 'isactivemember', 'estimatedsalary']\n",
    "outputs = ['predicted_churn']\n",
    "target = 'churn'\n",
    "decision_cols = ['decision']\n",
    "metadata_cols = ['customer_id']\n",
    "    \n",
    "# Generate ModelInfo\n",
    "model_info = fdl.ModelInfo.from_dataset_info(\n",
    "    dataset_info=dataset_info,\n",
    "    dataset_id=DATASET_ID,\n",
    "    model_task=model_task,\n",
    "    features=features,\n",
    "    outputs=outputs,\n",
    "    target=target,\n",
    "    categorical_target_class_details='yes',\n",
    "    decision_cols=decision_cols, # Optional\n",
    "    metadata_cols=metadata_cols, # Optional\n",
    "    binary_classification_threshold=0.5 # Optional\n",
    ")\n",
    "model_info"
   ]
  },
  {
   "cell_type": "markdown",
   "metadata": {
    "id": "azE_UU6HE6vW"
   },
   "source": [
    "Almost done! Now just specify a unique model ID and use the client's [add_model](https://docs.fiddler.ai/reference/clientadd_model) function to send this information to Fiddler."
   ]
  },
  {
   "cell_type": "code",
   "execution_count": 12,
   "metadata": {
    "id": "HMDG9vei24pw"
   },
   "outputs": [],
   "source": [
    "MODEL_ID = 'churn_classifier'\n",
    "\n",
    "client.add_model(\n",
    "    project_id=PROJECT_ID,\n",
    "    dataset_id=DATASET_ID,\n",
    "    model_id=MODEL_ID,\n",
    "    model_info=model_info,\n",
    ")"
   ]
  },
  {
   "cell_type": "markdown",
   "metadata": {
    "id": "0GmqFXTYwRg6"
   },
   "source": [
    "On the project page, you should now be able to see the newly created model.\n",
    "\n",
    "<table>\n",
    "    <tr>\n",
    "        <td>\n",
    "            <img src=\"https://raw.githubusercontent.com/fiddler-labs/fiddler-examples/main/quickstart/images/7.png\" />\n",
    "        </td>\n",
    "    </tr>\n",
    "</table>"
   ]
  },
  {
   "cell_type": "markdown",
   "metadata": {
    "id": "R-hj33B10Ssw"
   },
   "source": [
    "## 5. Set up Alerts and Notifications (Optional)\n",
    "\n",
    "Fiddler Client API function [add_alert_rule](https://dash.readme.com/project/fiddler/v1.5/refs/clientadd_alert_rule) allow creating rules to receive email and pagerduty notifications when your data or model predictions deviates from it's expected behavior.\n",
    "\n",
    "The rules can of **Data Drift, Performance, Data Integrity,** and **Service Metrics** types and they can be compared to **absolute** or **relative** values.\n",
    "\n",
    "Please refer [our documentation](https://docs.fiddler.ai/docs/alerts) for more information on Alert Rules. \n",
    "\n",
    "---\n",
    "  \n",
    "Let's set up a few Alert Rules.\n",
    "\n",
    "The following API call sets up a Data Integrity type rule which triggers an email notification when published events have 2 or more range violations in any 1 day bin for the ```numofproducts``` column."
   ]
  },
  {
   "cell_type": "code",
   "execution_count": 13,
   "metadata": {
    "id": "_M9F22O621Ec"
   },
   "outputs": [
    {
     "data": {
      "text/plain": [
       "AlertRule(alert_rule_uuid='40bf4bd3-fc83-467e-af4a-0cc0336ffdbe', organization_name='preprod', project_id='one_point_eight', model_id='churn_classifier', name='Bank Churn Range Violation Alert1', alert_type=AlertType.DATA_INTEGRITY, metric=Metric.RANGE_VIOLATION, column='numofproducts', baseline_id='DEFAULT (churn_data)', priority=Priority.HIGH, compare_to=CompareTo.RAW_VALUE, compare_period=None, warning_threshold=2.0, critical_threshold=3.0, condition=AlertCondition.GREATER, bin_size=BinSize.ONE_DAY)"
      ]
     },
     "execution_count": 13,
     "metadata": {},
     "output_type": "execute_result"
    }
   ],
   "source": [
    "notifications_config = client.build_notifications_config(\n",
    "    emails = \"name@google.com\",\n",
    ")\n",
    "\n",
    "client.add_alert_rule(\n",
    "    name = \"Bank Churn Range Violation Alert1\",\n",
    "    project_id = PROJECT_ID,\n",
    "    model_id = MODEL_ID,\n",
    "    alert_type = fdl.AlertType.DATA_INTEGRITY,\n",
    "    metric = fdl.Metric.RANGE_VIOLATION,\n",
    "    bin_size = fdl.BinSize.ONE_DAY, \n",
    "    compare_to = fdl.CompareTo.RAW_VALUE,\n",
    "    #compare_period = None,\n",
    "    priority = fdl.Priority.HIGH,\n",
    "    warning_threshold = 2,\n",
    "    critical_threshold = 3,\n",
    "    condition = fdl.AlertCondition.GREATER,\n",
    "    column = \"numofproducts\",\n",
    "    notifications_config = notifications_config\n",
    ")"
   ]
  },
  {
   "cell_type": "markdown",
   "metadata": {
    "id": "xb1Zr4zj6sxN"
   },
   "source": [
    "The following API call sets up a Performance type rule which triggers an email notification when precision metric is 5% higher than that from 1 hr bin one day ago."
   ]
  },
  {
   "cell_type": "code",
   "execution_count": 14,
   "metadata": {
    "id": "pRuBHbQy6u4M"
   },
   "outputs": [
    {
     "data": {
      "text/plain": [
       "AlertRule(alert_rule_uuid='71fea5d2-5590-4276-921c-3d9bb8dfa191', organization_name='preprod', project_id='one_point_eight', model_id='churn_classifier', name='Bank Churn Performance Alert', alert_type=AlertType.PERFORMANCE, metric=Metric.PRECISION, column='', baseline_id='DEFAULT (churn_data)', priority=Priority.HIGH, compare_to=CompareTo.TIME_PERIOD, compare_period=ComparePeriod.ONE_DAY, warning_threshold=0.05, critical_threshold=0.1, condition=AlertCondition.GREATER, bin_size=BinSize.ONE_HOUR)"
      ]
     },
     "execution_count": 14,
     "metadata": {},
     "output_type": "execute_result"
    }
   ],
   "source": [
    "notifications_config = client.build_notifications_config(\n",
    "    emails = \"name@google.com\",\n",
    ")\n",
    "client.add_alert_rule(\n",
    "    name = \"Bank Churn Performance Alert\",\n",
    "    project_id = PROJECT_ID,\n",
    "    model_id = MODEL_ID,\n",
    "    alert_type = fdl.AlertType.PERFORMANCE,\n",
    "    metric = fdl.Metric.PRECISION,\n",
    "    bin_size = fdl.BinSize.ONE_HOUR, \n",
    "    compare_to = fdl.CompareTo.TIME_PERIOD,\n",
    "    compare_period = fdl.ComparePeriod.ONE_DAY,\n",
    "    warning_threshold = 0.05,\n",
    "    critical_threshold = 0.1,\n",
    "    condition = fdl.AlertCondition.GREATER,\n",
    "    priority = fdl.Priority.HIGH,\n",
    "    notifications_config = notifications_config\n",
    ")"
   ]
  },
  {
   "cell_type": "markdown",
   "metadata": {
    "id": "GZNJ5NNm5vnA"
   },
   "source": [
    "## 6. Publish production events\n",
    "\n",
    "Information about your model is added to Fiddler and now it's time to start publishing some production data!  \n",
    "Fiddler will **monitor this data and compare it to your baseline to generate powerful insights into how your model is behaving**.\n",
    "\n",
    "\n",
    "---\n",
    "\n",
    "\n",
    "Each record sent to Fiddler is called **an event**.\n",
    "  \n",
    "Let's load in some sample events from a CSV file."
   ]
  },
  {
   "cell_type": "code",
   "execution_count": 15,
   "metadata": {
    "id": "1dmA8PP7GTdJ"
   },
   "outputs": [],
   "source": [
    "PATH_TO_EVENTS_CSV = 'https://raw.githubusercontent.com/fiddler-labs/fiddler-examples/main/quickstart/data/churn_events.csv'\n",
    "\n",
    "production_df = pd.read_csv(PATH_TO_EVENTS_CSV)\n",
    "\n",
    "# Shift the timestamps of the production events to be as recent as today \n",
    "production_df['timestamp'] = production_df['timestamp'] + (int(time.time() * 1000) - production_df['timestamp'].max())"
   ]
  },
  {
   "cell_type": "code",
   "execution_count": 16,
   "metadata": {},
   "outputs": [
    {
     "name": "stdout",
     "output_type": "stream",
     "text": [
      "0      1687547982625\n",
      "1      1687550411540\n",
      "2      1687552840456\n",
      "3      1687555269371\n",
      "4      1687557698287\n",
      "           ...      \n",
      "245    1688143066962\n",
      "246    1688145495878\n",
      "247    1688147924793\n",
      "248    1688150353709\n",
      "249    1688152782625\n",
      "Name: timestamp, Length: 250, dtype: int64\n"
     ]
    }
   ],
   "source": [
    "print(production_df['timestamp'])"
   ]
  },
  {
   "cell_type": "markdown",
   "metadata": {
    "id": "rw052Qg7G1ft"
   },
   "source": [
    "You can use the client's `publish_events_batch` function to start pumping data into Fiddler!\n",
    "  \n",
    "*Just include:*\n",
    "1. The DataFrame containing your events\n",
    "2. The name of the column containing event timestamps"
   ]
  },
  {
   "cell_type": "code",
   "execution_count": 17,
   "metadata": {
    "id": "TI-gqrMmhEOe"
   },
   "outputs": [
    {
     "data": {
      "text/plain": [
       "{'status': 202,\n",
       " 'job_uuid': 'd21bd1cd-bb61-426a-9aae-f882f527e1ed',\n",
       " 'files': ['tmpsrjbqqvj.csv'],\n",
       " 'message': 'Successfully received the event data. Please allow time for the event ingestion to complete in the Fiddler platform.'}"
      ]
     },
     "execution_count": 17,
     "metadata": {},
     "output_type": "execute_result"
    }
   ],
   "source": [
    "client.publish_events_batch(\n",
    "    project_id=PROJECT_ID,\n",
    "    model_id=MODEL_ID,\n",
    "    batch_source=production_df,\n",
    "    timestamp_field='timestamp',\n",
    "    id_field='customer_id' # Optional\n",
    ")"
   ]
  },
  {
   "cell_type": "markdown",
   "metadata": {
    "id": "vR6IR8YNHgG1"
   },
   "source": [
    "## 7. Get insights\n",
    "  \n",
    "Now just head to your Fiddler URL and start getting enhanced observability into your model's performance.\n",
    "\n",
    "Run the following code block to get your URL."
   ]
  },
  {
   "cell_type": "code",
   "execution_count": 18,
   "metadata": {
    "colab": {
     "base_uri": "https://localhost:8080/"
    },
    "id": "VPjFE5USNsrF",
    "outputId": "50fd6d02-233d-4569-ca47-a25fa2fe8021"
   },
   "outputs": [
    {
     "name": "stdout",
     "output_type": "stream",
     "text": [
      "https://preprod.fiddler.ai/projects/one_point_eight/models/churn_classifier/monitor\n"
     ]
    }
   ],
   "source": [
    "print('/'.join([URL, 'projects', PROJECT_ID, 'models', MODEL_ID, 'monitor']))"
   ]
  },
  {
   "cell_type": "markdown",
   "metadata": {
    "id": "-DZMVHAEBzC_"
   },
   "source": [
    "*Please allow 5-10 minutes for monitoring data to populate the charts.*\n",
    "  \n",
    "The following screen will be available to you upon completion.\n",
    "<table>\n",
    "    <tr>\n",
    "        <td>\n",
    "            <img src=\"https://raw.githubusercontent.com/fiddler-labs/fiddler-examples/main/quickstart/images/8.png\" />\n",
    "        </td>\n",
    "    </tr>\n",
    "</table>"
   ]
  },
  {
   "cell_type": "markdown",
   "metadata": {
    "id": "Jdkj1eHgOTAO"
   },
   "source": [
    "**What's Next?**\n",
    "\n",
    "Try the [NLP Monitoring - Quickstart Notebook](https://docs.fiddler.ai/docs/simple-nlp-monitoring-quick-start)\n",
    "\n",
    "---\n",
    "\n",
    "\n",
    "**Questions?**  \n",
    "  \n",
    "Check out [our docs](https://docs.fiddler.ai/) for a more detailed explanation of what Fiddler has to offer.\n",
    "\n",
    "Join our [community Slack](http://fiddler-community.slack.com/) to ask any questions!\n",
    "\n",
    "If you're still looking for answers, fill out a ticket on [our support page](https://fiddlerlabs.zendesk.com/) and we'll get back to you shortly."
   ]
  }
 ],
 "metadata": {
  "colab": {
   "provenance": []
  },
  "kernelspec": {
   "display_name": "Python 3 (ipykernel)",
   "language": "python",
   "name": "python3"
  },
  "language_info": {
   "codemirror_mode": {
    "name": "ipython",
    "version": 3
   },
   "file_extension": ".py",
   "mimetype": "text/x-python",
   "name": "python",
   "nbconvert_exporter": "python",
   "pygments_lexer": "ipython3",
   "version": "3.11.4"
  }
 },
 "nbformat": 4,
 "nbformat_minor": 4
}
