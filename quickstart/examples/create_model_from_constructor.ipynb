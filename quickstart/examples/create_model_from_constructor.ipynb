{
 "cells": [
  {
   "cell_type": "markdown",
   "metadata": {
    "id": "sF3cOBoVx9Ji"
   },
   "source": [
    "# Fiddler Examples: Creating a Fiddler Model Using Model Constructor"
   ]
  },
  {
   "cell_type": "markdown",
   "metadata": {},
   "source": [
    "The fastest method for onboarding a model to Fiddler is to provide a small sample of your model's test or training data to the [Model.from_data()](https://docs.fiddler.ai/python-client-3-x/api-methods-30#from_data) method. This process is demonstrated in Fiddler's [Simple ML Monitoring Quick Start](https://docs.fiddler.ai/quickstart-notebooks/quick-start). This method will inspect your data and automatically infer a [ModelSchema](https://docs.fiddler.ai/python-client-3-x/api-methods-30#modelschema) object containing:\n",
    "\n",
    "* The set of column names\n",
    "* Column data types (mapping them to Fiddler [DataType](https://docs.fiddler.ai/python-client-3-x/api-methods-30#datatype))\n",
    "* Minium and maximum values for numerics, which are used for [Range Violation](https://docs.fiddler.ai/product-guide/monitoring-platform/data-integrity-platform) boundaries\n",
    "* The unique possible values for strings inferred as Category types, which are used for [Range Violation](https://docs.fiddler.ai/product-guide/monitoring-platform/data-integrity-platform) boundaries\n",
    "\n",
    "Occasionally, you must override the inferred [ModelSchema](https://docs.fiddler.ai/python-client-3-x/api-methods-30#modelschema), which must be done before the model is created if you use only the Fiddler Python client. Note that Model schema edits are supported in the Fiddler UI. Typical overrides include changing the inferred [DataType](https://docs.fiddler.ai/python-client-3-x/api-methods-30#datatype), min/max values, and possible Category values, as described in the [Customizing your Model Schema guide](https://docs.fiddler.ai/client-guide/customizing-your-model-schema).\n",
    "\n",
    "### Creating ModelSchema Manually\n",
    "\n",
    "In situations where human intervention in the model onboarding process is inconvenient—especially in automated model onboarding pipelines—it is advisable to create the [ModelSchema](https://docs.fiddler.ai/python-client-3-x/api-methods-30#modelschema) manually within your onboarding script. Instead of using the convenience method [Model.from_data()](https://docs.fiddler.ai/python-client-3-x/api-methods-30#from_data), you should use the [Model](https://docs.fiddler.ai/python-client-3-x/api-methods-30#model) object [constructor](https://docs.fiddler.ai/python-client-3-x/api-methods-30#constructor-3) and supply a preconfigured set of Columns. The following script demonstrates this process."
   ]
  },
  {
   "cell_type": "code",
   "execution_count": null,
   "metadata": {
    "id": "Pg-BdRJ4w3LM"
   },
   "outputs": [],
   "source": [
    "%pip install -q fiddler-client\n",
    "\n",
    "import time as time\n",
    "\n",
    "import pandas as pd\n",
    "import fiddler as fdl\n",
    "\n",
    "print(f'Running Fiddler Python client version {fdl.__version__}')"
   ]
  },
  {
   "cell_type": "code",
   "execution_count": 19,
   "metadata": {
    "id": "CWErNsofAz6B"
   },
   "outputs": [],
   "source": [
    "URL = ''  # Make sure to include the full URL (including https:// e.g. 'https://your_company_name.fiddler.ai').\n",
    "TOKEN = ''"
   ]
  },
  {
   "cell_type": "markdown",
   "metadata": {},
   "source": [
    "Constants for this example notebook, change as needed to create your own versions"
   ]
  },
  {
   "cell_type": "code",
   "execution_count": null,
   "metadata": {},
   "outputs": [],
   "source": [
    "PROJECT_NAME = 'quickstart_examples'  # If the project already exists, the notebook will create the model under the existing project.\n",
    "MODEL_NAME = 'bank_churn_model_constructor3'\n",
    "\n",
    "STATIC_BASELINE_NAME = 'baseline_dataset'\n",
    "\n",
    "# Sample data hosted on GitHub\n",
    "PATH_TO_SAMPLE_CSV = 'https://raw.githubusercontent.com/fiddler-labs/fiddler-examples/main/quickstart/data/v3/churn_data_sample.csv'\n",
    "PATH_TO_EVENTS_CSV = 'https://raw.githubusercontent.com/fiddler-labs/fiddler-examples/main/quickstart/data/v3/churn_production_data.csv'"
   ]
  },
  {
   "cell_type": "markdown",
   "metadata": {
    "id": "4EttApX9BBIn"
   },
   "source": [
    "Now just run the following to connect to your Fiddler environment."
   ]
  },
  {
   "cell_type": "code",
   "execution_count": null,
   "metadata": {
    "id": "g6ONUHliBAsH"
   },
   "outputs": [],
   "source": [
    "fdl.init(url=URL, token=TOKEN)"
   ]
  },
  {
   "cell_type": "markdown",
   "metadata": {},
   "source": [
    "Create a new or retrieve an existing Project with the supplied project name."
   ]
  },
  {
   "cell_type": "code",
   "execution_count": null,
   "metadata": {
    "id": "vh46Mp1MBSMj"
   },
   "outputs": [],
   "source": [
    "project = fdl.Project.get_or_create(name=PROJECT_NAME)"
   ]
  },
  {
   "cell_type": "markdown",
   "metadata": {},
   "source": [
    "## Manually Configure ModelSchema Columns\n",
    "\n",
    "Here we create a list of [Column](https://docs.fiddler.ai/python-client-3-x/api-methods-30#column) objects which we will use for populating our ModelSchema's columns collection. Note that columns will have different required parameters depending on their DataType. For example, numeric columns require min/max values, but those are not allowed for Category [DataType](https://docs.fiddler.ai/python-client-3-x/api-methods-30#datatype) columns which require a list of categories instead.  "
   ]
  },
  {
   "cell_type": "code",
   "execution_count": null,
   "metadata": {},
   "outputs": [],
   "source": [
    "columns = [\n",
    "    fdl.Column(\n",
    "        name='customer_id',\n",
    "        data_type=fdl.DataType.STRING,\n",
    "        min=None,\n",
    "        max=None,\n",
    "    ),\n",
    "    fdl.Column(\n",
    "        name='creditscore',\n",
    "        data_type=fdl.DataType.INTEGER,\n",
    "        min=350,\n",
    "        max=850,\n",
    "    ),\n",
    "    fdl.Column(\n",
    "        name='geography',\n",
    "        data_type=fdl.DataType.CATEGORY,\n",
    "        categories=[\n",
    "            'California',\n",
    "            'Florida',\n",
    "            'Hawaii',\n",
    "            'Massachusetts',\n",
    "            'New York',\n",
    "            'Texas',\n",
    "        ],\n",
    "        min=None,\n",
    "        max=None,\n",
    "    ),\n",
    "    fdl.Column(\n",
    "        name='gender',\n",
    "        data_type=fdl.DataType.CATEGORY,\n",
    "        categories=['Female', 'Male', 'Nonbinary'],\n",
    "        min=None,\n",
    "        max=None,\n",
    "    ),\n",
    "    fdl.Column(\n",
    "        name='age',\n",
    "        data_type=fdl.DataType.INTEGER,\n",
    "        categories=None,\n",
    "        min=18,\n",
    "        max=92,\n",
    "    ),\n",
    "    fdl.Column(\n",
    "        name='tenure',\n",
    "        data_type=fdl.DataType.INTEGER,\n",
    "        categories=None,\n",
    "        min=0,\n",
    "        max=10,\n",
    "    ),\n",
    "    fdl.Column(\n",
    "        name='balance',\n",
    "        data_type=fdl.DataType.FLOAT,\n",
    "        categories=None,\n",
    "        min=0.0,\n",
    "        max=250898.09,\n",
    "    ),\n",
    "    fdl.Column(\n",
    "        name='numofproducts',\n",
    "        data_type=fdl.DataType.INTEGER,\n",
    "        categories=None,\n",
    "        min=1,\n",
    "        max=4,\n",
    "    ),\n",
    "    fdl.Column(\n",
    "        name='hascrcard',\n",
    "        data_type=fdl.DataType.INTEGER,\n",
    "        categories=None,\n",
    "        min=0,\n",
    "        max=1,\n",
    "    ),\n",
    "    fdl.Column(\n",
    "        name='isactivemember',\n",
    "        data_type=fdl.DataType.INTEGER,\n",
    "        categories=None,\n",
    "        min=0,\n",
    "        max=1,\n",
    "    ),\n",
    "    fdl.Column(\n",
    "        name='estimatedsalary',\n",
    "        data_type=fdl.DataType.FLOAT,\n",
    "        categories=None,\n",
    "        min=11.58,\n",
    "        max=199992.48,\n",
    "    ),\n",
    "    fdl.Column(\n",
    "        name='predicted_churn',\n",
    "        data_type=fdl.DataType.FLOAT,\n",
    "        categories=None,\n",
    "        min=8.339427867148919e-05,\n",
    "        max=0.9999984102948216,\n",
    "    ),\n",
    "    fdl.Column(\n",
    "        name='churn',\n",
    "        data_type=fdl.DataType.CATEGORY,\n",
    "        categories=['no', 'yes'],\n",
    "        min=None,\n",
    "        max=None,\n",
    "    ),\n",
    "    fdl.Column(\n",
    "        name='timestamp',\n",
    "        data_type=fdl.DataType.INTEGER,\n",
    "        categories=None,\n",
    "        min=1710428231855,\n",
    "        max=1711033031855,\n",
    "    ),\n",
    "]"
   ]
  },
  {
   "cell_type": "markdown",
   "metadata": {},
   "source": [
    "## Using the Model Constructor\n",
    "\n",
    "Now that we have our columns configured, we can create an instance of [ModelSchema](https://docs.fiddler.ai/python-client-3-x/api-methods-30#modelschema) and then assign the rest of the Model parameters. "
   ]
  },
  {
   "cell_type": "code",
   "execution_count": null,
   "metadata": {},
   "outputs": [],
   "source": [
    "schema = fdl.ModelSchema(columns=columns)\n",
    "\n",
    "input_columns = [\n",
    "    'creditscore',\n",
    "    'geography',\n",
    "    'gender',\n",
    "    'age',\n",
    "    'tenure',\n",
    "    'balance',\n",
    "    'numofproducts',\n",
    "    'hascrcard',\n",
    "    'isactivemember',\n",
    "    'estimatedsalary',\n",
    "]\n",
    "output_column = 'predicted_churn'\n",
    "target_column = 'churn'\n",
    "metadata_columns = ['customer_id', 'timestamp']\n",
    "\n",
    "model_spec = fdl.ModelSpec(\n",
    "    inputs=input_columns,\n",
    "    outputs=[output_column],\n",
    "    targets=[\n",
    "        target_column\n",
    "    ],  # Note: only a single Target column is allowed, use metadata columns and custom metrics for additional targets\n",
    "    metadata=metadata_columns,\n",
    ")\n",
    "\n",
    "model = fdl.Model(\n",
    "    name=MODEL_NAME,\n",
    "    project_id=project.id,\n",
    "    task=fdl.ModelTask.BINARY_CLASSIFICATION,\n",
    "    task_params=fdl.ModelTaskParams(target_class_order=['no', 'yes']),\n",
    "    schema=schema,\n",
    "    spec=model_spec,\n",
    "    event_id_col='customer_id',\n",
    "    event_ts_col='timestamp',\n",
    ")"
   ]
  },
  {
   "cell_type": "markdown",
   "metadata": {},
   "source": [
    "### Check the ModelSchema"
   ]
  },
  {
   "cell_type": "code",
   "execution_count": null,
   "metadata": {},
   "outputs": [],
   "source": [
    "# Check schema\n",
    "model.schema"
   ]
  },
  {
   "cell_type": "markdown",
   "metadata": {},
   "source": [
    "### Create the Model"
   ]
  },
  {
   "cell_type": "code",
   "execution_count": null,
   "metadata": {},
   "outputs": [],
   "source": [
    "model.create()"
   ]
  },
  {
   "cell_type": "markdown",
   "metadata": {},
   "source": [
    "## Next Steps\n",
    "\n",
    "From this point, you may proceed as usual with model onboarding by (optionally) publishing a preproduction [Baseline](https://docs.fiddler.ai/client-guide/creating-a-baseline-dataset) dataset, creating [Alerts](https://docs.fiddler.ai/client-guide/alerts-with-fiddler-client), and [publishing](https://docs.fiddler.ai/client-guide/publishing-production-data) production events."
   ]
  },
  {
   "cell_type": "markdown",
   "metadata": {
    "id": "Jdkj1eHgOTAO"
   },
   "source": [
    "**Questions?**  \n",
    "  \n",
    "Check out [our docs](https://docs.fiddler.ai/) for a more detailed explanation of what Fiddler has to offer."
   ]
  }
 ],
 "metadata": {
  "colab": {
   "provenance": []
  },
  "kernelspec": {
   "display_name": "Python 3",
   "language": "python",
   "name": "python3"
  },
  "language_info": {
   "codemirror_mode": {
    "name": "ipython",
    "version": 3
   },
   "file_extension": ".py",
   "mimetype": "text/x-python",
   "name": "python",
   "nbconvert_exporter": "python",
   "pygments_lexer": "ipython3",
   "version": "3.10.13"
  }
 },
 "nbformat": 4,
 "nbformat_minor": 4
}
