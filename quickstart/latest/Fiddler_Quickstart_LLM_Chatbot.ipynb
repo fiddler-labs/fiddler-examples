{
 "cells": [
  {
   "cell_type": "markdown",
   "metadata": {
    "id": "sF3cOBoVx9Ji"
   },
   "source": [
    "# Fiddler LLM Application Quick Start Guide\n",
    "\n",
    "Fiddler is the pioneer in enterprise AI Observability, offering a unified platform that enables all model stakeholders to monitor model performance and to investigate the true source of model degredation.  Fiddler's AI Observability platform supports both traditional ML models as well as Generative AI applications.  This guide walks you through how to onboard an LLM chatbot application that is built using a RAG architecture.\n",
    "\n",
    "---\n",
    "\n",
    "You can start using Fiddler ***in minutes*** by following these 8 quick steps:\n",
    "\n",
    "1. Connect to Fiddler\n",
    "2. Create a Fiddler Project\n",
    "3. Load a Data Sample\n",
    "4. Opt-in to Specific Fiddler LLM Enrichments\n",
    "5. Add Information About the LLM Application\n",
    "6. Publish Production Events\n",
    "\n",
    "Get insights!"
   ]
  },
  {
   "cell_type": "markdown",
   "metadata": {
    "id": "wUZi_5s7wsGA"
   },
   "source": [
    "## 0. Imports"
   ]
  },
  {
   "cell_type": "code",
   "execution_count": null,
   "metadata": {
    "ExecuteTime": {
     "end_time": "2023-07-27T19:02:01.749620Z",
     "start_time": "2023-07-27T19:01:56.285723Z"
    },
    "id": "Pg-BdRJ4w3LM"
   },
   "outputs": [],
   "source": [
    "%pip install -q fiddler-client\n",
    "\n",
    "import time as time\n",
    "\n",
    "import numpy as np\n",
    "import pandas as pd\n",
    "import fiddler as fdl\n",
    "\n",
    "print(f\"Running Fiddler Python client version {fdl.__version__}\")"
   ]
  },
  {
   "cell_type": "markdown",
   "metadata": {
    "id": "hcP0yWfV1GoZ"
   },
   "source": [
    "## 1. Connect to Fiddler\n",
    "\n",
    "Before you can add information about your LLM Application with Fiddler, you'll need to connect using the Fiddler Python client.\n",
    "\n",
    "\n",
    "---\n",
    "\n",
    "\n",
    "**We need a couple pieces of information to get started.**\n",
    "1. The URL you're using to connect to Fiddler\n",
    "2. Your authorization token\n",
    "\n",
    "Your authorization token can be found by navigating to the **Credentials** tab on the **Settings** page of your Fiddler environment."
   ]
  },
  {
   "cell_type": "code",
   "execution_count": null,
   "metadata": {
    "ExecuteTime": {
     "end_time": "2023-07-27T19:02:01.753366Z",
     "start_time": "2023-07-27T19:02:01.751323Z"
    },
    "id": "05hPBZHr1eBv"
   },
   "outputs": [],
   "source": [
    "URL = ''  # Make sure to include the full URL (including https:// e.g. 'https://your_company_name.fiddler.ai').\n",
    "TOKEN = ''"
   ]
  },
  {
   "cell_type": "markdown",
   "metadata": {
    "id": "c2B7cgPa2Ajo"
   },
   "source": [
    "Constants for this example notebook, change as needed to create your own versions"
   ]
  },
  {
   "cell_type": "code",
   "execution_count": null,
   "metadata": {},
   "outputs": [],
   "source": [
    "PROJECT_NAME = 'quickstart_examples'  # If the project already exists, the notebook will create the model under the existing project.\n",
    "MODEL_NAME = 'fiddler_rag_llm_chatbot'\n",
    "\n",
    "# Sample data hosted on GitHub\n",
    "PATH_TO_SAMPLE_CSV = 'https://media.githubusercontent.com/media/fiddler-labs/fiddler-examples/main/quickstart/data/v3/chatbot_data_sample.csv'\n",
    "PATH_TO_EVENTS_CSV = 'https://media.githubusercontent.com/media/fiddler-labs/fiddler-examples/main/quickstart/data/v3/chatbot_production_data.csv'"
   ]
  },
  {
   "cell_type": "markdown",
   "metadata": {
    "id": "4EttApX9BBIn"
   },
   "source": [
    "Now just run the following code block to connect to the Fiddler API!"
   ]
  },
  {
   "cell_type": "code",
   "execution_count": null,
   "metadata": {
    "ExecuteTime": {
     "end_time": "2023-07-27T19:02:58.459534Z",
     "start_time": "2023-07-27T19:02:57.976152Z"
    },
    "id": "g6ONUHliBAsH"
   },
   "outputs": [],
   "source": [
    "try:\n",
    "    fdl.init(url=URL, token=TOKEN) \n",
    "except Exception as e:\n",
    "    print(f'Error initializing Fiddler Python client: {e}')"
   ]
  },
  {
   "cell_type": "markdown",
   "metadata": {
    "id": "QpUHeE3dBTHD"
   },
   "source": [
    "## 2. Create a Fiddler Project\n",
    "\n",
    "Once you connect, you can create a new project by specifying a unique project name in the `Project` constructor and calling the `create()` method. If the project already exists, it will load it for use."
   ]
  },
  {
   "cell_type": "code",
   "execution_count": null,
   "metadata": {
    "ExecuteTime": {
     "end_time": "2023-07-27T18:54:19.978019Z",
     "start_time": "2023-07-27T18:54:19.874012Z"
    },
    "id": "raH7eU2Koaai",
    "scrolled": true
   },
   "outputs": [],
   "source": [
    "try:\n",
    "    # Create project\n",
    "    project = fdl.Project(name=PROJECT_NAME).create()\n",
    "    print(f'New project created with id = {project.id} and name = {project.name}')\n",
    "except fdl.Conflict:\n",
    "    # Get project by name\n",
    "    project = fdl.Project.from_name(name=PROJECT_NAME)\n",
    "    print(f'Loaded existing project with id = {project.id} and name = {project.name}')"
   ]
  },
  {
   "cell_type": "markdown",
   "metadata": {},
   "source": [
    "## 3. Load a Data Sample\n",
    "\n",
    "In this example, we'll be onboarding data in order to observe our **Fiddler chatbot application**.\n",
    "  \n",
    "In order to get insights into the LLM Applications's performance, **Fiddler needs a small sample of data** to learn the schema of incoming data.\n",
    "Let's use a file with some historical prompts, source docs, and responses from our chatbot for the sample."
   ]
  },
  {
   "cell_type": "code",
   "execution_count": null,
   "metadata": {
    "id": "0ketSE6Goaaj"
   },
   "outputs": [],
   "source": [
    "sample_data_df = pd.read_csv(PATH_TO_SAMPLE_CSV)\n",
    "sample_data_df"
   ]
  },
  {
   "cell_type": "markdown",
   "metadata": {
    "id": "niKle55HCgIj"
   },
   "source": [
    "Fiddler will uses this data sample to keep track of important information about your data.  This includes **data types**, **data ranges**, and **unique values** for categorical variables."
   ]
  },
  {
   "cell_type": "markdown",
   "metadata": {
    "id": "hgDizRNXoaan"
   },
   "source": [
    "## 4. Opt-in to Specific Fiddler LLM Enrichments\n",
    "\n",
    "After picking a sample of our chatbot's prompts and responses, we can request that Fiddler execute a series of enrichment services that can \"score\" our prompts and responses for a variety of insights.  These enrichment services can detect AI safety issues like PII leakage, hallucinations, toxicity, and more.  We can also opt-in for enrichment services like embedding generation which will allow us to track prompt and response outliers and drift. A full description of these enrichments can be found [here](https://docs.fiddler.ai/platform-guide/llm-monitoring/enrichments-private-preview).\n",
    "\n",
    "---\n",
    "\n",
    "Let's define the enrichment services we'd like to use.  Here we will opt in for embedding generation for our prompts, responses and source docs.  Additionally, let's opt in for PII detection, outlier detection through centroid distance metrics, and some other text-based evaluation scores."
   ]
  },
  {
   "cell_type": "code",
   "execution_count": null,
   "metadata": {
    "id": "kJmCV_40oaan"
   },
   "outputs": [],
   "source": [
    "fiddler_backend_enrichments = [\n",
    "    # prompt enrichemnt\n",
    "    fdl.TextEmbedding(\n",
    "        name='Prompt TextEmbedding',\n",
    "        source_column='question',\n",
    "        column='Enrichment Prompt Embedding',\n",
    "        n_tags=10,\n",
    "    ),\n",
    "    # response enrichment\n",
    "    fdl.TextEmbedding(\n",
    "        name='Response TextEmbedding',\n",
    "        source_column='response',\n",
    "        column='Enrichment Response Embedding',\n",
    "        n_tags=10,\n",
    "    ),\n",
    "    # rag document enrichments\n",
    "    fdl.TextEmbedding(\n",
    "        name='Source Docs TextEmbedding',\n",
    "        source_column='source_docs',\n",
    "        column='Enrichment Source Docs Embedding',\n",
    "        n_tags=10,\n",
    "    ),\n",
    "    # safety\n",
    "    fdl.Enrichment(\n",
    "        name='FTL Safety',\n",
    "        enrichment='ftl_prompt_safety',\n",
    "        columns=['question', 'response'],\n",
    "    ),\n",
    "    # hallucination\n",
    "    fdl.Enrichment(\n",
    "        name='Faithfulness',\n",
    "        enrichment='ftl_response_faithfulness',\n",
    "        columns=['source_docs', 'response'],\n",
    "        config={'context_field': 'source_docs', 'response_field': 'response'},\n",
    "    ),\n",
    "    # text quality\n",
    "    fdl.Enrichment(\n",
    "        name='Enrichment QA TextStat',\n",
    "        enrichment='textstat',\n",
    "        columns=['question', 'response'],\n",
    "        config={\n",
    "            'statistics': [\n",
    "                'char_count',\n",
    "                'flesch_reading_ease',\n",
    "                'flesch_kincaid_grade',\n",
    "            ]\n",
    "        },\n",
    "    ),\n",
    "    fdl.Enrichment(\n",
    "        name='Enrichment QA Sentiment',\n",
    "        enrichment='sentiment',\n",
    "        columns=['question', 'response'],\n",
    "    ),\n",
    "    # PII detection\n",
    "    fdl.Enrichment(\n",
    "        name='Rag PII', enrichment='pii', columns=['question'], allow_list=['fiddler']\n",
    "    ),\n",
    "]"
   ]
  },
  {
   "cell_type": "markdown",
   "metadata": {
    "id": "vSY_Es-coaan"
   },
   "source": [
    "## 5.  Add Information About the LLM application\n",
    "\n",
    "Now it's time to onboard information about our LLM application to Fiddler.  We do this by defining a `ModelSpec` object.\n",
    "\n",
    "\n",
    "---\n",
    "\n",
    "\n",
    "The `ModelSpec` object will contain some **information about how your LLM application operates**.\n",
    "  \n",
    "*Just include:*\n",
    "1. The **input/output** columns.  For a LLM application, these are just the raw inputs and outputs of our LLM application.\n",
    "2. Any **metadata** columns.\n",
    "3. The **custom features** which contain the configuration of the enrichments we opted for.\n",
    "\n",
    "We'll also want a few other pieces of information:\n",
    "1. The **task** your model or LLM application is performing (LLM, regression, binary classification, not set, etc.)\n",
    "2. Which column to use to read timestamps from."
   ]
  },
  {
   "cell_type": "code",
   "execution_count": null,
   "metadata": {},
   "outputs": [],
   "source": [
    "model_spec = fdl.ModelSpec(\n",
    "    inputs=['question', 'response', 'source_docs'],\n",
    "    metadata=['session_id', 'comment', 'timestamp', 'feedback'],\n",
    "    custom_features=fiddler_backend_enrichments,\n",
    ")\n",
    "\n",
    "model_task = fdl.ModelTask.LLM\n",
    "\n",
    "timestamp_column = 'timestamp'"
   ]
  },
  {
   "cell_type": "markdown",
   "metadata": {},
   "source": [
    "Then just publish all of this to Fiddler by configuring a `Model` object to represent your LLM application in Fiddler."
   ]
  },
  {
   "cell_type": "code",
   "execution_count": null,
   "metadata": {},
   "outputs": [],
   "source": [
    "llm_application = fdl.Model.from_data(\n",
    "    source=sample_data_df,\n",
    "    name=MODEL_NAME,\n",
    "    project_id=project.id,\n",
    "    spec=model_spec,\n",
    "    task=model_task,\n",
    "    event_ts_col=timestamp_column,\n",
    "    max_cardinality=5,\n",
    ")"
   ]
  },
  {
   "cell_type": "markdown",
   "metadata": {},
   "source": [
    "Now call the `create` method to publish it to Fiddler!"
   ]
  },
  {
   "cell_type": "code",
   "execution_count": null,
   "metadata": {},
   "outputs": [],
   "source": [
    "try:\n",
    "    llm_application.create()\n",
    "    print(f'New model created with id = {llm_application.id} and name = {llm_application.name}')\n",
    "except Exception as e:\n",
    "    print(f'Error calling fdl.Model.create(): {e}')"
   ]
  },
  {
   "cell_type": "markdown",
   "metadata": {
    "id": "tBZZCUPsoaao"
   },
   "source": [
    "## 6. Publish Production Events\n",
    "\n",
    "Information about your LLM application is now onboarded to Fiddler. It's time to start publishing some production data!  \n",
    "\n",
    "\n",
    "---\n",
    "\n",
    "\n",
    "Each record sent to Fiddler is called **an event**.  Events simply contain the inputs and outputs of a predictive model or LLM application.\n",
    "  \n",
    "Let's load in some sample events (prompts and responses) from a CSV file."
   ]
  },
  {
   "cell_type": "code",
   "execution_count": null,
   "metadata": {
    "id": "bq41uqX1oaao"
   },
   "outputs": [],
   "source": [
    "llm_events_df = pd.read_csv(PATH_TO_EVENTS_CSV)\n",
    "\n",
    "# Timeshifting the timestamp column in the events file so the events are as recent as today\n",
    "llm_events_df['timestamp'] = pd.to_datetime(llm_events_df['timestamp'])\n",
    "time_diff = pd.Timestamp.now().normalize() - llm_events_df['timestamp'].max()\n",
    "llm_events_df['timestamp'] += time_diff\n",
    "\n",
    "llm_events_df"
   ]
  },
  {
   "cell_type": "markdown",
   "metadata": {
    "id": "YVmYiZgkoaao"
   },
   "source": [
    "You can use the `Model.publish` function to start pumping data into Fiddler!\n",
    "  \n",
    "Just pass in the DataFrame containing your events."
   ]
  },
  {
   "cell_type": "code",
   "execution_count": null,
   "metadata": {
    "id": "0HA3zidgoaao"
   },
   "outputs": [],
   "source": [
    "# Define the number of rows per chunk\n",
    "chunk_size = 10\n",
    "\n",
    "# Splitting the DataFrame into smaller chunks\n",
    "for start in range(0, llm_events_df.shape[0], chunk_size):\n",
    "    df_chunk = llm_events_df.iloc[start : start + chunk_size]\n",
    "    llm_application.publish(df_chunk)"
   ]
  },
  {
   "cell_type": "markdown",
   "metadata": {
    "id": "1AZGF6e0oaap"
   },
   "source": [
    "# Get insights\n",
    "\n",
    "**You're all done!**\n",
    "  \n",
    "You can now head to your Fiddler environment and start getting enhanced observability into your LLM application's performance."
   ]
  },
  {
   "cell_type": "markdown",
   "metadata": {
    "id": "vJxbHh32oaap"
   },
   "source": [
    "<table>\n",
    "    <tr>\n",
    "        <td>\n",
    "            <img src=\"https://raw.githubusercontent.com/fiddler-labs/fiddler-examples/main/quickstart/images/LLM_chatbot_UMAP.png\" />\n",
    "        </td>\n",
    "    </tr>\n",
    "</table>"
   ]
  },
  {
   "cell_type": "markdown",
   "metadata": {
    "id": "Jdkj1eHgOTAO"
   },
   "source": [
    "**What's Next?**\n",
    "\n",
    "Try the [ML Monitoring - Quick Start Guide](https://docs.fiddler.ai/quickstart-notebooks/quick-start)\n",
    "\n",
    "---\n",
    "\n",
    "\n",
    "**Questions?**  \n",
    "  \n",
    "Check out [our docs](https://docs.fiddler.ai/) for a more detailed explanation of what Fiddler has to offer.\n",
    "\n",
    "Join our [community Slack](http://fiddler-community.slack.com/) to ask any questions!\n",
    "\n",
    "If you're still looking for answers, fill out a ticket on [our support page](https://fiddlerlabs.zendesk.com/) and we'll get back to you shortly."
   ]
  },
  {
   "cell_type": "code",
   "execution_count": null,
   "metadata": {},
   "outputs": [],
   "source": []
  }
 ],
 "metadata": {
  "colab": {
   "provenance": []
  },
  "kernelspec": {
   "display_name": "Python 3 (ipykernel)",
   "language": "python",
   "name": "python3"
  },
  "language_info": {
   "codemirror_mode": {
    "name": "ipython",
    "version": 3
   },
   "file_extension": ".py",
   "mimetype": "text/x-python",
   "name": "python",
   "nbconvert_exporter": "python",
   "pygments_lexer": "ipython3",
   "version": "3.10.13"
  }
 },
 "nbformat": 4,
 "nbformat_minor": 4
}
