{
 "cells": [
  {
   "cell_type": "markdown",
   "id": "03f71592",
   "metadata": {},
   "source": [
    "# Model Versions\n",
    "\n",
    "In this notebook, we present the steps for creating additional versions of a model.  When a model is onboarded to Fiddler it is considered version 1 by default. To make significant changes to an existing model, such as altering the model schema, a new version of the model must be created. A model can have as many versions as desired and each can be live simultaneously or retained for historical viewing. \n",
    "\n",
    "This notebook is an example of how changes can be made in a `ModelSchema` and how Fiddler maintains them using versioning.\n",
    "\n",
    "---"
   ]
  },
  {
   "cell_type": "markdown",
   "id": "be48501f",
   "metadata": {},
   "source": [
    "Model versioning docs can be referenced [here](https://docs.fiddler.ai/product-guide/monitoring-platform/model-versions) \n",
    "\n",
    "Model Versions are supported on Fiddler Python client version 3.1.0 and above using Python version 3.10+.\n",
    "\n",
    "You can experience Fiddler's Model Versioning in minutes by following these quick steps:\n",
    "\n",
    "1. Connect to Fiddler\n",
    "2. Load a Data Sample\n",
    "3. Create a Model: first version with no ModelTask\n",
    "4. Second Version: target class and binary classification task & defined threshold\n",
    "5. Third Version: change the datatype of a column and delete a column \n",
    "6. Fourth Version: change the column names\n",
    "7. Fifth version: update column value range\n",
    "8. Update Version Name\n",
    "9. Delete a Model Version"
   ]
  },
  {
   "cell_type": "markdown",
   "id": "7a839c55",
   "metadata": {},
   "source": [
    "# 0. Imports"
   ]
  },
  {
   "cell_type": "code",
   "execution_count": null,
   "id": "582c8fc3",
   "metadata": {},
   "outputs": [],
   "source": [
    "%pip install -q fiddler-client\n",
    "\n",
    "import time as time\n",
    "\n",
    "import pandas as pd\n",
    "import fiddler as fdl\n",
    "\n",
    "print(f\"Running Fiddler Python client version {fdl.__version__}\")"
   ]
  },
  {
   "cell_type": "markdown",
   "id": "d7d9c7e3",
   "metadata": {},
   "source": [
    "## 1. Connect to Fiddler\n",
    "\n",
    "Before you can add information about your model with Fiddler, you'll need to connect using the Fiddler Python client.\n",
    "\n",
    "\n",
    "---\n",
    "\n",
    "\n",
    "**We need a couple pieces of information to get started.**\n",
    "1. The URL you're using to connect to Fiddler\n",
    "2. Your authorization token\n",
    "\n",
    "Your authorization token can be found by navigating to the **Credentials** tab on the **Settings** page of your Fiddler environment."
   ]
  },
  {
   "cell_type": "code",
   "execution_count": null,
   "id": "60aaa44b",
   "metadata": {},
   "outputs": [],
   "source": [
    "URL = ''  # Make sure to include the full URL (including https:// e.g. 'https://your_company_name.fiddler.ai').\n",
    "TOKEN = ''"
   ]
  },
  {
   "cell_type": "markdown",
   "id": "4abdb316",
   "metadata": {},
   "source": [
    "Constants for this example notebook, change as needed to create your own versions"
   ]
  },
  {
   "cell_type": "code",
   "execution_count": null,
   "id": "97f84540",
   "metadata": {},
   "outputs": [],
   "source": [
    "PROJECT_NAME = 'quickstart_examples'\n",
    "MODEL_NAME = 'bank_churn_model_versions'\n",
    "DATASET_NAME = 'baseline_dataset'\n",
    "\n",
    "PATH_TO_SAMPLE_CSV = \"https://raw.githubusercontent.com/fiddler-labs/fiddler-examples/main/quickstart/data/v3/churn_data_sample.csv\""
   ]
  },
  {
   "cell_type": "markdown",
   "id": "878685eb",
   "metadata": {},
   "source": [
    "Now just run the following to connect to your Fiddler environment."
   ]
  },
  {
   "cell_type": "code",
   "execution_count": null,
   "id": "882cadae",
   "metadata": {},
   "outputs": [],
   "source": [
    "fdl.init(url=URL, token=TOKEN)"
   ]
  },
  {
   "cell_type": "markdown",
   "id": "6e66776a",
   "metadata": {},
   "source": [
    "#### 1.a Create New or Load Existing Project\n",
    "\n",
    "Once you connect, you can create a new project by specifying a unique project name in the fld.Project constructor and calling the `create()` method. If the project already exists, it will load it for use."
   ]
  },
  {
   "cell_type": "code",
   "execution_count": null,
   "id": "c968eae9",
   "metadata": {},
   "outputs": [],
   "source": [
    "project = fdl.Project.get_or_create(name=PROJECT_NAME)\n",
    "\n",
    "print(f'Using project with id = {project.id} and name = {project.name}')"
   ]
  },
  {
   "cell_type": "markdown",
   "id": "1390a569",
   "metadata": {},
   "source": [
    "## 2. Load a Data Sample\n",
    "\n",
    "Load the sample dataset, store the list of columns, and create a subset of input columns (model features) for later use."
   ]
  },
  {
   "cell_type": "code",
   "execution_count": null,
   "id": "00ccde6a",
   "metadata": {},
   "outputs": [],
   "source": [
    "sample_data_df = pd.read_csv(PATH_TO_SAMPLE_CSV)\n",
    "column_list = sample_data_df.columns\n",
    "input_columns = list(\n",
    "    column_list.drop(['predicted_churn', 'churn', 'customer_id', 'timestamp'])\n",
    ")\n",
    "\n",
    "sample_data_df"
   ]
  },
  {
   "cell_type": "markdown",
   "id": "5bf916ca",
   "metadata": {},
   "source": [
    "## 3. Create a Model\n",
    "\n",
    "Create the first version of model in the project with NOT_SET task"
   ]
  },
  {
   "cell_type": "markdown",
   "id": "62b282de",
   "metadata": {
    "vscode": {
     "languageId": "plaintext"
    }
   },
   "source": [
    "<table>\n",
    "    <tr>\n",
    "        <td>\n",
    "            <img src=\"https://raw.githubusercontent.com/fiddler-labs/fiddler-examples/main/quickstart/images/model_versions_1.png\" />\n",
    "        </td>\n",
    "    </tr>\n",
    "</table>"
   ]
  },
  {
   "cell_type": "code",
   "execution_count": null,
   "id": "f7073f31",
   "metadata": {},
   "outputs": [],
   "source": [
    "# Note the model version label is semantic and can be set to any desired alphanumeric string\n",
    "# **** rules? ****\n",
    "version_v1 = 'v1'\n",
    "\n",
    "# Define the model specification, the role each column plays in the Fiddler model\n",
    "model_spec = fdl.ModelSpec(\n",
    "    inputs=input_columns,\n",
    "    outputs=['predicted_churn'],\n",
    "    targets=['churn'],\n",
    "    metadata=['customer_id', 'timestamp'],\n",
    "    decisions=[],\n",
    "    custom_features=[],\n",
    ")\n",
    "\n",
    "try:\n",
    "    model_v1 = fdl.Model.from_name(\n",
    "        name=MODEL_NAME, project_id=project.id, version=version_v1\n",
    "    )\n",
    "\n",
    "    print(\n",
    "        f'Loaded existing model with id = {model_v1.id}, name = {model_v1.name} and version = {model_v1.version}'\n",
    "    )\n",
    "except fdl.NotFound:\n",
    "    model_v1 = fdl.Model.from_data(\n",
    "        source=sample_data_df,\n",
    "        name=MODEL_NAME,\n",
    "        version=version_v1,\n",
    "        project_id=project.id,\n",
    "        spec=model_spec,\n",
    "        task=fdl.ModelTask.NOT_SET,  # this sets the modeltask as NOT SET\n",
    "    )\n",
    "\n",
    "    model_v1.create()  # this creates the model\n",
    "    print(\n",
    "        f'New model created with id = {model_v1.id}, name = {model_v1.name} and version = {model_v1.version}'\n",
    "    )"
   ]
  },
  {
   "cell_type": "markdown",
   "id": "8691e3ff",
   "metadata": {},
   "source": [
    "## 4. Second Version\n",
    "\n",
    "Add a second Model version with binary classification task.\n",
    "\n",
    "Update the version and provide target class and binary classification task & threshold.\n"
   ]
  },
  {
   "cell_type": "code",
   "execution_count": null,
   "id": "d2640a7d",
   "metadata": {},
   "outputs": [],
   "source": [
    "version_v2 = 'v2'\n",
    "\n",
    "task_params = fdl.ModelTaskParams(\n",
    "    binary_classification_threshold=0.5,\n",
    "    target_class_order=['no', 'yes'],\n",
    ")\n",
    "\n",
    "try:\n",
    "    model_v2 = fdl.Model.from_name(\n",
    "        name=MODEL_NAME, project_id=project.id, version=version_v2\n",
    "    )\n",
    "\n",
    "    print(\n",
    "        f'Loaded existing model with id = {model_v2.id}, name = {model_v2.name} and version = {model_v2.version}'\n",
    "    )\n",
    "except fdl.NotFound:\n",
    "    model_v2 = model_v1.duplicate(version=version_v2)\n",
    "    model_v2.task_params = task_params\n",
    "    model_v2.task = fdl.ModelTask.BINARY_CLASSIFICATION\n",
    "\n",
    "    model_v2.create()\n",
    "    print(\n",
    "        f'New model created with id = {model_v2.id}, name = {model_v2.name} and version = {model_v2.version}'\n",
    "    )"
   ]
  },
  {
   "cell_type": "markdown",
   "id": "c39e7c35",
   "metadata": {},
   "source": [
    "## 5. Third Version\n",
    "\n",
    "For this third version of the Model we are:\n",
    "1. Removing the input parameter \"tenure\"\n",
    "2. Changing the datatype of column \"geography\" from Category to String"
   ]
  },
  {
   "cell_type": "code",
   "execution_count": null,
   "id": "fcf2a23d",
   "metadata": {},
   "outputs": [],
   "source": [
    "version_v3 = 'v3'\n",
    "\n",
    "try:\n",
    "    model_v3 = fdl.Model.from_name(\n",
    "        name=MODEL_NAME, project_id=project.id, version=version_v3\n",
    "    )\n",
    "\n",
    "    print(\n",
    "        f'Loaded existing model with id = {model_v3.id}, name = {model_v3.name} and version = {model_v3.version}'\n",
    "    )\n",
    "except fdl.NotFound:\n",
    "    model_v3 = model_v2.duplicate(version=version_v3)\n",
    "\n",
    "    # Remove the \"tenure\" column from the Model\n",
    "    del model_v3.schema[\n",
    "        'tenure'\n",
    "    ]  # this deletes the tenure column from the Model schema and subsequently the inputs\n",
    "    input_columns.remove('tenure')\n",
    "    model_v3.spec.inputs = input_columns\n",
    "\n",
    "    # Categorical column \"hascrcard\" is currently numerical, changing it to categorical\n",
    "    model_v3.schema['hascrcard'].min = (\n",
    "        None  # Removing min and mix of a numerical column before changing datatype\n",
    "    )\n",
    "    model_v3.schema['hascrcard'].max = None\n",
    "    model_v3.schema['hascrcard'].data_type = fdl.DataType.BOOLEAN\n",
    "    model_v3.schema['hascrcard'].categories = [True, False]\n",
    "\n",
    "    model_v3.create()\n",
    "    print(\n",
    "        f'New model created with id = {model_v3.id}, name = {model_v3.name} and version = {model_v3.version}'\n",
    "    )"
   ]
  },
  {
   "cell_type": "markdown",
   "id": "4b7e9bf5",
   "metadata": {},
   "source": [
    "## 6. Fourth Version\n",
    "\n",
    "Add a fourth version with a change in schema by changing the name of the columns"
   ]
  },
  {
   "cell_type": "code",
   "execution_count": null,
   "id": "c152cfcf",
   "metadata": {},
   "outputs": [],
   "source": [
    "version_v4 = 'v4'\n",
    "\n",
    "try:\n",
    "    model_v4 = fdl.Model.from_name(\n",
    "        name=MODEL_NAME, project_id=project.id, version=version_v4\n",
    "    )\n",
    "\n",
    "    print(\n",
    "        f'Loaded existing model with id = {model_v4.id}, name = {model_v4.name} and version = {model_v4.version}'\n",
    "    )\n",
    "except fdl.NotFound:\n",
    "    model_v4 = model_v3.duplicate(version=version_v4)\n",
    "    model_v4.schema['age'].name = 'Age'  # we are renaming the column names\n",
    "    model_v4.schema['creditscore'].name = 'CreditScore'\n",
    "    model_v4.schema['geography'].name = 'Geography'\n",
    "    model_v4.schema['balance'].name = 'BalanceNew'\n",
    "    model_v4.schema['numofproducts'].name = 'NumOfProducts'\n",
    "    model_v4.schema['hascrcard'].name = 'HasCrCard'\n",
    "    model_v4.schema['isactivemember'].name = 'IsActiveMember'\n",
    "    model_v4.schema['estimatedsalary'].name = 'EstimatedSalary'\n",
    "    model_v4.spec.inputs = [\n",
    "        'CreditScore',\n",
    "        'Geography',\n",
    "        'Age',\n",
    "        'BalanceNew',\n",
    "        'NumOfProducts',\n",
    "        'HasCrCard',\n",
    "        'IsActiveMember',\n",
    "        'EstimatedSalary',\n",
    "    ]\n",
    "\n",
    "    model_v4.create()\n",
    "    print(\n",
    "        f'New model created with id = {model_v4.id}, name = {model_v4.name} and version = {model_v4.version}'\n",
    "    )"
   ]
  },
  {
   "cell_type": "markdown",
   "id": "e8c250bf",
   "metadata": {},
   "source": [
    "## 7. Fifth Version\n",
    "\n",
    "Add a fifth version with where the schema is changing by increasing the max limit of the balance field."
   ]
  },
  {
   "cell_type": "code",
   "execution_count": null,
   "id": "05c1761d",
   "metadata": {},
   "outputs": [],
   "source": [
    "version_v5 = 'v5'\n",
    "\n",
    "try:\n",
    "    model_v5 = fdl.Model.from_name(\n",
    "        name=MODEL_NAME, project_id=project.id, version=version_v5\n",
    "    )\n",
    "    print(\n",
    "        f'Loaded existing model with id = {model_v5.id}, name = {model_v5.name} and version = {model_v5.version}'\n",
    "    )\n",
    "except fdl.NotFound as e:\n",
    "    model_v5 = model_v4.duplicate(version=version_v5)\n",
    "    model_v5.schema['Age'].min = (\n",
    "        18  # This sets the min and max of the age column, overriding what was inferred from the sample data\n",
    "    )\n",
    "    model_v5.schema['Age'].max = 85\n",
    "\n",
    "    model_v5.schema['BalanceNew'].max = (\n",
    "        1250000  # This sets the max value for the balance column, overriding what was inferred from the sample data\n",
    "    )\n",
    "\n",
    "    model_v5.create()\n",
    "    print(\n",
    "        f'New model created with id = {model_v5.id}, name = {model_v5.name} and version = {model_v5.version}'\n",
    "    )"
   ]
  },
  {
   "cell_type": "markdown",
   "id": "1a7ee20d",
   "metadata": {},
   "source": [
    "## 8. Update version name"
   ]
  },
  {
   "cell_type": "code",
   "execution_count": null,
   "id": "4ef35a0f",
   "metadata": {},
   "outputs": [],
   "source": [
    "model_v4.version = 'v4-old'  # Rename the existing version name to 'v4-old'\n",
    "model_v4.update()\n",
    "\n",
    "print(f'Model version updated to: {model_v4.version}')"
   ]
  },
  {
   "cell_type": "markdown",
   "id": "e7c283e2",
   "metadata": {},
   "source": [
    "<table>\n",
    "    <tr>\n",
    "        <td>\n",
    "            <img src=\"https://raw.githubusercontent.com/fiddler-labs/fiddler-examples/main/quickstart/images/model_versions_3.png\" />\n",
    "        </td>\n",
    "    </tr>\n",
    "</table>"
   ]
  },
  {
   "cell_type": "markdown",
   "id": "50a0df73",
   "metadata": {},
   "source": [
    "## 9. Delete Model Version\n",
    "\n",
    "Delete version v5 of the Model"
   ]
  },
  {
   "cell_type": "code",
   "execution_count": null,
   "id": "68cbc4ee",
   "metadata": {},
   "outputs": [],
   "source": [
    "model_delete_job = model_v5.delete()  # this deletes a specified version of the model\n",
    "\n",
    "# Uncomment the line below to wait for the job to finish, otherwise it will run in the background.\n",
    "# You can check the status on the Jobs page in the Fiddler UI or use the job ID to query the job status via the API.\n",
    "# model_delete_job.wait()"
   ]
  },
  {
   "cell_type": "markdown",
   "id": "1327baa3",
   "metadata": {},
   "source": [
    "\n",
    "\n",
    "---\n",
    "\n",
    "\n",
    "**Questions?**  \n",
    "  \n",
    "Check out [our docs](https://docs.fiddler.ai/) for a more detailed explanation of what Fiddler has to offer."
   ]
  }
 ],
 "metadata": {
  "colab": {
   "provenance": []
  },
  "kernelspec": {
   "display_name": "Python 3",
   "language": "python",
   "name": "python3"
  },
  "language_info": {
   "codemirror_mode": {
    "name": "ipython",
    "version": 3
   },
   "file_extension": ".py",
   "mimetype": "text/x-python",
   "name": "python",
   "nbconvert_exporter": "python",
   "pygments_lexer": "ipython3",
   "version": "3.10.13"
  }
 },
 "nbformat": 4,
 "nbformat_minor": 5
}
