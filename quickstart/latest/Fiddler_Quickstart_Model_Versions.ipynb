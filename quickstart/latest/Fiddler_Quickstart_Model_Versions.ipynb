{
 "cells": [
  {
   "cell_type": "markdown",
   "id": "03f71592",
   "metadata": {},
   "source": [
    "# Model Versions\n",
    "\n",
    "In this notebook, we present the steps for creating addtional versions of a model.  When a model is onboarded to Fiddler it is considered version 1 by default. To make signifacant changes to an existing model, such as altering the model schema, a new version of the model must be created. A model can have as many versions as desired and each can be live simultaneously or retained for historical viewing. \n",
    "\n",
    "This notebook is an example of how changes can be made in a `ModelSchema` and how Fiddler maintains them using versioning.\n",
    "\n",
    "---"
   ]
  },
  {
   "cell_type": "markdown",
   "id": "be48501f",
   "metadata": {},
   "source": [
    "Model versioning docs can be referenced [here](https://docs.fiddler.ai/product-guide/monitoring-platform/model-versions) \n",
    "\n",
    "Model Versions are supported on Fiddler Python client version 3.1.0 and above using Python version 3.10+.\n",
    "\n",
    "You can experience Fiddler's Model Versioning in minutes by following these quick steps:\n",
    "\n",
    "1. Connect to Fiddler\n",
    "2. Load a Data Sample\n",
    "3. Create a Model: first version with no ModelTask\n",
    "4. Second Version: target class and binary classification task & defined threshold\n",
    "5. Third Version: change the datatype of a column and delete a column \n",
    "6. Fourth Version: change the column names\n",
    "7. Fifth version: update column value range\n",
    "8. Update Version Name\n",
    "9. Delete a Model Version"
   ]
  },
  {
   "cell_type": "markdown",
   "id": "7a839c55",
   "metadata": {},
   "source": [
    "# 0. Imports"
   ]
  },
  {
   "cell_type": "code",
   "execution_count": 1,
   "id": "582c8fc3",
   "metadata": {},
   "outputs": [
    {
     "name": "stdout",
     "output_type": "stream",
     "text": [
      "\n",
      "\u001b[1m[\u001b[0m\u001b[34;49mnotice\u001b[0m\u001b[1;39;49m]\u001b[0m\u001b[39;49m A new release of pip is available: \u001b[0m\u001b[31;49m24.2\u001b[0m\u001b[39;49m -> \u001b[0m\u001b[32;49m24.3.1\u001b[0m\n",
      "\u001b[1m[\u001b[0m\u001b[34;49mnotice\u001b[0m\u001b[1;39;49m]\u001b[0m\u001b[39;49m To update, run: \u001b[0m\u001b[32;49mpip install --upgrade pip\u001b[0m\n",
      "Note: you may need to restart the kernel to use updated packages.\n",
      "Running Fiddler Python client version 3.4.0\n"
     ]
    }
   ],
   "source": [
    "%pip install -q fiddler-client\n",
    "\n",
    "import time as time\n",
    "\n",
    "import pandas as pd\n",
    "import fiddler as fdl\n",
    "\n",
    "print(f\"Running Fiddler Python client version {fdl.__version__}\")"
   ]
  },
  {
   "cell_type": "markdown",
   "id": "d7d9c7e3",
   "metadata": {},
   "source": [
    "## 1. Connect to Fiddler\n",
    "\n",
    "Before you can add information about your model with Fiddler, you'll need to connect using the Fiddler Python client.\n",
    "\n",
    "\n",
    "---\n",
    "\n",
    "\n",
    "**We need a couple pieces of information to get started.**\n",
    "1. The URL you're using to connect to Fiddler\n",
    "2. Your authorization token\n",
    "\n",
    "Your authorization token can be found by navigating to the **Credentials** tab on the **Settings** page of your Fiddler environment."
   ]
  },
  {
   "cell_type": "code",
   "execution_count": 2,
   "id": "60aaa44b",
   "metadata": {},
   "outputs": [],
   "source": [
    "URL = ''  # Make sure to include the full URL (including https:// e.g. 'https://your_company_name.fiddler.ai').\n",
    "TOKEN = ''"
   ]
  },
  {
   "cell_type": "markdown",
   "id": "4abdb316",
   "metadata": {},
   "source": [
    "Constants for this example notebook, change as needed to create your own versions"
   ]
  },
  {
   "cell_type": "code",
   "execution_count": 4,
   "id": "97f84540",
   "metadata": {},
   "outputs": [],
   "source": [
    "PROJECT_NAME = 'quickstart_examples'\n",
    "MODEL_NAME = 'bank_churn_model_versions'\n",
    "DATASET_NAME = 'baseline_dataset'\n",
    "\n",
    "PATH_TO_SAMPLE_CSV = \"https://raw.githubusercontent.com/fiddler-labs/fiddler-examples/main/quickstart/data/v3/churn_data_sample.csv\""
   ]
  },
  {
   "cell_type": "markdown",
   "id": "878685eb",
   "metadata": {},
   "source": [
    "Now just run the following to connect to your Fiddler environment."
   ]
  },
  {
   "cell_type": "code",
   "execution_count": 5,
   "id": "882cadae",
   "metadata": {},
   "outputs": [],
   "source": [
    "fdl.init(url=URL, token=TOKEN)"
   ]
  },
  {
   "cell_type": "markdown",
   "id": "6e66776a",
   "metadata": {},
   "source": [
    "#### 1.a Create New or Load Existing Project\n",
    "\n",
    "Once you connect, you can create a new project by specifying a unique project name in the fld.Project constructor and calling the `create()` method. If the project already exists, it will load it for use."
   ]
  },
  {
   "cell_type": "code",
   "execution_count": 6,
   "id": "c968eae9",
   "metadata": {},
   "outputs": [
    {
     "name": "stdout",
     "output_type": "stream",
     "text": [
      "Loaded existing project with id = 70b74177-c712-44b1-b431-2377c1b908ab and name = quickstart_examplesx\n"
     ]
    }
   ],
   "source": [
    "try:\n",
    "    # Create project\n",
    "    project = fdl.Project(name=PROJECT_NAME).create()\n",
    "    print(f'New project created with id = {project.id} and name = {project.name}')\n",
    "except fdl.Conflict:\n",
    "    # Get project by name\n",
    "    project = fdl.Project.from_name(name=PROJECT_NAME)\n",
    "    print(f'Loaded existing project with id = {project.id} and name = {project.name}')"
   ]
  },
  {
   "cell_type": "markdown",
   "id": "1390a569",
   "metadata": {},
   "source": [
    "## 2. Load a Data Sample\n",
    "\n",
    "Load the sample dataset, store the list of columns, and create a subset of input columns (model features) for later use."
   ]
  },
  {
   "cell_type": "code",
   "execution_count": 7,
   "id": "00ccde6a",
   "metadata": {},
   "outputs": [
    {
     "data": {
      "text/html": [
       "<div>\n",
       "<style scoped>\n",
       "    .dataframe tbody tr th:only-of-type {\n",
       "        vertical-align: middle;\n",
       "    }\n",
       "\n",
       "    .dataframe tbody tr th {\n",
       "        vertical-align: top;\n",
       "    }\n",
       "\n",
       "    .dataframe thead th {\n",
       "        text-align: right;\n",
       "    }\n",
       "</style>\n",
       "<table border=\"1\" class=\"dataframe\">\n",
       "  <thead>\n",
       "    <tr style=\"text-align: right;\">\n",
       "      <th></th>\n",
       "      <th>customer_id</th>\n",
       "      <th>creditscore</th>\n",
       "      <th>geography</th>\n",
       "      <th>gender</th>\n",
       "      <th>age</th>\n",
       "      <th>tenure</th>\n",
       "      <th>balance</th>\n",
       "      <th>numofproducts</th>\n",
       "      <th>hascrcard</th>\n",
       "      <th>isactivemember</th>\n",
       "      <th>estimatedsalary</th>\n",
       "      <th>predicted_churn</th>\n",
       "      <th>churn</th>\n",
       "      <th>timestamp</th>\n",
       "    </tr>\n",
       "  </thead>\n",
       "  <tbody>\n",
       "    <tr>\n",
       "      <th>0</th>\n",
       "      <td>27acd1c2</td>\n",
       "      <td>545</td>\n",
       "      <td>Texas</td>\n",
       "      <td>Male</td>\n",
       "      <td>37</td>\n",
       "      <td>9</td>\n",
       "      <td>110483.86</td>\n",
       "      <td>1</td>\n",
       "      <td>1</td>\n",
       "      <td>1</td>\n",
       "      <td>127394.67</td>\n",
       "      <td>0.897202</td>\n",
       "      <td>yes</td>\n",
       "      <td>1710428231855</td>\n",
       "    </tr>\n",
       "    <tr>\n",
       "      <th>1</th>\n",
       "      <td>27b36d0c</td>\n",
       "      <td>497</td>\n",
       "      <td>Texas</td>\n",
       "      <td>Female</td>\n",
       "      <td>55</td>\n",
       "      <td>7</td>\n",
       "      <td>131778.66</td>\n",
       "      <td>1</td>\n",
       "      <td>1</td>\n",
       "      <td>1</td>\n",
       "      <td>9972.64</td>\n",
       "      <td>0.997441</td>\n",
       "      <td>yes</td>\n",
       "      <td>1710428262096</td>\n",
       "    </tr>\n",
       "    <tr>\n",
       "      <th>2</th>\n",
       "      <td>27b5360a</td>\n",
       "      <td>509</td>\n",
       "      <td>New York</td>\n",
       "      <td>Female</td>\n",
       "      <td>29</td>\n",
       "      <td>0</td>\n",
       "      <td>107712.57</td>\n",
       "      <td>2</td>\n",
       "      <td>1</td>\n",
       "      <td>1</td>\n",
       "      <td>92898.17</td>\n",
       "      <td>0.920563</td>\n",
       "      <td>yes</td>\n",
       "      <td>1710428292338</td>\n",
       "    </tr>\n",
       "    <tr>\n",
       "      <th>3</th>\n",
       "      <td>27b5d650</td>\n",
       "      <td>743</td>\n",
       "      <td>Hawaii</td>\n",
       "      <td>Nonbinary</td>\n",
       "      <td>39</td>\n",
       "      <td>6</td>\n",
       "      <td>0.00</td>\n",
       "      <td>2</td>\n",
       "      <td>1</td>\n",
       "      <td>0</td>\n",
       "      <td>44265.28</td>\n",
       "      <td>0.779282</td>\n",
       "      <td>yes</td>\n",
       "      <td>1710428322579</td>\n",
       "    </tr>\n",
       "    <tr>\n",
       "      <th>4</th>\n",
       "      <td>27b236a8</td>\n",
       "      <td>699</td>\n",
       "      <td>Florida</td>\n",
       "      <td>Female</td>\n",
       "      <td>25</td>\n",
       "      <td>8</td>\n",
       "      <td>0.00</td>\n",
       "      <td>2</td>\n",
       "      <td>1</td>\n",
       "      <td>1</td>\n",
       "      <td>52404.47</td>\n",
       "      <td>0.825474</td>\n",
       "      <td>yes</td>\n",
       "      <td>1710428352821</td>\n",
       "    </tr>\n",
       "    <tr>\n",
       "      <th>...</th>\n",
       "      <td>...</td>\n",
       "      <td>...</td>\n",
       "      <td>...</td>\n",
       "      <td>...</td>\n",
       "      <td>...</td>\n",
       "      <td>...</td>\n",
       "      <td>...</td>\n",
       "      <td>...</td>\n",
       "      <td>...</td>\n",
       "      <td>...</td>\n",
       "      <td>...</td>\n",
       "      <td>...</td>\n",
       "      <td>...</td>\n",
       "      <td>...</td>\n",
       "    </tr>\n",
       "    <tr>\n",
       "      <th>19995</th>\n",
       "      <td>27b409ba</td>\n",
       "      <td>686</td>\n",
       "      <td>Texas</td>\n",
       "      <td>Male</td>\n",
       "      <td>39</td>\n",
       "      <td>3</td>\n",
       "      <td>129626.19</td>\n",
       "      <td>2</td>\n",
       "      <td>1</td>\n",
       "      <td>1</td>\n",
       "      <td>103220.56</td>\n",
       "      <td>0.760645</td>\n",
       "      <td>yes</td>\n",
       "      <td>1711032910888</td>\n",
       "    </tr>\n",
       "    <tr>\n",
       "      <th>19996</th>\n",
       "      <td>27aaff96</td>\n",
       "      <td>446</td>\n",
       "      <td>Massachusetts</td>\n",
       "      <td>Female</td>\n",
       "      <td>45</td>\n",
       "      <td>10</td>\n",
       "      <td>125191.69</td>\n",
       "      <td>1</td>\n",
       "      <td>1</td>\n",
       "      <td>1</td>\n",
       "      <td>128260.86</td>\n",
       "      <td>0.216093</td>\n",
       "      <td>no</td>\n",
       "      <td>1711032941130</td>\n",
       "    </tr>\n",
       "    <tr>\n",
       "      <th>19997</th>\n",
       "      <td>27ad3162</td>\n",
       "      <td>794</td>\n",
       "      <td>California</td>\n",
       "      <td>Male</td>\n",
       "      <td>35</td>\n",
       "      <td>6</td>\n",
       "      <td>0.00</td>\n",
       "      <td>2</td>\n",
       "      <td>1</td>\n",
       "      <td>1</td>\n",
       "      <td>68730.91</td>\n",
       "      <td>0.982021</td>\n",
       "      <td>yes</td>\n",
       "      <td>1711032971371</td>\n",
       "    </tr>\n",
       "    <tr>\n",
       "      <th>19998</th>\n",
       "      <td>27b076ce</td>\n",
       "      <td>832</td>\n",
       "      <td>California</td>\n",
       "      <td>Male</td>\n",
       "      <td>61</td>\n",
       "      <td>2</td>\n",
       "      <td>0.00</td>\n",
       "      <td>1</td>\n",
       "      <td>0</td>\n",
       "      <td>1</td>\n",
       "      <td>127804.66</td>\n",
       "      <td>0.071598</td>\n",
       "      <td>no</td>\n",
       "      <td>1711033001613</td>\n",
       "    </tr>\n",
       "    <tr>\n",
       "      <th>19999</th>\n",
       "      <td>27aee1d8</td>\n",
       "      <td>641</td>\n",
       "      <td>Massachusetts</td>\n",
       "      <td>Female</td>\n",
       "      <td>36</td>\n",
       "      <td>1</td>\n",
       "      <td>0.00</td>\n",
       "      <td>2</td>\n",
       "      <td>1</td>\n",
       "      <td>0</td>\n",
       "      <td>102021.39</td>\n",
       "      <td>0.817325</td>\n",
       "      <td>yes</td>\n",
       "      <td>1711033031855</td>\n",
       "    </tr>\n",
       "  </tbody>\n",
       "</table>\n",
       "<p>20000 rows × 14 columns</p>\n",
       "</div>"
      ],
      "text/plain": [
       "      customer_id  creditscore      geography     gender  age  tenure  \\\n",
       "0        27acd1c2          545          Texas       Male   37       9   \n",
       "1        27b36d0c          497          Texas     Female   55       7   \n",
       "2        27b5360a          509       New York     Female   29       0   \n",
       "3        27b5d650          743         Hawaii  Nonbinary   39       6   \n",
       "4        27b236a8          699        Florida     Female   25       8   \n",
       "...           ...          ...            ...        ...  ...     ...   \n",
       "19995    27b409ba          686          Texas       Male   39       3   \n",
       "19996    27aaff96          446  Massachusetts     Female   45      10   \n",
       "19997    27ad3162          794     California       Male   35       6   \n",
       "19998    27b076ce          832     California       Male   61       2   \n",
       "19999    27aee1d8          641  Massachusetts     Female   36       1   \n",
       "\n",
       "         balance  numofproducts  hascrcard  isactivemember  estimatedsalary  \\\n",
       "0      110483.86              1          1               1        127394.67   \n",
       "1      131778.66              1          1               1          9972.64   \n",
       "2      107712.57              2          1               1         92898.17   \n",
       "3           0.00              2          1               0         44265.28   \n",
       "4           0.00              2          1               1         52404.47   \n",
       "...          ...            ...        ...             ...              ...   \n",
       "19995  129626.19              2          1               1        103220.56   \n",
       "19996  125191.69              1          1               1        128260.86   \n",
       "19997       0.00              2          1               1         68730.91   \n",
       "19998       0.00              1          0               1        127804.66   \n",
       "19999       0.00              2          1               0        102021.39   \n",
       "\n",
       "       predicted_churn churn      timestamp  \n",
       "0             0.897202   yes  1710428231855  \n",
       "1             0.997441   yes  1710428262096  \n",
       "2             0.920563   yes  1710428292338  \n",
       "3             0.779282   yes  1710428322579  \n",
       "4             0.825474   yes  1710428352821  \n",
       "...                ...   ...            ...  \n",
       "19995         0.760645   yes  1711032910888  \n",
       "19996         0.216093    no  1711032941130  \n",
       "19997         0.982021   yes  1711032971371  \n",
       "19998         0.071598    no  1711033001613  \n",
       "19999         0.817325   yes  1711033031855  \n",
       "\n",
       "[20000 rows x 14 columns]"
      ]
     },
     "execution_count": 7,
     "metadata": {},
     "output_type": "execute_result"
    }
   ],
   "source": [
    "sample_data_df = pd.read_csv(PATH_TO_SAMPLE_CSV)\n",
    "column_list = sample_data_df.columns\n",
    "input_columns = list(\n",
    "    column_list.drop(['predicted_churn', 'churn', 'customer_id', 'timestamp'])\n",
    ")\n",
    "\n",
    "sample_data_df"
   ]
  },
  {
   "cell_type": "markdown",
   "id": "5bf916ca",
   "metadata": {},
   "source": [
    "## 3. Create a Model\n",
    "\n",
    "Create the first version of model in the project with NOT_SET task"
   ]
  },
  {
   "cell_type": "markdown",
   "id": "62b282de",
   "metadata": {
    "vscode": {
     "languageId": "plaintext"
    }
   },
   "source": [
    "<table>\n",
    "    <tr>\n",
    "        <td>\n",
    "            <img src=\"https://raw.githubusercontent.com/fiddler-labs/fiddler-examples/main/quickstart/images/model_versions_1.png\" />\n",
    "        </td>\n",
    "    </tr>\n",
    "</table>"
   ]
  },
  {
   "cell_type": "code",
   "execution_count": 8,
   "id": "f7073f31",
   "metadata": {},
   "outputs": [
    {
     "name": "stdout",
     "output_type": "stream",
     "text": [
      "New model created with id = d06e3034-2b14-4352-bdfb-b4bea9753e9d, name = bank_churn_model_versions and version = v1\n"
     ]
    }
   ],
   "source": [
    "# Note the model version label is semantic and can be set to any desired alphanumeric string\n",
    "# **** rules? ****\n",
    "version_v1 = 'v1'\n",
    "\n",
    "# Define the model specification, the role each column plays in the Fiddler model\n",
    "model_spec = fdl.ModelSpec(\n",
    "    inputs=input_columns,\n",
    "    outputs=['predicted_churn'],\n",
    "    targets=['churn'],\n",
    "    metadata=['customer_id', 'timestamp'],\n",
    "    decisions=[],\n",
    "    custom_features=[],\n",
    ")\n",
    "\n",
    "try:\n",
    "    model_v1 = fdl.Model.from_name(\n",
    "        name=MODEL_NAME, project_id=project.id, version=version_v1\n",
    "    )\n",
    "\n",
    "    print(\n",
    "        f'Loaded existing model with id = {model_v1.id}, name = {model_v1.name} and version = {model_v1.version}'\n",
    "    )\n",
    "except fdl.NotFound:\n",
    "    model_v1 = fdl.Model.from_data(\n",
    "        source=sample_data_df,\n",
    "        name=MODEL_NAME,\n",
    "        version=version_v1,\n",
    "        project_id=project.id,\n",
    "        spec=model_spec,\n",
    "        task=fdl.ModelTask.NOT_SET,  # this sets the modeltask as NOT SET\n",
    "    )\n",
    "\n",
    "    model_v1.create()  # this creates the model\n",
    "    print(\n",
    "        f'New model created with id = {model_v1.id}, name = {model_v1.name} and version = {model_v1.version}'\n",
    "    )"
   ]
  },
  {
   "cell_type": "markdown",
   "id": "8691e3ff",
   "metadata": {},
   "source": [
    "## 4. Second Version\n",
    "\n",
    "Add a second Model version with binary classification task.\n",
    "\n",
    "Update the version and provide target class and binary classification task & threshold.\n"
   ]
  },
  {
   "cell_type": "code",
   "execution_count": 9,
   "id": "d2640a7d",
   "metadata": {},
   "outputs": [
    {
     "name": "stdout",
     "output_type": "stream",
     "text": [
      "New model created with id = 2895f418-dd9b-4a8b-b58a-63e9f67b5f09, name = bank_churn_model_versions and version = v2\n"
     ]
    }
   ],
   "source": [
    "version_v2 = 'v2'\n",
    "\n",
    "task_params = fdl.ModelTaskParams(\n",
    "    binary_classification_threshold=0.5,\n",
    "    target_class_order=['no', 'yes'],\n",
    ")\n",
    "\n",
    "try:\n",
    "    model_v2 = fdl.Model.from_name(\n",
    "        name=MODEL_NAME, project_id=project.id, version=version_v2\n",
    "    )\n",
    "\n",
    "    print(\n",
    "        f'Loaded existing model with id = {model_v2.id}, name = {model_v2.name} and version = {model_v2.version}'\n",
    "    )\n",
    "except fdl.NotFound:\n",
    "    model_v2 = model_v1.duplicate(version=version_v2)\n",
    "    model_v2.task_params = task_params\n",
    "    model_v2.task = fdl.ModelTask.BINARY_CLASSIFICATION\n",
    "\n",
    "    model_v2.create()\n",
    "    print(\n",
    "        f'New model created with id = {model_v2.id}, name = {model_v2.name} and version = {model_v2.version}'\n",
    "    )"
   ]
  },
  {
   "cell_type": "markdown",
   "id": "c39e7c35",
   "metadata": {},
   "source": [
    "## 5. Third Version\n",
    "\n",
    "For this third version of the Model we are:\n",
    "1. Removing the input parameter \"tenure\"\n",
    "2. Changing the datatype of column \"geography\" from Category to String"
   ]
  },
  {
   "cell_type": "code",
   "execution_count": 10,
   "id": "fcf2a23d",
   "metadata": {},
   "outputs": [
    {
     "name": "stdout",
     "output_type": "stream",
     "text": [
      "New model created with id = c7295497-ee53-4aea-b3d3-585141c163d1, name = bank_churn_model_versions and version = v3\n"
     ]
    }
   ],
   "source": [
    "version_v3 = 'v3'\n",
    "\n",
    "try:\n",
    "    model_v3 = fdl.Model.from_name(\n",
    "        name=MODEL_NAME, project_id=project.id, version=version_v3\n",
    "    )\n",
    "\n",
    "    print(\n",
    "        f'Loaded existing model with id = {model_v3.id}, name = {model_v3.name} and version = {model_v3.version}'\n",
    "    )\n",
    "except fdl.NotFound:\n",
    "    model_v3 = model_v2.duplicate(version=version_v3)\n",
    "\n",
    "    # Remove the \"tenure\" column from the Model\n",
    "    del model_v3.schema[\n",
    "        'tenure'\n",
    "    ]  # this deletes the tenure column from the Model schema and subsequently the inputs\n",
    "    input_columns.remove('tenure')\n",
    "    model_v3.spec.inputs = input_columns\n",
    "\n",
    "    # Categorical column \"hascrcard\" is currently numerical, changing it to categorical\n",
    "    model_v3.schema['hascrcard'].min = (\n",
    "        None  # Removing min and mix of a numerical column before changing datatype\n",
    "    )\n",
    "    model_v3.schema['hascrcard'].max = None\n",
    "    model_v3.schema['hascrcard'].data_type = fdl.DataType.BOOLEAN\n",
    "    model_v3.schema['hascrcard'].categories = [True, False]\n",
    "\n",
    "    model_v3.create()\n",
    "    print(\n",
    "        f'New model created with id = {model_v3.id}, name = {model_v3.name} and version = {model_v3.version}'\n",
    "    )"
   ]
  },
  {
   "cell_type": "markdown",
   "id": "4b7e9bf5",
   "metadata": {},
   "source": [
    "## 6. Fourth Version\n",
    "\n",
    "Add a fourth version with a change in schema by changing the name of the columns"
   ]
  },
  {
   "cell_type": "code",
   "execution_count": 11,
   "id": "c152cfcf",
   "metadata": {},
   "outputs": [
    {
     "name": "stdout",
     "output_type": "stream",
     "text": [
      "New model created with id = bddce103-07bb-44a3-9401-532b9a61073c, name = bank_churn_model_versions and version = v4\n"
     ]
    }
   ],
   "source": [
    "version_v4 = 'v4'\n",
    "\n",
    "try:\n",
    "    model_v4 = fdl.Model.from_name(\n",
    "        name=MODEL_NAME, project_id=project.id, version=version_v4\n",
    "    )\n",
    "\n",
    "    print(\n",
    "        f'Loaded existing model with id = {model_v4.id}, name = {model_v4.name} and version = {model_v4.version}'\n",
    "    )\n",
    "except fdl.NotFound:\n",
    "    model_v4 = model_v3.duplicate(version=version_v4)\n",
    "    model_v4.schema['age'].name = 'Age'  # we are renaming the column names\n",
    "    model_v4.schema['creditscore'].name = 'CreditScore'\n",
    "    model_v4.schema['geography'].name = 'Geography'\n",
    "    model_v4.schema['balance'].name = 'BalanceNew'\n",
    "    model_v4.schema['numofproducts'].name = 'NumOfProducts'\n",
    "    model_v4.schema['hascrcard'].name = 'HasCrCard'\n",
    "    model_v4.schema['isactivemember'].name = 'IsActiveMember'\n",
    "    model_v4.schema['estimatedsalary'].name = 'EstimatedSalary'\n",
    "    model_v4.spec.inputs = [\n",
    "        'CreditScore',\n",
    "        'Geography',\n",
    "        'Age',\n",
    "        'BalanceNew',\n",
    "        'NumOfProducts',\n",
    "        'HasCrCard',\n",
    "        'IsActiveMember',\n",
    "        'EstimatedSalary',\n",
    "    ]\n",
    "\n",
    "    model_v4.create()\n",
    "    print(\n",
    "        f'New model created with id = {model_v4.id}, name = {model_v4.name} and version = {model_v4.version}'\n",
    "    )"
   ]
  },
  {
   "cell_type": "markdown",
   "id": "e8c250bf",
   "metadata": {},
   "source": [
    "## 7. Fifth Version\n",
    "\n",
    "Add a fifth version with where the schema is changing by increasing the max limit of the balance field."
   ]
  },
  {
   "cell_type": "code",
   "execution_count": 12,
   "id": "05c1761d",
   "metadata": {},
   "outputs": [
    {
     "name": "stdout",
     "output_type": "stream",
     "text": [
      "New model created with id = 05777336-556f-4c4b-af3c-a088cd8405d3, name = bank_churn_model_versions and version = v5\n"
     ]
    }
   ],
   "source": [
    "version_v5 = 'v5'\n",
    "\n",
    "try:\n",
    "    model_v5 = fdl.Model.from_name(\n",
    "        name=MODEL_NAME, project_id=project.id, version=version_v5\n",
    "    )\n",
    "    print(\n",
    "        f'Loaded existing model with id = {model_v5.id}, name = {model_v5.name} and version = {model_v5.version}'\n",
    "    )\n",
    "except fdl.NotFound as e:\n",
    "    model_v5 = model_v4.duplicate(version=version_v5)\n",
    "    model_v5.schema['Age'].min = (\n",
    "        18  # This sets the min and max of the age column, overriding what was inferred from the sample data\n",
    "    )\n",
    "    model_v5.schema['Age'].max = 85\n",
    "\n",
    "    model_v5.schema['BalanceNew'].max = (\n",
    "        1250000  # This sets the max value for the balance column, overriding what was inferred from the sample data\n",
    "    )\n",
    "\n",
    "    model_v5.create()\n",
    "    print(\n",
    "        f'New model created with id = {model_v5.id}, name = {model_v5.name} and version = {model_v5.version}'\n",
    "    )"
   ]
  },
  {
   "cell_type": "markdown",
   "id": "1a7ee20d",
   "metadata": {},
   "source": [
    "## 8. Update version name"
   ]
  },
  {
   "cell_type": "code",
   "execution_count": 13,
   "id": "4ef35a0f",
   "metadata": {},
   "outputs": [
    {
     "name": "stdout",
     "output_type": "stream",
     "text": [
      "Model version updated to: v4-old\n"
     ]
    }
   ],
   "source": [
    "model_v4.version = 'v4-old'  # Rename the existing version name to 'v4-old'\n",
    "model_v4.update()\n",
    "\n",
    "print(f'Model version updated to: {model_v4.version}')"
   ]
  },
  {
   "cell_type": "markdown",
   "id": "e7c283e2",
   "metadata": {},
   "source": [
    "<table>\n",
    "    <tr>\n",
    "        <td>\n",
    "            <img src=\"https://raw.githubusercontent.com/fiddler-labs/fiddler-examples/main/quickstart/images/model_versions_3.png\" />\n",
    "        </td>\n",
    "    </tr>\n",
    "</table>"
   ]
  },
  {
   "cell_type": "markdown",
   "id": "50a0df73",
   "metadata": {},
   "source": [
    "## 9. Delete Model Version\n",
    "\n",
    "Delete version v5 of the Model"
   ]
  },
  {
   "cell_type": "code",
   "execution_count": 14,
   "id": "68cbc4ee",
   "metadata": {},
   "outputs": [],
   "source": [
    "model_delete_job = model_v5.delete()  # this deletes a specified version of the model\n",
    "\n",
    "# Uncomment the line below to wait for the job to finish, otherwise it will run in the background.\n",
    "# You can check the status on the Jobs page in the Fiddler UI or use the job ID to query the job status via the API.\n",
    "# model_delete_job.wait()"
   ]
  },
  {
   "cell_type": "markdown",
   "id": "1327baa3",
   "metadata": {},
   "source": [
    "\n",
    "\n",
    "---\n",
    "\n",
    "\n",
    "**Questions?**  \n",
    "  \n",
    "Check out [our docs](https://docs.fiddler.ai/) for a more detailed explanation of what Fiddler has to offer.\n",
    "\n",
    "If you're still looking for answers, fill out a ticket on [our support page](https://fiddlerlabs.zendesk.com/) and we'll get back to you shortly."
   ]
  }
 ],
 "metadata": {
  "colab": {
   "provenance": []
  },
  "kernelspec": {
   "display_name": "Python 3 (ipykernel)",
   "language": "python",
   "name": "python3"
  },
  "language_info": {
   "codemirror_mode": {
    "name": "ipython",
    "version": 3
   },
   "file_extension": ".py",
   "mimetype": "text/x-python",
   "name": "python",
   "nbconvert_exporter": "python",
   "pygments_lexer": "ipython3",
   "version": "3.10.13"
  }
 },
 "nbformat": 4,
 "nbformat_minor": 5
}
