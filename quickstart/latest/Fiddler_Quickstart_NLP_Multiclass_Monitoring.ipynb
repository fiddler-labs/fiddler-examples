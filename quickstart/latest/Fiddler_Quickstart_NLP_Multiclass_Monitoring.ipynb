{
 "cells": [
  {
   "cell_type": "markdown",
   "id": "f0c3549a",
   "metadata": {
    "id": "f0c3549a"
   },
   "source": [
    "# Monitoring a Multiclass Classifier Model with Text Inputs\n",
    "Unstructured data such as text are usually represented as high-dimensional vectors when processed by ML models. In this example notebook we present how [Fiddler Vector Monitoring](https://www.fiddler.ai/blog/monitoring-natural-language-processing-and-computer-vision-models-part-1) can be used to monitor NLP models using a text classification use case.\n",
    "\n",
    "Following the steps in this notebook you can see how to onboard models that deal with unstructured text inputs. In this example, we use the 20Newsgroups dataset and train a multi-class classifier that is applied to vector embeddings of text documents.\n",
    "\n",
    "We monitor this model at production time and assess the performance of Fiddler's vector monitoring by manufacturing synthetic drift via sampling from specific text categories at different deployment time intervals.\n",
    "\n",
    "---\n",
    "\n",
    "Now we perform the following steps to demonstrate how Fiddler NLP monitoring works:\n",
    "\n",
    "1. Connect to Fiddler\n",
    "2. Load a Data Sample\n",
    "3. Define the Model Specifications\n",
    "4. Create a Model\n",
    "5. Publish a Static Baseline (Optional)\n",
    "6. Publish Production Events\n",
    "\n",
    "Get insights!"
   ]
  },
  {
   "cell_type": "markdown",
   "id": "6IvnT5Rpwpcy",
   "metadata": {
    "id": "6IvnT5Rpwpcy"
   },
   "source": [
    "## 0. Imports"
   ]
  },
  {
   "cell_type": "code",
   "execution_count": 1,
   "id": "380bfb82",
   "metadata": {
    "id": "380bfb82"
   },
   "outputs": [
    {
     "name": "stdout",
     "output_type": "stream",
     "text": [
      "\n",
      "\u001b[1m[\u001b[0m\u001b[34;49mnotice\u001b[0m\u001b[1;39;49m]\u001b[0m\u001b[39;49m A new release of pip is available: \u001b[0m\u001b[31;49m24.2\u001b[0m\u001b[39;49m -> \u001b[0m\u001b[32;49m24.3.1\u001b[0m\n",
      "\u001b[1m[\u001b[0m\u001b[34;49mnotice\u001b[0m\u001b[1;39;49m]\u001b[0m\u001b[39;49m To update, run: \u001b[0m\u001b[32;49mpip install --upgrade pip\u001b[0m\n",
      "Note: you may need to restart the kernel to use updated packages.\n",
      "Running Fiddler Python client version 3.4.0\n"
     ]
    }
   ],
   "source": [
    "\n",
    "%pip install -q fiddler-client\n",
    "\n",
    "import time as time\n",
    "\n",
    "import numpy as np\n",
    "import pandas as pd\n",
    "import fiddler as fdl\n",
    "\n",
    "print(f\"Running Fiddler Python client version {fdl.__version__}\")"
   ]
  },
  {
   "cell_type": "markdown",
   "id": "buFkZ_xkZgyN",
   "metadata": {
    "id": "buFkZ_xkZgyN"
   },
   "source": [
    "## 1. Connect to Fiddler\n",
    "\n",
    "Before you can add information about your model with Fiddler, you'll need to connect using the Fiddler Python client.\n",
    "\n",
    "\n",
    "---\n",
    "\n",
    "\n",
    "**We need a couple pieces of information to get started.**\n",
    "1. The URL you're using to connect to Fiddler\n",
    "2. Your authorization token\n",
    "\n",
    "Your authorization token can be found by navigating to the **Credentials** tab on the **Settings** page of your Fiddler environment."
   ]
  },
  {
   "cell_type": "code",
   "execution_count": 2,
   "id": "a41e2e8d",
   "metadata": {
    "id": "a41e2e8d"
   },
   "outputs": [],
   "source": [
    "URL = ''  # Make sure to include the full URL (including https:// e.g. 'https://your_company_name.fiddler.ai').\n",
    "TOKEN = ''"
   ]
  },
  {
   "cell_type": "markdown",
   "id": "13a8d868",
   "metadata": {},
   "source": [
    "Constants for this example notebook, change as needed to create your own versions"
   ]
  },
  {
   "cell_type": "code",
   "execution_count": 3,
   "id": "a962e21b",
   "metadata": {},
   "outputs": [],
   "source": [
    "PROJECT_NAME = 'quickstart_examples'\n",
    "MODEL_NAME = 'nlp_newsgroups_multiclass'\n",
    "\n",
    "STATIC_BASELINE_NAME = 'baseline_dataset'\n",
    "\n",
    "# Sample data hosted on GitHub\n",
    "PATH_TO_SAMPLE_CSV = 'https://raw.githubusercontent.com/fiddler-labs/fiddler-examples/main/quickstart/data/v3/nlp_text_multiclassifier_data_sample.csv'\n",
    "PATH_TO_EVENTS_CSV = 'https://media.githubusercontent.com/media/fiddler-labs/fiddler-examples/main/quickstart/data/v3/nlp_text_multiclassifier_production_data.csv'"
   ]
  },
  {
   "cell_type": "markdown",
   "id": "024b0fda",
   "metadata": {
    "id": "024b0fda"
   },
   "source": [
    "Now just run the following to connect to your Fiddler environment."
   ]
  },
  {
   "cell_type": "code",
   "execution_count": 4,
   "id": "627e583c",
   "metadata": {
    "id": "627e583c"
   },
   "outputs": [],
   "source": [
    "fdl.init(url=URL, token=TOKEN)"
   ]
  },
  {
   "cell_type": "markdown",
   "id": "d0099d99-a241-406b-97ba-05c8da60d924",
   "metadata": {
    "id": "d0099d99-a241-406b-97ba-05c8da60d924"
   },
   "source": [
    "#### 1.a Create New or Load Existing Project\n",
    "\n",
    "Once you connect, you can create a new project by specifying a unique project name in the fld.Project constructor and calling the `create()` method. If the project already exists, it will load it for use."
   ]
  },
  {
   "cell_type": "code",
   "execution_count": 5,
   "id": "CWukS_D9aEU4",
   "metadata": {
    "id": "CWukS_D9aEU4"
   },
   "outputs": [
    {
     "name": "stdout",
     "output_type": "stream",
     "text": [
      "Loaded existing project with id = 70b74177-c712-44b1-b431-2377c1b908ab and name = quickstart_examplesx\n"
     ]
    }
   ],
   "source": [
    "try:\n",
    "    # Create project\n",
    "    project = fdl.Project(name=PROJECT_NAME).create()\n",
    "    print(f'New project created with id = {project.id} and name = {project.name}')\n",
    "except fdl.Conflict:\n",
    "    # Get project by name\n",
    "    project = fdl.Project.from_name(name=PROJECT_NAME)\n",
    "    print(f'Loaded existing project with id = {project.id} and name = {project.name}')"
   ]
  },
  {
   "cell_type": "markdown",
   "id": "1884a477",
   "metadata": {
    "id": "1884a477"
   },
   "source": [
    "## 2. Load a Data Sample"
   ]
  },
  {
   "cell_type": "markdown",
   "id": "kLTJ_yQ6z7Kk",
   "metadata": {
    "id": "kLTJ_yQ6z7Kk"
   },
   "source": [
    "Now we retrieve the 20Newsgroup dataset. This dataset is fetched from the [scikit-learn real-world datasets](https://scikit-learn.org/stable/modules/generated/sklearn.datasets.fetch_20newsgroups.html#) and pre-processed using [this notebook](https://colab.research.google.com/github/fiddler-labs/fiddler-examples/blob/main/pre-proccessing/20newsgroups_prep_vectorization.ipynb).  For simplicity sake, we have stored a copy in our GitHub repo."
   ]
  },
  {
   "cell_type": "code",
   "execution_count": 6,
   "id": "7d384c6e-8873-4b61-92c2-4ec7ae9bd4c8",
   "metadata": {},
   "outputs": [
    {
     "data": {
      "text/html": [
       "<div>\n",
       "<style scoped>\n",
       "    .dataframe tbody tr th:only-of-type {\n",
       "        vertical-align: middle;\n",
       "    }\n",
       "\n",
       "    .dataframe tbody tr th {\n",
       "        vertical-align: top;\n",
       "    }\n",
       "\n",
       "    .dataframe thead th {\n",
       "        text-align: right;\n",
       "    }\n",
       "</style>\n",
       "<table border=\"1\" class=\"dataframe\">\n",
       "  <thead>\n",
       "    <tr style=\"text-align: right;\">\n",
       "      <th></th>\n",
       "      <th>predicted_target</th>\n",
       "      <th>prob_computer</th>\n",
       "      <th>prob_forsale</th>\n",
       "      <th>prob_recreation</th>\n",
       "      <th>prob_religion</th>\n",
       "      <th>prob_science</th>\n",
       "      <th>original_text</th>\n",
       "      <th>original_target</th>\n",
       "      <th>target</th>\n",
       "      <th>n_tokens</th>\n",
       "      <th>string_size</th>\n",
       "      <th>timestamp</th>\n",
       "    </tr>\n",
       "  </thead>\n",
       "  <tbody>\n",
       "    <tr>\n",
       "      <th>0</th>\n",
       "      <td>science</td>\n",
       "      <td>0.049720</td>\n",
       "      <td>0.015294</td>\n",
       "      <td>0.040910</td>\n",
       "      <td>0.025433</td>\n",
       "      <td>0.868644</td>\n",
       "      <td>: Has anyone ever heard of a food product call...</td>\n",
       "      <td>sci.space</td>\n",
       "      <td>science</td>\n",
       "      <td>87</td>\n",
       "      <td>482</td>\n",
       "      <td>1713288933452</td>\n",
       "    </tr>\n",
       "    <tr>\n",
       "      <th>1</th>\n",
       "      <td>computer</td>\n",
       "      <td>0.749487</td>\n",
       "      <td>0.045994</td>\n",
       "      <td>0.019984</td>\n",
       "      <td>0.016209</td>\n",
       "      <td>0.168327</td>\n",
       "      <td>Getting an image from a computer monitor to a ...</td>\n",
       "      <td>comp.graphics</td>\n",
       "      <td>computer</td>\n",
       "      <td>108</td>\n",
       "      <td>589</td>\n",
       "      <td>1713289192800</td>\n",
       "    </tr>\n",
       "    <tr>\n",
       "      <th>2</th>\n",
       "      <td>forsale</td>\n",
       "      <td>0.068282</td>\n",
       "      <td>0.739602</td>\n",
       "      <td>0.088766</td>\n",
       "      <td>0.032307</td>\n",
       "      <td>0.071043</td>\n",
       "      <td>The following used CD's are for sale.  They ar...</td>\n",
       "      <td>misc.forsale</td>\n",
       "      <td>forsale</td>\n",
       "      <td>128</td>\n",
       "      <td>775</td>\n",
       "      <td>1713289452148</td>\n",
       "    </tr>\n",
       "    <tr>\n",
       "      <th>3</th>\n",
       "      <td>science</td>\n",
       "      <td>0.060254</td>\n",
       "      <td>0.036090</td>\n",
       "      <td>0.072608</td>\n",
       "      <td>0.028312</td>\n",
       "      <td>0.802736</td>\n",
       "      <td>Since your MOSFET is a 1972 vintage, it's prob...</td>\n",
       "      <td>sci.electronics</td>\n",
       "      <td>science</td>\n",
       "      <td>117</td>\n",
       "      <td>652</td>\n",
       "      <td>1713289711496</td>\n",
       "    </tr>\n",
       "    <tr>\n",
       "      <th>4</th>\n",
       "      <td>computer</td>\n",
       "      <td>0.259612</td>\n",
       "      <td>0.088936</td>\n",
       "      <td>0.198272</td>\n",
       "      <td>0.206862</td>\n",
       "      <td>0.246319</td>\n",
       "      <td>Are 'Moody Monthly' and 'Moody' the same magaz...</td>\n",
       "      <td>soc.religion.christian</td>\n",
       "      <td>religion</td>\n",
       "      <td>26</td>\n",
       "      <td>148</td>\n",
       "      <td>1713289970844</td>\n",
       "    </tr>\n",
       "    <tr>\n",
       "      <th>...</th>\n",
       "      <td>...</td>\n",
       "      <td>...</td>\n",
       "      <td>...</td>\n",
       "      <td>...</td>\n",
       "      <td>...</td>\n",
       "      <td>...</td>\n",
       "      <td>...</td>\n",
       "      <td>...</td>\n",
       "      <td>...</td>\n",
       "      <td>...</td>\n",
       "      <td>...</td>\n",
       "      <td>...</td>\n",
       "    </tr>\n",
       "    <tr>\n",
       "      <th>2328</th>\n",
       "      <td>science</td>\n",
       "      <td>0.284201</td>\n",
       "      <td>0.027899</td>\n",
       "      <td>0.018825</td>\n",
       "      <td>0.012399</td>\n",
       "      <td>0.656676</td>\n",
       "      <td>Yes.  I use 74HC4066 and others commerically f...</td>\n",
       "      <td>sci.electronics</td>\n",
       "      <td>science</td>\n",
       "      <td>100</td>\n",
       "      <td>513</td>\n",
       "      <td>1713892696059</td>\n",
       "    </tr>\n",
       "    <tr>\n",
       "      <th>2329</th>\n",
       "      <td>science</td>\n",
       "      <td>0.140781</td>\n",
       "      <td>0.017383</td>\n",
       "      <td>0.120168</td>\n",
       "      <td>0.063662</td>\n",
       "      <td>0.658006</td>\n",
       "      <td>Even if they somehow address this issue it is ...</td>\n",
       "      <td>sci.crypt</td>\n",
       "      <td>science</td>\n",
       "      <td>38</td>\n",
       "      <td>222</td>\n",
       "      <td>1713892955407</td>\n",
       "    </tr>\n",
       "    <tr>\n",
       "      <th>2330</th>\n",
       "      <td>computer</td>\n",
       "      <td>0.937898</td>\n",
       "      <td>0.017932</td>\n",
       "      <td>0.009471</td>\n",
       "      <td>0.007481</td>\n",
       "      <td>0.027219</td>\n",
       "      <td>Hello,      I am searching for rendering softw...</td>\n",
       "      <td>comp.graphics</td>\n",
       "      <td>computer</td>\n",
       "      <td>39</td>\n",
       "      <td>215</td>\n",
       "      <td>1713893214755</td>\n",
       "    </tr>\n",
       "    <tr>\n",
       "      <th>2331</th>\n",
       "      <td>science</td>\n",
       "      <td>0.153452</td>\n",
       "      <td>0.039111</td>\n",
       "      <td>0.073378</td>\n",
       "      <td>0.030796</td>\n",
       "      <td>0.703263</td>\n",
       "      <td>For those of you interested in the above Proce...</td>\n",
       "      <td>sci.med</td>\n",
       "      <td>science</td>\n",
       "      <td>114</td>\n",
       "      <td>556</td>\n",
       "      <td>1713893474103</td>\n",
       "    </tr>\n",
       "    <tr>\n",
       "      <th>2332</th>\n",
       "      <td>science</td>\n",
       "      <td>0.191443</td>\n",
       "      <td>0.061594</td>\n",
       "      <td>0.044375</td>\n",
       "      <td>0.032202</td>\n",
       "      <td>0.670386</td>\n",
       "      <td>Someone in Canada asked me to send him some pu...</td>\n",
       "      <td>sci.crypt</td>\n",
       "      <td>science</td>\n",
       "      <td>101</td>\n",
       "      <td>343</td>\n",
       "      <td>1713893733452</td>\n",
       "    </tr>\n",
       "  </tbody>\n",
       "</table>\n",
       "<p>2333 rows × 12 columns</p>\n",
       "</div>"
      ],
      "text/plain": [
       "     predicted_target  prob_computer  prob_forsale  prob_recreation  \\\n",
       "0             science       0.049720      0.015294         0.040910   \n",
       "1            computer       0.749487      0.045994         0.019984   \n",
       "2             forsale       0.068282      0.739602         0.088766   \n",
       "3             science       0.060254      0.036090         0.072608   \n",
       "4            computer       0.259612      0.088936         0.198272   \n",
       "...               ...            ...           ...              ...   \n",
       "2328          science       0.284201      0.027899         0.018825   \n",
       "2329          science       0.140781      0.017383         0.120168   \n",
       "2330         computer       0.937898      0.017932         0.009471   \n",
       "2331          science       0.153452      0.039111         0.073378   \n",
       "2332          science       0.191443      0.061594         0.044375   \n",
       "\n",
       "      prob_religion  prob_science  \\\n",
       "0          0.025433      0.868644   \n",
       "1          0.016209      0.168327   \n",
       "2          0.032307      0.071043   \n",
       "3          0.028312      0.802736   \n",
       "4          0.206862      0.246319   \n",
       "...             ...           ...   \n",
       "2328       0.012399      0.656676   \n",
       "2329       0.063662      0.658006   \n",
       "2330       0.007481      0.027219   \n",
       "2331       0.030796      0.703263   \n",
       "2332       0.032202      0.670386   \n",
       "\n",
       "                                          original_text  \\\n",
       "0     : Has anyone ever heard of a food product call...   \n",
       "1     Getting an image from a computer monitor to a ...   \n",
       "2     The following used CD's are for sale.  They ar...   \n",
       "3     Since your MOSFET is a 1972 vintage, it's prob...   \n",
       "4     Are 'Moody Monthly' and 'Moody' the same magaz...   \n",
       "...                                                 ...   \n",
       "2328  Yes.  I use 74HC4066 and others commerically f...   \n",
       "2329  Even if they somehow address this issue it is ...   \n",
       "2330  Hello,      I am searching for rendering softw...   \n",
       "2331  For those of you interested in the above Proce...   \n",
       "2332  Someone in Canada asked me to send him some pu...   \n",
       "\n",
       "             original_target    target  n_tokens  string_size      timestamp  \n",
       "0                  sci.space   science        87          482  1713288933452  \n",
       "1              comp.graphics  computer       108          589  1713289192800  \n",
       "2               misc.forsale   forsale       128          775  1713289452148  \n",
       "3            sci.electronics   science       117          652  1713289711496  \n",
       "4     soc.religion.christian  religion        26          148  1713289970844  \n",
       "...                      ...       ...       ...          ...            ...  \n",
       "2328         sci.electronics   science       100          513  1713892696059  \n",
       "2329               sci.crypt   science        38          222  1713892955407  \n",
       "2330           comp.graphics  computer        39          215  1713893214755  \n",
       "2331                 sci.med   science       114          556  1713893474103  \n",
       "2332               sci.crypt   science       101          343  1713893733452  \n",
       "\n",
       "[2333 rows x 12 columns]"
      ]
     },
     "execution_count": 6,
     "metadata": {},
     "output_type": "execute_result"
    }
   ],
   "source": [
    "sample_data_df = pd.read_csv(PATH_TO_SAMPLE_CSV)\n",
    "sample_data_df"
   ]
  },
  {
   "cell_type": "markdown",
   "id": "roikR8aTmfNE",
   "metadata": {
    "id": "roikR8aTmfNE"
   },
   "source": [
    "## 3. Define the Model Specifications"
   ]
  },
  {
   "cell_type": "markdown",
   "id": "1Ex_5KxtiHs5",
   "metadata": {
    "id": "1Ex_5KxtiHs5"
   },
   "source": [
    "Next we should tell Fiddler a bit more about the model by creating a `ModelSpec` object that specifies the model's inputs, outputs, targets, and metadata, along with other information such as the enrichments we want performed on our model's data."
   ]
  },
  {
   "cell_type": "markdown",
   "id": "bIWeThOD0XVh",
   "metadata": {
    "id": "bIWeThOD0XVh"
   },
   "source": [
    "### Instruct Fiddler to generate embeddings for our unstructured model input"
   ]
  },
  {
   "cell_type": "markdown",
   "id": "QJv_IGSb0jCS",
   "metadata": {
    "id": "QJv_IGSb0jCS"
   },
   "source": [
    "Fiddler offers a powerful set of enrichment services that we can use to enhance how we monitor our model's performance.  In this example, we instruct Fiddler to generate embeddings for our unstructured text.  These generated embeddings are a numerical vector that represent the content and context of our unstructured input field, _original_text_.  These embeddings then power Fiddler's vector monitoring capability for detecting drift.\n",
    "\n",
    "Before creating a `ModelSpec` object, we define a custom feature using the [fdl.Enrichment()](https://docs.fiddler.ai/python-client-3-x/api-methods-30#fdl.enrichment-private-preview) API. When creating an enrichment, a name must be assigned to the custom feature using the `name` argument. Each enrichment appears in the monitoring tab in the Fiddler UI with this assigned name. Finally, the default clustering setup can be modified by passing the number of cluster centroids to the `n_clusters` argument.\n",
    "\n",
    "Here we define an [embedding fdl.Enrichment](https://docs.fiddler.ai/python-client-3-x/api-methods-30#embedding-private-preview) and then use that embedding enrichment to create a [fdl.TextEmbedding](https://docs.fiddler.ai/python-client-3-x/api-methods-30#customfeature) input that can be used to track drift and to be plotted in Fiddler's UMAP visualizations."
   ]
  },
  {
   "cell_type": "code",
   "execution_count": 7,
   "id": "dlUZbFLya6rv",
   "metadata": {
    "id": "dlUZbFLya6rv"
   },
   "outputs": [],
   "source": [
    "fiddler_backend_enrichments = [\n",
    "    fdl.Enrichment(\n",
    "        name='Enrichment Text Embedding',\n",
    "        enrichment='embedding',\n",
    "        columns=['original_text'],\n",
    "    ),\n",
    "    fdl.TextEmbedding(\n",
    "        name='Original TextEmbedding',\n",
    "        source_column='original_text',\n",
    "        column='Enrichment Text Embedding',\n",
    "        n_clusters=6,\n",
    "    ),\n",
    "]"
   ]
  },
  {
   "cell_type": "code",
   "execution_count": 8,
   "id": "2632df25-8f0e-42c8-97f9-4268a2ea6604",
   "metadata": {},
   "outputs": [],
   "source": [
    "model_spec = fdl.ModelSpec(\n",
    "    inputs=['original_text'],\n",
    "    outputs=[col for col in sample_data_df.columns if col.startswith('prob_')],\n",
    "    targets=['target'],\n",
    "    metadata=['n_tokens', 'string_size', 'timestamp'],\n",
    "    custom_features=fiddler_backend_enrichments,\n",
    ")"
   ]
  },
  {
   "cell_type": "markdown",
   "id": "30b0e718",
   "metadata": {},
   "source": [
    "If you have columns in your ModelSpec which denote **prediction IDs or timestamps**, then Fiddler can use these to power its analytics accordingly. Here we are just noting the column with the event datetime."
   ]
  },
  {
   "cell_type": "code",
   "execution_count": 9,
   "id": "d55492df-924f-4d19-95ac-eda0f3ee70d5",
   "metadata": {},
   "outputs": [],
   "source": [
    "timestamp_column = 'timestamp'"
   ]
  },
  {
   "cell_type": "markdown",
   "id": "a216974f",
   "metadata": {},
   "source": [
    "Fiddler supports a variety of model tasks. In this case, we're setting the task type to multi-class classification to inform Fiddler that is the type of model we are monitoring."
   ]
  },
  {
   "cell_type": "code",
   "execution_count": 10,
   "id": "35ca3a11-8693-400e-a7a0-fb9d865615c9",
   "metadata": {},
   "outputs": [],
   "source": [
    "model_task = fdl.ModelTask.MULTICLASS_CLASSIFICATION\n",
    "\n",
    "task_params = fdl.ModelTaskParams(\n",
    "    target_class_order=[col[5:] for col in model_spec.outputs]\n",
    ")"
   ]
  },
  {
   "cell_type": "markdown",
   "id": "e227383b",
   "metadata": {},
   "source": [
    "## 4. Create a Model\n",
    "\n",
    "Once we've specified information about our model, we can onboard (add) it to Fiddler by calling `Model.create`."
   ]
  },
  {
   "cell_type": "code",
   "execution_count": 11,
   "id": "e4b691a7-d05c-40ba-91e1-d0af374461dd",
   "metadata": {},
   "outputs": [
    {
     "name": "stdout",
     "output_type": "stream",
     "text": [
      "New model created with id = 81ee43cf-3ae3-4d2f-a4c7-d49bee8f4422 and name = nlp_newsgroups_multiclass\n"
     ]
    }
   ],
   "source": [
    "model = fdl.Model.from_data(\n",
    "    name=MODEL_NAME,\n",
    "    project_id=project.id,\n",
    "    source=sample_data_df,\n",
    "    spec=model_spec,\n",
    "    task=model_task,\n",
    "    task_params=task_params,\n",
    "    event_ts_col=timestamp_column,\n",
    ")\n",
    "\n",
    "model.create()\n",
    "print(f'New model created with id = {model.id} and name = {model.name}')"
   ]
  },
  {
   "cell_type": "markdown",
   "id": "891cc574",
   "metadata": {},
   "source": [
    "## 5. Publish a Static Baseline (Optional)\n",
    "\n",
    "Since Fiddler already knows how to process data for your model, we can now add a **baseline dataset**.\n",
    "\n",
    "You can think of this as a static dataset which represents **\"golden data,\"** or the kind of data your model expects to receive. \n",
    "\n",
    "Note : The data given during the model creation is purely for schema inference and not a default baseline.\n",
    "\n",
    "Then, once we start sending production data to Fiddler, you'll be able to see **drift scores** telling you whenever it starts to diverge from this static baseline.\n",
    "\n",
    "***\n",
    "\n",
    "Let's publish our **original data sample** as a pre-production dataset. This will automatically add it as a baseline for the model.\n",
    "\n",
    "\n",
    "*For more information on how to design your baseline dataset, [click here](https://docs.fiddler.ai/client-guide/creating-a-baseline-dataset).*"
   ]
  },
  {
   "cell_type": "code",
   "execution_count": 12,
   "id": "c1bdba54",
   "metadata": {},
   "outputs": [
    {
     "name": "stdout",
     "output_type": "stream",
     "text": [
      "Initiated pre-production environment data upload with Job ID = 5582971f-713b-48cd-8860-40e386c39def\n"
     ]
    }
   ],
   "source": [
    "baseline_publish_job = model.publish(\n",
    "    source=sample_data_df,\n",
    "    environment=fdl.EnvType.PRE_PRODUCTION,\n",
    "    dataset_name=STATIC_BASELINE_NAME,\n",
    ")\n",
    "print(\n",
    "    f'Initiated pre-production environment data upload with Job ID = {baseline_publish_job.id}'\n",
    ")\n",
    "\n",
    "# Uncomment the line below to wait for the job to finish, otherwise it will run in the background.\n",
    "# You can check the status on the Jobs page in the Fiddler UI or use the job ID to query the job status via the API.\n",
    "# baseline_publish_job.wait()"
   ]
  },
  {
   "cell_type": "markdown",
   "id": "L6L9yGBdcVFU",
   "metadata": {
    "id": "L6L9yGBdcVFU"
   },
   "source": [
    "## 6. Publish Production Events"
   ]
  },
  {
   "cell_type": "markdown",
   "id": "uWB1dDYPnRSf",
   "metadata": {
    "id": "uWB1dDYPnRSf"
   },
   "source": [
    "Now let's publish some sample production events into Fiddler. For the timestamps in the middle of the event dataset, we've over-sampled from certain topics which introduces synthetic drift. This oversampling to inject drift allows us to better illustrate how Fiddler's vector monitoring approach detects drift in our unstructured inputs."
   ]
  },
  {
   "cell_type": "code",
   "execution_count": 13,
   "id": "2363c914-6c61-40ac-8c0f-1f59114719f5",
   "metadata": {},
   "outputs": [
    {
     "data": {
      "text/html": [
       "<div>\n",
       "<style scoped>\n",
       "    .dataframe tbody tr th:only-of-type {\n",
       "        vertical-align: middle;\n",
       "    }\n",
       "\n",
       "    .dataframe tbody tr th {\n",
       "        vertical-align: top;\n",
       "    }\n",
       "\n",
       "    .dataframe thead th {\n",
       "        text-align: right;\n",
       "    }\n",
       "</style>\n",
       "<table border=\"1\" class=\"dataframe\">\n",
       "  <thead>\n",
       "    <tr style=\"text-align: right;\">\n",
       "      <th></th>\n",
       "      <th>predicted_target</th>\n",
       "      <th>prob_computer</th>\n",
       "      <th>prob_forsale</th>\n",
       "      <th>prob_recreation</th>\n",
       "      <th>prob_religion</th>\n",
       "      <th>prob_science</th>\n",
       "      <th>original_text</th>\n",
       "      <th>original_target</th>\n",
       "      <th>target</th>\n",
       "      <th>n_tokens</th>\n",
       "      <th>string_size</th>\n",
       "      <th>timestamp</th>\n",
       "    </tr>\n",
       "  </thead>\n",
       "  <tbody>\n",
       "    <tr>\n",
       "      <th>0</th>\n",
       "      <td>science</td>\n",
       "      <td>0.049720</td>\n",
       "      <td>0.015294</td>\n",
       "      <td>0.040910</td>\n",
       "      <td>0.025433</td>\n",
       "      <td>0.868644</td>\n",
       "      <td>: Has anyone ever heard of a food product call...</td>\n",
       "      <td>sci.space</td>\n",
       "      <td>science</td>\n",
       "      <td>87</td>\n",
       "      <td>482</td>\n",
       "      <td>1729540281307</td>\n",
       "    </tr>\n",
       "    <tr>\n",
       "      <th>1</th>\n",
       "      <td>computer</td>\n",
       "      <td>0.749487</td>\n",
       "      <td>0.045994</td>\n",
       "      <td>0.019984</td>\n",
       "      <td>0.016209</td>\n",
       "      <td>0.168327</td>\n",
       "      <td>Getting an image from a computer monitor to a ...</td>\n",
       "      <td>comp.graphics</td>\n",
       "      <td>computer</td>\n",
       "      <td>108</td>\n",
       "      <td>589</td>\n",
       "      <td>1729571654307</td>\n",
       "    </tr>\n",
       "    <tr>\n",
       "      <th>2</th>\n",
       "      <td>forsale</td>\n",
       "      <td>0.068282</td>\n",
       "      <td>0.739602</td>\n",
       "      <td>0.088766</td>\n",
       "      <td>0.032307</td>\n",
       "      <td>0.071043</td>\n",
       "      <td>The following used CD's are for sale.  They ar...</td>\n",
       "      <td>misc.forsale</td>\n",
       "      <td>forsale</td>\n",
       "      <td>128</td>\n",
       "      <td>775</td>\n",
       "      <td>1729607370307</td>\n",
       "    </tr>\n",
       "    <tr>\n",
       "      <th>3</th>\n",
       "      <td>science</td>\n",
       "      <td>0.060254</td>\n",
       "      <td>0.036090</td>\n",
       "      <td>0.072608</td>\n",
       "      <td>0.028312</td>\n",
       "      <td>0.802736</td>\n",
       "      <td>Since your MOSFET is a 1972 vintage, it's prob...</td>\n",
       "      <td>sci.electronics</td>\n",
       "      <td>science</td>\n",
       "      <td>117</td>\n",
       "      <td>652</td>\n",
       "      <td>1729603415307</td>\n",
       "    </tr>\n",
       "    <tr>\n",
       "      <th>4</th>\n",
       "      <td>computer</td>\n",
       "      <td>0.259612</td>\n",
       "      <td>0.088936</td>\n",
       "      <td>0.198272</td>\n",
       "      <td>0.206862</td>\n",
       "      <td>0.246319</td>\n",
       "      <td>Are 'Moody Monthly' and 'Moody' the same magaz...</td>\n",
       "      <td>soc.religion.christian</td>\n",
       "      <td>religion</td>\n",
       "      <td>26</td>\n",
       "      <td>148</td>\n",
       "      <td>1729541667307</td>\n",
       "    </tr>\n",
       "    <tr>\n",
       "      <th>...</th>\n",
       "      <td>...</td>\n",
       "      <td>...</td>\n",
       "      <td>...</td>\n",
       "      <td>...</td>\n",
       "      <td>...</td>\n",
       "      <td>...</td>\n",
       "      <td>...</td>\n",
       "      <td>...</td>\n",
       "      <td>...</td>\n",
       "      <td>...</td>\n",
       "      <td>...</td>\n",
       "      <td>...</td>\n",
       "    </tr>\n",
       "    <tr>\n",
       "      <th>23928</th>\n",
       "      <td>science</td>\n",
       "      <td>0.079724</td>\n",
       "      <td>0.029163</td>\n",
       "      <td>0.174876</td>\n",
       "      <td>0.204127</td>\n",
       "      <td>0.512110</td>\n",
       "      <td>Stupid me. I believed the Democrats stood for ...</td>\n",
       "      <td>sci.crypt</td>\n",
       "      <td>science</td>\n",
       "      <td>176</td>\n",
       "      <td>858</td>\n",
       "      <td>1731666221307</td>\n",
       "    </tr>\n",
       "    <tr>\n",
       "      <th>23929</th>\n",
       "      <td>recreation</td>\n",
       "      <td>0.148276</td>\n",
       "      <td>0.064030</td>\n",
       "      <td>0.646090</td>\n",
       "      <td>0.035585</td>\n",
       "      <td>0.106019</td>\n",
       "      <td>I'm looking for the address to join the Clevel...</td>\n",
       "      <td>rec.sport.baseball</td>\n",
       "      <td>recreation</td>\n",
       "      <td>54</td>\n",
       "      <td>264</td>\n",
       "      <td>1731617135307</td>\n",
       "    </tr>\n",
       "    <tr>\n",
       "      <th>23930</th>\n",
       "      <td>religion</td>\n",
       "      <td>0.018349</td>\n",
       "      <td>0.011634</td>\n",
       "      <td>0.048080</td>\n",
       "      <td>0.883586</td>\n",
       "      <td>0.038351</td>\n",
       "      <td>The story I related is one of the seven appari...</td>\n",
       "      <td>soc.religion.christian</td>\n",
       "      <td>religion</td>\n",
       "      <td>794</td>\n",
       "      <td>2703</td>\n",
       "      <td>1731678505307</td>\n",
       "    </tr>\n",
       "    <tr>\n",
       "      <th>23931</th>\n",
       "      <td>recreation</td>\n",
       "      <td>0.068823</td>\n",
       "      <td>0.018957</td>\n",
       "      <td>0.781527</td>\n",
       "      <td>0.053339</td>\n",
       "      <td>0.077355</td>\n",
       "      <td>Has anybody noticed that Toyota has an uncanny...</td>\n",
       "      <td>rec.autos</td>\n",
       "      <td>recreation</td>\n",
       "      <td>28</td>\n",
       "      <td>173</td>\n",
       "      <td>1731617227307</td>\n",
       "    </tr>\n",
       "    <tr>\n",
       "      <th>23932</th>\n",
       "      <td>religion</td>\n",
       "      <td>0.090058</td>\n",
       "      <td>0.040257</td>\n",
       "      <td>0.125986</td>\n",
       "      <td>0.597178</td>\n",
       "      <td>0.146520</td>\n",
       "      <td>I am a student at UW-Eau Claire.  I am doing a...</td>\n",
       "      <td>soc.religion.christian</td>\n",
       "      <td>religion</td>\n",
       "      <td>128</td>\n",
       "      <td>691</td>\n",
       "      <td>1731635438307</td>\n",
       "    </tr>\n",
       "  </tbody>\n",
       "</table>\n",
       "<p>23933 rows × 12 columns</p>\n",
       "</div>"
      ],
      "text/plain": [
       "      predicted_target  prob_computer  prob_forsale  prob_recreation  \\\n",
       "0              science       0.049720      0.015294         0.040910   \n",
       "1             computer       0.749487      0.045994         0.019984   \n",
       "2              forsale       0.068282      0.739602         0.088766   \n",
       "3              science       0.060254      0.036090         0.072608   \n",
       "4             computer       0.259612      0.088936         0.198272   \n",
       "...                ...            ...           ...              ...   \n",
       "23928          science       0.079724      0.029163         0.174876   \n",
       "23929       recreation       0.148276      0.064030         0.646090   \n",
       "23930         religion       0.018349      0.011634         0.048080   \n",
       "23931       recreation       0.068823      0.018957         0.781527   \n",
       "23932         religion       0.090058      0.040257         0.125986   \n",
       "\n",
       "       prob_religion  prob_science  \\\n",
       "0           0.025433      0.868644   \n",
       "1           0.016209      0.168327   \n",
       "2           0.032307      0.071043   \n",
       "3           0.028312      0.802736   \n",
       "4           0.206862      0.246319   \n",
       "...              ...           ...   \n",
       "23928       0.204127      0.512110   \n",
       "23929       0.035585      0.106019   \n",
       "23930       0.883586      0.038351   \n",
       "23931       0.053339      0.077355   \n",
       "23932       0.597178      0.146520   \n",
       "\n",
       "                                           original_text  \\\n",
       "0      : Has anyone ever heard of a food product call...   \n",
       "1      Getting an image from a computer monitor to a ...   \n",
       "2      The following used CD's are for sale.  They ar...   \n",
       "3      Since your MOSFET is a 1972 vintage, it's prob...   \n",
       "4      Are 'Moody Monthly' and 'Moody' the same magaz...   \n",
       "...                                                  ...   \n",
       "23928  Stupid me. I believed the Democrats stood for ...   \n",
       "23929  I'm looking for the address to join the Clevel...   \n",
       "23930  The story I related is one of the seven appari...   \n",
       "23931  Has anybody noticed that Toyota has an uncanny...   \n",
       "23932  I am a student at UW-Eau Claire.  I am doing a...   \n",
       "\n",
       "              original_target      target  n_tokens  string_size  \\\n",
       "0                   sci.space     science        87          482   \n",
       "1               comp.graphics    computer       108          589   \n",
       "2                misc.forsale     forsale       128          775   \n",
       "3             sci.electronics     science       117          652   \n",
       "4      soc.religion.christian    religion        26          148   \n",
       "...                       ...         ...       ...          ...   \n",
       "23928               sci.crypt     science       176          858   \n",
       "23929      rec.sport.baseball  recreation        54          264   \n",
       "23930  soc.religion.christian    religion       794         2703   \n",
       "23931               rec.autos  recreation        28          173   \n",
       "23932  soc.religion.christian    religion       128          691   \n",
       "\n",
       "           timestamp  \n",
       "0      1729540281307  \n",
       "1      1729571654307  \n",
       "2      1729607370307  \n",
       "3      1729603415307  \n",
       "4      1729541667307  \n",
       "...              ...  \n",
       "23928  1731666221307  \n",
       "23929  1731617135307  \n",
       "23930  1731678505307  \n",
       "23931  1731617227307  \n",
       "23932  1731635438307  \n",
       "\n",
       "[23933 rows x 12 columns]"
      ]
     },
     "execution_count": 13,
     "metadata": {},
     "output_type": "execute_result"
    }
   ],
   "source": [
    "production_data_df = pd.read_csv(PATH_TO_EVENTS_CSV)\n",
    "\n",
    "# Shift the timestamps of the production events to be as recent as today\n",
    "production_data_df['timestamp'] = production_data_df['timestamp'] + (\n",
    "    int(time.time() * 1000) - production_data_df['timestamp'].max()\n",
    ")\n",
    "production_data_df"
   ]
  },
  {
   "cell_type": "markdown",
   "id": "7QrQ_2KMdKZR",
   "metadata": {
    "id": "7QrQ_2KMdKZR"
   },
   "source": [
    "Next, let's publish events our events with the synthetic drift"
   ]
  },
  {
   "cell_type": "code",
   "execution_count": 14,
   "id": "197GcBxRdKGx",
   "metadata": {
    "id": "197GcBxRdKGx"
   },
   "outputs": [
    {
     "name": "stdout",
     "output_type": "stream",
     "text": [
      "Initiated production environment data upload with Job ID = 93b7df22-7173-4e1a-9f02-819bdd451d0f\n"
     ]
    }
   ],
   "source": [
    "production_publish_job = model.publish(production_data_df)\n",
    "\n",
    "print(\n",
    "    f'Initiated production environment data upload with Job ID = {production_publish_job.id}'\n",
    ")\n",
    "\n",
    "# Uncomment the line below to wait for the job to finish, otherwise it will run in the background.\n",
    "# You can check the status on the Jobs page in the Fiddler UI or use the job ID to query the job status via the API.\n",
    "# production_publish_job.wait()"
   ]
  },
  {
   "cell_type": "markdown",
   "id": "fbf936e3-407b-4f1e-9374-3072930c4dc4",
   "metadata": {
    "id": "fbf936e3-407b-4f1e-9374-3072930c4dc4"
   },
   "source": [
    "# Get Insights\n",
    "\n",
    "\n",
    "**You're all done!**\n",
    "  \n",
    "Head to the Fiddler UI to start getting enhanced observability into your model's performance.\n",
    "\n"
   ]
  },
  {
   "cell_type": "markdown",
   "id": "qeV8BFLe9Pby",
   "metadata": {
    "id": "qeV8BFLe9Pby"
   },
   "source": [
    "In particular, you can go to your model's default dashboard in Fiddler and check out the resulting drift chart . The first image below is a screenshot of the automatically generated drift chart which shows the drift of the original text. The second image is a custom drift chart with traffic details at an hourly time bin. (Annotation bubbles are not generated by the Fiddler UI.)"
   ]
  },
  {
   "cell_type": "markdown",
   "id": "325aadc1",
   "metadata": {},
   "source": [
    "<table>\n",
    "    <tr>\n",
    "        <td>\n",
    "            <img src=\"https://raw.githubusercontent.com/fiddler-labs/fiddler-examples/main/quickstart/images/nlp_multiiclass_drift_2.png\"  />\n",
    "        </td>\n",
    "    </tr>\n",
    "</table>"
   ]
  },
  {
   "cell_type": "markdown",
   "id": "d9035d78",
   "metadata": {},
   "source": [
    "<table>\n",
    "    <tr>\n",
    "        <td>\n",
    "            <img src=\"https://raw.githubusercontent.com/fiddler-labs/fiddler-examples/main/quickstart/images/nlp_multiiclass_drift.png\"  />\n",
    "        </td>\n",
    "    </tr>\n",
    "</table>"
   ]
  }
 ],
 "metadata": {
  "colab": {
   "provenance": []
  },
  "kernelspec": {
   "display_name": "Python 3 (ipykernel)",
   "language": "python",
   "name": "python3"
  },
  "language_info": {
   "codemirror_mode": {
    "name": "ipython",
    "version": 3
   },
   "file_extension": ".py",
   "mimetype": "text/x-python",
   "name": "python",
   "nbconvert_exporter": "python",
   "pygments_lexer": "ipython3",
   "version": "3.10.13"
  }
 },
 "nbformat": 4,
 "nbformat_minor": 5
}
