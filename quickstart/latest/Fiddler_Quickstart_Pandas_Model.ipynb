{
  "cells": [
    {
      "cell_type": "markdown",
      "metadata": {
        "id": "sF3cOBoVx9Ji"
      },
      "source": [
        "# Fiddler Model Onboarding With Pandas Guide\n",
        "\n",
        "## Goal\n",
        "\n",
        "This guide demonstrates how to onboard a model with fiddler using a pandas dataframe.\n"
      ]
    },
    {
      "cell_type": "markdown",
      "metadata": {
        "id": "4IxP3f9AYdcd"
      },
      "source": [
        "### Getting Started\n",
        "\n",
        "1. Connect to Fiddler\n",
        "2. Load a Data Sample into a Pandas Dataframe\n",
        "3. Define the Model Specifications\n",
        "4. Set the Model Task\n",
        "5. Create the Model Schema from Dataframe\n",
        "6. Create a Model\n"
      ]
    },
    {
      "cell_type": "markdown",
      "metadata": {
        "id": "wUZi_5s7wsGA"
      },
      "source": [
        "# 0. Imports"
      ]
    },
    {
      "cell_type": "code",
      "execution_count": null,
      "metadata": {
        "id": "Pg-BdRJ4w3LM"
      },
      "outputs": [],
      "source": [
        "%pip install -q fiddler-client\n",
        "\n",
        "import time as time\n",
        "\n",
        "import pandas as pd\n",
        "import fiddler as fdl\n",
        "\n",
        "print(f'Running Fiddler Python client version {fdl.__version__}')"
      ]
    },
    {
      "cell_type": "markdown",
      "metadata": {
        "id": "hcP0yWfV1GoZ"
      },
      "source": [
        "## 1. Connect to Fiddler\n",
        "\n",
        "Before you can add information about your model with Fiddler, you'll need to connect using the Fiddler Python client.\n",
        "\n",
        "\n",
        "---\n",
        "\n",
        "\n",
        "**We need a couple pieces of information to get started.**\n",
        "1. The URL you're using to connect to Fiddler\n",
        "2. Your authorization token\n",
        "\n",
        "Your authorization token can be found by navigating to the **Credentials** tab on the **Settings** page of your Fiddler environment."
      ]
    },
    {
      "cell_type": "code",
      "execution_count": null,
      "metadata": {
        "id": "CWErNsofAz6B"
      },
      "outputs": [],
      "source": [
        "URL = ''  # Make sure to include the full URL (including https:// e.g. 'https://your_company_name.fiddler.ai').\n",
        "TOKEN = ''"
      ]
    },
    {
      "cell_type": "markdown",
      "metadata": {
        "id": "vP_4u0AmYdcf"
      },
      "source": [
        "Constants for this example notebook, change as needed to create your own versions"
      ]
    },
    {
      "cell_type": "code",
      "execution_count": null,
      "metadata": {
        "id": "VSjS45euYdcf"
      },
      "outputs": [],
      "source": [
        "PROJECT_NAME = 'quickstart_examples'  # If the project already exists, the notebook will create the model under the existing project.\n",
        "MODEL_NAME = 'bank_churn_simple_monitoring'\n",
        "\n",
        "STATIC_BASELINE_NAME = 'baseline_dataset'\n",
        "ROLLING_BASELINE_NAME = 'rolling_baseline_1week'\n",
        "\n",
        "# Sample data hosted on GitHub\n",
        "PATH_TO_SAMPLE_CSV = 'https://raw.githubusercontent.com/fiddler-labs/fiddler-examples/main/quickstart/data/v3/churn_data_sample.csv'\n",
        "PATH_TO_EVENTS_CSV = 'https://raw.githubusercontent.com/fiddler-labs/fiddler-examples/main/quickstart/data/v3/churn_production_data.csv'"
      ]
    },
    {
      "cell_type": "markdown",
      "metadata": {
        "id": "4EttApX9BBIn"
      },
      "source": [
        "Now just run the following to connect to your Fiddler environment."
      ]
    },
    {
      "cell_type": "code",
      "execution_count": null,
      "metadata": {
        "id": "g6ONUHliBAsH"
      },
      "outputs": [],
      "source": [
        "fdl.init(url=URL, token=TOKEN)"
      ]
    },
    {
      "cell_type": "markdown",
      "metadata": {
        "id": "QpUHeE3dBTHD"
      },
      "source": [
        "#### 1.a Create New or Load Existing Project\n",
        "\n",
        "Once you connect, you can create a new project by specifying a unique project name in the fld.Project constructor and calling the `create()` method. If the project already exists, it will load it for use."
      ]
    },
    {
      "cell_type": "code",
      "execution_count": null,
      "metadata": {
        "id": "vh46Mp1MBSMj"
      },
      "outputs": [],
      "source": [
        "project = fdl.Project.get_or_create(name=PROJECT_NAME)\n",
        "\n",
        "print(f'Using project with id = {project.id} and name = {project.name}')"
      ]
    },
    {
      "cell_type": "markdown",
      "metadata": {
        "id": "tlp8zEvlqO8I"
      },
      "source": [
        "You should now be able to see the newly created project in the Fiddler UI."
      ]
    },
    {
      "cell_type": "markdown",
      "metadata": {
        "id": "NygDk2Pyjos4"
      },
      "source": [
        "<table>\n",
        "    <tr>\n",
        "        <td>\n",
        "            <img src=\"https://raw.githubusercontent.com/fiddler-labs/fiddler-examples/main/quickstart/images/simple_monitoring_1.png\" />\n",
        "        </td>\n",
        "    </tr>\n",
        "</table>"
      ]
    },
    {
      "cell_type": "markdown",
      "metadata": {
        "id": "V3V2EhIdwA_Q"
      },
      "source": [
        "## 2. Load a Data Sample\n",
        "\n",
        "In this example, we'll be considering the case where we're a bank and we have **a model that predicts churn for our customers**.\n",
        "  \n",
        "In order to get insights into the model's performance, **Fiddler needs a small sample of data** to learn the schema of incoming data."
      ]
    },
    {
      "cell_type": "code",
      "execution_count": null,
      "metadata": {
        "id": "TFVJcU8uCY7z"
      },
      "outputs": [],
      "source": [
        "sample_data_df = pd.read_csv(PATH_TO_SAMPLE_CSV)\n",
        "column_list  = sample_data_df.columns\n",
        "sample_data_df"
      ]
    },
    {
      "cell_type": "markdown",
      "metadata": {
        "id": "IK3sL73_4FxO"
      },
      "source": [
        "## 3. Define the Model Specifications\n",
        "\n",
        "In order to create a model in Fiddler, create a ModelSpec object with information about what each column of your data sample should used for.\n",
        "\n",
        "Fiddler supports four column types:\n",
        "1. **Inputs**\n",
        "2. **Outputs** (Model predictions)\n",
        "3. **Target** (Ground truth values)\n",
        "4. **Metadata**"
      ]
    },
    {
      "cell_type": "code",
      "execution_count": null,
      "metadata": {
        "id": "chvsg8dNYdci"
      },
      "outputs": [],
      "source": [
        "input_columns = list(\n",
        "    column_list.drop(['predicted_churn', 'churn', 'customer_id', 'timestamp'])\n",
        ")"
      ]
    },
    {
      "cell_type": "code",
      "execution_count": null,
      "metadata": {
        "id": "wqyBTZn3NJPU"
      },
      "outputs": [],
      "source": [
        "model_spec = fdl.ModelSpec(\n",
        "    inputs=input_columns,\n",
        "    outputs=['predicted_churn'],\n",
        "    targets=['churn'],  # Note: only a single Target column is allowed, use metadata columns and custom metrics for additional targets\n",
        "    metadata=['customer_id', 'timestamp'],\n",
        ")"
      ]
    },
    {
      "cell_type": "markdown",
      "metadata": {
        "id": "hj40LXqQYdcj"
      },
      "source": [
        "If you have columns in your ModelSpec which denote **prediction IDs or timestamps**, then Fiddler can use these to power its analytics accordingly.\n",
        "\n",
        "Let's call them out here and use them when configuring the Model in step 5."
      ]
    },
    {
      "cell_type": "code",
      "execution_count": null,
      "metadata": {
        "id": "P4ixjkV5Ydcj"
      },
      "outputs": [],
      "source": [
        "id_column = 'customer_id'\n",
        "timestamp_column = 'timestamp'"
      ]
    },
    {
      "cell_type": "markdown",
      "metadata": {
        "id": "WzCmLfRcYdcj"
      },
      "source": [
        "## 4. Set the Model Task\n",
        "\n",
        "Fiddler supports a variety of model tasks. In this case, we're adding a binary classification model.\n",
        "\n",
        "For this, we'll create a ModelTask object and an additional ModelTaskParams object to specify the ordering of our positive and negative labels.\n",
        "\n",
        "*For a detailed breakdown of all supported model tasks, click [here](https://docs.fiddler.ai/technical-reference/python-client-guides/explainability/model-task-examples).*"
      ]
    },
    {
      "cell_type": "code",
      "execution_count": null,
      "metadata": {
        "id": "o-919JxhYdcj"
      },
      "outputs": [],
      "source": [
        "model_task = fdl.ModelTask.BINARY_CLASSIFICATION\n",
        "\n",
        "task_params = fdl.ModelTaskParams(target_class_order=['no', 'yes'])"
      ]
    },
    {
      "cell_type": "markdown",
      "metadata": {
        "id": "Is9x5_uyYdck"
      },
      "source": [
        "## 5. Create a Model Schema from the Dataframe\n",
        "\n",
        "Create a ModelSchema from the Dataframe"
      ]
    },
    {
      "cell_type": "code",
      "source": [
        "model_schema = fdl.utils.column_generator.create_columns_from_df(sample_data_df)"
      ],
      "metadata": {
        "id": "xF3dSZywmMSD"
      },
      "execution_count": null,
      "outputs": []
    },
    {
      "cell_type": "markdown",
      "source": [
        "Review the resulting model's schema. For e.g., check for min/max range for the returned numeric columns.\n",
        "Once the results are veried, create the model as shown below."
      ],
      "metadata": {
        "id": "xNrMed7LmNwk"
      }
    },
    {
      "cell_type": "code",
      "execution_count": null,
      "metadata": {
        "id": "A1Y_ICmTYdck"
      },
      "outputs": [],
      "source": [
        "model = fdl.Model(\n",
        "    name=MODEL_NAME,\n",
        "    project_id=project.id,\n",
        "    schema=model_schema,\n",
        "    spec=model_spec,\n",
        "    task=model_task,\n",
        "    task_params=task_params\n",
        ")\n",
        "\n",
        "model.create()"
      ]
    },
    {
      "cell_type": "markdown",
      "metadata": {
        "id": "0GmqFXTYwRg6"
      },
      "source": [
        "On the project page, you should now be able to see the newly onboarded model with its model schema."
      ]
    },
    {
      "cell_type": "markdown",
      "metadata": {
        "id": "wbaDq7wZjos8"
      },
      "source": [
        "<table>\n",
        "    <tr>\n",
        "        <td>\n",
        "            <img src=\"https://github.com/fiddler-labs/fiddler-examples/blob/main/quickstart/images/simple_monitoring_3.png?raw=true\" />\n",
        "        </td>\n",
        "    </tr>\n",
        "</table>"
      ]
    },
    {
      "cell_type": "markdown",
      "metadata": {
        "id": "Ed1_OS6ajos8"
      },
      "source": [
        "<table>\n",
        "    <tr>\n",
        "        <td>\n",
        "            <img src=\"https://github.com/fiddler-labs/fiddler-examples/blob/main/quickstart/images/simple_monitoring_4.png?raw=true\" />\n",
        "        </td>\n",
        "    </tr>\n",
        "</table>"
      ]
    },
    {
      "cell_type": "markdown",
      "metadata": {
        "id": "Jdkj1eHgOTAO"
      },
      "source": [
        "**What's Next?**\n",
        "\n",
        "Try the [LLM Monitoring - Quick Start Notebook](https://docs.fiddler.ai/tutorials-and-quick-starts/llm-and-genai/simple-llm-monitoring)\n",
        "\n",
        "---\n",
        "\n",
        "\n",
        "**Questions?**  \n",
        "  \n",
        "Check out [our docs](https://docs.fiddler.ai/) for a more detailed explanation of what Fiddler has to offer."
      ]
    }
  ],
  "metadata": {
    "colab": {
      "provenance": []
    },
    "kernelspec": {
      "display_name": "Python 3",
      "language": "python",
      "name": "python3"
    },
    "language_info": {
      "codemirror_mode": {
        "name": "ipython",
        "version": 3
      },
      "file_extension": ".py",
      "mimetype": "text/x-python",
      "name": "python",
      "nbconvert_exporter": "python",
      "pygments_lexer": "ipython3",
      "version": "3.10.13"
    }
  },
  "nbformat": 4,
  "nbformat_minor": 0
}