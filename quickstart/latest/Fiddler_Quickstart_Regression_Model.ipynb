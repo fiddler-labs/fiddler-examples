{
 "cells": [
  {
   "cell_type": "markdown",
   "metadata": {
    "id": "sF3cOBoVx9Ji"
   },
   "source": [
    "# Monitoring a Regression Model with Fiddler\n",
    "\n",
    "In this notebook, we demonstrate how Fiddler can monitor the performance of regression models, detecting/alerting issues with data drift and performance metrics (ex. Mean Absolute Error).\n",
    "\n",
    "---\n",
    "\n",
    "Fiddler is the pioneer in enterprise Model Performance Management (MPM), offering a unified platform that enables Data Science, MLOps, Risk, Compliance, Analytics, and other LOB teams to **monitor, analyze, and improve ML deployments at enterprise scale**.\n",
    "Obtain contextual insights at any stage of the ML lifecycle, improve predictions, increase transparency and fairness, and optimize business revenue.\n",
    "\n",
    "---\n",
    "\n",
    "You can start using Fiddler ***in minutes*** by following these quick steps:\n",
    "\n",
    "1. Connect to Fiddler\n",
    "2. Load a Data Sample\n",
    "3. Define the Model Specifications\n",
    "4. Set the Model Task\n",
    "5. Create a Model\n",
    "6. Set Up Alerts **(Optional)**\n",
    "7. Publish a Pre-production Baseline **(Optional)**\n",
    "8. Configure a Rolling Baseline **(Optional)**\n",
    "9. Publish Production Events"
   ]
  },
  {
   "cell_type": "markdown",
   "metadata": {
    "id": "wUZi_5s7wsGA"
   },
   "source": [
    "# 0. Imports"
   ]
  },
  {
   "cell_type": "code",
   "execution_count": null,
   "metadata": {
    "id": "Pg-BdRJ4w3LM"
   },
   "outputs": [],
   "source": [
    "%pip install -q fiddler-client\n",
    "\n",
    "import time as time\n",
    "\n",
    "import pandas as pd\n",
    "import fiddler as fdl\n",
    "\n",
    "print(f'Running Fiddler Python client version {fdl.__version__}')"
   ]
  },
  {
   "cell_type": "markdown",
   "metadata": {
    "id": "hcP0yWfV1GoZ"
   },
   "source": [
    "## 1. Connect to Fiddler\n",
    "\n",
    "Before you can add information about your model with Fiddler, you'll need to connect using the Fiddler Python client.\n",
    "\n",
    "\n",
    "---\n",
    "\n",
    "\n",
    "**We need a couple pieces of information to get started.**\n",
    "1. The URL you're using to connect to Fiddler\n",
    "2. Your authorization token\n",
    "\n",
    "Your authorization token can be found by navigating to the **Credentials** tab on the **Settings** page of your Fiddler environment."
   ]
  },
  {
   "cell_type": "code",
   "execution_count": 124,
   "metadata": {
    "id": "CWErNsofAz6B"
   },
   "outputs": [],
   "source": [
    "URL = ''  # Make sure to include the full URL (including https:// e.g. 'https://your_company_name.fiddler.ai').\n",
    "TOKEN = ''"
   ]
  },
  {
   "cell_type": "markdown",
   "metadata": {},
   "source": [
    "Constants for this example notebook, change as needed to create your own versions"
   ]
  },
  {
   "cell_type": "code",
   "execution_count": null,
   "metadata": {},
   "outputs": [],
   "source": [
    "PROJECT_NAME = 'quickstart_examples'  # If the project already exists, the notebook will create the model under the existing project.\n",
    "MODEL_NAME = 'airline_delay_model'\n",
    "\n",
    "STATIC_BASELINE_NAME = 'baseline_dataset'\n",
    "ROLLING_BASELINE_NAME = 'rolling_baseline_1week'\n",
    "\n",
    "# Sample data hosted on GitHub\n",
    "PATH_TO_SAMPLE_CSV = 'https://raw.githubusercontent.com/fiddler-labs/fiddler-examples/main/quickstart/data/v3/flight_baseline.csv'\n",
    "PATH_TO_EVENTS_CSV = 'https://raw.githubusercontent.com/fiddler-labs/fiddler-examples/main/quickstart/data/v3/flight_events_drift.csv'"
   ]
  },
  {
   "cell_type": "markdown",
   "metadata": {
    "id": "4EttApX9BBIn"
   },
   "source": [
    "Now just run the following to connect to your Fiddler environment."
   ]
  },
  {
   "cell_type": "code",
   "execution_count": null,
   "metadata": {
    "id": "g6ONUHliBAsH"
   },
   "outputs": [],
   "source": [
    "fdl.init(url=URL, token=TOKEN)"
   ]
  },
  {
   "cell_type": "markdown",
   "metadata": {
    "id": "QpUHeE3dBTHD"
   },
   "source": [
    "#### 1.a Create New or Load Existing Project\n",
    "\n",
    "Once you connect, you can create a new project by specifying a unique project name in the fld.Project constructor and calling the `create()` method. If the project already exists, it will load it for use."
   ]
  },
  {
   "cell_type": "code",
   "execution_count": null,
   "metadata": {
    "id": "vh46Mp1MBSMj"
   },
   "outputs": [],
   "source": [
    "project = fdl.Project.get_or_create(name=PROJECT_NAME)\n",
    "\n",
    "# Check if the project has an ID to distinguish new vs existing\n",
    "print(f'{\"Created new\" if project.id is None else \"Retrieved existing\"} project with id = {project.id} and name = {project.name}')"
   ]
  },
  {
   "cell_type": "markdown",
   "metadata": {
    "id": "tlp8zEvlqO8I"
   },
   "source": [
    "You should now be able to see the newly created project in the Fiddler UI."
   ]
  },
  {
   "cell_type": "markdown",
   "metadata": {
    "id": "NygDk2Pyjos4"
   },
   "source": [
    "<table>\n",
    "    <tr>\n",
    "        <td>\n",
    "            <img src=\"https://raw.githubusercontent.com/fiddler-labs/fiddler-examples/main/quickstart/images/regression_model_1.png\" />\n",
    "        </td>\n",
    "    </tr>\n",
    "</table>"
   ]
  },
  {
   "cell_type": "markdown",
   "metadata": {
    "id": "V3V2EhIdwA_Q"
   },
   "source": [
    "## 2. Load a Data Sample\n",
    "\n",
    "In this example, we'll be considering the case where we have airline data and we have **a model that predicts the arrival delay**.\n",
    "  \n",
    "In order to get insights into the model's performance, **Fiddler needs a small sample of data** to learn the schema of incoming data."
   ]
  },
  {
   "cell_type": "code",
   "execution_count": null,
   "metadata": {
    "id": "TFVJcU8uCY7z"
   },
   "outputs": [],
   "source": [
    "sample_data_df = pd.read_csv(PATH_TO_SAMPLE_CSV)\n",
    "column_list  = sample_data_df.columns"
   ]
  },
  {
   "cell_type": "code",
   "execution_count": null,
   "metadata": {},
   "outputs": [],
   "source": [
    "# Display the columns in dataset for reference\n",
    "column_list"
   ]
  },
  {
   "cell_type": "markdown",
   "metadata": {
    "id": "IK3sL73_4FxO"
   },
   "source": [
    "## 3. Define the Model Specifications\n",
    "\n",
    "In order to create a model in Fiddler, create a ModelSpec object with information about what each column of your data sample should used for.\n",
    "\n",
    "Fiddler supports four column types:\n",
    "1. **Inputs**\n",
    "2. **Outputs** (Model predictions)\n",
    "3. **Target** (Ground truth values)\n",
    "4. **Metadata**"
   ]
  },
  {
   "cell_type": "code",
   "execution_count": null,
   "metadata": {},
   "outputs": [],
   "source": [
    "input_columns = list(\n",
    "    column_list.drop(['predicted_ARRIVAL_DELAY', 'ARRIVAL_DELAY'])\n",
    ")\n",
    "output_column = ['predicted_ARRIVAL_DELAY']\n",
    "target_column = ['ARRIVAL_DELAY']"
   ]
  },
  {
   "cell_type": "code",
   "execution_count": null,
   "metadata": {
    "id": "wqyBTZn3NJPU"
   },
   "outputs": [],
   "source": [
    "model_spec = fdl.ModelSpec(\n",
    "    inputs=input_columns,\n",
    "    outputs=output_column,\n",
    "    targets=target_column,  # Note: only a single Target column is allowed, use metadata columns and custom metrics for additional targets\n",
    ")"
   ]
  },
  {
   "cell_type": "markdown",
   "metadata": {},
   "source": [
    "If you have columns in your ModelSpec which denote **prediction IDs or timestamps**, then Fiddler can use these to power its analytics accordingly.\n",
    "\n",
    "Let's call them out here and use them when configuring the Model in step 5."
   ]
  },
  {
   "cell_type": "code",
   "execution_count": null,
   "metadata": {},
   "outputs": [],
   "source": [
    "# The baseline dataset does not have a timestamp, but we can expect a timestamp column for production events.\n",
    "timestamp_column = 'timestamp'"
   ]
  },
  {
   "cell_type": "markdown",
   "metadata": {},
   "source": [
    "## 4. Set the Model Task\n",
    "\n",
    "Fiddler supports a variety of model tasks. In this case, we're adding a **regression** model.\n",
    "\n",
    "For this, we'll create the regression ModelTask object.\n",
    "\n",
    "*For a detailed breakdown of all supported model tasks, click [here](https://docs.fiddler.ai/product-guide/task-types).*"
   ]
  },
  {
   "cell_type": "code",
   "execution_count": null,
   "metadata": {},
   "outputs": [],
   "source": [
    "model_task = fdl.ModelTask.REGRESSION"
   ]
  },
  {
   "cell_type": "markdown",
   "metadata": {},
   "source": [
    "## 5. Create a Model\n",
    "\n",
    "Create a Model object and publish it to Fiddler, passing in\n",
    "1. Your data sample\n",
    "2. The ModelSpec object\n",
    "3. The ModelTask and ModelTaskParams objects\n",
    "4. The ID and timestamp columns"
   ]
  },
  {
   "cell_type": "code",
   "execution_count": null,
   "metadata": {},
   "outputs": [],
   "source": [
    "model = fdl.Model.from_data(\n",
    "    name=MODEL_NAME,\n",
    "    project_id=project.id,\n",
    "    source=sample_data_df,\n",
    "    spec=model_spec,\n",
    "    task=model_task,\n",
    "    event_ts_col=timestamp_column,\n",
    ")\n",
    "\n",
    "model.create()\n",
    "print(f'New model created with id = {model.id} and name = {model.name}')"
   ]
  },
  {
   "cell_type": "markdown",
   "metadata": {
    "id": "0GmqFXTYwRg6"
   },
   "source": [
    "On the project page, you should now be able to see the newly onboarded model with its model schema."
   ]
  },
  {
   "cell_type": "markdown",
   "metadata": {
    "id": "wbaDq7wZjos8"
   },
   "source": [
    "<table>\n",
    "    <tr>\n",
    "        <td>\n",
    "            <img src=\"https://github.com/fiddler-labs/fiddler-examples/blob/main/quickstart/images/regression_model_2.png?raw=true\" />\n",
    "        </td>\n",
    "    </tr>\n",
    "</table>"
   ]
  },
  {
   "cell_type": "markdown",
   "metadata": {},
   "source": [
    "## 6. Publish a Static Baseline (Optional)"
   ]
  },
  {
   "cell_type": "markdown",
   "metadata": {},
   "source": [
    "Since Fiddler already knows how to process data for your model, we can now add a **baseline dataset**.\n",
    "\n",
    "You can think of this as a static dataset which represents **\"golden data,\"** or the kind of data your model expects to receive.\n",
    "\n",
    "Then, once we start sending production data to Fiddler, you'll be able to see **drift scores** telling you whenever it starts to diverge from this static baseline.\n",
    "\n",
    "***\n",
    "\n",
    "Let's publish our **original data sample** as a pre-production dataset. This will automatically add it as a baseline for the model.\n",
    "\n",
    "\n",
    "*For more information on how to design your baseline dataset, [click here](https://docs.fiddler.ai/client-guide/creating-a-baseline-dataset).*"
   ]
  },
  {
   "cell_type": "code",
   "execution_count": null,
   "metadata": {},
   "outputs": [],
   "source": [
    "baseline_publish_job = model.publish(\n",
    "    source=sample_data_df,\n",
    "    environment=fdl.EnvType.PRE_PRODUCTION,\n",
    "    dataset_name=STATIC_BASELINE_NAME,\n",
    ")\n",
    "print(\n",
    "    f'Initiated pre-production environment data upload with Job ID = {baseline_publish_job.id}'\n",
    ")\n",
    "\n",
    "# Uncomment the line below to wait for the job to finish, otherwise it will run in the background.\n",
    "# You can check the status on the Jobs page in the Fiddler UI or use the job ID to query the job status via the API.\n",
    "# baseline_publish_job.wait()"
   ]
  },
  {
   "cell_type": "markdown",
   "metadata": {
    "id": "R-hj33B10Ssw"
   },
   "source": [
    "## 7. Set Up Alerts (Optional)\n",
    "\n",
    "Fiddler allows creating alerting rules when your data or model predictions deviate from expected behavior.\n",
    "\n",
    "The alert rules can compare metrics to **absolute** or **relative** values.\n",
    "\n",
    "Please refer to [our documentation](https://docs.fiddler.ai/client-guide/alerts-with-fiddler-client) for more information on Alert Rules.\n",
    "\n",
    "---\n",
    "  \n",
    "Let's set up some alert rules.\n",
    "\n",
    "The following API call sets up a Performance type rule which triggers an email notification when the Mean Absolute Error (MAE) for published events are below a Warning or Critical threshold."
   ]
  },
  {
   "cell_type": "code",
   "execution_count": null,
   "metadata": {
    "id": "_M9F22O621Ec"
   },
   "outputs": [],
   "source": [
    "alert_rule_1 = fdl.AlertRule(\n",
    "    name='MAE Performance Alert',\n",
    "    model_id=model.id,\n",
    "    metric_id='mae',\n",
    "    bin_size=fdl.BinSize.DAY,\n",
    "    compare_to=fdl.CompareTo.RAW_VALUE,\n",
    "    priority=fdl.Priority.HIGH,\n",
    "    warning_threshold=40,\n",
    "    critical_threshold=44.0,\n",
    "    condition=fdl.AlertCondition.GREATER,\n",
    ")\n",
    "\n",
    "alert_rule_1.create()\n",
    "print(\n",
    "    f'New alert rule created with id = {alert_rule_1.id} and name = {alert_rule_1.name}'\n",
    ")\n",
    "\n",
    "# Set notification configuration for the alert rule, a single email address for this simple example\n",
    "alert_rule_1.set_notification_config(emails=['name@google.com'])"
   ]
  },
  {
   "cell_type": "markdown",
   "metadata": {
    "id": "P21mz652jos9"
   },
   "source": [
    "## 8. Configure a Rolling Baseline (Optional)\n",
    "\n",
    "Fiddler also allows you to configure a baseline based on **past production data.**\n",
    "\n",
    "This means instead of looking at a static slice of data, it will look into past production events and use what it finds for drift calculation.\n",
    "\n",
    "Please refer to [our documentation](https://docs.fiddler.ai/client-guide/creating-a-baseline-dataset) for more information on Baselines.\n",
    "\n",
    "---\n",
    "  \n",
    "Let's set up a rolling baseline that will allow us to calculate drift relative to production data from 1 week back."
   ]
  },
  {
   "cell_type": "code",
   "execution_count": null,
   "metadata": {
    "id": "b2Fv0N3tjos9"
   },
   "outputs": [],
   "source": [
    "rolling_baseline = fdl.Baseline(\n",
    "    model_id=model.id,\n",
    "    name=ROLLING_BASELINE_NAME,\n",
    "    type_=fdl.BaselineType.ROLLING,\n",
    "    environment=fdl.EnvType.PRODUCTION,\n",
    "    window_bin_size=fdl.WindowBinSize.DAY,  # Size of the sliding window\n",
    "    offset_delta=7,  # How far back to set our window (multiple of window_bin_size)\n",
    ")\n",
    "\n",
    "rolling_baseline.create()\n",
    "print(\n",
    "    f'New rolling baseline created with id = {rolling_baseline.id} and name = {rolling_baseline.name}'\n",
    ")"
   ]
  },
  {
   "cell_type": "markdown",
   "metadata": {
    "id": "1BKLkIgPjos-"
   },
   "source": [
    "## 9. Publish Production Events\n",
    "\n",
    "Finally, let's send in some production data!\n",
    "\n",
    "\n",
    "Fiddler will **monitor this data and compare it to your baseline to generate powerful insights into how your model is behaving**.\n",
    "\n",
    "\n",
    "---\n",
    "\n",
    "\n",
    "Each record sent to Fiddler is called **an event**.\n",
    "  \n",
    "Let's load some sample events from a CSV file."
   ]
  },
  {
   "cell_type": "code",
   "execution_count": null,
   "metadata": {
    "id": "1dmA8PP7GTdJ"
   },
   "outputs": [],
   "source": [
    "production_data_df = pd.read_csv(PATH_TO_EVENTS_CSV)\n",
    "\n",
    "# Ensure string timestamp is in proper format\n",
    "production_data_df['timestamp'] = pd.to_datetime(production_data_df['timestamp'])\n",
    "\n",
    "# OPTIONAL: shift the production data timestamps to be as recent as today\n",
    "\n",
    "current_time = pd.Timestamp.now()\n",
    "\n",
    "# Create a list of timestamps, increasing by one hour for each row\n",
    "n_rows = len(production_data_df)\n",
    "shifted_times = [current_time - pd.Timedelta(hours=(n_rows - 1 - i)) for i in range(n_rows)]\n",
    "\n",
    "# Assign the shifted times to the dataframe\n",
    "production_data_df['timestamp'] = shifted_times\n",
    "\n",
    "production_data_df"
   ]
  },
  {
   "cell_type": "code",
   "execution_count": null,
   "metadata": {
    "id": "TI-gqrMmhEOe"
   },
   "outputs": [],
   "source": [
    "production_publish_job = model.publish(production_data_df)\n",
    "\n",
    "print(\n",
    "    f'Initiated production environment data upload with Job ID = {production_publish_job.id}'\n",
    ")\n",
    "\n",
    "# Uncomment the line below to wait for the job to finish, otherwise it will run in the background.\n",
    "# You can check the status on the Jobs page in the Fiddler UI or use the job ID to query the job status via the API.\n",
    "# production_publish_job.wait()"
   ]
  },
  {
   "cell_type": "markdown",
   "metadata": {
    "id": "vR6IR8YNHgG1"
   },
   "source": [
    "# Get Insights\n",
    "  \n",
    "Return to your Fiddler environment to get enhanced observability into your model's performance."
   ]
  },
  {
   "cell_type": "markdown",
   "metadata": {
    "id": "-DZMVHAEBzC_"
   },
   "source": [
    "<table>\n",
    "    <tr>\n",
    "        <td>\n",
    "            <img src=\"https://raw.githubusercontent.com/fiddler-labs/fiddler-examples/main/quickstart/images/regression_model_3.png\" />\n",
    "        </td>\n",
    "    </tr>\n",
    "</table>"
   ]
  },
  {
   "cell_type": "markdown",
   "metadata": {
    "id": "Jdkj1eHgOTAO"
   },
   "source": [
    "**What's Next?**\n",
    "\n",
    "Try the [LLM Monitoring - Quick Start Notebook](https://docs.fiddler.ai/quickstart-notebooks/simple-llm-monitoring)\n",
    "\n",
    "---\n",
    "\n",
    "\n",
    "**Questions?**  \n",
    "  \n",
    "Check out [our docs](https://docs.fiddler.ai/) for a more detailed explanation of what Fiddler has to offer."
   ]
  }
 ],
 "metadata": {
  "colab": {
   "provenance": []
  },
  "kernelspec": {
   "display_name": "fiddler",
   "language": "python",
   "name": "python3"
  },
  "language_info": {
   "codemirror_mode": {
    "name": "ipython",
    "version": 3
   },
   "file_extension": ".py",
   "mimetype": "text/x-python",
   "name": "python",
   "nbconvert_exporter": "python",
   "pygments_lexer": "ipython3",
   "version": "3.11.11"
  }
 },
 "nbformat": 4,
 "nbformat_minor": 4
}
