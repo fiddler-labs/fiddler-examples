{
 "cells": [
  {
   "cell_type": "markdown",
   "metadata": {
    "id": "sF3cOBoVx9Ji"
   },
   "source": [
    "# Fiddler User-Defined Feature Impact Quick Start Guide\n",
    "\n",
    "In this notebook we demonstrate how to upload your own precomputed feature impact values to a Fiddler model. Previous versions of Fiddler required you create either a surrogate or user model artifact with which to calculate the feature impact values within Fiddler. Both surrogate and user model artifact require extra steps when onboarding a model and may be unnecessary if the feature impact values already exist. \n",
    "\n",
    "\n",
    "---\n",
    "\n",
    "The documentation for the user-defined feature impact upload API can be found online [here](https://docs.fiddler.ai/technical-reference/api-methods-30#upload_feature_impact).\n",
    "\n",
    "User-Defined Feature Impact is supported on Fiddler version 24.12+ using Fiddler Python client API versions 3.3 and higher.\n",
    "\n",
    "**Please note that you may skip Steps #2 - #5 and resume at [Step #6](#section_06)** if you have already run Fiddler's [Simple Monitoring Quick Start Guide](https://docs.fiddler.ai/tutorials-and-quick-starts/ml-observability/quick-start) and used the default values and sample data.\n",
    "\n",
    "1. Connect to Fiddler - Initialization, create a project\n",
    "2. Load a Data Sample\n",
    "3. Define Your Model Specifications\n",
    "4. Set a Model Task\n",
    "5. Add Your Model\n",
    "6. Upload Your Feature Impact Values"
   ]
  },
  {
   "cell_type": "markdown",
   "metadata": {
    "id": "wUZi_5s7wsGA"
   },
   "source": [
    "# 0. Imports"
   ]
  },
  {
   "cell_type": "code",
   "execution_count": null,
   "metadata": {
    "id": "Pg-BdRJ4w3LM"
   },
   "outputs": [],
   "source": [
    "%pip install -q fiddler-client\n",
    "\n",
    "import pandas as pd\n",
    "import fiddler as fdl\n",
    "\n",
    "print(f\"Running client version {fdl.__version__}\")"
   ]
  },
  {
   "cell_type": "markdown",
   "metadata": {
    "id": "hcP0yWfV1GoZ"
   },
   "source": [
    "## 1. Connect to Fiddler\n",
    "\n",
    "Before you can add information about your model with Fiddler, you'll need to connect using our Python client API.\n",
    "\n",
    "\n",
    "---\n",
    "\n",
    "\n",
    "**We need a couple pieces of information to get started.**\n",
    "1. The URL you're using to connect to Fiddler\n",
    "2. Your authorization token\n",
    "\n",
    "Your authorization token can be found by navigating to the **Credentials** tab on the **Settings** page of your Fiddler environment."
   ]
  },
  {
   "cell_type": "code",
   "execution_count": null,
   "metadata": {
    "id": "CWErNsofAz6B"
   },
   "outputs": [],
   "source": [
    "URL = ''  # Make sure to include the full URL (including https:// e.g. 'https://your_company_name.fiddler.ai').\n",
    "TOKEN = ''"
   ]
  },
  {
   "cell_type": "markdown",
   "metadata": {},
   "source": [
    "Constants for this example notebook, change as needed to create your own versions"
   ]
  },
  {
   "cell_type": "code",
   "execution_count": null,
   "metadata": {},
   "outputs": [],
   "source": [
    "PROJECT_NAME = 'quickstart_examples'  # If the project already exists, the notebook will create the model under the existing project.\n",
    "MODEL_NAME = 'bank_churn_simple_monitoring'\n",
    "\n",
    "# Sample data hosted on GitHub\n",
    "PATH_TO_SAMPLE_CSV = 'https://raw.githubusercontent.com/fiddler-labs/fiddler-examples/main/quickstart/data/v3/churn_data_sample.csv'\n",
    "PATH_TO_FI_VALUES = 'https://raw.githubusercontent.com/fiddler-labs/fiddler-examples/main/quickstart/data/custom_feature_impact_scores.json'\n",
    "PATH_TO_FI_VALUES_UPDATED = 'https://raw.githubusercontent.com/fiddler-labs/fiddler-examples/main/quickstart/data/custom_feature_impact_scores_alt.json'"
   ]
  },
  {
   "cell_type": "markdown",
   "metadata": {
    "id": "4EttApX9BBIn"
   },
   "source": [
    "Now just run the following to connect to your Fiddler environment."
   ]
  },
  {
   "cell_type": "code",
   "execution_count": null,
   "metadata": {
    "id": "g6ONUHliBAsH"
   },
   "outputs": [],
   "source": [
    "fdl.init(url=URL, token=TOKEN)"
   ]
  },
  {
   "cell_type": "markdown",
   "metadata": {
    "id": "QpUHeE3dBTHD"
   },
   "source": [
    "#### 1.a Create New or Load Existing Project\n",
    "\n",
    "Once you connect, you can create a new project by specifying a unique project name in the fld.Project constructor and call the `create()` method. If the project already exists, it will load it for use."
   ]
  },
  {
   "cell_type": "code",
   "execution_count": null,
   "metadata": {
    "id": "vh46Mp1MBSMj"
   },
   "outputs": [],
   "source": [
    "project = fdl.Project.get_or_create(name=PROJECT_NAME)\n",
    "\n",
    "print(f'Using project with id = {project.id} and name = {project.name}')"
   ]
  },
  {
   "cell_type": "markdown",
   "metadata": {
    "id": "V3V2EhIdwA_Q"
   },
   "source": [
    "## 2. Load a Data Sample\n",
    "\n",
    "In this example, we'll be considering the case where we're a bank and we have **a model that predicts churn for our customers**.\n",
    "  \n",
    "In order to get insights into the model's performance, **Fiddler needs a small sample of data** to learn the schema of incoming data."
   ]
  },
  {
   "cell_type": "code",
   "execution_count": null,
   "metadata": {
    "id": "TFVJcU8uCY7z"
   },
   "outputs": [],
   "source": [
    "sample_data_df = pd.read_csv(PATH_TO_SAMPLE_CSV)\n",
    "column_list = sample_data_df.columns\n",
    "sample_data_df"
   ]
  },
  {
   "cell_type": "markdown",
   "metadata": {
    "id": "IK3sL73_4FxO"
   },
   "source": [
    "## 3. Define Your Model Specifications\n",
    "\n",
    "In order to add your model to Fiddler, simply create a ModelSpec object with information about what each column of your data sample should used for.\n",
    "\n",
    "Fiddler supports four column types:\n",
    "1. **Inputs**\n",
    "2. **Outputs** (Model predictions)\n",
    "3. **Target** (Ground truth values)\n",
    "4. **Metadata**"
   ]
  },
  {
   "cell_type": "code",
   "execution_count": null,
   "metadata": {
    "id": "wqyBTZn3NJPU"
   },
   "outputs": [],
   "source": [
    "input_columns = list(\n",
    "    column_list.drop(['predicted_churn', 'churn', 'customer_id', 'timestamp'])\n",
    ")\n",
    "model_spec = fdl.ModelSpec(\n",
    "    inputs=input_columns,\n",
    "    outputs=['predicted_churn'],\n",
    "    targets=[\n",
    "        'churn'\n",
    "    ],  # Note: only a single Target column is allowed, use metadata columns and custom metrics for additional targets\n",
    "    metadata=['customer_id', 'timestamp'],\n",
    ")\n",
    "id_column = (\n",
    "    'customer_id'  # Indicates which column is your unique identifier for each event\n",
    ")\n",
    "timestamp_column = (\n",
    "    'timestamp'  # Indicates which column is your timestamp for each event\n",
    ")"
   ]
  },
  {
   "cell_type": "markdown",
   "metadata": {},
   "source": [
    "## 4. Set a Model Task\n",
    "\n",
    "Fiddler supports a variety of model tasks. In this case, we're adding a binary classification model.\n",
    "\n",
    "For this, we'll create a ModelTask object and an additional ModelTaskParams object to specify the ordering of our positive and negative labels.\n",
    "\n",
    "*For a detailed breakdown of all supported model tasks, [click here](https://docs.fiddler.ai/technical-reference/python-client-guides/explainability/model-task-examples).*"
   ]
  },
  {
   "cell_type": "code",
   "execution_count": null,
   "metadata": {},
   "outputs": [],
   "source": [
    "model_task = fdl.ModelTask.BINARY_CLASSIFICATION\n",
    "\n",
    "task_params = fdl.ModelTaskParams(target_class_order=['no', 'yes'])"
   ]
  },
  {
   "cell_type": "markdown",
   "metadata": {},
   "source": [
    "## 5. Add Your Model\n",
    "\n",
    "Create a Model object and publish it to Fiddler, passing in\n",
    "1. Your data sample\n",
    "2. Your ModelSpec object\n",
    "3. Your ModelTask and ModelTaskParams objects\n",
    "4. Your ID and timestamp columns"
   ]
  },
  {
   "cell_type": "code",
   "execution_count": null,
   "metadata": {},
   "outputs": [],
   "source": [
    "model = fdl.Model.from_data(\n",
    "    name=MODEL_NAME,\n",
    "    project_id=project.id,\n",
    "    source=sample_data_df,\n",
    "    spec=model_spec,\n",
    "    task=model_task,\n",
    "    task_params=task_params,\n",
    "    event_id_col=id_column,\n",
    "    event_ts_col=timestamp_column,\n",
    ")\n",
    "\n",
    "model.create()\n",
    "print(f'New model created with id = {model.id} and name = {model.name}')"
   ]
  },
  {
   "cell_type": "markdown",
   "metadata": {},
   "source": [
    "## 6. Upload your feature impact values"
   ]
  },
  {
   "cell_type": "markdown",
   "metadata": {},
   "source": [
    "**Note:** If skipping Steps #2 - #5 because the Simple Monitoring Quick Start model already exists, you will still need to instantiate the fdl.Model object. Uncomment the next cell and run it.\n"
   ]
  },
  {
   "cell_type": "code",
   "execution_count": null,
   "metadata": {},
   "outputs": [],
   "source": [
    "# model = fdl.Model.from_name(name=MODEL_NAME, project_id=project.id)  # Load the model\n",
    "# model "
   ]
  },
  {
   "cell_type": "markdown",
   "metadata": {},
   "source": [
    "Uploading your own feature impact values requires:\n",
    "\n",
    "1. A Python dict containing each input column defined in your Model's schema and its numeric value\n",
    "2. A local reference to the fdl.Model\n",
    "\n",
    "In this example, the feature impact scores are stored as JSON so first they are converted to a dict after reading from the JSON file."
   ]
  },
  {
   "cell_type": "code",
   "execution_count": null,
   "metadata": {},
   "outputs": [],
   "source": [
    "fi_values_series = pd.read_json(PATH_TO_FI_VALUES, typ='series')\n",
    "fi_values_dict = fi_values_series.to_dict()\n",
    "\n",
    "feature_impacts = model.upload_feature_impact(\n",
    "    feature_impact_map=fi_values_dict, update=False\n",
    ")\n",
    "feature_impacts"
   ]
  },
  {
   "cell_type": "markdown",
   "metadata": {},
   "source": [
    "Feature impact values can be updated at any time simply by setting the `update` parameter to True when calling [upload_feature_impact()](https://docs.fiddler.ai/technical-reference/api-methods-30#upload_feature_impact). The change takes effect immediately."
   ]
  },
  {
   "cell_type": "code",
   "execution_count": null,
   "metadata": {},
   "outputs": [],
   "source": [
    "fi_values_series = pd.read_json(PATH_TO_FI_VALUES_UPDATED, typ='series')\n",
    "fi_values_dict = fi_values_series.to_dict()\n",
    "\n",
    "feature_impacts = model.upload_feature_impact(\n",
    "    feature_impact_map=fi_values_dict, update=True\n",
    ")\n",
    "feature_impacts"
   ]
  },
  {
   "cell_type": "markdown",
   "metadata": {},
   "source": [
    "\n",
    "---\n",
    "\n",
    "\n",
    "**Questions?**  \n",
    "  \n",
    "Check out [our docs](https://docs.fiddler.ai/) for a more detailed explanation of what Fiddler has to offer."
   ]
  }
 ],
 "metadata": {
  "colab": {
   "provenance": []
  },
  "kernelspec": {
   "display_name": "Python 3",
   "language": "python",
   "name": "python3"
  },
  "language_info": {
   "codemirror_mode": {
    "name": "ipython",
    "version": 3
   },
   "file_extension": ".py",
   "mimetype": "text/x-python",
   "name": "python",
   "nbconvert_exporter": "python",
   "pygments_lexer": "ipython3",
   "version": "3.10.13"
  }
 },
 "nbformat": 4,
 "nbformat_minor": 4
}
