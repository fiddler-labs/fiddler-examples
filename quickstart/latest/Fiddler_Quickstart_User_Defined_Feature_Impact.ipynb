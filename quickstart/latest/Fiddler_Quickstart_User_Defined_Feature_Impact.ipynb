{
 "cells": [
  {
   "cell_type": "markdown",
   "metadata": {
    "id": "sF3cOBoVx9Ji"
   },
   "source": [
    "# Fiddler User-Defined Feature Impact Quick Start Guide\n",
    "\n",
    "In this notebook we demonstrate how to upload your own precomputed feature impact values to a Fiddler model. Previous versions of Fiddler required you create either a surrogate or user model artifact with which to calculate the feature impact values within Fiddler. Both surrogate and user model artifact require extra steps when onboarding a model and may be unnecessary if the feature impact values already exist. \n",
    "\n",
    "\n",
    "---\n",
    "\n",
    "The documentation for the user-defined feature impact upload API can be found online [here](https://docs.fiddler.ai/python-client-3-x/api-methods-30#upload_feature_impact).\n",
    "\n",
    "User-Defined Feature Impact is supported on Fiddler version 24.12+ using Fiddler Python client API versions 3.3 and higher.\n",
    "\n",
    "**Please note that you may skip Steps #2 - #5 and resume at [Step #6](#section_06)** if you have already run Fiddler's [Simple Monitoring Quick Start Guide](https://docs.fiddler.ai/quickstart-notebooks/quick-start) and used the default values and sample data.\n",
    "\n",
    "1. [Connect to Fiddler - Initialization, create a project](#section_01)\n",
    "2. [Load a Data Sample](#section_02)\n",
    "3. [Define Your Model Specifications](#section_03)\n",
    "4. [Set a Model Task](#section_04)\n",
    "5. [Add Your Model](#section_05)\n",
    "6. [Upload Your Feature Impact Values](#section_06)"
   ]
  },
  {
   "cell_type": "markdown",
   "metadata": {
    "id": "wUZi_5s7wsGA"
   },
   "source": [
    "# 0. Imports"
   ]
  },
  {
   "cell_type": "code",
   "execution_count": 1,
   "metadata": {
    "id": "Pg-BdRJ4w3LM"
   },
   "outputs": [
    {
     "name": "stdout",
     "output_type": "stream",
     "text": [
      "\n",
      "\u001b[1m[\u001b[0m\u001b[34;49mnotice\u001b[0m\u001b[1;39;49m]\u001b[0m\u001b[39;49m A new release of pip is available: \u001b[0m\u001b[31;49m24.2\u001b[0m\u001b[39;49m -> \u001b[0m\u001b[32;49m24.3.1\u001b[0m\n",
      "\u001b[1m[\u001b[0m\u001b[34;49mnotice\u001b[0m\u001b[1;39;49m]\u001b[0m\u001b[39;49m To update, run: \u001b[0m\u001b[32;49mpip install --upgrade pip\u001b[0m\n",
      "Note: you may need to restart the kernel to use updated packages.\n",
      "Running client version 3.4.0\n"
     ]
    }
   ],
   "source": [
    "%pip install -q fiddler-client\n",
    "\n",
    "import pandas as pd\n",
    "import fiddler as fdl\n",
    "\n",
    "print(f\"Running client version {fdl.__version__}\")"
   ]
  },
  {
   "cell_type": "markdown",
   "metadata": {
    "id": "hcP0yWfV1GoZ"
   },
   "source": [
    "## <a id='section_01'>1. Connect to Fiddler</a>\n",
    "\n",
    "Before you can add information about your model with Fiddler, you'll need to connect using our Python client API.\n",
    "\n",
    "\n",
    "---\n",
    "\n",
    "\n",
    "**We need a couple pieces of information to get started.**\n",
    "1. The URL you're using to connect to Fiddler\n",
    "2. Your authorization token\n",
    "\n",
    "Your authorization token can be found by navigating to the **Credentials** tab on the **Settings** page of your Fiddler environment."
   ]
  },
  {
   "cell_type": "code",
   "execution_count": 2,
   "metadata": {
    "id": "CWErNsofAz6B"
   },
   "outputs": [],
   "source": [
    "URL = ''  # Make sure to include the full URL (including https:// e.g. 'https://your_company_name.fiddler.ai').\n",
    "TOKEN = ''"
   ]
  },
  {
   "cell_type": "markdown",
   "metadata": {},
   "source": [
    "Constants for this example notebook, change as needed to create your own versions"
   ]
  },
  {
   "cell_type": "code",
   "execution_count": 3,
   "metadata": {},
   "outputs": [],
   "source": [
    "PROJECT_NAME = 'quickstart_examples'  # If the project already exists, the notebook will create the model under the existing project.\n",
    "MODEL_NAME = 'bank_churn_simple_monitoring'\n",
    "\n",
    "# Sample data hosted on GitHub\n",
    "PATH_TO_SAMPLE_CSV = 'https://raw.githubusercontent.com/fiddler-labs/fiddler-examples/main/quickstart/data/v3/churn_data_sample.csv'\n",
    "PATH_TO_FI_VALUES = 'https://raw.githubusercontent.com/fiddler-labs/fiddler-examples/main/quickstart/data/custom_feature_impact_scores.json'\n",
    "PATH_TO_FI_VALUES_UPDATED = 'https://raw.githubusercontent.com/fiddler-labs/fiddler-examples/main/quickstart/data/custom_feature_impact_scores_alt.json'"
   ]
  },
  {
   "cell_type": "markdown",
   "metadata": {
    "id": "4EttApX9BBIn"
   },
   "source": [
    "Now just run the following to connect to your Fiddler environment."
   ]
  },
  {
   "cell_type": "code",
   "execution_count": 4,
   "metadata": {
    "id": "g6ONUHliBAsH"
   },
   "outputs": [],
   "source": [
    "fdl.init(url=URL, token=TOKEN)"
   ]
  },
  {
   "cell_type": "markdown",
   "metadata": {
    "id": "QpUHeE3dBTHD"
   },
   "source": [
    "#### 1.a Create New or Load Existing Project\n",
    "\n",
    "Once you connect, you can create a new project by specifying a unique project name in the fld.Project constructor and call the `create()` method. If the project already exists, it will load it for use."
   ]
  },
  {
   "cell_type": "code",
   "execution_count": 5,
   "metadata": {
    "id": "vh46Mp1MBSMj"
   },
   "outputs": [
    {
     "name": "stdout",
     "output_type": "stream",
     "text": [
      "Loaded existing project with id = 70b74177-c712-44b1-b431-2377c1b908ab and name = quickstart_examplesx\n"
     ]
    }
   ],
   "source": [
    "try:\n",
    "    # Create project\n",
    "    project = fdl.Project(name=PROJECT_NAME).create()\n",
    "    print(f'New project created with id = {project.id} and name = {project.name}')\n",
    "except fdl.Conflict:\n",
    "    # Get project by name\n",
    "    project = fdl.Project.from_name(name=PROJECT_NAME)\n",
    "    print(f'Loaded existing project with id = {project.id} and name = {project.name}')"
   ]
  },
  {
   "cell_type": "markdown",
   "metadata": {
    "id": "V3V2EhIdwA_Q"
   },
   "source": [
    "# <a id='section_02'>2. Load a Data Sample</a>\n",
    "\n",
    "In this example, we'll be considering the case where we're a bank and we have **a model that predicts churn for our customers**.\n",
    "  \n",
    "In order to get insights into the model's performance, **Fiddler needs a small sample of data** to learn the schema of incoming data."
   ]
  },
  {
   "cell_type": "code",
   "execution_count": 6,
   "metadata": {
    "id": "TFVJcU8uCY7z"
   },
   "outputs": [
    {
     "data": {
      "text/html": [
       "<div>\n",
       "<style scoped>\n",
       "    .dataframe tbody tr th:only-of-type {\n",
       "        vertical-align: middle;\n",
       "    }\n",
       "\n",
       "    .dataframe tbody tr th {\n",
       "        vertical-align: top;\n",
       "    }\n",
       "\n",
       "    .dataframe thead th {\n",
       "        text-align: right;\n",
       "    }\n",
       "</style>\n",
       "<table border=\"1\" class=\"dataframe\">\n",
       "  <thead>\n",
       "    <tr style=\"text-align: right;\">\n",
       "      <th></th>\n",
       "      <th>customer_id</th>\n",
       "      <th>creditscore</th>\n",
       "      <th>geography</th>\n",
       "      <th>gender</th>\n",
       "      <th>age</th>\n",
       "      <th>tenure</th>\n",
       "      <th>balance</th>\n",
       "      <th>numofproducts</th>\n",
       "      <th>hascrcard</th>\n",
       "      <th>isactivemember</th>\n",
       "      <th>estimatedsalary</th>\n",
       "      <th>predicted_churn</th>\n",
       "      <th>churn</th>\n",
       "      <th>timestamp</th>\n",
       "    </tr>\n",
       "  </thead>\n",
       "  <tbody>\n",
       "    <tr>\n",
       "      <th>0</th>\n",
       "      <td>27acd1c2</td>\n",
       "      <td>545</td>\n",
       "      <td>Texas</td>\n",
       "      <td>Male</td>\n",
       "      <td>37</td>\n",
       "      <td>9</td>\n",
       "      <td>110483.86</td>\n",
       "      <td>1</td>\n",
       "      <td>1</td>\n",
       "      <td>1</td>\n",
       "      <td>127394.67</td>\n",
       "      <td>0.897202</td>\n",
       "      <td>yes</td>\n",
       "      <td>1710428231855</td>\n",
       "    </tr>\n",
       "    <tr>\n",
       "      <th>1</th>\n",
       "      <td>27b36d0c</td>\n",
       "      <td>497</td>\n",
       "      <td>Texas</td>\n",
       "      <td>Female</td>\n",
       "      <td>55</td>\n",
       "      <td>7</td>\n",
       "      <td>131778.66</td>\n",
       "      <td>1</td>\n",
       "      <td>1</td>\n",
       "      <td>1</td>\n",
       "      <td>9972.64</td>\n",
       "      <td>0.997441</td>\n",
       "      <td>yes</td>\n",
       "      <td>1710428262096</td>\n",
       "    </tr>\n",
       "    <tr>\n",
       "      <th>2</th>\n",
       "      <td>27b5360a</td>\n",
       "      <td>509</td>\n",
       "      <td>New York</td>\n",
       "      <td>Female</td>\n",
       "      <td>29</td>\n",
       "      <td>0</td>\n",
       "      <td>107712.57</td>\n",
       "      <td>2</td>\n",
       "      <td>1</td>\n",
       "      <td>1</td>\n",
       "      <td>92898.17</td>\n",
       "      <td>0.920563</td>\n",
       "      <td>yes</td>\n",
       "      <td>1710428292338</td>\n",
       "    </tr>\n",
       "    <tr>\n",
       "      <th>3</th>\n",
       "      <td>27b5d650</td>\n",
       "      <td>743</td>\n",
       "      <td>Hawaii</td>\n",
       "      <td>Nonbinary</td>\n",
       "      <td>39</td>\n",
       "      <td>6</td>\n",
       "      <td>0.00</td>\n",
       "      <td>2</td>\n",
       "      <td>1</td>\n",
       "      <td>0</td>\n",
       "      <td>44265.28</td>\n",
       "      <td>0.779282</td>\n",
       "      <td>yes</td>\n",
       "      <td>1710428322579</td>\n",
       "    </tr>\n",
       "    <tr>\n",
       "      <th>4</th>\n",
       "      <td>27b236a8</td>\n",
       "      <td>699</td>\n",
       "      <td>Florida</td>\n",
       "      <td>Female</td>\n",
       "      <td>25</td>\n",
       "      <td>8</td>\n",
       "      <td>0.00</td>\n",
       "      <td>2</td>\n",
       "      <td>1</td>\n",
       "      <td>1</td>\n",
       "      <td>52404.47</td>\n",
       "      <td>0.825474</td>\n",
       "      <td>yes</td>\n",
       "      <td>1710428352821</td>\n",
       "    </tr>\n",
       "    <tr>\n",
       "      <th>...</th>\n",
       "      <td>...</td>\n",
       "      <td>...</td>\n",
       "      <td>...</td>\n",
       "      <td>...</td>\n",
       "      <td>...</td>\n",
       "      <td>...</td>\n",
       "      <td>...</td>\n",
       "      <td>...</td>\n",
       "      <td>...</td>\n",
       "      <td>...</td>\n",
       "      <td>...</td>\n",
       "      <td>...</td>\n",
       "      <td>...</td>\n",
       "      <td>...</td>\n",
       "    </tr>\n",
       "    <tr>\n",
       "      <th>19995</th>\n",
       "      <td>27b409ba</td>\n",
       "      <td>686</td>\n",
       "      <td>Texas</td>\n",
       "      <td>Male</td>\n",
       "      <td>39</td>\n",
       "      <td>3</td>\n",
       "      <td>129626.19</td>\n",
       "      <td>2</td>\n",
       "      <td>1</td>\n",
       "      <td>1</td>\n",
       "      <td>103220.56</td>\n",
       "      <td>0.760645</td>\n",
       "      <td>yes</td>\n",
       "      <td>1711032910888</td>\n",
       "    </tr>\n",
       "    <tr>\n",
       "      <th>19996</th>\n",
       "      <td>27aaff96</td>\n",
       "      <td>446</td>\n",
       "      <td>Massachusetts</td>\n",
       "      <td>Female</td>\n",
       "      <td>45</td>\n",
       "      <td>10</td>\n",
       "      <td>125191.69</td>\n",
       "      <td>1</td>\n",
       "      <td>1</td>\n",
       "      <td>1</td>\n",
       "      <td>128260.86</td>\n",
       "      <td>0.216093</td>\n",
       "      <td>no</td>\n",
       "      <td>1711032941130</td>\n",
       "    </tr>\n",
       "    <tr>\n",
       "      <th>19997</th>\n",
       "      <td>27ad3162</td>\n",
       "      <td>794</td>\n",
       "      <td>California</td>\n",
       "      <td>Male</td>\n",
       "      <td>35</td>\n",
       "      <td>6</td>\n",
       "      <td>0.00</td>\n",
       "      <td>2</td>\n",
       "      <td>1</td>\n",
       "      <td>1</td>\n",
       "      <td>68730.91</td>\n",
       "      <td>0.982021</td>\n",
       "      <td>yes</td>\n",
       "      <td>1711032971371</td>\n",
       "    </tr>\n",
       "    <tr>\n",
       "      <th>19998</th>\n",
       "      <td>27b076ce</td>\n",
       "      <td>832</td>\n",
       "      <td>California</td>\n",
       "      <td>Male</td>\n",
       "      <td>61</td>\n",
       "      <td>2</td>\n",
       "      <td>0.00</td>\n",
       "      <td>1</td>\n",
       "      <td>0</td>\n",
       "      <td>1</td>\n",
       "      <td>127804.66</td>\n",
       "      <td>0.071598</td>\n",
       "      <td>no</td>\n",
       "      <td>1711033001613</td>\n",
       "    </tr>\n",
       "    <tr>\n",
       "      <th>19999</th>\n",
       "      <td>27aee1d8</td>\n",
       "      <td>641</td>\n",
       "      <td>Massachusetts</td>\n",
       "      <td>Female</td>\n",
       "      <td>36</td>\n",
       "      <td>1</td>\n",
       "      <td>0.00</td>\n",
       "      <td>2</td>\n",
       "      <td>1</td>\n",
       "      <td>0</td>\n",
       "      <td>102021.39</td>\n",
       "      <td>0.817325</td>\n",
       "      <td>yes</td>\n",
       "      <td>1711033031855</td>\n",
       "    </tr>\n",
       "  </tbody>\n",
       "</table>\n",
       "<p>20000 rows × 14 columns</p>\n",
       "</div>"
      ],
      "text/plain": [
       "      customer_id  creditscore      geography     gender  age  tenure  \\\n",
       "0        27acd1c2          545          Texas       Male   37       9   \n",
       "1        27b36d0c          497          Texas     Female   55       7   \n",
       "2        27b5360a          509       New York     Female   29       0   \n",
       "3        27b5d650          743         Hawaii  Nonbinary   39       6   \n",
       "4        27b236a8          699        Florida     Female   25       8   \n",
       "...           ...          ...            ...        ...  ...     ...   \n",
       "19995    27b409ba          686          Texas       Male   39       3   \n",
       "19996    27aaff96          446  Massachusetts     Female   45      10   \n",
       "19997    27ad3162          794     California       Male   35       6   \n",
       "19998    27b076ce          832     California       Male   61       2   \n",
       "19999    27aee1d8          641  Massachusetts     Female   36       1   \n",
       "\n",
       "         balance  numofproducts  hascrcard  isactivemember  estimatedsalary  \\\n",
       "0      110483.86              1          1               1        127394.67   \n",
       "1      131778.66              1          1               1          9972.64   \n",
       "2      107712.57              2          1               1         92898.17   \n",
       "3           0.00              2          1               0         44265.28   \n",
       "4           0.00              2          1               1         52404.47   \n",
       "...          ...            ...        ...             ...              ...   \n",
       "19995  129626.19              2          1               1        103220.56   \n",
       "19996  125191.69              1          1               1        128260.86   \n",
       "19997       0.00              2          1               1         68730.91   \n",
       "19998       0.00              1          0               1        127804.66   \n",
       "19999       0.00              2          1               0        102021.39   \n",
       "\n",
       "       predicted_churn churn      timestamp  \n",
       "0             0.897202   yes  1710428231855  \n",
       "1             0.997441   yes  1710428262096  \n",
       "2             0.920563   yes  1710428292338  \n",
       "3             0.779282   yes  1710428322579  \n",
       "4             0.825474   yes  1710428352821  \n",
       "...                ...   ...            ...  \n",
       "19995         0.760645   yes  1711032910888  \n",
       "19996         0.216093    no  1711032941130  \n",
       "19997         0.982021   yes  1711032971371  \n",
       "19998         0.071598    no  1711033001613  \n",
       "19999         0.817325   yes  1711033031855  \n",
       "\n",
       "[20000 rows x 14 columns]"
      ]
     },
     "execution_count": 6,
     "metadata": {},
     "output_type": "execute_result"
    }
   ],
   "source": [
    "sample_data_df = pd.read_csv(PATH_TO_SAMPLE_CSV)\n",
    "column_list = sample_data_df.columns\n",
    "sample_data_df"
   ]
  },
  {
   "cell_type": "markdown",
   "metadata": {
    "id": "IK3sL73_4FxO"
   },
   "source": [
    "## <a id='section_03'>3. Define Your Model Specifications</a>\n",
    "\n",
    "In order to add your model to Fiddler, simply create a ModelSpec object with information about what each column of your data sample should used for.\n",
    "\n",
    "Fiddler supports four column types:\n",
    "1. **Inputs**\n",
    "2. **Outputs** (Model predictions)\n",
    "3. **Target** (Ground truth values)\n",
    "4. **Metadata**"
   ]
  },
  {
   "cell_type": "code",
   "execution_count": null,
   "metadata": {
    "id": "wqyBTZn3NJPU"
   },
   "outputs": [],
   "source": [
    "input_columns = list(\n",
    "    column_list.drop(['predicted_churn', 'churn', 'customer_id', 'timestamp'])\n",
    ")\n",
    "model_spec = fdl.ModelSpec(\n",
    "    inputs=input_columns,\n",
    "    outputs=['predicted_churn'],\n",
    "    targets=[\n",
    "        'churn'\n",
    "    ],  # Note: only a single Target column is allowed, use metadata columns and custom metrics for additional targets\n",
    "    metadata=['customer_id', 'timestamp'],\n",
    ")\n",
    "id_column = (\n",
    "    'customer_id'  # Indicates which column is your unique identifier for each event\n",
    ")\n",
    "timestamp_column = (\n",
    "    'timestamp'  # Indicates which column is your timestamp for each event\n",
    ")"
   ]
  },
  {
   "cell_type": "markdown",
   "metadata": {},
   "source": [
    "## <a id='section_04'>4. Set a Model Task</a>\n",
    "\n",
    "Fiddler supports a variety of model tasks. In this case, we're adding a binary classification model.\n",
    "\n",
    "For this, we'll create a ModelTask object and an additional ModelTaskParams object to specify the ordering of our positive and negative labels.\n",
    "\n",
    "*For a detailed breakdown of all supported model tasks, click here.*"
   ]
  },
  {
   "cell_type": "code",
   "execution_count": null,
   "metadata": {},
   "outputs": [],
   "source": [
    "model_task = fdl.ModelTask.BINARY_CLASSIFICATION\n",
    "\n",
    "task_params = fdl.ModelTaskParams(target_class_order=['no', 'yes'])"
   ]
  },
  {
   "cell_type": "markdown",
   "metadata": {},
   "source": [
    "## <a id='section_05'>5. Add Your Model</a>\n",
    "\n",
    "Create a Model object and publish it to Fiddler, passing in\n",
    "1. Your data sample\n",
    "2. Your ModelSpec object\n",
    "3. Your ModelTask and ModelTaskParams objects\n",
    "4. Your ID and timestamp columns"
   ]
  },
  {
   "cell_type": "code",
   "execution_count": null,
   "metadata": {},
   "outputs": [],
   "source": [
    "model = fdl.Model.from_data(\n",
    "    name=MODEL_NAME,\n",
    "    project_id=project.id,\n",
    "    source=sample_data_df,\n",
    "    spec=model_spec,\n",
    "    task=model_task,\n",
    "    task_params=task_params,\n",
    "    event_id_col=id_column,\n",
    "    event_ts_col=timestamp_column,\n",
    ")\n",
    "\n",
    "model.create()\n",
    "print(f'New model created with id = {model.id} and name = {model.name}')"
   ]
  },
  {
   "cell_type": "markdown",
   "metadata": {},
   "source": [
    "## <a id='section_06'>6. Upload your feature impact values</a>"
   ]
  },
  {
   "cell_type": "markdown",
   "metadata": {},
   "source": [
    "**Note:** If skipping Steps #2 - #5 because the Simple Monitoring Quick Start model already exists, you will still need to intantiate the fdl.Model object. Uncomment the next cell and run it.\n"
   ]
  },
  {
   "cell_type": "code",
   "execution_count": 7,
   "metadata": {},
   "outputs": [
    {
     "data": {
      "text/plain": [
       "<fiddler.entities.model.Model at 0x16c209fc0>"
      ]
     },
     "execution_count": 7,
     "metadata": {},
     "output_type": "execute_result"
    }
   ],
   "source": [
    "model = fdl.Model.from_name(name=MODEL_NAME, project_id=project.id)  # Load the model\n",
    "model "
   ]
  },
  {
   "cell_type": "markdown",
   "metadata": {},
   "source": [
    "Uploading your own feature impact values requires:\n",
    "\n",
    "1. A Python dict containing each input column defined in your Model's schema and its numeric value\n",
    "2. A local reference to the fdl.Model\n",
    "\n",
    "In this example, the feature impact scores are stored as JSON so first they are converted to a dict after reading from the JSON file."
   ]
  },
  {
   "cell_type": "code",
   "execution_count": 8,
   "metadata": {},
   "outputs": [
    {
     "data": {
      "text/plain": [
       "{'feature_names': ['creditscore',\n",
       "  'geography',\n",
       "  'gender',\n",
       "  'age',\n",
       "  'tenure',\n",
       "  'balance',\n",
       "  'numofproducts',\n",
       "  'hascrcard',\n",
       "  'isactivemember',\n",
       "  'estimatedsalary'],\n",
       " 'feature_impact_scores': [0.010380932471238,\n",
       "  0.028789225032550003,\n",
       "  0.0,\n",
       "  0.165411247771343,\n",
       "  0.005687963322037,\n",
       "  0.067009532533907,\n",
       "  0.125625402157261,\n",
       "  0.001350373172425,\n",
       "  0.06077078182683,\n",
       "  0.009540991695917002],\n",
       " 'model_task': 'BINARY_CLASSIFICATION',\n",
       " 'model_input_type': 'TABULAR',\n",
       " 'created_at': '2024-11-15 16:09:20.986855+00:00',\n",
       " 'response_type': 'FEATURE_IMPACT_TABULAR_UPLOADED',\n",
       " 'system_generated': False}"
      ]
     },
     "execution_count": 8,
     "metadata": {},
     "output_type": "execute_result"
    }
   ],
   "source": [
    "fi_values_series = pd.read_json(PATH_TO_FI_VALUES, typ='series')\n",
    "fi_values_dict = fi_values_series.to_dict()\n",
    "\n",
    "feature_impacts = model.upload_feature_impact(\n",
    "    feature_impact_map=fi_values_dict, update=False\n",
    ")\n",
    "feature_impacts"
   ]
  },
  {
   "cell_type": "markdown",
   "metadata": {},
   "source": [
    "Feature impact values can be updated at any time simply by setting the `update` parameter to True when calling [upload_feature_impact()](https://docs.fiddler.ai/python-client-3-x/api-methods-30#upload_feature_impact). The change takes effect immediately."
   ]
  },
  {
   "cell_type": "code",
   "execution_count": 9,
   "metadata": {},
   "outputs": [
    {
     "data": {
      "text/plain": [
       "{'feature_names': ['creditscore',\n",
       "  'geography',\n",
       "  'gender',\n",
       "  'age',\n",
       "  'tenure',\n",
       "  'balance',\n",
       "  'numofproducts',\n",
       "  'hascrcard',\n",
       "  'isactivemember',\n",
       "  'estimatedsalary'],\n",
       " 'feature_impact_scores': [-0.30000000000000004,\n",
       "  0.30000000000000004,\n",
       "  0.10291689360869001,\n",
       "  0.30000000000000004,\n",
       "  -0.30000000000000004,\n",
       "  0.30000000000000004,\n",
       "  -0.30000000000000004,\n",
       "  0.30000000000000004,\n",
       "  -0.30000000000000004,\n",
       "  -0.17423663961038602],\n",
       " 'model_task': 'BINARY_CLASSIFICATION',\n",
       " 'model_input_type': 'TABULAR',\n",
       " 'created_at': '2024-11-15 16:09:30.239229+00:00',\n",
       " 'response_type': 'FEATURE_IMPACT_TABULAR_UPLOADED',\n",
       " 'system_generated': False}"
      ]
     },
     "execution_count": 9,
     "metadata": {},
     "output_type": "execute_result"
    }
   ],
   "source": [
    "fi_values_series = pd.read_json(PATH_TO_FI_VALUES_UPDATED, typ='series')\n",
    "fi_values_dict = fi_values_series.to_dict()\n",
    "\n",
    "feature_impacts = model.upload_feature_impact(\n",
    "    feature_impact_map=fi_values_dict, update=True\n",
    ")\n",
    "feature_impacts"
   ]
  }
 ],
 "metadata": {
  "colab": {
   "provenance": []
  },
  "kernelspec": {
   "display_name": "Python 3 (ipykernel)",
   "language": "python",
   "name": "python3"
  },
  "language_info": {
   "codemirror_mode": {
    "name": "ipython",
    "version": 3
   },
   "file_extension": ".py",
   "mimetype": "text/x-python",
   "name": "python",
   "nbconvert_exporter": "python",
   "pygments_lexer": "ipython3",
   "version": "3.10.13"
  }
 },
 "nbformat": 4,
 "nbformat_minor": 4
}
